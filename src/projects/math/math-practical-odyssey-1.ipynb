{
 "cells": [
  {
   "cell_type": "markdown",
   "metadata": {},
   "source": [
    "# Mathematics - a practical odyssey\n",
    "**ToC**\n",
    " - [set theory](#Set-theory)\n",
    "   - [notations](#Notations)\n",
    "   - [De Morgans's laws](#De-Morgan's-laws)\n",
    "   - [Permutations and combinations](#Permutations-and-combinations)\n",
    " - [Probability](#Probability)\n",
    "   - [Combinatronics and probability](#Combinatronics-and-probability)\n",
    "   - [Conditional probability](#Conditional-probability)\n",
    " - [Statistics](#Statistics)\n",
    "   - [Measures of central tendency](#Measures-of-central-tendency)"
   ]
  },
  {
   "cell_type": "markdown",
   "metadata": {},
   "source": [
    "## Set theory"
   ]
  },
  {
   "cell_type": "markdown",
   "metadata": {},
   "source": [
    "### Notations\n",
    "Set builder notation for representing a set:\n",
    "$$ G = \\{ x\\mid x < 0 ~and~ x \\in R \\} $$\n",
    "which is read as 'the set of all x, such that x is less than 0 and x is a real number'.\n",
    "\n",
    "**Cardinal number** of a set is the number of elements in it. It is denoted as `n(A)`. An **empty set** has 0 elements. It is represented as $\\phi$ or as `{}`. **Universal set** is always represented as `U`.\n",
    "\n",
    "A is a **proper subset** of B, if all elements of A are in B and B has more elements than A. It is represented as $A \\subset B$. A is an improper subset of B if A and B have the same elements. A **not a subset** is represented a $A  \\not\\subset B$. Thus \n",
    "$$ A \\cup B = \\{ x \\mid x \\in A ~or~ x\\in B\\}$$\n",
    "$$ A \\cap B = \\{ x \\mid x \\in A ~and~ x\\in B\\}$$\n",
    "\n",
    "**Intersection of sets** represents the common elements and is written as $ A \\cap B$. **Union of sets** represents all elements, **without repetition** and is written as $A \\cup B$.\n",
    "\n",
    "Two sets are **Mutually exclusive**, if there are no common elements. Written as $ A \\cap B = \\phi $."
   ]
  },
  {
   "cell_type": "markdown",
   "metadata": {},
   "source": [
    "#### Cardinal number formula for union of two sets\n",
    "$$n(A \\cup B) = n(A) + n(b) - n(A\\cap B)$$"
   ]
  },
  {
   "cell_type": "markdown",
   "metadata": {},
   "source": [
    "**Complement** of a set is the set of all elements **not** in that set, but in Universal set. It is represented as \n",
    "$$ A' = \\{x\\mid x \\in U ~and~ x \\not\\in A \\}$$\n",
    "$$ n(A') = n(U) - n(A)$$"
   ]
  },
  {
   "cell_type": "markdown",
   "metadata": {},
   "source": [
    "#### De Morgan's laws\n",
    "For any two sets A and B (no need to be independent or mutually exclusive)\n",
    "$$ (A\\cup B)' = A' \\cap B'$$\n",
    "$$ (A\\cap B)' = A' \\cup B'$$"
   ]
  },
  {
   "cell_type": "markdown",
   "metadata": {},
   "source": [
    "### Permutations and combinations"
   ]
  },
  {
   "cell_type": "markdown",
   "metadata": {},
   "source": [
    "#### Fundamental principle of counting\n",
    "The number of possible ways in which you can choose a 4 digit PIN number: Here, you can **repeat** numbers (or, your choices are replaced once you chose them so they can be chosen another time). Here, you simply raise the choices by number of selections.\n",
    "\n",
    "**Number of ways to select 4 digit PIN** = `10 x 10 x 10 x 10` = `10,000`.\n",
    "\n",
    "#### Permutations\n",
    "Selection without replacement (no repetition) and **order of selection is important**, meaning, if you change the order, you can count that selection as a whole new choice. The formula is \n",
    "\n",
    "$$ _{n}P_{r} = \\frac{n!}{(n-r)!}$$ where `n` is number of items in the pool and `r` is the number of choices to be made.\n",
    "\n",
    "The number of ways to choose the first 3 places from a pool of 10 contestants:\n",
    "$$_{10}P_{3} = \\frac{10!}{7!} = 720$$"
   ]
  },
  {
   "cell_type": "code",
   "execution_count": 2,
   "metadata": {},
   "outputs": [
    {
     "name": "stdout",
     "output_type": "stream",
     "text": [
      "720\n"
     ]
    }
   ],
   "source": [
    "# use itertools to calculate permutations in Python\n",
    "from itertools import permutations\n",
    "\n",
    "# create list of items in pool\n",
    "n = list(range(1,11))\n",
    "\n",
    "npr_choices = list(permutations(n,3)) # since you get back a iterable\n",
    "print(len(npr_choices))"
   ]
  },
  {
   "cell_type": "markdown",
   "metadata": {},
   "source": [
    "**Combinations**\n",
    "Selection without replacement and **order is not important**. If you change the order, that choice is not counted as a new choice. Thus, there are generally fewer combinations than permutations possible in a given scenario. Exceptions are narrow choices like choose 1 or 0 items from a pool of items. In this case, number of permutations and combinaions are the same.\n",
    "\n",
    "$$ _{n}C_{r} = \\frac{n!}{r! (n-r)!}$$\n",
    "\n",
    "Thus, the various combinations of choosing 3 balls from a bag of 10 balls are:\n",
    "$$ _{10}C_{3} = \\frac{10!}{3! \\cdot 7!} = 120$$"
   ]
  },
  {
   "cell_type": "code",
   "execution_count": 3,
   "metadata": {},
   "outputs": [
    {
     "name": "stdout",
     "output_type": "stream",
     "text": [
      "120\n"
     ]
    }
   ],
   "source": [
    "# use combinations method from itertools module\n",
    "from itertools import combinations\n",
    "\n",
    "n = list(range(1,11))\n",
    "\n",
    "ncr_choices = list(combinations(n,3))\n",
    "print(len(ncr_choices))"
   ]
  },
  {
   "cell_type": "markdown",
   "metadata": {},
   "source": [
    "## Probability"
   ]
  },
  {
   "cell_type": "markdown",
   "metadata": {},
   "source": [
    "Probability is the measure of likelihood of an event happening. In general, it is the ratio of number of outcomes in the event `E` to the total number of possible outcomes. Thus\n",
    "\n",
    "$$ p(E) = \\frac{n(E)}{n(S)}$$\n",
    "\n",
    "Probability is a computed value. If you are conducting an empirical study, you can measure probability of an event by measuring the relative frequency of that event. The **law of large numbers** states that \n",
    "    \n",
    "    If an experiment is repeated a large number of times, the relative frequency of an outcome will tend to be close to the probability of the outcome."
   ]
  },
  {
   "cell_type": "markdown",
   "metadata": {
    "heading_collapsed": true
   },
   "source": [
    "#### Probability rules\n",
    "\n",
    "$$ \n",
    "p(\\phi) = 0 \\\\\n",
    "p(S) = 1 \\\\\n",
    "0 \\leq p \\leq 1\n",
    "$$"
   ]
  },
  {
   "cell_type": "markdown",
   "metadata": {
    "heading_collapsed": true
   },
   "source": [
    "### Combinatronics and probability"
   ]
  },
  {
   "cell_type": "markdown",
   "metadata": {
    "hidden": true
   },
   "source": [
    "\n",
    "**Probability of being dealt 4 Aces in poker**\n",
    "First find the sample space. Sample space includes all possible ways of selecting 5 cards from a pack of 52.\n",
    "\n",
    "Thus, n(S) = $_{52}C_{5} = 2,598,960$.\n",
    "\n",
    "Now, n(E) = number of ways of selecting 4 aces + 1 any other card.\n",
    "\n",
    "n(E) = $_{4}C_{4} \\cdot _{48}C_{1}$\n",
    "\n",
    "p(E) = n(E) / n(S) = (4*48)/2,598,960 = 0.00001847"
   ]
  },
  {
   "cell_type": "markdown",
   "metadata": {
    "hidden": true
   },
   "source": [
    "**Probability of being dealt 4 of a kind.**\n",
    "\n",
    "The, n(S) remains same. But n(E) is expanded 13 times as there are 13 different ways to select a 4 of a kind in a single pack of cards.\n",
    "\n",
    "p(E) = 13* (probability of 4 aces)"
   ]
  },
  {
   "cell_type": "markdown",
   "metadata": {
    "hidden": true
   },
   "source": [
    "**Probability of getting 5 hearts**.\n",
    "\n",
    "The n(S) remains same as $_{52}C_{5}$. Now the n(E) is written as $_{13}C_{5}$ as there are 13C5 number of ways to select a set of 5 hearts.\n",
    "\n",
    "Thus, p(E) = 13C5 / 52C5 = 0.0004951"
   ]
  },
  {
   "cell_type": "markdown",
   "metadata": {},
   "source": [
    "### Conditional probability"
   ]
  },
  {
   "cell_type": "markdown",
   "metadata": {},
   "source": [
    "Conditional probability of event **A** given event **B** is written as\n",
    "$$p(A|B) = \\frac{n(A\\cap B)}{n(B)} $$\n",
    "\n",
    "dividing both numerator and demoninator of right side by n(S), we can rewrite this as \n",
    "\n",
    "<div class=\"alert alert-info\">\n",
    "$$p(A|B) = \\frac{p(A \\cap B)}{p(B)} $$\n",
    "</div>\n",
    "and, more commonly\n",
    "\n",
    "$$p(A \\cap B) = p(A|B) \\cdot p(B) $$"
   ]
  },
  {
   "cell_type": "markdown",
   "metadata": {},
   "source": [
    "#### Understanding the difference between 'A given B' and 'A and B'\n",
    "\n",
    "Two cards are dealt from a pack of cards, find the probability that\n",
    "* both cards are hearts. This is $p(A \\cap B)$\n",
    "* second card is heart, given first is a heart. This is looking for the odds of the 2nd card. It is $p(A|B)$ where *A* is second card and *B* is first card being heart."
   ]
  },
  {
   "cell_type": "markdown",
   "metadata": {},
   "source": [
    "The probability of selecting 1st heart is 13/52. Hence:\n",
    "\n",
    "$$p(B) = \\frac{13}{52}$$\n",
    "\n",
    "Since the 1st card is heart, you are left with 12 hearts and 51 total cards. So the probability of selecting another heart is:\n",
    "$$ p(A|B) = \\frac{12}{51} = 0.2352$$  \n",
    "\n",
    "Thus:\n",
    "\n",
    "$$p(A \\cap B) = \\frac{12}{51} \\cdot \\frac{13}{52} = 0.0588$$"
   ]
  },
  {
   "cell_type": "markdown",
   "metadata": {},
   "source": [
    "We can also calculate probability of both hearts without conditional probability using **combinatronics** as below:\n",
    "\n",
    "$$p(A \\cap B) = \\frac{_{13}C_{2}}{_{52}C_{2}} $$\n",
    "\n",
    "$$p(A \\cap B) = \\frac{13}{52} \\cdot \\frac{12}{51} $$"
   ]
  },
  {
   "cell_type": "markdown",
   "metadata": {},
   "source": [
    "#### Dependent and Independent events\n",
    "If A and B are independent, then knowing B occurred does not affect the probability of A. Thus:\n",
    "<div class=\"alert alert-info\">\n",
    "$$p(A|B) = p(A)$$\n",
    "</div>\n",
    "\n",
    "Conversely, if $p(A|B) \\neq p(A)$ then A and B are dependent.\n",
    "\n",
    "<div class=\"alert alert-info\">\n",
    "Thus, for A and B **independent** events,\n",
    "$$p(A \\cap B) = p(A) \\cdot p(B) $$\n",
    "</div>"
   ]
  },
  {
   "cell_type": "markdown",
   "metadata": {},
   "source": [
    "An example of independent events is, \"find the probability of getting a 6 when tossing a pair of die, given the first also yielded a 6\". Here the event of getting a 6 in one or first try does not affect getting 6 another time. Hence, they are simply independent events."
   ]
  },
  {
   "cell_type": "markdown",
   "metadata": {},
   "source": [
    "Using cardinal number of sets, in set theory,\n",
    "\n",
    "<div class=\"alert alert-info\">\n",
    "$$ p(A \\cup B) = p(A) + p(B) - p(A \\cap B)$$\n",
    "</div>\n",
    "\n",
    "\n",
    "for mutually exclusive A and B events, the $p(A \\cap B) = 0$ thus,\n",
    "$$ p(A \\cup B) = p(A) + p(B)$$\n",
    "\n",
    "Using De Morgan's laws,\n",
    "<div class=\"alert alert-info\">\n",
    "$$p(A' \\cap B') = p(A \\cup B)' $$\n",
    "\n",
    "and \n",
    "\n",
    "$$p(A' \\cup B') = p(A \\cap B)' $$\n",
    "</div>"
   ]
  },
  {
   "cell_type": "markdown",
   "metadata": {},
   "source": [
    "## Statistics"
   ]
  },
  {
   "cell_type": "markdown",
   "metadata": {},
   "source": [
    "### Measures of central tendency\n",
    "\n",
    "Population mean $\\mu$ and median cannot be calculated. We generally calculate the sample mean and median.\n",
    "\n",
    "$$Sample ~ mean: \\bar x = \\frac{\\sum x}{n} $$\n",
    "\n",
    "$$Sample ~ median: ~ L = \\frac{n+1}{2} $$\n",
    "\n",
    "### Measures of dispersion\n",
    "\n",
    "Variance is the squared deviation from the mean.\n",
    "\n",
    "$$Sample ~ variance: s^{2} = \\frac{\\sum{(x - \\bar x)^{2}}}{n-1}$$\n",
    "\n",
    "$$Sample ~ standard ~ deviation: s = \\sqrt{\\frac{\\sum{(x - \\bar x)^{2}}}{n-1}}$$"
   ]
  },
  {
   "attachments": {},
   "cell_type": "markdown",
   "metadata": {},
   "source": [
    "### Normal distribution\n",
    "If you plot the outcomes of a continuous random variable (of a process occurring in nature, like rainfall), it takes the shape of a bell curve, with values close to mean occurring more often than those farther from it. Since the curve represents the the probabilities of various outcomes, it is also a probability distribution.\n",
    "\n",
    "![](https://s3.amazonaws.com/magoosh-company-site/wp-content/uploads/mat/files/2016/06/07130639/Bell-Curve-1.png)"
   ]
  },
  {
   "cell_type": "markdown",
   "metadata": {},
   "source": [
    "The **Area under the curve** = 1. Here $\\mu$ is **population mean** and $\\sigma$ is **population standard deviation**. Thus, **68%** values vall within $\\mu \\pm 1 \\sigma$ and **95%** with $\\mu \\pm 2 \\sigma$ and **99.74%** within $\\mu \\pm 3 \\sigma$. We use the **Z table** to find the area / probability for any other values of x."
   ]
  },
  {
   "cell_type": "markdown",
   "metadata": {},
   "source": [
    "#### Transformation to standard normal\n",
    "The Z table gives probabilities for standard normal dist ($\\mu = 0$ and $\\sigma=1$). To transfrom a normal dist with any other mean and SD, use the formula\n",
    "\n",
    "$$ z= \\frac{x - \\mu}{\\sigma}$$\n",
    "\n",
    "where x is the value in the given distribution and z is the value in std. normal dist."
   ]
  },
  {
   "cell_type": "markdown",
   "metadata": {},
   "source": [
    "#### Central limit theorem\n",
    "Since it is hard to find the population mean, SD, we use the CLT. According to CLT, **means of a large number of samples is normally distributed around the population mean**. Same applies for the SD and other measures.\n",
    "\n",
    "#### Level of confidence\n",
    "\"We might say we are 95% confident the maximum error of a poll is plus or minus 3%\". This means, if 100 samples are analyzed, 95 of them would differ from population by under 0.03 of that measure, and 5 would be greater than 0.03."
   ]
  },
  {
   "cell_type": "code",
   "execution_count": null,
   "metadata": {
    "collapsed": true
   },
   "outputs": [],
   "source": []
  }
 ],
 "metadata": {
  "kernelspec": {
   "display_name": "Python 3",
   "language": "python",
   "name": "python3"
  },
  "language_info": {
   "codemirror_mode": {
    "name": "ipython",
    "version": 3
   },
   "file_extension": ".py",
   "mimetype": "text/x-python",
   "name": "python",
   "nbconvert_exporter": "python",
   "pygments_lexer": "ipython3",
   "version": "3.6.1"
  }
 },
 "nbformat": 4,
 "nbformat_minor": 2
}
