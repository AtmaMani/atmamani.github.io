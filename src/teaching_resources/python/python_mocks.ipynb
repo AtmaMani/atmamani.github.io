{
 "cells": [
  {
   "cell_type": "markdown",
   "metadata": {},
   "source": [
    "# Python Mocks - Testing\n",
    "\n",
    "Python's `unittest` module provides `Mock` class and `patch()` that allows you to mock and substitute any object or behavior with mocks. This helps with abstracting the system under test and also safely reaching certain code paths that are reached only when exceptions are thrown.\n",
    "\n",
    "* `Mock` can replace any object - because it can **create any attribute or method on the fly** when called\n",
    "* Return value of a fake, default method on a `Mock` is also a `Mock`. This allows you to chain and use mocks in complex code bases\n",
    "* `Mock` allows you inspect how it was called, how many times and which params were used.\n",
    "* Use `patch` to scope and apply your mock in a test\n",
    "* Use `patch()` as a decorator to apply the mock for the scope of the entire test function.\n",
    "* Use `patch()` as a context manager within the test function to narrow down its mocking scope.\n",
    "* Use `patch.object()` to further narrow down the scope to specific members of an object.\n",
    "* Use `Mock(spec=[<\"member1_name\">, <\"property1_name\"]>)` to prevent mock from auto creating attributes on the fly and stick to what is defined in the constructor\n",
    "* Use `unittest.mock.create_autospec(<your class>)` to easily create a mock the exact specification of a class or module\n",
    "* Use `patch(<object>, autospec=True)` to create a mock matching the exact spec of the object. This raises exceptions instead of auto creating members on the fly if they don't exist on the original object."
   ]
  },
  {
   "cell_type": "code",
   "execution_count": 15,
   "metadata": {},
   "outputs": [
    {
     "name": "stdout",
     "output_type": "stream",
     "text": [
      "<Mock name='mock.neo_name' id='4432181536'>\n",
      "<class 'unittest.mock.Mock'>\n",
      "<class 'unittest.mock.Mock'>\n"
     ]
    }
   ],
   "source": [
    "from unittest.mock import Mock\n",
    "my_mock = Mock()\n",
    "\n",
    "# on the fly attributes\n",
    "print(my_mock.neo_name)\n",
    "print(type(my_mock))\n",
    "print(type(my_mock.neo_name))"
   ]
  },
  {
   "cell_type": "markdown",
   "metadata": {},
   "source": [
    "## Python Mocks\n",
    "### Mock - assertions"
   ]
  },
  {
   "cell_type": "code",
   "execution_count": 16,
   "metadata": {},
   "outputs": [
    {
     "name": "stdout",
     "output_type": "stream",
     "text": [
      "<class 'unittest.mock.Mock'>\n"
     ]
    }
   ],
   "source": [
    "# on the fly method\n",
    "resp = my_mock.do_something(1,2)\n",
    "print(type(resp))\n",
    "\n",
    "# assertions\n",
    "my_mock.do_something.assert_called()\n",
    "my_mock.do_something.assert_called_once()\n",
    "my_mock.do_something.assert_called_with(1,2)"
   ]
  },
  {
   "cell_type": "code",
   "execution_count": 18,
   "metadata": {},
   "outputs": [
    {
     "data": {
      "text/plain": [
       "<Mock name='mock.do_something()' id='4432504992'>"
      ]
     },
     "execution_count": 18,
     "metadata": {},
     "output_type": "execute_result"
    }
   ],
   "source": [
    "my_mock.do_something(3,4)\n",
    "# my_mock.do_something.assert_called_once()  # will fail"
   ]
  },
  {
   "cell_type": "markdown",
   "metadata": {},
   "source": [
    "### Mock - inspections"
   ]
  },
  {
   "cell_type": "code",
   "execution_count": 21,
   "metadata": {},
   "outputs": [
    {
     "name": "stdout",
     "output_type": "stream",
     "text": [
      "3\n",
      "call(3, 4)\n",
      "[call.do_something(1, 2), call.do_something(3, 4), call.do_something(3, 4)]\n"
     ]
    }
   ],
   "source": [
    "print(my_mock.do_something.call_count)\n",
    "print(my_mock.do_something.call_args)  # most recent\n",
    "print(my_mock.method_calls)  # all the calls do sfar"
   ]
  },
  {
   "cell_type": "markdown",
   "metadata": {},
   "source": [
    "### Mock - return value\n",
    "\n",
    "Using the `return_value` parameter on a `Mock`, you can explicitly state what should be returned when a mocked function is called."
   ]
  },
  {
   "cell_type": "code",
   "execution_count": 24,
   "metadata": {},
   "outputs": [],
   "source": [
    "# mocking datetime\n",
    "from datetime import datetime\n",
    "\n",
    "def is_tradable() -> bool:\n",
    "    \"\"\"Function returns True if trades can execute on that day.\"\"\"\n",
    "    today = datetime.today()\n",
    "    return (0 <= today.weekday() < 5)  # keep it simple, return True if weekday.\n",
    "\n",
    "# unit test - by mocking different days\n",
    "from unittest.mock import Mock\n",
    "wed = datetime(year=2025, month=1, day=1)\n",
    "sat = datetime(year=2025, month=1, day=4)\n",
    "\n",
    "# now mock datetime and set return value\n",
    "datetime = Mock()\n",
    "datetime.today.return_value = wed\n",
    "assert is_tradable()  # should pass\n",
    "\n",
    "datetime.today.return_value = sat\n",
    "assert not is_tradable()  # should pass as well"
   ]
  },
  {
   "cell_type": "markdown",
   "metadata": {},
   "source": [
    "This way you can run tests any day of the week and expect consistent results.\n",
    "\n",
    "### Mock - side effects\n",
    "Side effects are a step up from return values. It lets you control how a mocked function behaves. For example, you can simulate time outs and other exceptions and assert they are handled."
   ]
  },
  {
   "cell_type": "code",
   "execution_count": 39,
   "metadata": {},
   "outputs": [],
   "source": [
    "import unittest\n",
    "from requests.exceptions import Timeout\n",
    "from time import sleep\n",
    "from unittest.mock import Mock\n",
    "\n",
    "# mock requests module\n",
    "requests = Mock()\n",
    "resp = Mock()\n",
    "\n",
    "def get_holidays() -> dict | None:\n",
    "    \"\"\"Get holidays in a year\"\"\"\n",
    "    r = requests.get(\"http://some_api/holidays\")\n",
    "    if r.status_code == 200:\n",
    "        return r.json()\n",
    "    return None\n",
    "\n",
    "resp.status_code = 200\n",
    "resp.json.return_value = {\"jan\":[1,16]}\n",
    "requests.get.return_value = resp\n",
    "assert get_holidays() == {'jan': [1, 16]}\n",
    "\n",
    "# check for timeout\n",
    "requests.get.side_effect = sleep(5)\n",
    "assert get_holidays() == {'jan': [1, 16]}"
   ]
  },
  {
   "cell_type": "markdown",
   "metadata": {},
   "source": [
    "## Patch\n",
    "So far we mocked objects in local scope. The `patch()` function allows the test to mock any object from any scope. You simply pass the path to the object `patch(filename.filename.filename.object)` and it gets patched into a `MagicMock` object. The Magic mock inherits the `Mock()` class and sets some useful defaults, notably the magic methods like `__len__()`, `__str__()` etc, allowing you to write better tests.\n",
    "\n",
    "### Calling `patch()` as a decorator\n",
    "When you you call `patch()` as a decorator, you patch for the entire context of that test function."
   ]
  },
  {
   "cell_type": "code",
   "execution_count": null,
   "metadata": {},
   "outputs": [],
   "source": [
    "# Store in holidays.py file\n",
    "import requests\n",
    "from datetime import datetime\n",
    "\n",
    "def is_tradable() -> bool:\n",
    "    \"\"\"Function returns True if trades can execute on that day.\"\"\"\n",
    "    today = datetime.today()\n",
    "    return (0 <= today.weekday() < 5)  # keep it simple, return True if weekday.\n",
    "\n",
    "def get_holidays() -> dict | None:\n",
    "    \"\"\"Get holidays in a year\"\"\"\n",
    "    r = requests.get(\"http://some_api/holidays\")\n",
    "    if r.status_code == 200:\n",
    "        return r.json()\n",
    "    return None"
   ]
  },
  {
   "cell_type": "code",
   "execution_count": 1,
   "metadata": {},
   "outputs": [],
   "source": [
    "from unittest.mock import patch\n",
    "from requests.exceptions import Timeout\n",
    "from holidays import get_holidays\n",
    "import pytest\n",
    "\n",
    "@patch(\"holidays.requests\")  # patch the requests module imported in that file\n",
    "def test_get_holidays_timeout(mock_obj):  # mock_obj is passed as a param which mocks the requests module\n",
    "    mock_obj.get.side_effect = Timeout  # set return values, side effects etc.\n",
    "    with pytest.raises(Timeout):\n",
    "        get_holidays()"
   ]
  },
  {
   "cell_type": "code",
   "execution_count": 2,
   "metadata": {},
   "outputs": [],
   "source": [
    "test_get_holidays_timeout()"
   ]
  },
  {
   "cell_type": "markdown",
   "metadata": {},
   "source": [
    "### Patch as context manager\n",
    "This allows you to mock an object with smaller scope than using it as a decorator."
   ]
  },
  {
   "cell_type": "code",
   "execution_count": 3,
   "metadata": {},
   "outputs": [],
   "source": [
    "from unittest.mock import patch\n",
    "from holidays import get_holidays\n",
    "\n",
    "\n",
    "def logger(content):\n",
    "    print(f\"Log: {content}\")\n",
    "    raise Timeout\n",
    "\n",
    "def test_get_holidays_withlog():\n",
    "    with patch(\"holidays.requests\") as mock_requests:\n",
    "        mock_requests.get.side_effect = logger  # specify any function that needs to be executed when called\n",
    "        with pytest.raises(Timeout):\n",
    "            get_holidays()"
   ]
  },
  {
   "cell_type": "code",
   "execution_count": 4,
   "metadata": {},
   "outputs": [
    {
     "name": "stdout",
     "output_type": "stream",
     "text": [
      "Log: http://some_api/holidays\n"
     ]
    }
   ],
   "source": [
    "test_get_holidays_withlog()"
   ]
  },
  {
   "cell_type": "markdown",
   "metadata": {},
   "source": [
    "### Patch a particular property or method of an object.\n",
    "Use `patch.object()` to narrow the mock scope even further - down to a specific property or method"
   ]
  },
  {
   "cell_type": "code",
   "execution_count": 6,
   "metadata": {},
   "outputs": [
    {
     "name": "stdout",
     "output_type": "stream",
     "text": [
      "Log: http://some_api/holidays\n"
     ]
    }
   ],
   "source": [
    "from unittest.mock import patch\n",
    "from holidays import get_holidays, requests  # import the requests from the holidays file\n",
    "\n",
    "\n",
    "def logger(content):\n",
    "    print(f\"Log: {content}\")\n",
    "    raise Timeout\n",
    "\n",
    "def test_get_holidays_withlog_patch_obj():\n",
    "    with patch.object(requests, \"get\", side_effect=logger):\n",
    "        with pytest.raises(Timeout):\n",
    "            get_holidays()\n",
    "\n",
    "test_get_holidays_withlog_patch_obj()"
   ]
  },
  {
   "cell_type": "code",
   "execution_count": null,
   "metadata": {},
   "outputs": [],
   "source": []
  }
 ],
 "metadata": {
  "kernelspec": {
   "display_name": "Python 3",
   "language": "python",
   "name": "python3"
  },
  "language_info": {
   "codemirror_mode": {
    "name": "ipython",
    "version": 3
   },
   "file_extension": ".py",
   "mimetype": "text/x-python",
   "name": "python",
   "nbconvert_exporter": "python",
   "pygments_lexer": "ipython3",
   "version": "3.11.9"
  }
 },
 "nbformat": 4,
 "nbformat_minor": 2
}
