{
 "cells": [
  {
   "cell_type": "markdown",
   "id": "ffacfc45",
   "metadata": {},
   "source": [
    "## Interning\n",
    "`Interning` is the practice of reusing objects on-demand. At **startup**, the Python kernel will preload certain frequently used objects. These include `integers` in the range `-5 - 256`. Any time a new `int` is instantiated that falls within that range, will get the pre-assigned memory address. In other words, the ints from `-5 to 256` are **`singletons`**. Python does this for speed."
   ]
  },
  {
   "cell_type": "code",
   "execution_count": 4,
   "id": "09edef1f",
   "metadata": {},
   "outputs": [
    {
     "name": "stdout",
     "output_type": "stream",
     "text": [
      "0x7f871df21b90 0x7f871df21b90 0x7f871df21b90 0x7f871df21b90\n",
      "True\n",
      "True\n"
     ]
    }
   ],
   "source": [
    "a = 20\n",
    "b = c = 20\n",
    "d = 40 - 20\n",
    "print(hex(id(a)), hex(id(b)), hex(id(c)), hex(id(d))) # should all be same\n",
    "print(a is b)\n",
    "print(b is c)"
   ]
  },
  {
   "cell_type": "markdown",
   "id": "3e006a7f",
   "metadata": {},
   "source": [
    "Numbers beyond `256` are not singletons. Hence, each instance is a new object."
   ]
  },
  {
   "cell_type": "code",
   "execution_count": 7,
   "id": "2ed92dbb",
   "metadata": {},
   "outputs": [
    {
     "name": "stdout",
     "output_type": "stream",
     "text": [
      "0x7f8722327410 \n",
      " 0x7f87223273f0\n",
      "False\n"
     ]
    }
   ],
   "source": [
    "e = 500\n",
    "f = 1000*5\n",
    "print(hex(id(e)),\"\\n\",hex(id(f)))\n",
    "print(e is f)"
   ]
  },
  {
   "cell_type": "markdown",
   "id": "22a5c46e",
   "metadata": {},
   "source": [
    "## String interning\n",
    "Strings are immutable and are good candidates for being cached. Thus Python will **`intern`** strings that look like valid identifiers (strings that match variable name criteria) as the assumption is you might need those strings multiple times."
   ]
  },
  {
   "cell_type": "code",
   "execution_count": 8,
   "id": "cdb15ab0",
   "metadata": {},
   "outputs": [
    {
     "name": "stdout",
     "output_type": "stream",
     "text": [
      "0x7f87223545b0 0x7f87223545b0\n",
      "True\n"
     ]
    }
   ],
   "source": [
    "s1 = \"good_morning\"  # valid identifier string\n",
    "s2 = \"good_morning\"\n",
    "print(hex(id(s1)), hex(id(s2)))\n",
    "print(s1 is s2)"
   ]
  },
  {
   "cell_type": "code",
   "execution_count": 9,
   "id": "ed183a3c",
   "metadata": {},
   "outputs": [
    {
     "name": "stdout",
     "output_type": "stream",
     "text": [
      "0x7f8722354470 0x7f8722354070\n",
      "False\n",
      "True\n"
     ]
    }
   ],
   "source": [
    "s3 = \"good morning\"  # space makes it an invalid identifier string\n",
    "s4 = \"good morning\"\n",
    "print(hex(id(s3)), hex(id(s4)))  # diff addresses\n",
    "print(s3 is s4)\n",
    "print(s3 == s4)"
   ]
  },
  {
   "cell_type": "markdown",
   "id": "3495a39f",
   "metadata": {},
   "source": [
    "## Forced interning\n",
    "You can force the interpreter to intern strings that you think you will need multiple times. Use `sys.intern()` function. This is helpful in NLP type applications where you need to tokenize common strings like `a`, `the`, `when` etc."
   ]
  },
  {
   "cell_type": "code",
   "execution_count": 10,
   "id": "3f27afed",
   "metadata": {
    "scrolled": true
   },
   "outputs": [
    {
     "name": "stdout",
     "output_type": "stream",
     "text": [
      "0x7f87223549f0 0x7f87223549f0\n",
      "True\n"
     ]
    }
   ],
   "source": [
    "import sys\n",
    "s5 = sys.intern(\"good morning\")  # will add given str to globally interned strings as its new\n",
    "s6 = sys.intern(\"good morning\")  # will lookup global table and return previous result\n",
    "print(hex(id(s5)), hex(id(s6)))  # same addresses\n",
    "print(s5 is s6)"
   ]
  },
  {
   "cell_type": "markdown",
   "id": "76fb1fa6",
   "metadata": {},
   "source": [
    "Unless absolutely needed, you don't have to intern your objects. Do this with caution. The example below will time the difference between interned and non-interned operation."
   ]
  },
  {
   "cell_type": "code",
   "execution_count": 15,
   "id": "9829f111",
   "metadata": {},
   "outputs": [],
   "source": [
    "def compare_str_using_equality(reps):\n",
    "    a = \"A long uninterned string is here\" * 250\n",
    "    b = \"A long uninterned string is here\" * 250\n",
    "    for i in range(reps):\n",
    "        if a == b:\n",
    "            pass"
   ]
  },
  {
   "cell_type": "code",
   "execution_count": 16,
   "id": "59fecf60",
   "metadata": {},
   "outputs": [],
   "source": [
    "def compare_str_using_identity(reps):\n",
    "    a = sys.intern(\"A long uninterned string is here\" * 250)\n",
    "    b = sys.intern(\"A long uninterned string is here\" * 250)\n",
    "    for i in range(reps):\n",
    "        if a is b:\n",
    "            pass"
   ]
  },
  {
   "cell_type": "code",
   "execution_count": 17,
   "id": "48902298",
   "metadata": {},
   "outputs": [
    {
     "name": "stdout",
     "output_type": "stream",
     "text": [
      "Equality: 4.601066562001506 secs\n",
      "Identity: 0.5143052139992506 secs\n"
     ]
    }
   ],
   "source": [
    "import time\n",
    "\n",
    "start = time.perf_counter()\n",
    "compare_str_using_equality(10000000) # 10 million times\n",
    "end = time.perf_counter()\n",
    "print(f'Equality: {end-start} secs')\n",
    "\n",
    "start = time.perf_counter()\n",
    "compare_str_using_identity(10000000) # 10 million times\n",
    "end = time.perf_counter()\n",
    "print(f'Identity: {end-start} secs')"
   ]
  },
  {
   "cell_type": "markdown",
   "id": "744a46ef",
   "metadata": {},
   "source": [
    "## Python - peephole optimizations\n",
    "In addition, Python, at compile time, it performs a number of subtler optimizations. These include:\n",
    "\n",
    " - evaluating constant expressions (like `5*35` where all operands are constants)\n",
    " - evaluating short immutable sequences (like `'abc'*3` or `(1,2)*4`) that are <20 elements\n",
    " - converting mutable collecitons to immutable collections if they contain constants\n",
    " \n",
    "We can see this in action by accessing `func_name.__code__.co_consts` property:"
   ]
  },
  {
   "cell_type": "code",
   "execution_count": 21,
   "id": "a2355f0e",
   "metadata": {},
   "outputs": [],
   "source": [
    "def some_func():\n",
    "    a = 'abc'*4  # str is immutable\n",
    "    b = (1,2,3) * 5  # immutable\n",
    "    c = 34*77\n",
    "    d = 'this is a long string' * 10\n",
    "    e = [1,2,3] * 4"
   ]
  },
  {
   "cell_type": "code",
   "execution_count": 22,
   "id": "9cb8d1b0",
   "metadata": {},
   "outputs": [
    {
     "data": {
      "text/plain": [
       "(None,\n",
       " 'abcabcabcabc',\n",
       " (1, 2, 3, 1, 2, 3, 1, 2, 3, 1, 2, 3, 1, 2, 3),\n",
       " 2618,\n",
       " 'this is a long stringthis is a long stringthis is a long stringthis is a long stringthis is a long stringthis is a long stringthis is a long stringthis is a long stringthis is a long stringthis is a long string',\n",
       " (1, 2, 3),\n",
       " 4)"
      ]
     },
     "execution_count": 22,
     "metadata": {},
     "output_type": "execute_result"
    }
   ],
   "source": [
    "some_func.__code__.co_consts"
   ]
  },
  {
   "cell_type": "markdown",
   "id": "0027e490",
   "metadata": {},
   "source": [
    "Even thought I have not executed the function, just upon compilation, the constants are evaluated. All immutable types have been evaluated, but mutable types are not, even if they are small."
   ]
  },
  {
   "cell_type": "code",
   "execution_count": null,
   "id": "f809c880",
   "metadata": {},
   "outputs": [],
   "source": []
  }
 ],
 "metadata": {
  "kernelspec": {
   "display_name": "Python 3 (ipykernel)",
   "language": "python",
   "name": "python3"
  },
  "language_info": {
   "codemirror_mode": {
    "name": "ipython",
    "version": 3
   },
   "file_extension": ".py",
   "mimetype": "text/x-python",
   "name": "python",
   "nbconvert_exporter": "python",
   "pygments_lexer": "ipython3",
   "version": "3.9.7"
  },
  "nikola": {
   "title": "Python - language optimizations"
  }
 },
 "nbformat": 4,
 "nbformat_minor": 5
}
