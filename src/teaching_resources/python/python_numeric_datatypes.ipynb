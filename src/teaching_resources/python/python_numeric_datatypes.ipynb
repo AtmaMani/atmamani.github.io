{
 "cells": [
  {
   "cell_type": "markdown",
   "id": "7848ba88",
   "metadata": {},
   "source": [
    "## 5 types of numbers in Python\n",
    "\n",
    "![](/images/python-number-datatypes.jpg)"
   ]
  },
  {
   "cell_type": "markdown",
   "id": "3d00dd15",
   "metadata": {},
   "source": [
    "## Integers in Python\n",
    "\n",
    "Integers are represented in **binary** form internally. For example, to represent a number like `19`, the binary form is `10011`, which takes `5 bits`.\n",
    "\n",
    "![](/images/python-integers-binary.jpg)\n",
    "\n",
    "Thus, what is the largest unsigned integer that can be stored with `8 bits`? The answer is `255`.\n",
    "\n",
    "![](/images/python-8-bit.jpg)\n",
    "\n",
    "If we want signed integers, then `1 bit` is used to represent the sign, leaving $2^{7}$ . Thus the range is now `[-127, 127]`"
   ]
  },
  {
   "cell_type": "code",
   "execution_count": 17,
   "id": "8b62a852",
   "metadata": {},
   "outputs": [
    {
     "name": "stdout",
     "output_type": "stream",
     "text": [
      "Int range : 8 bits \t: [-128 to 128]\n",
      "Int range : 16 bits \t: [-32,768 to 32,768]\n",
      "Int range : 32 bits \t: [-2,147,483,648 to 2,147,483,648]\n",
      "Int range : 64 bits \t: [-9,223,372,036,854,775,808 to 9,223,372,036,854,775,808]\n",
      "Int range : 128 bits \t: [-170,141,183,460,469,231,731,687,303,715,884,105,728 to 170,141,183,460,469,231,731,687,303,715,884,105,728]\n"
     ]
    }
   ],
   "source": [
    "import math\n",
    "for i in [8, 16, 32, 64, 128]:\n",
    "    val = math.pow(2, i-1)\n",
    "    print(f'Int range : {i} bits \\t: [-{val:,.0f} to {val:,.0f}]')"
   ]
  },
  {
   "cell_type": "markdown",
   "id": "30ff182e",
   "metadata": {},
   "source": [
    "Integers in Python **use variable number of bits** depending on the size of the value stored in it. Thus, the largest number that can be stored is limited by the amount of memory available to the kernel."
   ]
  },
  {
   "cell_type": "code",
   "execution_count": 18,
   "id": "9a91efdf",
   "metadata": {},
   "outputs": [
    {
     "name": "stdout",
     "output_type": "stream",
     "text": [
      "24\n",
      "28\n",
      "28\n",
      "160\n",
      "133360\n"
     ]
    }
   ],
   "source": [
    "import sys\n",
    "print(sys.getsizeof(0))  # integer that uses the smallest size\n",
    "print(sys.getsizeof(10))\n",
    "print(sys.getsizeof(1000))\n",
    "print(sys.getsizeof(2**1000))  # exponentially large number\n",
    "print(sys.getsizeof(2**1000000))"
   ]
  },
  {
   "cell_type": "code",
   "execution_count": null,
   "id": "e706be1e",
   "metadata": {},
   "outputs": [],
   "source": []
  }
 ],
 "metadata": {
  "kernelspec": {
   "display_name": "Python 3 (ipykernel)",
   "language": "python",
   "name": "python3"
  },
  "language_info": {
   "codemirror_mode": {
    "name": "ipython",
    "version": 3
   },
   "file_extension": ".py",
   "mimetype": "text/x-python",
   "name": "python",
   "nbconvert_exporter": "python",
   "pygments_lexer": "ipython3",
   "version": "3.9.7"
  },
  "nikola": {
   "title": "Python - numeric datatypes"
  }
 },
 "nbformat": 4,
 "nbformat_minor": 5
}
