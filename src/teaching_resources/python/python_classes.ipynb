{
 "cells": [
  {
   "cell_type": "markdown",
   "metadata": {
    "nbpresent": {
     "id": "f9ee4b69-c3e6-4b15-90dc-06ffaadbd451"
    },
    "slideshow": {
     "slide_type": "slide"
    },
    "tags": []
   },
   "source": [
    "## Classes\n",
    "Everything is an object in Python including native types. You define class names with camel casing.\n",
    "You define the constructor with special name `__init__()`. The fields (private) are denoted with `_variable_name` specification and properties are decorated with `@property` decorator.\n",
    "\n",
    "Fields and properties are accessed within the class using `self.name` notation. This helps differentiate a class field / property from a local variable or method argument of the same name.\n",
    "\n",
    "### A simple class\n",
    "```python\n",
    "class MyClass:\n",
    "    _local_variables = \"value\"\n",
    "\n",
    "    def __init__(self, args):  #constructor\n",
    "        statements\n",
    "        self._local_variables = args   # assign values to fields\n",
    "\n",
    "    def func_1(self, args):\n",
    "        statements\n",
    "```\n",
    "The first argument to class methods, including the constructor is `self`, which points to the instance itself. The name `self` is convention. You can call it anything. You can instantiate as shown below:\n",
    "\n",
    "```python\n",
    "obj1 = MyClass(args_defined_in_constructor)\n",
    "```"
   ]
  },
  {
   "cell_type": "code",
   "execution_count": 6,
   "metadata": {
    "nbpresent": {
     "id": "f6b2524f-d31a-4e7b-ae7d-b8333c456224"
    },
    "slideshow": {
     "slide_type": "slide"
    },
    "tags": []
   },
   "outputs": [],
   "source": [
    "# Define a class to hold a satellite or aerial imagery file. Its properties give information\n",
    "# such as location of the ground, area, dimensions, spatial and spectral resolution etc.\n",
    "\n",
    "class ImageryObject:\n",
    "    _default_gsd = 5.0\n",
    "    \n",
    "    def __init__(self, file_path):\n",
    "        self._file_path = file_path\n",
    "        self._gps_location = (3,4)\n",
    "        \n",
    "    @property\n",
    "    def bands(self):\n",
    "        #count number of bands\n",
    "        count = 3\n",
    "        return count\n",
    "    \n",
    "    @property\n",
    "    def gsd(self):\n",
    "        # logic to calculate the ground sample distance\n",
    "        gsd = 10.0\n",
    "        return gsd\n",
    "    \n",
    "    @property\n",
    "    def address(self):\n",
    "        # logic to reverse geocode the self._gps_location to get address\n",
    "        # reverse geocode self._gps_location\n",
    "        address = \"123 XYZ Street\"\n",
    "        return address\n",
    "    \n",
    "    #class methods\n",
    "    def display(self):\n",
    "        #logic to display picture\n",
    "        print(\"image is displayed\")\n",
    "    \n",
    "    def shuffle_bands(self):\n",
    "        #logic to shift RGB combination\n",
    "        print(\"shifting pands\")\n",
    "        self.display()"
   ]
  },
  {
   "cell_type": "code",
   "execution_count": 7,
   "metadata": {
    "nbpresent": {
     "id": "b37c8960-7a37-4793-92a6-5b481f2ff20c"
    },
    "slideshow": {
     "slide_type": "slide"
    }
   },
   "outputs": [],
   "source": [
    "# class instantiation\n",
    "img1 = ImageryObject(\"user\\img\\file.img\") #pass value to constructor"
   ]
  },
  {
   "cell_type": "code",
   "execution_count": 8,
   "metadata": {
    "nbpresent": {
     "id": "cca870e6-a1c6-4c76-a149-b9611bd11080"
    },
    "slideshow": {
     "slide_type": "subslide"
    }
   },
   "outputs": [
    {
     "data": {
      "text/plain": [
       "'123 XYZ Street'"
      ]
     },
     "execution_count": 8,
     "metadata": {},
     "output_type": "execute_result"
    }
   ],
   "source": [
    "img1.address"
   ]
  },
  {
   "cell_type": "code",
   "execution_count": 9,
   "metadata": {},
   "outputs": [
    {
     "data": {
      "text/plain": [
       "5.0"
      ]
     },
     "execution_count": 9,
     "metadata": {},
     "output_type": "execute_result"
    }
   ],
   "source": [
    "img1._default_gsd"
   ]
  },
  {
   "cell_type": "code",
   "execution_count": 10,
   "metadata": {
    "nbpresent": {
     "id": "0b8fc2fa-0647-43d5-83e7-a161c3921239"
    },
    "slideshow": {
     "slide_type": "subslide"
    }
   },
   "outputs": [
    {
     "data": {
      "text/plain": [
       "(3, 4)"
      ]
     },
     "execution_count": 10,
     "metadata": {},
     "output_type": "execute_result"
    }
   ],
   "source": [
    "img1._gps_location"
   ]
  },
  {
   "cell_type": "code",
   "execution_count": 11,
   "metadata": {
    "nbpresent": {
     "id": "66330b26-7740-4322-866c-7f9d7baee10d"
    },
    "slideshow": {
     "slide_type": "subslide"
    }
   },
   "outputs": [
    {
     "name": "stdout",
     "output_type": "stream",
     "text": [
      "shifting pands\n",
      "image is displayed\n"
     ]
    }
   ],
   "source": [
    "img1.shuffle_bands()"
   ]
  },
  {
   "cell_type": "code",
   "execution_count": 12,
   "metadata": {
    "nbpresent": {
     "id": "f14ee926-7346-48b8-b75e-ceb1103bd89e"
    },
    "slideshow": {
     "slide_type": "slide"
    }
   },
   "outputs": [
    {
     "name": "stdout",
     "output_type": "stream",
     "text": [
      "Help on ImageryObject in module __main__ object:\n",
      "\n",
      "class ImageryObject(builtins.object)\n",
      " |  Methods defined here:\n",
      " |  \n",
      " |  __init__(self, file_path)\n",
      " |      Initialize self.  See help(type(self)) for accurate signature.\n",
      " |  \n",
      " |  display(self)\n",
      " |      #class methods\n",
      " |  \n",
      " |  shuffle_bands(self)\n",
      " |  \n",
      " |  ----------------------------------------------------------------------\n",
      " |  Data descriptors defined here:\n",
      " |  \n",
      " |  __dict__\n",
      " |      dictionary for instance variables (if defined)\n",
      " |  \n",
      " |  __weakref__\n",
      " |      list of weak references to the object (if defined)\n",
      " |  \n",
      " |  address\n",
      " |  \n",
      " |  bands\n",
      " |  \n",
      " |  gsd\n",
      "\n"
     ]
    }
   ],
   "source": [
    "# Get help on any object. Only public methods, properties are displayed.\n",
    "# fields are private, properties are public. Class variables beginning with _ are private fields.\n",
    "help(img1)"
   ]
  },
  {
   "cell_type": "markdown",
   "metadata": {},
   "source": [
    "## Overloading built-in methods\n",
    "In Python, there is no concept of overloading. However, you can overwrite certain built-in methods to customize the behavior as shown below:"
   ]
  },
  {
   "cell_type": "code",
   "execution_count": 6,
   "metadata": {},
   "outputs": [],
   "source": [
    "class Rectangle:\n",
    "    \"Defines a rectangle\"\n",
    "    \n",
    "    def __init__(self, width, height):\n",
    "        self._width = width\n",
    "        self._height = height\n",
    "        \n",
    "    @property\n",
    "    def width(self):\n",
    "        return self._width\n",
    "    \n",
    "    @width.setter\n",
    "    def width(self, w):\n",
    "        if w < 0:\n",
    "            raise ValueError(\"Width cannot be negative\")\n",
    "        else:\n",
    "            self._width = w\n",
    "    \n",
    "    @property\n",
    "    def height(self):\n",
    "        return self._height\n",
    "    \n",
    "    @height.setter\n",
    "    def height(self, h):\n",
    "        if h < 0:\n",
    "            raise valueError(\"Height cannot be negative\")\n",
    "        else:\n",
    "            self._height = h\n",
    "    \n",
    "    def area(self):\n",
    "        return self._width * self._height\n",
    "    \n",
    "    def perimeter(self):\n",
    "        return 2*(self._width + self._height)\n",
    "    \n",
    "    # Customize how the object prints\n",
    "    def __str__(self):\n",
    "        return f\"Rectangle: Width: {self._width}  Height: {self._height}\"\n",
    "    \n",
    "    # Customize how the object displays in IPython kernels like notebooks\n",
    "    def _repr_png_(self):\n",
    "        import matplotlib.pyplot as plt\n",
    "        from matplotlib.patches import Rectangle\n",
    "        \n",
    "        #define Matplotlib figure and axis\n",
    "        fig, ax = plt.subplots()\n",
    "        \n",
    "        #create simple line plot\n",
    "        ax.plot([0, 10],[0, 10])\n",
    "\n",
    "\n",
    "        #add rectangle to plot\n",
    "        ax.add_patch(Rectangle((1, 1), self._width, self._height))\n",
    "\n",
    "        #display plot\n",
    "        # plt.show()\n",
    "        return ax\n",
    "    \n",
    "    # Equality checks. \n",
    "    # If you compare r1=Rectangle(10, 20) and r2 = Rectangle(10, 20), they would \n",
    "    # r1 is r2 => will return false as it should. These are 2 different objects\n",
    "    # r1 == r2 => will also return False\n",
    "    def __eq__(self, other):\n",
    "        if isinstance(other, self.__class__):\n",
    "            if self.width == other.width and self.height == other.height:\n",
    "                return True\n",
    "            \n",
    "        return False\n",
    "    \n",
    "    # LT, GT, LE, GE comparisons\n",
    "    def __le__(self, other):\n",
    "        if isinstance(other, self.__class__):\n",
    "            if self.area() <= other.area():\n",
    "                return True\n",
    "        \n",
    "        return False"
   ]
  },
  {
   "cell_type": "code",
   "execution_count": 7,
   "metadata": {},
   "outputs": [
    {
     "name": "stdout",
     "output_type": "stream",
     "text": [
      "Rectangle: Width: 10  Height: 20\n"
     ]
    },
    {
     "name": "stderr",
     "output_type": "stream",
     "text": [
      "/Users/Geodexter/opt/anaconda3/lib/python3.9/site-packages/IPython/core/formatters.py:368: FormatterWarning: image/png formatter returned invalid type <class 'matplotlib.axes._subplots.AxesSubplot'> (expected (<class 'bytes'>, <class 'str'>)) for object: <__main__.Rectangle object at 0x7f9ac63484f0>\n",
      "  warnings.warn(\n"
     ]
    },
    {
     "data": {
      "text/plain": [
       "<__main__.Rectangle at 0x7f9ac63484f0>"
      ]
     },
     "execution_count": 7,
     "metadata": {},
     "output_type": "execute_result"
    },
    {
     "data": {
      "image/png": "[encoded data removed]",
      "text/plain": [
       "<Figure size 432x288 with 1 Axes>"
      ]
     },
     "metadata": {
      "needs_background": "light"
     },
     "output_type": "display_data"
    }
   ],
   "source": [
    "r1 = Rectangle(10, 20)\n",
    "print(r1)\n",
    "r1"
   ]
  },
  {
   "cell_type": "code",
   "execution_count": 8,
   "metadata": {},
   "outputs": [
    {
     "data": {
      "text/plain": [
       "(200, 60)"
      ]
     },
     "execution_count": 8,
     "metadata": {},
     "output_type": "execute_result"
    }
   ],
   "source": [
    "r1.area(), r1.perimeter()"
   ]
  },
  {
   "cell_type": "code",
   "execution_count": 9,
   "metadata": {},
   "outputs": [
    {
     "data": {
      "text/plain": [
       "False"
      ]
     },
     "execution_count": 9,
     "metadata": {},
     "output_type": "execute_result"
    }
   ],
   "source": [
    "r2 = Rectangle(10, 20) # same as r1\n",
    "r1 is r2  # should be false as these are two diff obj, not singleton with alias"
   ]
  },
  {
   "cell_type": "code",
   "execution_count": 10,
   "metadata": {},
   "outputs": [
    {
     "data": {
      "text/plain": [
       "True"
      ]
     },
     "execution_count": 10,
     "metadata": {},
     "output_type": "execute_result"
    }
   ],
   "source": [
    "r1 == r2  # This should equate to True as these are the identical objects"
   ]
  },
  {
   "cell_type": "code",
   "execution_count": 11,
   "metadata": {},
   "outputs": [
    {
     "data": {
      "text/plain": [
       "True"
      ]
     },
     "execution_count": 11,
     "metadata": {},
     "output_type": "execute_result"
    }
   ],
   "source": [
    "r1 <= r2"
   ]
  },
  {
   "cell_type": "code",
   "execution_count": 12,
   "metadata": {},
   "outputs": [
    {
     "name": "stdout",
     "output_type": "stream",
     "text": [
      "True\n",
      "False\n"
     ]
    }
   ],
   "source": [
    "r3 = Rectangle(30, 40)\n",
    "print(r1 <= r3)\n",
    "print(r3 <= r1)"
   ]
  },
  {
   "cell_type": "code",
   "execution_count": 15,
   "metadata": {},
   "outputs": [
    {
     "data": {
      "text/plain": [
       "False"
      ]
     },
     "execution_count": 15,
     "metadata": {},
     "output_type": "execute_result"
    }
   ],
   "source": [
    "r2 >= r3  # even though ge is not implemented, Python is smart and will flip le and use it."
   ]
  },
  {
   "cell_type": "code",
   "execution_count": 16,
   "metadata": {},
   "outputs": [
    {
     "ename": "TypeError",
     "evalue": "'>' not supported between instances of 'Rectangle' and 'Rectangle'",
     "output_type": "error",
     "traceback": [
      "\u001b[0;31m---------------------------------------------------------------------------\u001b[0m",
      "\u001b[0;31mTypeError\u001b[0m                                 Traceback (most recent call last)",
      "\u001b[0;32m/var/folders/d8/93856prx6tj3x7vdn97z2ps40000gn/T/ipykernel_38974/128862589.py\u001b[0m in \u001b[0;36m<module>\u001b[0;34m\u001b[0m\n\u001b[1;32m      1\u001b[0m \u001b[0;31m# Will throw an error:\u001b[0m\u001b[0;34m\u001b[0m\u001b[0;34m\u001b[0m\u001b[0m\n\u001b[0;32m----> 2\u001b[0;31m \u001b[0mr2\u001b[0m \u001b[0;34m>\u001b[0m \u001b[0mr3\u001b[0m\u001b[0;34m\u001b[0m\u001b[0;34m\u001b[0m\u001b[0m\n\u001b[0m",
      "\u001b[0;31mTypeError\u001b[0m: '>' not supported between instances of 'Rectangle' and 'Rectangle'"
     ]
    }
   ],
   "source": [
    "# Will throw an error:\n",
    "r2 > r3"
   ]
  },
  {
   "cell_type": "markdown",
   "metadata": {},
   "source": [
    "## Sidebar: Python Singletons\n",
    "\n",
    "Singleton is a type of class which can instantiate just 1 instance of itself. Hence there can be just one object of that class and no more. These useful for making reference counters, manager objects.\n",
    "\n",
    "In Python, `None`, `True`, `False` are all singleton objects. Now you can assign alias to them and call them something else, but all of those will still be alias pointing to the same single object in memory.\n",
    "\n",
    "> Singletons are relevant for that session of the kernel. Once you restart, their address space will change."
   ]
  },
  {
   "cell_type": "code",
   "execution_count": 11,
   "metadata": {},
   "outputs": [
    {
     "name": "stdout",
     "output_type": "stream",
     "text": [
      "True\n",
      "True\n",
      "True\n",
      "True\n"
     ]
    }
   ],
   "source": [
    "print(None is None)\n",
    "print(None == None)\n",
    "\n",
    "lupus = None\n",
    "print(lupus is None)  # Evals to True as None is a singleton and lupus is an alias\n",
    "print(lupus == None)"
   ]
  },
  {
   "cell_type": "code",
   "execution_count": null,
   "metadata": {},
   "outputs": [],
   "source": []
  }
 ],
 "metadata": {
  "kernelspec": {
   "display_name": "Python 3 (ipykernel)",
   "language": "python",
   "name": "python3"
  },
  "language_info": {
   "codemirror_mode": {
    "name": "ipython",
    "version": 3
   },
   "file_extension": ".py",
   "mimetype": "text/x-python",
   "name": "python",
   "nbconvert_exporter": "python",
   "pygments_lexer": "ipython3",
   "version": "3.9.7"
  },
  "nikola": {
   "title": "Python - classes"
  }
 },
 "nbformat": 4,
 "nbformat_minor": 4
}
