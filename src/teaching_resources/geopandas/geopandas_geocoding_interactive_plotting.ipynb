{
 "cells": [
  {
   "cell_type": "markdown",
   "metadata": {},
   "source": [
    "# Geopandas - geocoding, interactive plotting\n",
    "More IO, interactive visualization using folium and geocoding"
   ]
  },
  {
   "cell_type": "code",
   "execution_count": 1,
   "metadata": {},
   "outputs": [],
   "source": [
    "import matplotlib.pyplot as plt\n",
    "import pandas as pd\n",
    "import geopandas as gpd\n",
    "from shapely.geometry import Point, Polygon, LineString\n",
    "import seaborn as sns\n",
    "import pyepsg\n",
    "%matplotlib inline\n",
    "plt.style.use('bmh')"
   ]
  },
  {
   "cell_type": "markdown",
   "metadata": {},
   "source": [
    "## Read CSV data"
   ]
  },
  {
   "cell_type": "code",
   "execution_count": 2,
   "metadata": {},
   "outputs": [
    {
     "data": {
      "text/html": [
       "<div>\n",
       "<style scoped>\n",
       "    .dataframe tbody tr th:only-of-type {\n",
       "        vertical-align: middle;\n",
       "    }\n",
       "\n",
       "    .dataframe tbody tr th {\n",
       "        vertical-align: top;\n",
       "    }\n",
       "\n",
       "    .dataframe thead th {\n",
       "        text-align: right;\n",
       "    }\n",
       "</style>\n",
       "<table border=\"1\" class=\"dataframe\">\n",
       "  <thead>\n",
       "    <tr style=\"text-align: right;\">\n",
       "      <th></th>\n",
       "      <th>Start time</th>\n",
       "      <th>End time</th>\n",
       "      <th>Calories (kcal)</th>\n",
       "      <th>Distance (m)</th>\n",
       "      <th>Average heart rate (bpm)</th>\n",
       "      <th>Max heart rate (bpm)</th>\n",
       "      <th>Min heart rate (bpm)</th>\n",
       "      <th>Height (m)</th>\n",
       "      <th>Low latitude (deg)</th>\n",
       "      <th>Low longitude (deg)</th>\n",
       "      <th>...</th>\n",
       "      <th>High longitude (deg)</th>\n",
       "      <th>Average speed (m/s)</th>\n",
       "      <th>Max speed (m/s)</th>\n",
       "      <th>Min speed (m/s)</th>\n",
       "      <th>Step count</th>\n",
       "      <th>Average weight (kg)</th>\n",
       "      <th>Max weight (kg)</th>\n",
       "      <th>Min weight (kg)</th>\n",
       "      <th>Inactive duration (ms)</th>\n",
       "      <th>Walking duration (ms)</th>\n",
       "    </tr>\n",
       "  </thead>\n",
       "  <tbody>\n",
       "    <tr>\n",
       "      <th>0</th>\n",
       "      <td>00:00:00.000-07:00</td>\n",
       "      <td>00:15:00.000-07:00</td>\n",
       "      <td>16.215914</td>\n",
       "      <td>NaN</td>\n",
       "      <td>NaN</td>\n",
       "      <td>NaN</td>\n",
       "      <td>NaN</td>\n",
       "      <td>NaN</td>\n",
       "      <td>34.054939</td>\n",
       "      <td>-117.242691</td>\n",
       "      <td>...</td>\n",
       "      <td>-117.242432</td>\n",
       "      <td>NaN</td>\n",
       "      <td>NaN</td>\n",
       "      <td>NaN</td>\n",
       "      <td>NaN</td>\n",
       "      <td>NaN</td>\n",
       "      <td>NaN</td>\n",
       "      <td>NaN</td>\n",
       "      <td>900000</td>\n",
       "      <td>NaN</td>\n",
       "    </tr>\n",
       "    <tr>\n",
       "      <th>1</th>\n",
       "      <td>00:15:00.000-07:00</td>\n",
       "      <td>00:30:00.000-07:00</td>\n",
       "      <td>16.215914</td>\n",
       "      <td>NaN</td>\n",
       "      <td>NaN</td>\n",
       "      <td>NaN</td>\n",
       "      <td>NaN</td>\n",
       "      <td>NaN</td>\n",
       "      <td>34.054955</td>\n",
       "      <td>-117.242424</td>\n",
       "      <td>...</td>\n",
       "      <td>-117.242401</td>\n",
       "      <td>NaN</td>\n",
       "      <td>NaN</td>\n",
       "      <td>NaN</td>\n",
       "      <td>NaN</td>\n",
       "      <td>NaN</td>\n",
       "      <td>NaN</td>\n",
       "      <td>NaN</td>\n",
       "      <td>900000</td>\n",
       "      <td>NaN</td>\n",
       "    </tr>\n",
       "    <tr>\n",
       "      <th>2</th>\n",
       "      <td>00:30:00.000-07:00</td>\n",
       "      <td>00:45:00.000-07:00</td>\n",
       "      <td>16.215914</td>\n",
       "      <td>NaN</td>\n",
       "      <td>NaN</td>\n",
       "      <td>NaN</td>\n",
       "      <td>NaN</td>\n",
       "      <td>NaN</td>\n",
       "      <td>34.054939</td>\n",
       "      <td>-117.242706</td>\n",
       "      <td>...</td>\n",
       "      <td>-117.242416</td>\n",
       "      <td>NaN</td>\n",
       "      <td>NaN</td>\n",
       "      <td>NaN</td>\n",
       "      <td>NaN</td>\n",
       "      <td>NaN</td>\n",
       "      <td>NaN</td>\n",
       "      <td>NaN</td>\n",
       "      <td>900000</td>\n",
       "      <td>NaN</td>\n",
       "    </tr>\n",
       "    <tr>\n",
       "      <th>3</th>\n",
       "      <td>00:45:00.000-07:00</td>\n",
       "      <td>01:00:00.000-07:00</td>\n",
       "      <td>16.215914</td>\n",
       "      <td>NaN</td>\n",
       "      <td>NaN</td>\n",
       "      <td>NaN</td>\n",
       "      <td>NaN</td>\n",
       "      <td>NaN</td>\n",
       "      <td>34.054970</td>\n",
       "      <td>-117.242661</td>\n",
       "      <td>...</td>\n",
       "      <td>-117.242447</td>\n",
       "      <td>NaN</td>\n",
       "      <td>NaN</td>\n",
       "      <td>NaN</td>\n",
       "      <td>NaN</td>\n",
       "      <td>NaN</td>\n",
       "      <td>NaN</td>\n",
       "      <td>NaN</td>\n",
       "      <td>900000</td>\n",
       "      <td>NaN</td>\n",
       "    </tr>\n",
       "    <tr>\n",
       "      <th>4</th>\n",
       "      <td>01:00:00.000-07:00</td>\n",
       "      <td>01:15:00.000-07:00</td>\n",
       "      <td>16.215914</td>\n",
       "      <td>NaN</td>\n",
       "      <td>NaN</td>\n",
       "      <td>NaN</td>\n",
       "      <td>NaN</td>\n",
       "      <td>NaN</td>\n",
       "      <td>34.054977</td>\n",
       "      <td>-117.242668</td>\n",
       "      <td>...</td>\n",
       "      <td>-117.242409</td>\n",
       "      <td>NaN</td>\n",
       "      <td>NaN</td>\n",
       "      <td>NaN</td>\n",
       "      <td>NaN</td>\n",
       "      <td>NaN</td>\n",
       "      <td>NaN</td>\n",
       "      <td>NaN</td>\n",
       "      <td>900000</td>\n",
       "      <td>NaN</td>\n",
       "    </tr>\n",
       "  </tbody>\n",
       "</table>\n",
       "<p>5 rows × 21 columns</p>\n",
       "</div>"
      ],
      "text/plain": [
       "           Start time            End time  Calories (kcal)  Distance (m)  \\\n",
       "0  00:00:00.000-07:00  00:15:00.000-07:00        16.215914           NaN   \n",
       "1  00:15:00.000-07:00  00:30:00.000-07:00        16.215914           NaN   \n",
       "2  00:30:00.000-07:00  00:45:00.000-07:00        16.215914           NaN   \n",
       "3  00:45:00.000-07:00  01:00:00.000-07:00        16.215914           NaN   \n",
       "4  01:00:00.000-07:00  01:15:00.000-07:00        16.215914           NaN   \n",
       "\n",
       "   Average heart rate (bpm)  Max heart rate (bpm)  Min heart rate (bpm)  \\\n",
       "0                       NaN                   NaN                   NaN   \n",
       "1                       NaN                   NaN                   NaN   \n",
       "2                       NaN                   NaN                   NaN   \n",
       "3                       NaN                   NaN                   NaN   \n",
       "4                       NaN                   NaN                   NaN   \n",
       "\n",
       "   Height (m)  Low latitude (deg)  Low longitude (deg)          ...            \\\n",
       "0         NaN           34.054939          -117.242691          ...             \n",
       "1         NaN           34.054955          -117.242424          ...             \n",
       "2         NaN           34.054939          -117.242706          ...             \n",
       "3         NaN           34.054970          -117.242661          ...             \n",
       "4         NaN           34.054977          -117.242668          ...             \n",
       "\n",
       "   High longitude (deg)  Average speed (m/s)  Max speed (m/s)  \\\n",
       "0           -117.242432                  NaN              NaN   \n",
       "1           -117.242401                  NaN              NaN   \n",
       "2           -117.242416                  NaN              NaN   \n",
       "3           -117.242447                  NaN              NaN   \n",
       "4           -117.242409                  NaN              NaN   \n",
       "\n",
       "   Min speed (m/s)  Step count  Average weight (kg)  Max weight (kg)  \\\n",
       "0              NaN         NaN                  NaN              NaN   \n",
       "1              NaN         NaN                  NaN              NaN   \n",
       "2              NaN         NaN                  NaN              NaN   \n",
       "3              NaN         NaN                  NaN              NaN   \n",
       "4              NaN         NaN                  NaN              NaN   \n",
       "\n",
       "   Min weight (kg)  Inactive duration (ms)  Walking duration (ms)  \n",
       "0              NaN                  900000                    NaN  \n",
       "1              NaN                  900000                    NaN  \n",
       "2              NaN                  900000                    NaN  \n",
       "3              NaN                  900000                    NaN  \n",
       "4              NaN                  900000                    NaN  \n",
       "\n",
       "[5 rows x 21 columns]"
      ]
     },
     "execution_count": 2,
     "metadata": {},
     "output_type": "execute_result"
    }
   ],
   "source": [
    "df = pd.read_csv('data/2015-06-21.csv')\n",
    "df.head()"
   ]
  },
  {
   "cell_type": "code",
   "execution_count": 3,
   "metadata": {},
   "outputs": [
    {
     "data": {
      "text/plain": [
       "(96, 21)"
      ]
     },
     "execution_count": 3,
     "metadata": {},
     "output_type": "execute_result"
    }
   ],
   "source": [
    "df.shape"
   ]
  },
  {
   "cell_type": "code",
   "execution_count": 4,
   "metadata": {},
   "outputs": [
    {
     "data": {
      "text/plain": [
       "Index(['Start time', 'End time', 'Calories (kcal)', 'Distance (m)',\n",
       "       'Average heart rate (bpm)', 'Max heart rate (bpm)',\n",
       "       'Min heart rate (bpm)', 'Height (m)', 'Low latitude (deg)',\n",
       "       'Low longitude (deg)', 'High latitude (deg)', 'High longitude (deg)',\n",
       "       'Average speed (m/s)', 'Max speed (m/s)', 'Min speed (m/s)',\n",
       "       'Step count', 'Average weight (kg)', 'Max weight (kg)',\n",
       "       'Min weight (kg)', 'Inactive duration (ms)', 'Walking duration (ms)'],\n",
       "      dtype='object')"
      ]
     },
     "execution_count": 4,
     "metadata": {},
     "output_type": "execute_result"
    }
   ],
   "source": [
    "df.columns"
   ]
  },
  {
   "cell_type": "markdown",
   "metadata": {},
   "source": [
    "filter out columns without data"
   ]
  },
  {
   "cell_type": "code",
   "execution_count": 5,
   "metadata": {},
   "outputs": [
    {
     "data": {
      "text/html": [
       "<div>\n",
       "<style scoped>\n",
       "    .dataframe tbody tr th:only-of-type {\n",
       "        vertical-align: middle;\n",
       "    }\n",
       "\n",
       "    .dataframe tbody tr th {\n",
       "        vertical-align: top;\n",
       "    }\n",
       "\n",
       "    .dataframe thead th {\n",
       "        text-align: right;\n",
       "    }\n",
       "</style>\n",
       "<table border=\"1\" class=\"dataframe\">\n",
       "  <thead>\n",
       "    <tr style=\"text-align: right;\">\n",
       "      <th></th>\n",
       "      <th>Calories (kcal)</th>\n",
       "      <th>Distance (m)</th>\n",
       "      <th>Average heart rate (bpm)</th>\n",
       "      <th>Max heart rate (bpm)</th>\n",
       "      <th>Min heart rate (bpm)</th>\n",
       "      <th>Height (m)</th>\n",
       "      <th>Low latitude (deg)</th>\n",
       "      <th>Low longitude (deg)</th>\n",
       "      <th>High latitude (deg)</th>\n",
       "      <th>High longitude (deg)</th>\n",
       "      <th>Average speed (m/s)</th>\n",
       "      <th>Max speed (m/s)</th>\n",
       "      <th>Min speed (m/s)</th>\n",
       "      <th>Step count</th>\n",
       "      <th>Average weight (kg)</th>\n",
       "      <th>Max weight (kg)</th>\n",
       "      <th>Min weight (kg)</th>\n",
       "      <th>Inactive duration (ms)</th>\n",
       "      <th>Walking duration (ms)</th>\n",
       "    </tr>\n",
       "  </thead>\n",
       "  <tbody>\n",
       "    <tr>\n",
       "      <th>count</th>\n",
       "      <td>96.000000</td>\n",
       "      <td>2.000000</td>\n",
       "      <td>0.0</td>\n",
       "      <td>0.0</td>\n",
       "      <td>0.0</td>\n",
       "      <td>0.0</td>\n",
       "      <td>91.000000</td>\n",
       "      <td>91.000000</td>\n",
       "      <td>91.000000</td>\n",
       "      <td>91.000000</td>\n",
       "      <td>2.000000</td>\n",
       "      <td>2.000000</td>\n",
       "      <td>2.000000</td>\n",
       "      <td>15.000000</td>\n",
       "      <td>0.0</td>\n",
       "      <td>0.0</td>\n",
       "      <td>0.0</td>\n",
       "      <td>96.000000</td>\n",
       "      <td>5.000000</td>\n",
       "    </tr>\n",
       "    <tr>\n",
       "      <th>mean</th>\n",
       "      <td>16.411472</td>\n",
       "      <td>31.000000</td>\n",
       "      <td>NaN</td>\n",
       "      <td>NaN</td>\n",
       "      <td>NaN</td>\n",
       "      <td>NaN</td>\n",
       "      <td>34.055033</td>\n",
       "      <td>-117.242620</td>\n",
       "      <td>34.055120</td>\n",
       "      <td>-117.242453</td>\n",
       "      <td>0.799705</td>\n",
       "      <td>0.799705</td>\n",
       "      <td>0.799705</td>\n",
       "      <td>116.600000</td>\n",
       "      <td>NaN</td>\n",
       "      <td>NaN</td>\n",
       "      <td>NaN</td>\n",
       "      <td>880833.302083</td>\n",
       "      <td>150074.200000</td>\n",
       "    </tr>\n",
       "    <tr>\n",
       "      <th>std</th>\n",
       "      <td>2.665210</td>\n",
       "      <td>2.828427</td>\n",
       "      <td>NaN</td>\n",
       "      <td>NaN</td>\n",
       "      <td>NaN</td>\n",
       "      <td>NaN</td>\n",
       "      <td>0.000113</td>\n",
       "      <td>0.000092</td>\n",
       "      <td>0.000075</td>\n",
       "      <td>0.000097</td>\n",
       "      <td>0.333833</td>\n",
       "      <td>0.333833</td>\n",
       "      <td>0.333833</td>\n",
       "      <td>157.019016</td>\n",
       "      <td>NaN</td>\n",
       "      <td>NaN</td>\n",
       "      <td>NaN</td>\n",
       "      <td>87443.309515</td>\n",
       "      <td>142937.658018</td>\n",
       "    </tr>\n",
       "    <tr>\n",
       "      <th>min</th>\n",
       "      <td>3.434296</td>\n",
       "      <td>29.000000</td>\n",
       "      <td>NaN</td>\n",
       "      <td>NaN</td>\n",
       "      <td>NaN</td>\n",
       "      <td>NaN</td>\n",
       "      <td>34.054150</td>\n",
       "      <td>-117.242844</td>\n",
       "      <td>34.054996</td>\n",
       "      <td>-117.242722</td>\n",
       "      <td>0.563649</td>\n",
       "      <td>0.563649</td>\n",
       "      <td>0.563649</td>\n",
       "      <td>1.000000</td>\n",
       "      <td>NaN</td>\n",
       "      <td>NaN</td>\n",
       "      <td>NaN</td>\n",
       "      <td>190607.000000</td>\n",
       "      <td>40929.000000</td>\n",
       "    </tr>\n",
       "    <tr>\n",
       "      <th>25%</th>\n",
       "      <td>16.215914</td>\n",
       "      <td>30.000000</td>\n",
       "      <td>NaN</td>\n",
       "      <td>NaN</td>\n",
       "      <td>NaN</td>\n",
       "      <td>NaN</td>\n",
       "      <td>34.054996</td>\n",
       "      <td>-117.242691</td>\n",
       "      <td>34.055063</td>\n",
       "      <td>-117.242500</td>\n",
       "      <td>0.681677</td>\n",
       "      <td>0.681677</td>\n",
       "      <td>0.681677</td>\n",
       "      <td>16.000000</td>\n",
       "      <td>NaN</td>\n",
       "      <td>NaN</td>\n",
       "      <td>NaN</td>\n",
       "      <td>900000.000000</td>\n",
       "      <td>50464.000000</td>\n",
       "    </tr>\n",
       "    <tr>\n",
       "      <th>50%</th>\n",
       "      <td>16.215914</td>\n",
       "      <td>31.000000</td>\n",
       "      <td>NaN</td>\n",
       "      <td>NaN</td>\n",
       "      <td>NaN</td>\n",
       "      <td>NaN</td>\n",
       "      <td>34.055023</td>\n",
       "      <td>-117.242653</td>\n",
       "      <td>34.055122</td>\n",
       "      <td>-117.242447</td>\n",
       "      <td>0.799705</td>\n",
       "      <td>0.799705</td>\n",
       "      <td>0.799705</td>\n",
       "      <td>64.000000</td>\n",
       "      <td>NaN</td>\n",
       "      <td>NaN</td>\n",
       "      <td>NaN</td>\n",
       "      <td>900000.000000</td>\n",
       "      <td>62575.000000</td>\n",
       "    </tr>\n",
       "    <tr>\n",
       "      <th>75%</th>\n",
       "      <td>16.215914</td>\n",
       "      <td>32.000000</td>\n",
       "      <td>NaN</td>\n",
       "      <td>NaN</td>\n",
       "      <td>NaN</td>\n",
       "      <td>NaN</td>\n",
       "      <td>34.055098</td>\n",
       "      <td>-117.242538</td>\n",
       "      <td>34.055174</td>\n",
       "      <td>-117.242405</td>\n",
       "      <td>0.917733</td>\n",
       "      <td>0.917733</td>\n",
       "      <td>0.917733</td>\n",
       "      <td>121.000000</td>\n",
       "      <td>NaN</td>\n",
       "      <td>NaN</td>\n",
       "      <td>NaN</td>\n",
       "      <td>900000.000000</td>\n",
       "      <td>233586.000000</td>\n",
       "    </tr>\n",
       "    <tr>\n",
       "      <th>max</th>\n",
       "      <td>34.519853</td>\n",
       "      <td>33.000000</td>\n",
       "      <td>NaN</td>\n",
       "      <td>NaN</td>\n",
       "      <td>NaN</td>\n",
       "      <td>NaN</td>\n",
       "      <td>34.055172</td>\n",
       "      <td>-117.242409</td>\n",
       "      <td>34.055359</td>\n",
       "      <td>-117.242027</td>\n",
       "      <td>1.035761</td>\n",
       "      <td>1.035761</td>\n",
       "      <td>1.035761</td>\n",
       "      <td>581.000000</td>\n",
       "      <td>NaN</td>\n",
       "      <td>NaN</td>\n",
       "      <td>NaN</td>\n",
       "      <td>900000.000000</td>\n",
       "      <td>362817.000000</td>\n",
       "    </tr>\n",
       "  </tbody>\n",
       "</table>\n",
       "</div>"
      ],
      "text/plain": [
       "       Calories (kcal)  Distance (m)  Average heart rate (bpm)  \\\n",
       "count        96.000000      2.000000                       0.0   \n",
       "mean         16.411472     31.000000                       NaN   \n",
       "std           2.665210      2.828427                       NaN   \n",
       "min           3.434296     29.000000                       NaN   \n",
       "25%          16.215914     30.000000                       NaN   \n",
       "50%          16.215914     31.000000                       NaN   \n",
       "75%          16.215914     32.000000                       NaN   \n",
       "max          34.519853     33.000000                       NaN   \n",
       "\n",
       "       Max heart rate (bpm)  Min heart rate (bpm)  Height (m)  \\\n",
       "count                   0.0                   0.0         0.0   \n",
       "mean                    NaN                   NaN         NaN   \n",
       "std                     NaN                   NaN         NaN   \n",
       "min                     NaN                   NaN         NaN   \n",
       "25%                     NaN                   NaN         NaN   \n",
       "50%                     NaN                   NaN         NaN   \n",
       "75%                     NaN                   NaN         NaN   \n",
       "max                     NaN                   NaN         NaN   \n",
       "\n",
       "       Low latitude (deg)  Low longitude (deg)  High latitude (deg)  \\\n",
       "count           91.000000            91.000000            91.000000   \n",
       "mean            34.055033          -117.242620            34.055120   \n",
       "std              0.000113             0.000092             0.000075   \n",
       "min             34.054150          -117.242844            34.054996   \n",
       "25%             34.054996          -117.242691            34.055063   \n",
       "50%             34.055023          -117.242653            34.055122   \n",
       "75%             34.055098          -117.242538            34.055174   \n",
       "max             34.055172          -117.242409            34.055359   \n",
       "\n",
       "       High longitude (deg)  Average speed (m/s)  Max speed (m/s)  \\\n",
       "count             91.000000             2.000000         2.000000   \n",
       "mean            -117.242453             0.799705         0.799705   \n",
       "std                0.000097             0.333833         0.333833   \n",
       "min             -117.242722             0.563649         0.563649   \n",
       "25%             -117.242500             0.681677         0.681677   \n",
       "50%             -117.242447             0.799705         0.799705   \n",
       "75%             -117.242405             0.917733         0.917733   \n",
       "max             -117.242027             1.035761         1.035761   \n",
       "\n",
       "       Min speed (m/s)  Step count  Average weight (kg)  Max weight (kg)  \\\n",
       "count         2.000000   15.000000                  0.0              0.0   \n",
       "mean          0.799705  116.600000                  NaN              NaN   \n",
       "std           0.333833  157.019016                  NaN              NaN   \n",
       "min           0.563649    1.000000                  NaN              NaN   \n",
       "25%           0.681677   16.000000                  NaN              NaN   \n",
       "50%           0.799705   64.000000                  NaN              NaN   \n",
       "75%           0.917733  121.000000                  NaN              NaN   \n",
       "max           1.035761  581.000000                  NaN              NaN   \n",
       "\n",
       "       Min weight (kg)  Inactive duration (ms)  Walking duration (ms)  \n",
       "count              0.0               96.000000               5.000000  \n",
       "mean               NaN           880833.302083          150074.200000  \n",
       "std                NaN            87443.309515          142937.658018  \n",
       "min                NaN           190607.000000           40929.000000  \n",
       "25%                NaN           900000.000000           50464.000000  \n",
       "50%                NaN           900000.000000           62575.000000  \n",
       "75%                NaN           900000.000000          233586.000000  \n",
       "max                NaN           900000.000000          362817.000000  "
      ]
     },
     "execution_count": 5,
     "metadata": {},
     "output_type": "execute_result"
    }
   ],
   "source": [
    "df.describe()"
   ]
  },
  {
   "cell_type": "code",
   "execution_count": 7,
   "metadata": {},
   "outputs": [
    {
     "data": {
      "text/html": [
       "<div>\n",
       "<style scoped>\n",
       "    .dataframe tbody tr th:only-of-type {\n",
       "        vertical-align: middle;\n",
       "    }\n",
       "\n",
       "    .dataframe tbody tr th {\n",
       "        vertical-align: top;\n",
       "    }\n",
       "\n",
       "    .dataframe thead th {\n",
       "        text-align: right;\n",
       "    }\n",
       "</style>\n",
       "<table border=\"1\" class=\"dataframe\">\n",
       "  <thead>\n",
       "    <tr style=\"text-align: right;\">\n",
       "      <th></th>\n",
       "      <th>Start time</th>\n",
       "      <th>End time</th>\n",
       "      <th>Calories (kcal)</th>\n",
       "      <th>High latitude (deg)</th>\n",
       "      <th>High longitude (deg)</th>\n",
       "      <th>Average speed (m/s)</th>\n",
       "      <th>Step count</th>\n",
       "    </tr>\n",
       "  </thead>\n",
       "  <tbody>\n",
       "    <tr>\n",
       "      <th>0</th>\n",
       "      <td>00:00:00.000-07:00</td>\n",
       "      <td>00:15:00.000-07:00</td>\n",
       "      <td>16.215914</td>\n",
       "      <td>34.054996</td>\n",
       "      <td>-117.242432</td>\n",
       "      <td>NaN</td>\n",
       "      <td>NaN</td>\n",
       "    </tr>\n",
       "    <tr>\n",
       "      <th>1</th>\n",
       "      <td>00:15:00.000-07:00</td>\n",
       "      <td>00:30:00.000-07:00</td>\n",
       "      <td>16.215914</td>\n",
       "      <td>34.055000</td>\n",
       "      <td>-117.242401</td>\n",
       "      <td>NaN</td>\n",
       "      <td>NaN</td>\n",
       "    </tr>\n",
       "    <tr>\n",
       "      <th>2</th>\n",
       "      <td>00:30:00.000-07:00</td>\n",
       "      <td>00:45:00.000-07:00</td>\n",
       "      <td>16.215914</td>\n",
       "      <td>34.055065</td>\n",
       "      <td>-117.242416</td>\n",
       "      <td>NaN</td>\n",
       "      <td>NaN</td>\n",
       "    </tr>\n",
       "    <tr>\n",
       "      <th>3</th>\n",
       "      <td>00:45:00.000-07:00</td>\n",
       "      <td>01:00:00.000-07:00</td>\n",
       "      <td>16.215914</td>\n",
       "      <td>34.055058</td>\n",
       "      <td>-117.242447</td>\n",
       "      <td>NaN</td>\n",
       "      <td>NaN</td>\n",
       "    </tr>\n",
       "    <tr>\n",
       "      <th>4</th>\n",
       "      <td>01:00:00.000-07:00</td>\n",
       "      <td>01:15:00.000-07:00</td>\n",
       "      <td>16.215914</td>\n",
       "      <td>34.055061</td>\n",
       "      <td>-117.242409</td>\n",
       "      <td>NaN</td>\n",
       "      <td>NaN</td>\n",
       "    </tr>\n",
       "  </tbody>\n",
       "</table>\n",
       "</div>"
      ],
      "text/plain": [
       "           Start time            End time  Calories (kcal)  \\\n",
       "0  00:00:00.000-07:00  00:15:00.000-07:00        16.215914   \n",
       "1  00:15:00.000-07:00  00:30:00.000-07:00        16.215914   \n",
       "2  00:30:00.000-07:00  00:45:00.000-07:00        16.215914   \n",
       "3  00:45:00.000-07:00  01:00:00.000-07:00        16.215914   \n",
       "4  01:00:00.000-07:00  01:15:00.000-07:00        16.215914   \n",
       "\n",
       "   High latitude (deg)  High longitude (deg)  Average speed (m/s)  Step count  \n",
       "0            34.054996           -117.242432                  NaN         NaN  \n",
       "1            34.055000           -117.242401                  NaN         NaN  \n",
       "2            34.055065           -117.242416                  NaN         NaN  \n",
       "3            34.055058           -117.242447                  NaN         NaN  \n",
       "4            34.055061           -117.242409                  NaN         NaN  "
      ]
     },
     "execution_count": 7,
     "metadata": {},
     "output_type": "execute_result"
    }
   ],
   "source": [
    "df2 = df[['Start time', 'End time','Calories (kcal)','High latitude (deg)',\n",
    "          'High longitude (deg)','Average speed (m/s)','Step count']]\n",
    "df2.head(5)"
   ]
  },
  {
   "cell_type": "markdown",
   "metadata": {},
   "source": [
    "### Create a geopandas data frame from pandas dataframe"
   ]
  },
  {
   "cell_type": "code",
   "execution_count": 8,
   "metadata": {},
   "outputs": [
    {
     "data": {
      "text/plain": [
       "[<shapely.geometry.point.Point at 0x10f8b5630>,\n",
       " <shapely.geometry.point.Point at 0x10f8b5668>,\n",
       " <shapely.geometry.point.Point at 0x10f8b5710>,\n",
       " <shapely.geometry.point.Point at 0x10f8b56a0>]"
      ]
     },
     "execution_count": 8,
     "metadata": {},
     "output_type": "execute_result"
    }
   ],
   "source": [
    "point_list = [Point(xy) for xy in zip(df2['High longitude (deg)'],df['High latitude (deg)'])]\n",
    "point_list[:4]"
   ]
  },
  {
   "cell_type": "markdown",
   "metadata": {},
   "source": [
    "It is not necessary to construct a geoseries, but Folium needs a geoseries and that to have a coordinate system set. So I am building it here"
   ]
  },
  {
   "cell_type": "code",
   "execution_count": 9,
   "metadata": {},
   "outputs": [],
   "source": [
    "gseries = gpd.GeoSeries(point_list)"
   ]
  },
  {
   "cell_type": "code",
   "execution_count": 10,
   "metadata": {},
   "outputs": [],
   "source": [
    "wgs84=pyepsg.get(4326)"
   ]
  },
  {
   "cell_type": "code",
   "execution_count": 11,
   "metadata": {},
   "outputs": [],
   "source": [
    "# gseries.crs = pyepsg.get(4326)\n",
    "gseries.crs ={'init':'epsg:4326'}"
   ]
  },
  {
   "cell_type": "code",
   "execution_count": 12,
   "metadata": {},
   "outputs": [
    {
     "data": {
      "text/html": [
       "<div>\n",
       "<style scoped>\n",
       "    .dataframe tbody tr th:only-of-type {\n",
       "        vertical-align: middle;\n",
       "    }\n",
       "\n",
       "    .dataframe tbody tr th {\n",
       "        vertical-align: top;\n",
       "    }\n",
       "\n",
       "    .dataframe thead th {\n",
       "        text-align: right;\n",
       "    }\n",
       "</style>\n",
       "<table border=\"1\" class=\"dataframe\">\n",
       "  <thead>\n",
       "    <tr style=\"text-align: right;\">\n",
       "      <th></th>\n",
       "      <th>Start time</th>\n",
       "      <th>End time</th>\n",
       "      <th>Calories (kcal)</th>\n",
       "      <th>High latitude (deg)</th>\n",
       "      <th>High longitude (deg)</th>\n",
       "      <th>Average speed (m/s)</th>\n",
       "      <th>Step count</th>\n",
       "      <th>geometry</th>\n",
       "    </tr>\n",
       "  </thead>\n",
       "  <tbody>\n",
       "    <tr>\n",
       "      <th>0</th>\n",
       "      <td>00:00:00.000-07:00</td>\n",
       "      <td>00:15:00.000-07:00</td>\n",
       "      <td>16.215914</td>\n",
       "      <td>34.054996</td>\n",
       "      <td>-117.242432</td>\n",
       "      <td>NaN</td>\n",
       "      <td>NaN</td>\n",
       "      <td>POINT (-117.242431640625 34.05499649047852)</td>\n",
       "    </tr>\n",
       "    <tr>\n",
       "      <th>1</th>\n",
       "      <td>00:15:00.000-07:00</td>\n",
       "      <td>00:30:00.000-07:00</td>\n",
       "      <td>16.215914</td>\n",
       "      <td>34.055000</td>\n",
       "      <td>-117.242401</td>\n",
       "      <td>NaN</td>\n",
       "      <td>NaN</td>\n",
       "      <td>POINT (-117.2424011230469 34.05500030517578)</td>\n",
       "    </tr>\n",
       "    <tr>\n",
       "      <th>2</th>\n",
       "      <td>00:30:00.000-07:00</td>\n",
       "      <td>00:45:00.000-07:00</td>\n",
       "      <td>16.215914</td>\n",
       "      <td>34.055065</td>\n",
       "      <td>-117.242416</td>\n",
       "      <td>NaN</td>\n",
       "      <td>NaN</td>\n",
       "      <td>POINT (-117.2424163818359 34.0550651550293)</td>\n",
       "    </tr>\n",
       "    <tr>\n",
       "      <th>3</th>\n",
       "      <td>00:45:00.000-07:00</td>\n",
       "      <td>01:00:00.000-07:00</td>\n",
       "      <td>16.215914</td>\n",
       "      <td>34.055058</td>\n",
       "      <td>-117.242447</td>\n",
       "      <td>NaN</td>\n",
       "      <td>NaN</td>\n",
       "      <td>POINT (-117.2424468994141 34.05505752563477)</td>\n",
       "    </tr>\n",
       "  </tbody>\n",
       "</table>\n",
       "</div>"
      ],
      "text/plain": [
       "           Start time            End time  Calories (kcal)  \\\n",
       "0  00:00:00.000-07:00  00:15:00.000-07:00        16.215914   \n",
       "1  00:15:00.000-07:00  00:30:00.000-07:00        16.215914   \n",
       "2  00:30:00.000-07:00  00:45:00.000-07:00        16.215914   \n",
       "3  00:45:00.000-07:00  01:00:00.000-07:00        16.215914   \n",
       "\n",
       "   High latitude (deg)  High longitude (deg)  Average speed (m/s)  Step count  \\\n",
       "0            34.054996           -117.242432                  NaN         NaN   \n",
       "1            34.055000           -117.242401                  NaN         NaN   \n",
       "2            34.055065           -117.242416                  NaN         NaN   \n",
       "3            34.055058           -117.242447                  NaN         NaN   \n",
       "\n",
       "                                       geometry  \n",
       "0   POINT (-117.242431640625 34.05499649047852)  \n",
       "1  POINT (-117.2424011230469 34.05500030517578)  \n",
       "2   POINT (-117.2424163818359 34.0550651550293)  \n",
       "3  POINT (-117.2424468994141 34.05505752563477)  "
      ]
     },
     "execution_count": 12,
     "metadata": {},
     "output_type": "execute_result"
    }
   ],
   "source": [
    "gdf = gpd.GeoDataFrame(data=df2, geometry=gseries)\n",
    "gdf.head(4)"
   ]
  },
  {
   "cell_type": "code",
   "execution_count": 13,
   "metadata": {},
   "outputs": [
    {
     "data": {
      "text/html": [
       "<div>\n",
       "<style scoped>\n",
       "    .dataframe tbody tr th:only-of-type {\n",
       "        vertical-align: middle;\n",
       "    }\n",
       "\n",
       "    .dataframe tbody tr th {\n",
       "        vertical-align: top;\n",
       "    }\n",
       "\n",
       "    .dataframe thead th {\n",
       "        text-align: right;\n",
       "    }\n",
       "</style>\n",
       "<table border=\"1\" class=\"dataframe\">\n",
       "  <thead>\n",
       "    <tr style=\"text-align: right;\">\n",
       "      <th></th>\n",
       "      <th>High latitude (deg)</th>\n",
       "      <th>High longitude (deg)</th>\n",
       "    </tr>\n",
       "  </thead>\n",
       "  <tbody>\n",
       "    <tr>\n",
       "      <th>count</th>\n",
       "      <td>91.000000</td>\n",
       "      <td>91.000000</td>\n",
       "    </tr>\n",
       "    <tr>\n",
       "      <th>mean</th>\n",
       "      <td>34.055120</td>\n",
       "      <td>-117.242453</td>\n",
       "    </tr>\n",
       "    <tr>\n",
       "      <th>std</th>\n",
       "      <td>0.000075</td>\n",
       "      <td>0.000097</td>\n",
       "    </tr>\n",
       "    <tr>\n",
       "      <th>min</th>\n",
       "      <td>34.054996</td>\n",
       "      <td>-117.242722</td>\n",
       "    </tr>\n",
       "    <tr>\n",
       "      <th>25%</th>\n",
       "      <td>34.055063</td>\n",
       "      <td>-117.242500</td>\n",
       "    </tr>\n",
       "    <tr>\n",
       "      <th>50%</th>\n",
       "      <td>34.055122</td>\n",
       "      <td>-117.242447</td>\n",
       "    </tr>\n",
       "    <tr>\n",
       "      <th>75%</th>\n",
       "      <td>34.055174</td>\n",
       "      <td>-117.242405</td>\n",
       "    </tr>\n",
       "    <tr>\n",
       "      <th>max</th>\n",
       "      <td>34.055359</td>\n",
       "      <td>-117.242027</td>\n",
       "    </tr>\n",
       "  </tbody>\n",
       "</table>\n",
       "</div>"
      ],
      "text/plain": [
       "       High latitude (deg)  High longitude (deg)\n",
       "count            91.000000             91.000000\n",
       "mean             34.055120           -117.242453\n",
       "std               0.000075              0.000097\n",
       "min              34.054996           -117.242722\n",
       "25%              34.055063           -117.242500\n",
       "50%              34.055122           -117.242447\n",
       "75%              34.055174           -117.242405\n",
       "max              34.055359           -117.242027"
      ]
     },
     "execution_count": 13,
     "metadata": {},
     "output_type": "execute_result"
    }
   ],
   "source": [
    "gdf[['High latitude (deg)','High longitude (deg)']].describe()"
   ]
  },
  {
   "cell_type": "markdown",
   "metadata": {},
   "source": [
    "Drop the rows that don't have coordinates"
   ]
  },
  {
   "cell_type": "code",
   "execution_count": 14,
   "metadata": {},
   "outputs": [
    {
     "data": {
      "text/plain": [
       "(91, 8)"
      ]
     },
     "execution_count": 14,
     "metadata": {},
     "output_type": "execute_result"
    }
   ],
   "source": [
    "gdf.dropna(subset=['High latitude (deg)'], inplace=True)\n",
    "gdf.shape"
   ]
  },
  {
   "cell_type": "code",
   "execution_count": 15,
   "metadata": {},
   "outputs": [
    {
     "data": {
      "text/plain": [
       "<matplotlib.axes._subplots.AxesSubplot at 0x10f99f0f0>"
      ]
     },
     "execution_count": 15,
     "metadata": {},
     "output_type": "execute_result"
    },
    {
     "data": {
      "image/png": "[encoded data removed]",
      "text/plain": [
       "<Figure size 360x360 with 1 Axes>"
      ]
     },
     "metadata": {},
     "output_type": "display_data"
    }
   ],
   "source": [
    "fig,ax= plt.subplots(1, figsize=(5,5))\n",
    "gdf.plot(ax=ax)\n",
    "# ax.set_xlim([-117.2,-117.4])\n",
    "# ax.set_ylim([34.054, 34.055])"
   ]
  },
  {
   "cell_type": "markdown",
   "metadata": {},
   "source": [
    "## Viz on Folium map"
   ]
  },
  {
   "cell_type": "code",
   "execution_count": 16,
   "metadata": {},
   "outputs": [
    {
     "data": {
      "text/plain": [
       "'0.5.0'"
      ]
     },
     "execution_count": 16,
     "metadata": {},
     "output_type": "execute_result"
    }
   ],
   "source": [
    "import folium\n",
    "folium.__version__"
   ]
  },
  {
   "cell_type": "code",
   "execution_count": 17,
   "metadata": {},
   "outputs": [],
   "source": [
    "# from folium.plugins import HeatMap\n",
    "# hm = HeatMap(data=[xy for xy in zip(gdf['geometry'].x, gdf['geometry'].y)])"
   ]
  },
  {
   "cell_type": "code",
   "execution_count": 135,
   "metadata": {},
   "outputs": [
    {
     "data": {
      "text/html": [
       "<div style=\"width:100%;\"><div style=\"position:relative;width:100%;height:0;padding-bottom:60%;\"><iframe src=\"data:text/html;charset=utf-8;base64,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\" style=\"position:absolute;width:100%;height:100%;left:0;top:0;border:none !important;\" allowfullscreen webkitallowfullscreen mozallowfullscreen></iframe></div></div>"
      ],
      "text/plain": [
       "<folium.folium.Map at 0x1a24d3f240>"
      ]
     },
     "execution_count": 135,
     "metadata": {},
     "output_type": "execute_result"
    }
   ],
   "source": [
    "m = folium.Map(location=[34.054,-117.2], zoom_start=15)\n",
    "folium.GeoJson(data=gdf).add_to(m)\n",
    "m"
   ]
  },
  {
   "cell_type": "markdown",
   "metadata": {},
   "source": [
    "## Geocoding\n",
    "Geocoding is the process of turning addresses into coordinates by plotting them on a map. It is a combination of search and computation (when you interpolate street addresses for unknown extents) that is typically performed on server side due to the amount of data required on a global scale.\n",
    "\n",
    "Geopandas uses [`geopy`](http://geopy.readthedocs.io/en/1.11.0/) to perform geocoding and returns the result of hits as a `geodataframe`."
   ]
  },
  {
   "cell_type": "code",
   "execution_count": 18,
   "metadata": {},
   "outputs": [],
   "source": [
    "from geopandas.tools import geocode, geocoding, reverse_geocode"
   ]
  },
  {
   "cell_type": "code",
   "execution_count": 19,
   "metadata": {},
   "outputs": [
    {
     "data": {
      "text/plain": [
       "(function, function, module)"
      ]
     },
     "execution_count": 19,
     "metadata": {},
     "output_type": "execute_result"
    }
   ],
   "source": [
    "type(geocode), type(reverse_geocode), type(geocoding)"
   ]
  },
  {
   "cell_type": "markdown",
   "metadata": {},
   "source": [
    "Get list of providers from `geopy`"
   ]
  },
  {
   "cell_type": "code",
   "execution_count": 15,
   "metadata": {},
   "outputs": [
    {
     "name": "stdout",
     "output_type": "stream",
     "text": [
      "1.14.0\n"
     ]
    },
    {
     "data": {
      "text/plain": [
       "[('ArcGIS', geopy.geocoders.arcgis.ArcGIS),\n",
       " ('Baidu', geopy.geocoders.baidu.Baidu),\n",
       " ('Bing', geopy.geocoders.bing.Bing),\n",
       " ('DataBC', geopy.geocoders.databc.DataBC),\n",
       " ('GeoNames', geopy.geocoders.geonames.GeoNames),\n",
       " ('GeocodeFarm', geopy.geocoders.geocodefarm.GeocodeFarm),\n",
       " ('GoogleV3', geopy.geocoders.googlev3.GoogleV3),\n",
       " ('IGNFrance', geopy.geocoders.ignfrance.IGNFrance),\n",
       " ('LiveAddress', geopy.geocoders.smartystreets.LiveAddress),\n",
       " ('Location', geopy.location.Location),\n",
       " ('Mapzen', geopy.geocoders.mapzen.Mapzen),\n",
       " ('Nominatim', geopy.geocoders.osm.Nominatim),\n",
       " ('OpenCage', geopy.geocoders.opencage.OpenCage),\n",
       " ('OpenMapQuest', geopy.geocoders.openmapquest.OpenMapQuest),\n",
       " ('Photon', geopy.geocoders.photon.Photon),\n",
       " ('PickPoint', geopy.geocoders.pickpoint.PickPoint),\n",
       " ('Point', geopy.point.Point),\n",
       " ('What3Words', geopy.geocoders.what3words.What3Words),\n",
       " ('Yandex', geopy.geocoders.yandex.Yandex)]"
      ]
     },
     "execution_count": 15,
     "metadata": {},
     "output_type": "execute_result"
    }
   ],
   "source": [
    "import geopy, inspect\n",
    "print(geopy.__version__)\n",
    "\n",
    "# use inspection, but limit to just classes\n",
    "inspect.getmembers(geopy, predicate=inspect.isclass)"
   ]
  },
  {
   "cell_type": "code",
   "execution_count": 20,
   "metadata": {},
   "outputs": [
    {
     "data": {
      "text/html": [
       "<div>\n",
       "<style scoped>\n",
       "    .dataframe tbody tr th:only-of-type {\n",
       "        vertical-align: middle;\n",
       "    }\n",
       "\n",
       "    .dataframe tbody tr th {\n",
       "        vertical-align: top;\n",
       "    }\n",
       "\n",
       "    .dataframe thead th {\n",
       "        text-align: right;\n",
       "    }\n",
       "</style>\n",
       "<table border=\"1\" class=\"dataframe\">\n",
       "  <thead>\n",
       "    <tr style=\"text-align: right;\">\n",
       "      <th></th>\n",
       "      <th>address</th>\n",
       "      <th>geometry</th>\n",
       "    </tr>\n",
       "  </thead>\n",
       "  <tbody>\n",
       "    <tr>\n",
       "      <th>0</th>\n",
       "      <td>Los Angeles, CA 90068, USA</td>\n",
       "      <td>POINT (-118.3215482 34.1341151)</td>\n",
       "    </tr>\n",
       "  </tbody>\n",
       "</table>\n",
       "</div>"
      ],
      "text/plain": [
       "                      address                         geometry\n",
       "0  Los Angeles, CA 90068, USA  POINT (-118.3215482 34.1341151)"
      ]
     },
     "execution_count": 20,
     "metadata": {},
     "output_type": "execute_result"
    }
   ],
   "source": [
    "geocode(strings='Hollywood sign') # default provider is googlev3"
   ]
  },
  {
   "cell_type": "code",
   "execution_count": 21,
   "metadata": {},
   "outputs": [
    {
     "data": {
      "text/html": [
       "<div>\n",
       "<style scoped>\n",
       "    .dataframe tbody tr th:only-of-type {\n",
       "        vertical-align: middle;\n",
       "    }\n",
       "\n",
       "    .dataframe tbody tr th {\n",
       "        vertical-align: top;\n",
       "    }\n",
       "\n",
       "    .dataframe thead th {\n",
       "        text-align: right;\n",
       "    }\n",
       "</style>\n",
       "<table border=\"1\" class=\"dataframe\">\n",
       "  <thead>\n",
       "    <tr style=\"text-align: right;\">\n",
       "      <th></th>\n",
       "      <th>address</th>\n",
       "      <th>geometry</th>\n",
       "    </tr>\n",
       "  </thead>\n",
       "  <tbody>\n",
       "    <tr>\n",
       "      <th>0</th>\n",
       "      <td>Hollywood Sign</td>\n",
       "      <td>POINT (-118.3219799999999 34.13438000000008)</td>\n",
       "    </tr>\n",
       "  </tbody>\n",
       "</table>\n",
       "</div>"
      ],
      "text/plain": [
       "          address                                      geometry\n",
       "0  Hollywood Sign  POINT (-118.3219799999999 34.13438000000008)"
      ]
     },
     "execution_count": 21,
     "metadata": {},
     "output_type": "execute_result"
    }
   ],
   "source": [
    "geocode(strings='Hollywood sign', provider='arcgis')"
   ]
  },
  {
   "cell_type": "code",
   "execution_count": 26,
   "metadata": {},
   "outputs": [
    {
     "data": {
      "text/html": [
       "<div>\n",
       "<style scoped>\n",
       "    .dataframe tbody tr th:only-of-type {\n",
       "        vertical-align: middle;\n",
       "    }\n",
       "\n",
       "    .dataframe tbody tr th {\n",
       "        vertical-align: top;\n",
       "    }\n",
       "\n",
       "    .dataframe thead th {\n",
       "        text-align: right;\n",
       "    }\n",
       "</style>\n",
       "<table border=\"1\" class=\"dataframe\">\n",
       "  <thead>\n",
       "    <tr style=\"text-align: right;\">\n",
       "      <th></th>\n",
       "      <th>address</th>\n",
       "      <th>geometry</th>\n",
       "    </tr>\n",
       "  </thead>\n",
       "  <tbody>\n",
       "    <tr>\n",
       "      <th>0</th>\n",
       "      <td>Redlands Community Hospital-ER</td>\n",
       "      <td>POINT (-117.2044100362101 34.03633005943772)</td>\n",
       "    </tr>\n",
       "    <tr>\n",
       "      <th>1</th>\n",
       "      <td>Target</td>\n",
       "      <td>POINT (-117.2072099744647 34.07031003505633)</td>\n",
       "    </tr>\n",
       "    <tr>\n",
       "      <th>2</th>\n",
       "      <td>Redlands East Valley High School</td>\n",
       "      <td>POINT (-117.12776 34.06201000000004)</td>\n",
       "    </tr>\n",
       "  </tbody>\n",
       "</table>\n",
       "</div>"
      ],
      "text/plain": [
       "                            address  \\\n",
       "0    Redlands Community Hospital-ER   \n",
       "1                            Target   \n",
       "2  Redlands East Valley High School   \n",
       "\n",
       "                                       geometry  \n",
       "0  POINT (-117.2044100362101 34.03633005943772)  \n",
       "1  POINT (-117.2072099744647 34.07031003505633)  \n",
       "2          POINT (-117.12776 34.06201000000004)  "
      ]
     },
     "execution_count": 26,
     "metadata": {},
     "output_type": "execute_result"
    }
   ],
   "source": [
    "address_list = ['hospitals near Redlands, CA', \n",
    "                'groceries near Redlands, CA', \n",
    "                'schools near Redlands, CA']\n",
    "\n",
    "geocoded_gdf = geocode(strings=address_list, provider='arcgis')\n",
    "geocoded_gdf"
   ]
  },
  {
   "cell_type": "code",
   "execution_count": 30,
   "metadata": {},
   "outputs": [
    {
     "data": {
      "text/html": [
       "<div style=\"width:100%;\"><div style=\"position:relative;width:100%;height:0;padding-bottom:60%;\"><iframe src=\"data:text/html;charset=utf-8;base64,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\" style=\"position:absolute;width:100%;height:100%;left:0;top:0;border:none !important;\" allowfullscreen webkitallowfullscreen mozallowfullscreen></iframe></div></div>"
      ],
      "text/plain": [
       "<folium.folium.Map at 0x1103276a0>"
      ]
     },
     "execution_count": 30,
     "metadata": {},
     "output_type": "execute_result"
    }
   ],
   "source": [
    "m2 = folium.Map(location=[34.054,-117.2], zoom_start=12)\n",
    "folium.GeoJson(data=geocoded_gdf).add_to(m2)\n",
    "m2"
   ]
  },
  {
   "cell_type": "code",
   "execution_count": 31,
   "metadata": {},
   "outputs": [
    {
     "data": {
      "text/plain": [
       "'EPSG3857'"
      ]
     },
     "execution_count": 31,
     "metadata": {},
     "output_type": "execute_result"
    }
   ],
   "source": [
    "m2.crs"
   ]
  },
  {
   "cell_type": "code",
   "execution_count": 32,
   "metadata": {},
   "outputs": [
    {
     "data": {
      "text/plain": [
       "'{\"name\": \"Map\", \"id\": \"94aa73e804f245ec8f4e34436a4a2412\", \"children\": {\"openstreetmap\": {\"name\": \"TileLayer\", \"id\": \"6e327110ed23459f86840082b427835d\", \"children\": {}}, \"geo_json_bd54f09d34e648ffbd9a583dc626582f\": {\"name\": \"GeoJson\", \"id\": \"bd54f09d34e648ffbd9a583dc626582f\", \"children\": {}}}}'"
      ]
     },
     "execution_count": 32,
     "metadata": {},
     "output_type": "execute_result"
    }
   ],
   "source": [
    "m2.to_json()"
   ]
  }
 ],
 "metadata": {
  "kernelspec": {
   "display_name": "Python 3",
   "language": "python",
   "name": "python3"
  },
  "language_info": {
   "codemirror_mode": {
    "name": "ipython",
    "version": 3
   },
   "file_extension": ".py",
   "mimetype": "text/x-python",
   "name": "python",
   "nbconvert_exporter": "python",
   "pygments_lexer": "ipython3",
   "version": "3.6.7"
  },
  "nikola": {
   "title": "GeoPandas - GP, IO, interactive plotting, geocoding"
  },
  "toc": {
   "base_numbering": 1,
   "nav_menu": {},
   "number_sections": false,
   "sideBar": false,
   "skip_h1_title": true,
   "title_cell": "Table of Contents",
   "title_sidebar": "Contents",
   "toc_cell": true,
   "toc_position": {},
   "toc_section_display": true,
   "toc_window_display": false
  }
 },
 "nbformat": 4,
 "nbformat_minor": 2
}
