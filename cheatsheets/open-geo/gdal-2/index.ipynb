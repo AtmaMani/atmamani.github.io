{
 "cells": [
  {
   "cell_type": "markdown",
   "id": "2b7425e9-ef1c-46b3-a8f5-a9f752991263",
   "metadata": {},
   "source": [
    "## GDAL\n",
    "\n",
    "> **Note**: This page is generated from a Jupyter Notebook. In Jupyter, to run a bash command, you need to prefix it with `!`. Hence you see that prefixing all `gdal` commands (For instance: `!gdalinfo`). However, when using GDAL as a CLI in your terminal, you do not have to prefix it with `!`."
   ]
  },
  {
   "cell_type": "code",
   "execution_count": 6,
   "id": "0bd4d552-2583-4839-a185-a13a2d04ea1e",
   "metadata": {},
   "outputs": [
    {
     "name": "stdout",
     "output_type": "stream",
     "text": [
      "/Users/abharathi/Documents/gis_data/gdal-tools\n"
     ]
    }
   ],
   "source": [
    "cd /Users/abharathi/Documents/gis_data/gdal-tools/"
   ]
  },
  {
   "cell_type": "markdown",
   "id": "03e9ad8e-fc96-4416-8932-34b836ff3200",
   "metadata": {},
   "source": [
    "**Verifying GDAL is installed correctly**"
   ]
  },
  {
   "cell_type": "code",
   "execution_count": 8,
   "id": "87b554f0-3ef4-4d9d-8f66-299b82d1dd3b",
   "metadata": {},
   "outputs": [
    {
     "name": "stdout",
     "output_type": "stream",
     "text": [
      "GDAL 3.5.2, released 2022/09/02\n"
     ]
    }
   ],
   "source": [
    "!gdalinfo --version"
   ]
  },
  {
   "cell_type": "markdown",
   "id": "cdd33d59-2913-48e5-83ea-a865f94a4f37",
   "metadata": {},
   "source": [
    "## `gdalinfo` - info about GIS datasets\n",
    "\n",
    "Use to get basic info about any spatial dataset. Combine with `-stats` option to get stats about raster layers.\n",
    "\n",
    "**Getting info about DEM files using `gdalinfo`**\n",
    "\n",
    "Sample `srtm` folder has 4 DEM files of Mt. Everest."
   ]
  },
  {
   "cell_type": "code",
   "execution_count": 15,
   "id": "8c7159e6-add5-4e34-90e2-4b52abf725bb",
   "metadata": {},
   "outputs": [
    {
     "name": "stdout",
     "output_type": "stream",
     "text": [
      "total 202632\n",
      "-rw-r--r--@ 1 abharathi  staff    25M Sep  7  2020 N27E086.hgt\n",
      "-rw-r--r--@ 1 abharathi  staff    25M Sep  7  2020 N27E087.hgt\n",
      "-rw-r--r--@ 1 abharathi  staff    25M Sep  7  2020 N28E086.hgt\n",
      "-rw-r--r--  1 abharathi  staff   430B Nov 23 13:38 N28E086.hgt.aux.xml\n",
      "-rw-r--r--@ 1 abharathi  staff    25M Sep  7  2020 N28E087.hgt\n"
     ]
    }
   ],
   "source": [
    "ls -lh srtm/"
   ]
  },
  {
   "cell_type": "code",
   "execution_count": 16,
   "id": "caa56516-6d3e-48da-95d1-9e7798b6c76b",
   "metadata": {},
   "outputs": [
    {
     "name": "stdout",
     "output_type": "stream",
     "text": [
      "Driver: SRTMHGT/SRTMHGT File Format\n",
      "Files: srtm/N27E086.hgt\n",
      "Size is 3601, 3601\n",
      "Coordinate System is:\n",
      "GEOGCRS[\"WGS 84\",\n",
      "    DATUM[\"World Geodetic System 1984\",\n",
      "        ELLIPSOID[\"WGS 84\",6378137,298.257223563,\n",
      "            LENGTHUNIT[\"metre\",1]]],\n",
      "    PRIMEM[\"Greenwich\",0,\n",
      "        ANGLEUNIT[\"degree\",0.0174532925199433]],\n",
      "    CS[ellipsoidal,2],\n",
      "        AXIS[\"geodetic latitude (Lat)\",north,\n",
      "            ORDER[1],\n",
      "            ANGLEUNIT[\"degree\",0.0174532925199433]],\n",
      "        AXIS[\"geodetic longitude (Lon)\",east,\n",
      "            ORDER[2],\n",
      "            ANGLEUNIT[\"degree\",0.0174532925199433]],\n",
      "    ID[\"EPSG\",4326]]\n",
      "Data axis to CRS axis mapping: 2,1\n",
      "Origin = (85.999861111111116,28.000138888888888)\n",
      "Pixel Size = (0.000277777777778,-0.000277777777778)\n",
      "Metadata:\n",
      "  AREA_OR_POINT=Point\n",
      "Corner Coordinates:\n",
      "Upper Left  (  85.9998611,  28.0001389) ( 85d59'59.50\"E, 28d 0' 0.50\"N)\n",
      "Lower Left  (  85.9998611,  26.9998611) ( 85d59'59.50\"E, 26d59'59.50\"N)\n",
      "Upper Right (  87.0001389,  28.0001389) ( 87d 0' 0.50\"E, 28d 0' 0.50\"N)\n",
      "Lower Right (  87.0001389,  26.9998611) ( 87d 0' 0.50\"E, 26d59'59.50\"N)\n",
      "Center      (  86.5000000,  27.5000000) ( 86d30' 0.00\"E, 27d30' 0.00\"N)\n",
      "Band 1 Block=3601x1 Type=Int16, ColorInterp=Undefined\n",
      "  NoData Value=-32768\n",
      "  Unit Type: m\n"
     ]
    }
   ],
   "source": [
    "!gdalinfo srtm/N27E086.hgt"
   ]
  },
  {
   "cell_type": "code",
   "execution_count": 17,
   "id": "62f38c0d-4867-4472-86df-1e7fe3e9502a",
   "metadata": {},
   "outputs": [
    {
     "name": "stdout",
     "output_type": "stream",
     "text": [
      "Driver: SRTMHGT/SRTMHGT File Format\n",
      "Files: srtm/N28E086.hgt\n",
      "       srtm/N28E086.hgt.aux.xml\n",
      "Size is 3601, 3601\n",
      "Coordinate System is:\n",
      "GEOGCRS[\"WGS 84\",\n",
      "    DATUM[\"World Geodetic System 1984\",\n",
      "        ELLIPSOID[\"WGS 84\",6378137,298.257223563,\n",
      "            LENGTHUNIT[\"metre\",1]]],\n",
      "    PRIMEM[\"Greenwich\",0,\n",
      "        ANGLEUNIT[\"degree\",0.0174532925199433]],\n",
      "    CS[ellipsoidal,2],\n",
      "        AXIS[\"geodetic latitude (Lat)\",north,\n",
      "            ORDER[1],\n",
      "            ANGLEUNIT[\"degree\",0.0174532925199433]],\n",
      "        AXIS[\"geodetic longitude (Lon)\",east,\n",
      "            ORDER[2],\n",
      "            ANGLEUNIT[\"degree\",0.0174532925199433]],\n",
      "    ID[\"EPSG\",4326]]\n",
      "Data axis to CRS axis mapping: 2,1\n",
      "Origin = (85.999861111111116,29.000138888888888)\n",
      "Pixel Size = (0.000277777777778,-0.000277777777778)\n",
      "Metadata:\n",
      "  AREA_OR_POINT=Point\n",
      "Corner Coordinates:\n",
      "Upper Left  (  85.9998611,  29.0001389) ( 85d59'59.50\"E, 29d 0' 0.50\"N)\n",
      "Lower Left  (  85.9998611,  27.9998611) ( 85d59'59.50\"E, 27d59'59.50\"N)\n",
      "Upper Right (  87.0001389,  29.0001389) ( 87d 0' 0.50\"E, 29d 0' 0.50\"N)\n",
      "Lower Right (  87.0001389,  27.9998611) ( 87d 0' 0.50\"E, 27d59'59.50\"N)\n",
      "Center      (  86.5000000,  28.5000000) ( 86d30' 0.00\"E, 28d30' 0.00\"N)\n",
      "Band 1 Block=3601x1 Type=Int16, ColorInterp=Undefined\n",
      "  Min=2535.000 Max=8275.000 \n",
      "  Minimum=2535.000, Maximum=8275.000, Mean=5067.325, StdDev=545.184\n",
      "  NoData Value=-32768\n",
      "  Unit Type: m\n",
      "  Metadata:\n",
      "    STATISTICS_MAXIMUM=8275\n",
      "    STATISTICS_MEAN=5067.3254290577\n",
      "    STATISTICS_MINIMUM=2535\n",
      "    STATISTICS_STDDEV=545.18375677872\n",
      "    STATISTICS_VALID_PERCENT=100\n"
     ]
    }
   ],
   "source": [
    "!gdalinfo -stats srtm/N28E086.hgt"
   ]
  },
  {
   "cell_type": "markdown",
   "id": "c4b55cf2-9baa-4fe0-8540-80114a26c930",
   "metadata": {},
   "source": [
    "## `gdalbuildvrt` to build virtual raster\n",
    "Combine all 4 DEM files into a single virtual raster. This `.vrt` file is a text file with pointers to actual data files. Gdal allows us to treat this as a physical file and run commands against it."
   ]
  },
  {
   "cell_type": "code",
   "execution_count": 19,
   "id": "e817fdab-685a-46ca-8445-370e3e94afcb",
   "metadata": {},
   "outputs": [
    {
     "name": "stdout",
     "output_type": "stream",
     "text": [
      "srtm/N27E086.hgt  srtm/N27E087.hgt  srtm/N28E086.hgt  srtm/N28E087.hgt\n"
     ]
    }
   ],
   "source": [
    "ls srtm/*.hgt"
   ]
  },
  {
   "cell_type": "code",
   "execution_count": 26,
   "id": "c8c03eac-43e7-4e71-b7b4-8f1313d73a19",
   "metadata": {},
   "outputs": [
    {
     "name": "stdout",
     "output_type": "stream",
     "text": [
      "0...10...20...30...40...50...60...70...80...90...100 - done.\n"
     ]
    }
   ],
   "source": [
    "# gdalbuildvrt <output> <source_files>\n",
    "!gdalbuildvrt srtm/merged.vrt srtm/*.hgt"
   ]
  },
  {
   "cell_type": "code",
   "execution_count": 27,
   "id": "5cde49ed-0abd-4246-b736-6a2ea855a1a1",
   "metadata": {},
   "outputs": [
    {
     "name": "stdout",
     "output_type": "stream",
     "text": [
      "N27E086.hgt          N28E086.hgt          N28E087.hgt\n",
      "N27E087.hgt          N28E086.hgt.aux.xml  merged.vrt\n"
     ]
    }
   ],
   "source": [
    "ls srtm/"
   ]
  },
  {
   "cell_type": "code",
   "execution_count": 25,
   "id": "f7025608-caa3-4b7a-b27e-ea414aeb4bdf",
   "metadata": {
    "collapsed": true,
    "jupyter": {
     "outputs_hidden": true
    },
    "tags": []
   },
   "outputs": [
    {
     "name": "stdout",
     "output_type": "stream",
     "text": [
      "<VRTDataset rasterXSize=\"7201\" rasterYSize=\"7201\">\n",
      "  <SRS dataAxisToSRSAxisMapping=\"2,1\">GEOGCS[\"WGS 84\",DATUM[\"WGS_1984\",SPHEROID[\"WGS 84\",6378137,298.257223563,AUTHORITY[\"EPSG\",\"7030\"]],AUTHORITY[\"EPSG\",\"6326\"]],PRIMEM[\"Greenwich\",0,AUTHORITY[\"EPSG\",\"8901\"]],UNIT[\"degree\",0.0174532925199433,AUTHORITY[\"EPSG\",\"9122\"]],AXIS[\"Latitude\",NORTH],AXIS[\"Longitude\",EAST],AUTHORITY[\"EPSG\",\"4326\"]]</SRS>\n",
      "  <GeoTransform>  8.5999861111111116e+01,  2.7777777777777778e-04,  0.0000000000000000e+00,  2.9000138888888888e+01,  0.0000000000000000e+00, -2.7777777777777778e-04</GeoTransform>\n",
      "  <VRTRasterBand dataType=\"Int16\" band=\"1\">\n",
      "    <NoDataValue>-32768</NoDataValue>\n",
      "    <ComplexSource>\n",
      "      <SourceFilename relativeToVRT=\"1\">N27E086.hgt</SourceFilename>\n",
      "      <SourceBand>1</SourceBand>\n",
      "      <SourceProperties RasterXSize=\"3601\" RasterYSize=\"3601\" DataType=\"Int16\" BlockXSize=\"3601\" BlockYSize=\"1\" />\n",
      "      <SrcRect xOff=\"0\" yOff=\"0\" xSize=\"3601\" ySize=\"3601\" />\n",
      "      <DstRect xOff=\"0\" yOff=\"3600\" xSize=\"3601\" ySize=\"3601\" />\n",
      "      <NODATA>-32768</NODATA>\n",
      "    </ComplexSource>\n",
      "    <ComplexSource>\n",
      "      <SourceFilename relativeToVRT=\"1\">N27E087.hgt</SourceFilename>\n",
      "      <SourceBand>1</SourceBand>\n",
      "      <SourceProperties RasterXSize=\"3601\" RasterYSize=\"3601\" DataType=\"Int16\" BlockXSize=\"3601\" BlockYSize=\"1\" />\n",
      "      <SrcRect xOff=\"0\" yOff=\"0\" xSize=\"3601\" ySize=\"3601\" />\n",
      "      <DstRect xOff=\"3600\" yOff=\"3600\" xSize=\"3601\" ySize=\"3601\" />\n",
      "      <NODATA>-32768</NODATA>\n",
      "    </ComplexSource>\n",
      "    <ComplexSource>\n",
      "      <SourceFilename relativeToVRT=\"1\">N28E086.hgt</SourceFilename>\n",
      "      <SourceBand>1</SourceBand>\n",
      "      <SourceProperties RasterXSize=\"3601\" RasterYSize=\"3601\" DataType=\"Int16\" BlockXSize=\"3601\" BlockYSize=\"1\" />\n",
      "      <SrcRect xOff=\"0\" yOff=\"0\" xSize=\"3601\" ySize=\"3601\" />\n",
      "      <DstRect xOff=\"0\" yOff=\"0\" xSize=\"3601\" ySize=\"3601\" />\n",
      "      <NODATA>-32768</NODATA>\n",
      "    </ComplexSource>\n",
      "    <ComplexSource>\n",
      "      <SourceFilename relativeToVRT=\"1\">N28E087.hgt</SourceFilename>\n",
      "      <SourceBand>1</SourceBand>\n",
      "      <SourceProperties RasterXSize=\"3601\" RasterYSize=\"3601\" DataType=\"Int16\" BlockXSize=\"3601\" BlockYSize=\"1\" />\n",
      "      <SrcRect xOff=\"0\" yOff=\"0\" xSize=\"3601\" ySize=\"3601\" />\n",
      "      <DstRect xOff=\"3600\" yOff=\"0\" xSize=\"3601\" ySize=\"3601\" />\n",
      "      <NODATA>-32768</NODATA>\n",
      "    </ComplexSource>\n",
      "  </VRTRasterBand>\n",
      "</VRTDataset>\n"
     ]
    }
   ],
   "source": [
    "# preview the virtual raster file\n",
    "cat srtm/merged.vrt"
   ]
  },
  {
   "cell_type": "markdown",
   "id": "748ec2d7-cba6-4c0a-9f67-4430fff9a2e5",
   "metadata": {},
   "source": [
    "**Finding highest point in Mr. Everest.**"
   ]
  },
  {
   "cell_type": "code",
   "execution_count": 28,
   "id": "58de675b-4322-4cd1-989f-7617121630c9",
   "metadata": {},
   "outputs": [
    {
     "name": "stdout",
     "output_type": "stream",
     "text": [
      "Driver: VRT/Virtual Raster\n",
      "Files: srtm/merged.vrt\n",
      "       srtm/N27E086.hgt\n",
      "       srtm/N27E087.hgt\n",
      "       srtm/N28E086.hgt\n",
      "       srtm/N28E087.hgt\n",
      "Size is 7201, 7201\n",
      "Coordinate System is:\n",
      "GEOGCRS[\"WGS 84\",\n",
      "    DATUM[\"World Geodetic System 1984\",\n",
      "        ELLIPSOID[\"WGS 84\",6378137,298.257223563,\n",
      "            LENGTHUNIT[\"metre\",1]]],\n",
      "    PRIMEM[\"Greenwich\",0,\n",
      "        ANGLEUNIT[\"degree\",0.0174532925199433]],\n",
      "    CS[ellipsoidal,2],\n",
      "        AXIS[\"geodetic latitude (Lat)\",north,\n",
      "            ORDER[1],\n",
      "            ANGLEUNIT[\"degree\",0.0174532925199433]],\n",
      "        AXIS[\"geodetic longitude (Lon)\",east,\n",
      "            ORDER[2],\n",
      "            ANGLEUNIT[\"degree\",0.0174532925199433]],\n",
      "    ID[\"EPSG\",4326]]\n",
      "Data axis to CRS axis mapping: 2,1\n",
      "Origin = (85.999861111111116,29.000138888888888)\n",
      "Pixel Size = (0.000277777777778,-0.000277777777778)\n",
      "Corner Coordinates:\n",
      "Upper Left  (  85.9998611,  29.0001389) ( 85d59'59.50\"E, 29d 0' 0.50\"N)\n",
      "Lower Left  (  85.9998611,  26.9998611) ( 85d59'59.50\"E, 26d59'59.50\"N)\n",
      "Upper Right (  88.0001389,  29.0001389) ( 88d 0' 0.50\"E, 29d 0' 0.50\"N)\n",
      "Lower Right (  88.0001389,  26.9998611) ( 88d 0' 0.50\"E, 26d59'59.50\"N)\n",
      "Center      (  87.0000000,  28.0000000) ( 87d 0' 0.00\"E, 28d 0' 0.00\"N)\n",
      "Band 1 Block=128x128 Type=Int16, ColorInterp=Undefined\n",
      "  Minimum=176.000, Maximum=8748.000, Mean=3840.966, StdDev=1649.758\n",
      "  NoData Value=-32768\n",
      "  Metadata:\n",
      "    STATISTICS_MAXIMUM=8748\n",
      "    STATISTICS_MEAN=3840.9655621886\n",
      "    STATISTICS_MINIMUM=176\n",
      "    STATISTICS_STDDEV=1649.7576436136\n",
      "    STATISTICS_VALID_PERCENT=100\n"
     ]
    }
   ],
   "source": [
    "!gdalinfo -stats srtm/merged.vrt"
   ]
  },
  {
   "cell_type": "markdown",
   "id": "57f5d9eb-2982-4573-9f6f-b2e5bde6cafa",
   "metadata": {},
   "source": [
    "## `gdal_translate` to convert file formats\n",
    "Convert between hundreds of formats supported by gdal. Here we convert the virtual raster to a physical file on disk."
   ]
  },
  {
   "cell_type": "code",
   "execution_count": 29,
   "id": "06465043-8c49-452a-931a-85f22951fa6e",
   "metadata": {},
   "outputs": [
    {
     "name": "stdout",
     "output_type": "stream",
     "text": [
      "Input file size is 7201, 7201\n",
      "0...10...20...30...40...50...60...70...80...90...100 - done.\n"
     ]
    }
   ],
   "source": [
    "#gdal_translate -of <output_format> <input> <output>\n",
    "!gdal_translate -of GTiff srtm/merged.vrt srtm/merged.tif"
   ]
  },
  {
   "cell_type": "code",
   "execution_count": 30,
   "id": "353e297b-ddc9-4b71-818e-c98bbd861d79",
   "metadata": {},
   "outputs": [
    {
     "name": "stdout",
     "output_type": "stream",
     "text": [
      "-rw-r--r--  1 abharathi  staff    99M Nov 23 14:17 srtm/merged.tif\n"
     ]
    }
   ],
   "source": [
    "ls -lh srtm/merged.tif"
   ]
  },
  {
   "cell_type": "markdown",
   "id": "28f4d423-87c9-4168-b3af-6f1dfa1113a4",
   "metadata": {},
   "source": [
    "### Compressing output when using `gdal_translate`\n",
    "By default, there is no compression. Gdal supports several compression algorithms and can be specified using the `-co` arg. Some options include "
   ]
  },
  {
   "cell_type": "code",
   "execution_count": 33,
   "id": "c1254ce4-2d25-436d-9875-6657143d5697",
   "metadata": {},
   "outputs": [
    {
     "name": "stdout",
     "output_type": "stream",
     "text": [
      "Input file size is 7201, 7201\n",
      "0...10...20...30...40...50...60...70...80...90...100 - done.\n",
      "CPU times: user 31.2 ms, sys: 27.3 ms, total: 58.5 ms\n",
      "Wall time: 3.57 s\n"
     ]
    }
   ],
   "source": [
    "%%time\n",
    "!gdal_translate -of GTiff srtm/merged.vrt srtm/merged.tif -co COMPRESS=DEFLATE"
   ]
  },
  {
   "cell_type": "code",
   "execution_count": 34,
   "id": "f750fa29-183b-43f0-ab0e-33802dc65282",
   "metadata": {},
   "outputs": [
    {
     "name": "stdout",
     "output_type": "stream",
     "text": [
      "-rw-r--r--  1 abharathi  staff    72M Nov 23 14:35 srtm/merged.tif\n"
     ]
    }
   ],
   "source": [
    "ls -lh srtm/merged.tif"
   ]
  },
  {
   "cell_type": "markdown",
   "id": "968b4c64-0708-4555-bab4-c732171f1f0a",
   "metadata": {},
   "source": [
    "Now the filesize has dropped from `99Mb` to `72Mb`. About `28%` savings. Enhance compression even more by correlating values of neighboring cells (`PREDICTOR`) and by saving output in blocks (`TILED`)."
   ]
  },
  {
   "cell_type": "code",
   "execution_count": 35,
   "id": "4c3a8cd8-8b72-401f-ac9e-1e21649791d7",
   "metadata": {},
   "outputs": [
    {
     "name": "stdout",
     "output_type": "stream",
     "text": [
      "Input file size is 7201, 7201\n",
      "0...10...20...30...40...50...60...70...80...90...100 - done.\n",
      "CPU times: user 60.3 ms, sys: 39.3 ms, total: 99.7 ms\n",
      "Wall time: 10.4 s\n"
     ]
    }
   ],
   "source": [
    "%%time\n",
    "!gdal_translate -of GTiff srtm/merged.vrt srtm/merged.tif \\\n",
    "    -co COMPRESS=DEFLATE -co TILED=YES -co PREDICTOR=2"
   ]
  },
  {
   "cell_type": "code",
   "execution_count": 36,
   "id": "6df774aa-3ed3-4f2d-9e47-57c0bddbfb9a",
   "metadata": {},
   "outputs": [
    {
     "name": "stdout",
     "output_type": "stream",
     "text": [
      "-rw-r--r--  1 abharathi  staff    39M Nov 23 14:38 srtm/merged.tif\n"
     ]
    }
   ],
   "source": [
    "ls -lh srtm/merged.tif"
   ]
  },
  {
   "cell_type": "code",
   "execution_count": null,
   "id": "42bc3f6f-e0d8-48b7-94b2-a793b5b52391",
   "metadata": {},
   "outputs": [],
   "source": []
  }
 ],
 "metadata": {
  "kernelspec": {
   "display_name": "Python 3 (ipykernel)",
   "language": "python",
   "name": "python3"
  },
  "language_info": {
   "codemirror_mode": {
    "name": "ipython",
    "version": 3
   },
   "file_extension": ".py",
   "mimetype": "text/x-python",
   "name": "python",
   "nbconvert_exporter": "python",
   "pygments_lexer": "ipython3",
   "version": "3.9.12"
  },
  "widgets": {
   "application/vnd.jupyter.widget-state+json": {
    "state": {},
    "version_major": 2,
    "version_minor": 0
   }
  }
 },
 "nbformat": 4,
 "nbformat_minor": 5
}
