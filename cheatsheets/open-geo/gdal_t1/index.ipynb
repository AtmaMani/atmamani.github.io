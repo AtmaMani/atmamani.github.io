{
 "cells": [
  {
   "cell_type": "markdown",
   "id": "56f4ea99-77f8-4ae3-b979-4389e62a035a",
   "metadata": {},
   "source": [
    "# GDAL Day 1"
   ]
  },
  {
   "cell_type": "markdown",
   "id": "8e0100e3-a174-43f3-aee1-77545e8c9a60",
   "metadata": {
    "tags": []
   },
   "source": [
    "GDAL - Geospatial Data Abstration Library\n",
    "\n",
    "#### Set up\n",
    "Use - `opengeo` micromamba env. \n",
    "Move to `gdal-tools` folder."
   ]
  },
  {
   "cell_type": "code",
   "execution_count": 2,
   "id": "e711c620-e843-47b8-a82d-b86e5471de8d",
   "metadata": {},
   "outputs": [
    {
     "name": "stdout",
     "output_type": "stream",
     "text": [
      "/Users/abharathi/Documents/gis_data/gdal-tools\n"
     ]
    }
   ],
   "source": [
    "cd /Users/abharathi/Documents/gis_data/gdal-tools/"
   ]
  },
  {
   "cell_type": "code",
   "execution_count": 3,
   "id": "8ecdd33b-ed87-4bd1-9ded-689d3c0aa35a",
   "metadata": {},
   "outputs": [
    {
     "name": "stdout",
     "output_type": "stream",
     "text": [
      "\u001b[31m1870_southern-india.jpg\u001b[m\u001b[m* \u001b[1m\u001b[36mgeonames\u001b[m\u001b[m/                \u001b[1m\u001b[36mprism\u001b[m\u001b[m/\n",
      "\u001b[31mbatch.py\u001b[m\u001b[m*                \u001b[1m\u001b[36mlandsat8\u001b[m\u001b[m/                spatial_query.gpkg\n",
      "\u001b[31mbatch_parallel.py\u001b[m\u001b[m*       \u001b[1m\u001b[36mlondon_1m_dsm\u001b[m\u001b[m/           \u001b[1m\u001b[36msrtm\u001b[m\u001b[m/\n",
      "\u001b[31mearth_at_night.jpg\u001b[m\u001b[m*      \u001b[1m\u001b[36mnaip\u001b[m\u001b[m/                    \u001b[31mworldcities.csv\u001b[m\u001b[m*\n",
      "\u001b[1m\u001b[36mearthquakes\u001b[m\u001b[m/             precipitation.gpkg\n"
     ]
    }
   ],
   "source": [
    "ls"
   ]
  },
  {
   "cell_type": "markdown",
   "id": "277e2ce6-f845-445d-b3df-2828b66bf7cf",
   "metadata": {
    "tags": []
   },
   "source": [
    "## Intro"
   ]
  },
  {
   "cell_type": "markdown",
   "id": "492ae5d9-cc9d-41ca-bf67-e5fc899b9736",
   "metadata": {},
   "source": [
    "GDAL and OGR started as two different programs, hence have a different usage pattern or design.\n",
    "\n",
    "**Why use GDAL**\n",
    " - faster\n",
    " - smaller, fits headless, remote execution\n",
    " - FOSS\n",
    " - great for server-side execution\n",
    " - great for compression\n",
    " \n",
    " \n",
    "**Speed**\n",
    " - GDAL is fast. If we use Python to kick off GDAL as a CLI - it is still fast (`os.system`)\n",
    " - If we use Python bindings, they are much slower than using raw GDAL"
   ]
  },
  {
   "cell_type": "markdown",
   "id": "49a90268-7e93-4aef-b675-62654fb1567f",
   "metadata": {},
   "source": [
    "### Tools with GDAL\n",
    "\n",
    "We get 2 sets of tools - raster tools that come with GDAL and vector tools that come with OGR.\n",
    "\n",
    "3 Main tools\n",
    " - `gdalinfo` - quick metadata\n",
    " - `gdal_translate` - convert formats, apply compression\n",
    " - `gdalwarp` - resampling and reprojecting\n",
    " \n",
    "Other tools\n",
    " - `gdaladdo` - pyramid tiles for images for quicker GUI loading\n",
    " - `gdaltindex` - tile index will give overviews of tiles\n",
    " - `gdalbuiltvrt` - for creating virtual rasters\n",
    " - `gdaldem`, `gdalcounter` - elevation\n",
    " - `gdal_rasterize`, `gdal_poligonize` - for conversion to and from raster <--> vector\n",
    " - `gdal_grid` - interpolations\n",
    " - `nearblack` - work with edge artifacts in rasters\n",
    " \n",
    "Python bindings\n",
    " - `gdal_merge.py` - merge rasters\n",
    " - `gdal_calc.py` - raster algebra\n",
    " - `gdal_pansharpen.py` - for optical images\n",
    " - `gdal_retile.py` - tiling / chipping for deep learning\n",
    " \n",
    "OGR\n",
    " - `ogrinfo` - lists source and metadata\n",
    " - `ogr2ogr` - format conversion\n",
    " - `ogrmerge.py` - merge vector layers"
   ]
  },
  {
   "cell_type": "code",
   "execution_count": 5,
   "id": "a888825a-4fd6-4149-a727-39395b601e8c",
   "metadata": {},
   "outputs": [
    {
     "name": "stdout",
     "output_type": "stream",
     "text": [
      "/Users/abharathi/micromamba/envs/opengeo/bin/gdalinfo\n"
     ]
    }
   ],
   "source": [
    "!which gdalinfo"
   ]
  },
  {
   "cell_type": "code",
   "execution_count": 13,
   "id": "b69d0933-6d22-478f-b318-c5dd03570ba4",
   "metadata": {},
   "outputs": [
    {
     "name": "stdout",
     "output_type": "stream",
     "text": [
      "GDAL 3.6.2, released 2023/01/02\n"
     ]
    }
   ],
   "source": [
    "!gdalinfo --version"
   ]
  },
  {
   "cell_type": "code",
   "execution_count": 11,
   "id": "522216e5-e85a-4983-8aea-484bf5d1b489",
   "metadata": {},
   "outputs": [
    {
     "name": "stdout",
     "output_type": "stream",
     "text": [
      "\u001b[31m/Users/abharathi/micromamba/envs/opengeo/bin/ogr2ogr\u001b[m\u001b[m*\n",
      "\u001b[31m/Users/abharathi/micromamba/envs/opengeo/bin/ogr_layer_algebra.py\u001b[m\u001b[m*\n",
      "\u001b[31m/Users/abharathi/micromamba/envs/opengeo/bin/ogrinfo\u001b[m\u001b[m*\n",
      "\u001b[31m/Users/abharathi/micromamba/envs/opengeo/bin/ogrlineref\u001b[m\u001b[m*\n",
      "\u001b[31m/Users/abharathi/micromamba/envs/opengeo/bin/ogrmerge.py\u001b[m\u001b[m*\n",
      "\u001b[31m/Users/abharathi/micromamba/envs/opengeo/bin/ogrtindex\u001b[m\u001b[m*\n"
     ]
    }
   ],
   "source": [
    "ls /Users/abharathi/micromamba/envs/opengeo/bin/ogr*"
   ]
  },
  {
   "cell_type": "markdown",
   "id": "f9b09cba-b061-445d-94cc-bbbc4a7cc9df",
   "metadata": {},
   "source": [
    "# Exercises"
   ]
  },
  {
   "cell_type": "code",
   "execution_count": 15,
   "id": "7ca9068b-04af-47c2-9d16-63044eebdfed",
   "metadata": {
    "collapsed": true,
    "jupyter": {
     "outputs_hidden": true
    },
    "tags": []
   },
   "outputs": [
    {
     "name": "stdout",
     "output_type": "stream",
     "text": [
      "Supported Formats:\n",
      "  VRT -raster,multidimensional raster- (rw+v): Virtual Raster\n",
      "  DERIVED -raster- (ro): Derived datasets using VRT pixel functions\n",
      "  GTiff -raster- (rw+vs): GeoTIFF\n",
      "  COG -raster- (wv): Cloud optimized GeoTIFF generator\n",
      "  NITF -raster- (rw+vs): National Imagery Transmission Format\n",
      "  RPFTOC -raster- (rovs): Raster Product Format TOC format\n",
      "  ECRGTOC -raster- (rovs): ECRG TOC format\n",
      "  HFA -raster- (rw+v): Erdas Imagine Images (.img)\n",
      "  SAR_CEOS -raster- (rov): CEOS SAR Image\n",
      "  CEOS -raster- (rov): CEOS Image\n",
      "  JAXAPALSAR -raster- (rov): JAXA PALSAR Product Reader (Level 1.1/1.5)\n",
      "  GFF -raster- (rov): Ground-based SAR Applications Testbed File Format (.gff)\n",
      "  ELAS -raster- (rw+v): ELAS\n",
      "  ESRIC -raster- (rov): Esri Compact Cache\n",
      "  AIG -raster- (rov): Arc/Info Binary Grid\n",
      "  AAIGrid -raster- (rwv): Arc/Info ASCII Grid\n",
      "  GRASSASCIIGrid -raster- (rov): GRASS ASCII Grid\n",
      "  ISG -raster- (rov): International Service for the Geoid\n",
      "  SDTS -raster- (rov): SDTS Raster\n",
      "  DTED -raster- (rwv): DTED Elevation Raster\n",
      "  PNG -raster- (rwv): Portable Network Graphics\n",
      "  JPEG -raster- (rwv): JPEG JFIF\n",
      "  MEM -raster,multidimensional raster- (rw+): In Memory Raster\n",
      "  JDEM -raster- (rov): Japanese DEM (.mem)\n",
      "  GIF -raster- (rwv): Graphics Interchange Format (.gif)\n",
      "  BIGGIF -raster- (rov): Graphics Interchange Format (.gif)\n",
      "  ESAT -raster- (rov): Envisat Image Format\n",
      "  FITS -raster,vector- (rw+): Flexible Image Transport System\n",
      "  BSB -raster- (rov): Maptech BSB Nautical Charts\n",
      "  XPM -raster- (rwv): X11 PixMap Format\n",
      "  BMP -raster- (rw+v): MS Windows Device Independent Bitmap\n",
      "  DIMAP -raster- (rovs): SPOT DIMAP\n",
      "  AirSAR -raster- (rov): AirSAR Polarimetric Image\n",
      "  RS2 -raster- (rovs): RadarSat 2 XML Product\n",
      "  SAFE -raster- (rov): Sentinel-1 SAR SAFE Product\n",
      "  PCIDSK -raster,vector- (rw+v): PCIDSK Database File\n",
      "  PCRaster -raster- (rw+): PCRaster Raster File\n",
      "  ILWIS -raster- (rw+v): ILWIS Raster Map\n",
      "  SGI -raster- (rw+v): SGI Image File Format 1.0\n",
      "  SRTMHGT -raster- (rwv): SRTMHGT File Format\n",
      "  Leveller -raster- (rw+v): Leveller heightfield\n",
      "  Terragen -raster- (rw+v): Terragen heightfield\n",
      "  netCDF -raster,multidimensional raster,vector- (rw+s): Network Common Data Format\n",
      "  HDF4 -raster,multidimensional raster- (ros): Hierarchical Data Format Release 4\n",
      "  HDF4Image -raster- (rw+): HDF4 Dataset\n",
      "  ISIS3 -raster- (rw+v): USGS Astrogeology ISIS cube (Version 3)\n",
      "  ISIS2 -raster- (rw+v): USGS Astrogeology ISIS cube (Version 2)\n",
      "  PDS -raster- (rov): NASA Planetary Data System\n",
      "  PDS4 -raster,vector- (rw+vs): NASA Planetary Data System 4\n",
      "  VICAR -raster,vector- (rw+v): MIPL VICAR file\n",
      "  TIL -raster- (rov): EarthWatch .TIL\n",
      "  ERS -raster- (rw+v): ERMapper .ers Labelled\n",
      "  JP2OpenJPEG -raster,vector- (rwv): JPEG-2000 driver based on OpenJPEG library\n",
      "  L1B -raster- (rovs): NOAA Polar Orbiter Level 1b Data Set\n",
      "  FIT -raster- (rwv): FIT Image\n",
      "  GRIB -raster,multidimensional raster- (rwv): GRIdded Binary (.grb, .grb2)\n",
      "  RMF -raster- (rw+v): Raster Matrix Format\n",
      "  WCS -raster- (rovs): OGC Web Coverage Service\n",
      "  WMS -raster- (rwvs): OGC Web Map Service\n",
      "  MSGN -raster- (rov): EUMETSAT Archive native (.nat)\n",
      "  RST -raster- (rw+v): Idrisi Raster A.1\n",
      "  GSAG -raster- (rwv): Golden Software ASCII Grid (.grd)\n",
      "  GSBG -raster- (rw+v): Golden Software Binary Grid (.grd)\n",
      "  GS7BG -raster- (rw+v): Golden Software 7 Binary Grid (.grd)\n",
      "  COSAR -raster- (rov): COSAR Annotated Binary Matrix (TerraSAR-X)\n",
      "  TSX -raster- (rov): TerraSAR-X Product\n",
      "  COASP -raster- (ro): DRDC COASP SAR Processor Raster\n",
      "  R -raster- (rwv): R Object Data Store\n",
      "  MAP -raster- (rov): OziExplorer .MAP\n",
      "  KMLSUPEROVERLAY -raster- (rwv): Kml Super Overlay\n",
      "  WEBP -raster- (rwv): WEBP\n",
      "  PDF -raster,vector- (rw+vs): Geospatial PDF\n",
      "  Rasterlite -raster- (rwvs): Rasterlite\n",
      "  MBTiles -raster,vector- (rw+v): MBTiles\n",
      "  PLMOSAIC -raster- (ro): Planet Labs Mosaics API\n",
      "  CALS -raster- (rwv): CALS (Type 1)\n",
      "  WMTS -raster- (rwv): OGC Web Map Tile Service\n",
      "  SENTINEL2 -raster- (rovs): Sentinel 2\n",
      "  MRF -raster- (rw+v): Meta Raster Format\n",
      "  TileDB -raster- (rw+vs): TileDB\n",
      "  PNM -raster- (rw+v): Portable Pixmap Format (netpbm)\n",
      "  DOQ1 -raster- (rov): USGS DOQ (Old Style)\n",
      "  DOQ2 -raster- (rov): USGS DOQ (New Style)\n",
      "  PAux -raster- (rw+v): PCI .aux Labelled\n",
      "  MFF -raster- (rw+v): Vexcel MFF Raster\n",
      "  MFF2 -raster- (rw+): Vexcel MFF2 (HKV) Raster\n",
      "  GSC -raster- (rov): GSC Geogrid\n",
      "  FAST -raster- (rov): EOSAT FAST Format\n",
      "  BT -raster- (rw+v): VTP .bt (Binary Terrain) 1.3 Format\n",
      "  LAN -raster- (rw+v): Erdas .LAN/.GIS\n",
      "  CPG -raster- (rov): Convair PolGASP\n",
      "  NDF -raster- (rov): NLAPS Data Format\n",
      "  EIR -raster- (rov): Erdas Imagine Raw\n",
      "  DIPEx -raster- (rov): DIPEx\n",
      "  LCP -raster- (rwv): FARSITE v.4 Landscape File (.lcp)\n",
      "  GTX -raster- (rw+v): NOAA Vertical Datum .GTX\n",
      "  LOSLAS -raster- (rov): NADCON .los/.las Datum Grid Shift\n",
      "  NTv2 -raster- (rw+vs): NTv2 Datum Grid Shift\n",
      "  CTable2 -raster- (rw+v): CTable2 Datum Grid Shift\n",
      "  ACE2 -raster- (rov): ACE2\n",
      "  SNODAS -raster- (rov): Snow Data Assimilation System\n",
      "  KRO -raster- (rw+v): KOLOR Raw\n",
      "  ROI_PAC -raster- (rw+v): ROI_PAC raster\n",
      "  RRASTER -raster- (rw+v): R Raster\n",
      "  BYN -raster- (rw+v): Natural Resources Canada's Geoid\n",
      "  ARG -raster- (rwv): Azavea Raster Grid format\n",
      "  RIK -raster- (rov): Swedish Grid RIK (.rik)\n",
      "  USGSDEM -raster- (rwv): USGS Optional ASCII DEM (and CDED)\n",
      "  GXF -raster- (rov): GeoSoft Grid Exchange Format\n",
      "  KEA -raster- (rw+v): KEA Image Format (.kea)\n",
      "  BAG -raster,multidimensional raster,vector- (rw+v): Bathymetry Attributed Grid\n",
      "  HDF5 -raster,multidimensional raster- (rovs): Hierarchical Data Format Release 5\n",
      "  HDF5Image -raster- (rov): HDF5 Dataset\n",
      "  NWT_GRD -raster- (rw+v): Northwood Numeric Grid Format .grd/.tab\n",
      "  NWT_GRC -raster- (rov): Northwood Classified Grid Format .grc/.tab\n",
      "  ADRG -raster- (rw+vs): ARC Digitized Raster Graphics\n",
      "  SRP -raster- (rovs): Standard Raster Product (ASRP/USRP)\n",
      "  BLX -raster- (rwv): Magellan topo (.blx)\n",
      "  PostGISRaster -raster- (rws): PostGIS Raster driver\n",
      "  SAGA -raster- (rw+v): SAGA GIS Binary Grid (.sdat, .sg-grd-z)\n",
      "  XYZ -raster- (rwv): ASCII Gridded XYZ\n",
      "  HF2 -raster- (rwv): HF2/HFZ heightfield raster\n",
      "  OZI -raster- (rov): OziExplorer Image File\n",
      "  CTG -raster- (rov): USGS LULC Composite Theme Grid\n",
      "  ZMap -raster- (rwv): ZMap Plus Grid\n",
      "  NGSGEOID -raster- (rov): NOAA NGS Geoid Height Grids\n",
      "  IRIS -raster- (rov): IRIS data (.PPI, .CAPPi etc)\n",
      "  PRF -raster- (rov): Racurs PHOTOMOD PRF\n",
      "  EEDAI -raster- (ros): Earth Engine Data API Image\n",
      "  DAAS -raster- (ro): Airbus DS Intelligence Data As A Service driver\n",
      "  SIGDEM -raster- (rwv): Scaled Integer Gridded DEM .sigdem\n",
      "  TGA -raster- (rov): TGA/TARGA Image File Format\n",
      "  OGCAPI -raster,vector- (rov): OGCAPI\n",
      "  STACTA -raster- (rovs): Spatio-Temporal Asset Catalog Tiled Assets\n",
      "  STACIT -raster- (rovs): Spatio-Temporal Asset Catalog Items\n",
      "  GPKG -raster,vector- (rw+vs): GeoPackage\n",
      "  CAD -raster,vector- (rovs): AutoCAD Driver\n",
      "  PLSCENES -raster,vector- (ro): Planet Labs Scenes API\n",
      "  NGW -raster,vector- (rw+s): NextGIS Web\n",
      "  GenBin -raster- (rov): Generic Binary (.hdr Labelled)\n",
      "  ENVI -raster- (rw+v): ENVI .hdr Labelled\n",
      "  EHdr -raster- (rw+v): ESRI .hdr Labelled\n",
      "  ISCE -raster- (rw+v): ISCE raster\n",
      "  Zarr -raster,multidimensional raster- (rw+vs): Zarr\n",
      "  HTTP -raster,vector- (ro): HTTP Fetching Wrapper\n"
     ]
    }
   ],
   "source": [
    "# formats supported by gdal\n",
    "!gdalinfo --formats"
   ]
  },
  {
   "cell_type": "markdown",
   "id": "eb10c06a-9572-481a-9117-53a1ea72af0e",
   "metadata": {},
   "source": [
    "### Basic raster processing"
   ]
  },
  {
   "cell_type": "code",
   "execution_count": 17,
   "id": "925fb55a-9bc3-467b-b047-e9359f73b664",
   "metadata": {},
   "outputs": [
    {
     "name": "stdout",
     "output_type": "stream",
     "text": [
      "/Users/abharathi/Documents/gis_data/gdal-tools/srtm\n"
     ]
    }
   ],
   "source": [
    "cd srtm/"
   ]
  },
  {
   "cell_type": "code",
   "execution_count": 19,
   "id": "94b59933-edf0-4e73-aed4-bafdd7773eb9",
   "metadata": {},
   "outputs": [
    {
     "name": "stdout",
     "output_type": "stream",
     "text": [
      "total 202624\n",
      "-rw-r--r--@ 1 abharathi  staff    25M Sep  7  2020 N27E086.hgt\n",
      "-rw-r--r--@ 1 abharathi  staff    25M Sep  7  2020 N27E087.hgt\n",
      "-rw-r--r--@ 1 abharathi  staff    25M Sep  7  2020 N28E086.hgt\n",
      "-rw-r--r--@ 1 abharathi  staff    25M Sep  7  2020 N28E087.hgt\n"
     ]
    }
   ],
   "source": [
    "ls -lh"
   ]
  },
  {
   "cell_type": "code",
   "execution_count": 20,
   "id": "5a5690eb-3ecf-42b1-b2aa-458defe36e75",
   "metadata": {},
   "outputs": [
    {
     "name": "stdout",
     "output_type": "stream",
     "text": [
      "Driver: SRTMHGT/SRTMHGT File Format\n",
      "Files: N28E086.hgt\n",
      "Size is 3601, 3601\n",
      "Coordinate System is:\n",
      "GEOGCRS[\"WGS 84\",\n",
      "    DATUM[\"World Geodetic System 1984\",\n",
      "        ELLIPSOID[\"WGS 84\",6378137,298.257223563,\n",
      "            LENGTHUNIT[\"metre\",1]]],\n",
      "    PRIMEM[\"Greenwich\",0,\n",
      "        ANGLEUNIT[\"degree\",0.0174532925199433]],\n",
      "    CS[ellipsoidal,2],\n",
      "        AXIS[\"geodetic latitude (Lat)\",north,\n",
      "            ORDER[1],\n",
      "            ANGLEUNIT[\"degree\",0.0174532925199433]],\n",
      "        AXIS[\"geodetic longitude (Lon)\",east,\n",
      "            ORDER[2],\n",
      "            ANGLEUNIT[\"degree\",0.0174532925199433]],\n",
      "    ID[\"EPSG\",4326]]\n",
      "Data axis to CRS axis mapping: 2,1\n",
      "Origin = (85.999861111111116,29.000138888888888)\n",
      "Pixel Size = (0.000277777777778,-0.000277777777778)\n",
      "Metadata:\n",
      "  AREA_OR_POINT=Point\n",
      "Corner Coordinates:\n",
      "Upper Left  (  85.9998611,  29.0001389) ( 85d59'59.50\"E, 29d 0' 0.50\"N)\n",
      "Lower Left  (  85.9998611,  27.9998611) ( 85d59'59.50\"E, 27d59'59.50\"N)\n",
      "Upper Right (  87.0001389,  29.0001389) ( 87d 0' 0.50\"E, 29d 0' 0.50\"N)\n",
      "Lower Right (  87.0001389,  27.9998611) ( 87d 0' 0.50\"E, 27d59'59.50\"N)\n",
      "Center      (  86.5000000,  28.5000000) ( 86d30' 0.00\"E, 28d30' 0.00\"N)\n",
      "Band 1 Block=3601x1 Type=Int16, ColorInterp=Undefined\n",
      "  NoData Value=-32768\n",
      "  Unit Type: m\n"
     ]
    }
   ],
   "source": [
    "!gdalinfo N28E086.hgt"
   ]
  },
  {
   "cell_type": "code",
   "execution_count": 25,
   "id": "f5bd531e-264b-43a3-ab61-5eb6165f5caa",
   "metadata": {},
   "outputs": [
    {
     "name": "stdout",
     "output_type": "stream",
     "text": [
      "Driver: SRTMHGT/SRTMHGT File Format\n",
      "Files: N28E086.hgt\n",
      "       N28E086.hgt.aux.xml\n",
      "Size is 3601, 3601\n",
      "Coordinate System is:\n",
      "GEOGCRS[\"WGS 84\",\n",
      "    DATUM[\"World Geodetic System 1984\",\n",
      "        ELLIPSOID[\"WGS 84\",6378137,298.257223563,\n",
      "            LENGTHUNIT[\"metre\",1]]],\n",
      "    PRIMEM[\"Greenwich\",0,\n",
      "        ANGLEUNIT[\"degree\",0.0174532925199433]],\n",
      "    CS[ellipsoidal,2],\n",
      "        AXIS[\"geodetic latitude (Lat)\",north,\n",
      "            ORDER[1],\n",
      "            ANGLEUNIT[\"degree\",0.0174532925199433]],\n",
      "        AXIS[\"geodetic longitude (Lon)\",east,\n",
      "            ORDER[2],\n",
      "            ANGLEUNIT[\"degree\",0.0174532925199433]],\n",
      "    ID[\"EPSG\",4326]]\n",
      "Data axis to CRS axis mapping: 2,1\n",
      "Origin = (85.999861111111116,29.000138888888888)\n",
      "Pixel Size = (0.000277777777778,-0.000277777777778)\n",
      "Metadata:\n",
      "  AREA_OR_POINT=Point\n",
      "Corner Coordinates:\n",
      "Upper Left  (  85.9998611,  29.0001389) ( 85d59'59.50\"E, 29d 0' 0.50\"N)\n",
      "Lower Left  (  85.9998611,  27.9998611) ( 85d59'59.50\"E, 27d59'59.50\"N)\n",
      "Upper Right (  87.0001389,  29.0001389) ( 87d 0' 0.50\"E, 29d 0' 0.50\"N)\n",
      "Lower Right (  87.0001389,  27.9998611) ( 87d 0' 0.50\"E, 27d59'59.50\"N)\n",
      "Center      (  86.5000000,  28.5000000) ( 86d30' 0.00\"E, 28d30' 0.00\"N)\n",
      "Band 1 Block=3601x1 Type=Int16, ColorInterp=Undefined\n",
      "  Min=2535.000 Max=8275.000 \n",
      "  Minimum=2535.000, Maximum=8275.000, Mean=5067.325, StdDev=545.184\n",
      "  256 buckets from 2523.75 to 8286.25:\n",
      "  7 11 6 4 11 46 36 48 45 42 94 143 242 298 395 482 496 466 429 435 506 491 638 659 734 758 843 861 920 1014 1152 1228 1155 1346 1392 1670 1641 1890 1869 1964 1975 2201 2333 2765 2763 2959 2951 3295 3200 3673 3604 3937 3987 4476 4344 4862 4650 5086 5042 5889 5871 6668 6716 7342 7326 7837 8373 9414 9173 9968 10277 12213 11758 13969 15494 17512 19362 19328 57636 128726 140793 208505 241340 179825 185147 168703 163827 153862 162822 161140 173363 170846 180251 175639 188740 179526 186968 184531 196035 193185 206067 199861 211957 200760 212829 206817 220143 209265 222936 216445 229534 229816 238752 226566 234329 213829 218165 207523 217529 210291 219284 203776 206762 188260 198659 187907 184265 175861 162441 162943 150038 146503 129777 126385 111852 106263 94471 92537 81691 80049 71584 69721 62924 62460 56267 56311 51676 51844 46486 46417 42682 42311 39751 40405 37214 37815 35293 35475 33431 34307 32683 33092 30774 30803 28106 28282 25729 26323 24228 23774 22093 21084 18592 18101 16228 16004 14372 13961 12660 11036 10310 8965 8688 7677 7532 7126 6839 6015 5821 5071 4685 4092 3778 3257 3316 3134 2933 2527 2506 2178 2151 1975 1926 1736 1651 1552 1409 1222 1216 1070 1095 903 854 841 796 763 802 752 729 659 663 649 703 653 633 594 563 516 576 567 461 433 419 405 314 331 288 249 182 201 179 145 119 119 107 144 125 100 79 92 49 23 21 15 19 6 \n",
      "  NoData Value=-32768\n",
      "  Unit Type: m\n",
      "  Metadata:\n",
      "    STATISTICS_MAXIMUM=8275\n",
      "    STATISTICS_MEAN=5067.3254290577\n",
      "    STATISTICS_MINIMUM=2535\n",
      "    STATISTICS_STDDEV=545.18375677872\n",
      "    STATISTICS_VALID_PERCENT=100\n"
     ]
    }
   ],
   "source": [
    "# Can chain command options\n",
    "!gdalinfo -hist N28E086.hgt"
   ]
  },
  {
   "cell_type": "markdown",
   "id": "6c14ff35-2f2a-409f-9203-d9a3a761a169",
   "metadata": {},
   "source": [
    "### Making virtual rasters\n",
    "Helps save space. A `.vrt` file is a pointer to the source files and acts like a container."
   ]
  },
  {
   "cell_type": "code",
   "execution_count": 27,
   "id": "8afa7d1f-f213-4f00-a739-5de3859ec680",
   "metadata": {},
   "outputs": [],
   "source": [
    "ls *.hgt > srtm_filelist.txt"
   ]
  },
  {
   "cell_type": "code",
   "execution_count": 28,
   "id": "9a3aed5c-7cb8-452f-8789-ff5994b3cf0a",
   "metadata": {},
   "outputs": [
    {
     "name": "stdout",
     "output_type": "stream",
     "text": [
      "N27E086.hgt\n",
      "N27E087.hgt\n",
      "N28E086.hgt\n",
      "N28E087.hgt\n"
     ]
    }
   ],
   "source": [
    "cat srtm_filelist.txt"
   ]
  },
  {
   "cell_type": "code",
   "execution_count": 29,
   "id": "01388903-47b0-443a-9f32-5c614e316451",
   "metadata": {},
   "outputs": [
    {
     "name": "stdout",
     "output_type": "stream",
     "text": [
      "0...10...20...30...40...50...60...70...80...90...100 - done.\n"
     ]
    }
   ],
   "source": [
    "!gdalbuildvrt -input_file_list srtm_filelist.txt merged.vrt"
   ]
  },
  {
   "cell_type": "code",
   "execution_count": 30,
   "id": "d9439a06-4d22-4f3f-ab33-c5be45156fa3",
   "metadata": {},
   "outputs": [
    {
     "name": "stdout",
     "output_type": "stream",
     "text": [
      "<VRTDataset rasterXSize=\"7201\" rasterYSize=\"7201\">\n",
      "  <SRS dataAxisToSRSAxisMapping=\"2,1\">GEOGCS[\"WGS 84\",DATUM[\"WGS_1984\",SPHEROID[\"WGS 84\",6378137,298.257223563,AUTHORITY[\"EPSG\",\"7030\"]],AUTHORITY[\"EPSG\",\"6326\"]],PRIMEM[\"Greenwich\",0,AUTHORITY[\"EPSG\",\"8901\"]],UNIT[\"degree\",0.0174532925199433,AUTHORITY[\"EPSG\",\"9122\"]],AXIS[\"Latitude\",NORTH],AXIS[\"Longitude\",EAST],AUTHORITY[\"EPSG\",\"4326\"]]</SRS>\n",
      "  <GeoTransform>  8.5999861111111116e+01,  2.7777777777777778e-04,  0.0000000000000000e+00,  2.9000138888888888e+01,  0.0000000000000000e+00, -2.7777777777777778e-04</GeoTransform>\n",
      "  <VRTRasterBand dataType=\"Int16\" band=\"1\">\n",
      "    <NoDataValue>-32768</NoDataValue>\n",
      "    <ComplexSource>\n",
      "      <SourceFilename relativeToVRT=\"1\">N27E086.hgt</SourceFilename>\n",
      "      <SourceBand>1</SourceBand>\n",
      "      <SourceProperties RasterXSize=\"3601\" RasterYSize=\"3601\" DataType=\"Int16\" BlockXSize=\"3601\" BlockYSize=\"1\" />\n",
      "      <SrcRect xOff=\"0\" yOff=\"0\" xSize=\"3601\" ySize=\"3601\" />\n",
      "      <DstRect xOff=\"0\" yOff=\"3600\" xSize=\"3601\" ySize=\"3601\" />\n",
      "      <NODATA>-32768</NODATA>\n",
      "    </ComplexSource>\n",
      "    <ComplexSource>\n",
      "      <SourceFilename relativeToVRT=\"1\">N27E087.hgt</SourceFilename>\n",
      "      <SourceBand>1</SourceBand>\n",
      "      <SourceProperties RasterXSize=\"3601\" RasterYSize=\"3601\" DataType=\"Int16\" BlockXSize=\"3601\" BlockYSize=\"1\" />\n",
      "      <SrcRect xOff=\"0\" yOff=\"0\" xSize=\"3601\" ySize=\"3601\" />\n",
      "      <DstRect xOff=\"3600\" yOff=\"3600\" xSize=\"3601\" ySize=\"3601\" />\n",
      "      <NODATA>-32768</NODATA>\n",
      "    </ComplexSource>\n",
      "    <ComplexSource>\n",
      "      <SourceFilename relativeToVRT=\"1\">N28E086.hgt</SourceFilename>\n",
      "      <SourceBand>1</SourceBand>\n",
      "      <SourceProperties RasterXSize=\"3601\" RasterYSize=\"3601\" DataType=\"Int16\" BlockXSize=\"3601\" BlockYSize=\"1\" />\n",
      "      <SrcRect xOff=\"0\" yOff=\"0\" xSize=\"3601\" ySize=\"3601\" />\n",
      "      <DstRect xOff=\"0\" yOff=\"0\" xSize=\"3601\" ySize=\"3601\" />\n",
      "      <NODATA>-32768</NODATA>\n",
      "    </ComplexSource>\n",
      "    <ComplexSource>\n",
      "      <SourceFilename relativeToVRT=\"1\">N28E087.hgt</SourceFilename>\n",
      "      <SourceBand>1</SourceBand>\n",
      "      <SourceProperties RasterXSize=\"3601\" RasterYSize=\"3601\" DataType=\"Int16\" BlockXSize=\"3601\" BlockYSize=\"1\" />\n",
      "      <SrcRect xOff=\"0\" yOff=\"0\" xSize=\"3601\" ySize=\"3601\" />\n",
      "      <DstRect xOff=\"3600\" yOff=\"0\" xSize=\"3601\" ySize=\"3601\" />\n",
      "      <NODATA>-32768</NODATA>\n",
      "    </ComplexSource>\n",
      "  </VRTRasterBand>\n",
      "</VRTDataset>\n"
     ]
    }
   ],
   "source": [
    "cat merged.vrt"
   ]
  },
  {
   "cell_type": "code",
   "execution_count": 31,
   "id": "e323298e-0d44-4496-95cd-345eaaeb4fb4",
   "metadata": {},
   "outputs": [
    {
     "name": "stdout",
     "output_type": "stream",
     "text": [
      "Driver: VRT/Virtual Raster\n",
      "Files: merged.vrt\n",
      "       N27E086.hgt\n",
      "       N27E087.hgt\n",
      "       N28E086.hgt\n",
      "       N28E087.hgt\n",
      "Size is 7201, 7201\n",
      "Coordinate System is:\n",
      "GEOGCRS[\"WGS 84\",\n",
      "    DATUM[\"World Geodetic System 1984\",\n",
      "        ELLIPSOID[\"WGS 84\",6378137,298.257223563,\n",
      "            LENGTHUNIT[\"metre\",1]]],\n",
      "    PRIMEM[\"Greenwich\",0,\n",
      "        ANGLEUNIT[\"degree\",0.0174532925199433]],\n",
      "    CS[ellipsoidal,2],\n",
      "        AXIS[\"geodetic latitude (Lat)\",north,\n",
      "            ORDER[1],\n",
      "            ANGLEUNIT[\"degree\",0.0174532925199433]],\n",
      "        AXIS[\"geodetic longitude (Lon)\",east,\n",
      "            ORDER[2],\n",
      "            ANGLEUNIT[\"degree\",0.0174532925199433]],\n",
      "    ID[\"EPSG\",4326]]\n",
      "Data axis to CRS axis mapping: 2,1\n",
      "Origin = (85.999861111111116,29.000138888888888)\n",
      "Pixel Size = (0.000277777777778,-0.000277777777778)\n",
      "Corner Coordinates:\n",
      "Upper Left  (  85.9998611,  29.0001389) ( 85d59'59.50\"E, 29d 0' 0.50\"N)\n",
      "Lower Left  (  85.9998611,  26.9998611) ( 85d59'59.50\"E, 26d59'59.50\"N)\n",
      "Upper Right (  88.0001389,  29.0001389) ( 88d 0' 0.50\"E, 29d 0' 0.50\"N)\n",
      "Lower Right (  88.0001389,  26.9998611) ( 88d 0' 0.50\"E, 26d59'59.50\"N)\n",
      "Center      (  87.0000000,  28.0000000) ( 87d 0' 0.00\"E, 28d 0' 0.00\"N)\n",
      "Band 1 Block=128x128 Type=Int16, ColorInterp=Undefined\n",
      "  Minimum=176.000, Maximum=8748.000, Mean=3840.966, StdDev=1649.758\n",
      "  NoData Value=-32768\n",
      "  Metadata:\n",
      "    STATISTICS_MAXIMUM=8748\n",
      "    STATISTICS_MEAN=3840.9655621886\n",
      "    STATISTICS_MINIMUM=176\n",
      "    STATISTICS_STDDEV=1649.7576436136\n",
      "    STATISTICS_VALID_PERCENT=100\n"
     ]
    }
   ],
   "source": [
    "!gdalinfo -stats merged.vrt"
   ]
  },
  {
   "cell_type": "code",
   "execution_count": 33,
   "id": "14e10673-6657-46e1-8b1f-813d96fd5de9",
   "metadata": {},
   "outputs": [
    {
     "name": "stdout",
     "output_type": "stream",
     "text": [
      "CPU times: user 2 µs, sys: 1e+03 ns, total: 3 µs\n",
      "Wall time: 9.06 µs\n",
      "\u001b[0;39m8748\u001b[0m\n"
     ]
    }
   ],
   "source": [
    "# Get maximum of the merged rasters\n",
    "%time\n",
    "!gdalinfo -stats -json merged.vrt | jq \".bands[0].maximum\""
   ]
  },
  {
   "cell_type": "markdown",
   "id": "07dbceaa-c92b-4c56-aeaf-2de6785b3038",
   "metadata": {},
   "source": [
    "### Converting formats - `gdal_translate`"
   ]
  },
  {
   "cell_type": "code",
   "execution_count": 34,
   "id": "008c8875-bb3b-4d7c-b232-3244ff0b3ad4",
   "metadata": {
    "collapsed": true,
    "jupyter": {
     "outputs_hidden": true
    },
    "tags": []
   },
   "outputs": [
    {
     "name": "stdout",
     "output_type": "stream",
     "text": [
      "Supported Formats:\n",
      "  VRT -raster,multidimensional raster- (rw+v): Virtual Raster\n",
      "  DERIVED -raster- (ro): Derived datasets using VRT pixel functions\n",
      "  GTiff -raster- (rw+vs): GeoTIFF\n",
      "  COG -raster- (wv): Cloud optimized GeoTIFF generator\n",
      "  NITF -raster- (rw+vs): National Imagery Transmission Format\n",
      "  RPFTOC -raster- (rovs): Raster Product Format TOC format\n",
      "  ECRGTOC -raster- (rovs): ECRG TOC format\n",
      "  HFA -raster- (rw+v): Erdas Imagine Images (.img)\n",
      "  SAR_CEOS -raster- (rov): CEOS SAR Image\n",
      "  CEOS -raster- (rov): CEOS Image\n",
      "  JAXAPALSAR -raster- (rov): JAXA PALSAR Product Reader (Level 1.1/1.5)\n",
      "  GFF -raster- (rov): Ground-based SAR Applications Testbed File Format (.gff)\n",
      "  ELAS -raster- (rw+v): ELAS\n",
      "  ESRIC -raster- (rov): Esri Compact Cache\n",
      "  AIG -raster- (rov): Arc/Info Binary Grid\n",
      "  AAIGrid -raster- (rwv): Arc/Info ASCII Grid\n",
      "  GRASSASCIIGrid -raster- (rov): GRASS ASCII Grid\n",
      "  ISG -raster- (rov): International Service for the Geoid\n",
      "  SDTS -raster- (rov): SDTS Raster\n",
      "  DTED -raster- (rwv): DTED Elevation Raster\n",
      "  PNG -raster- (rwv): Portable Network Graphics\n",
      "  JPEG -raster- (rwv): JPEG JFIF\n",
      "  MEM -raster,multidimensional raster- (rw+): In Memory Raster\n",
      "  JDEM -raster- (rov): Japanese DEM (.mem)\n",
      "  GIF -raster- (rwv): Graphics Interchange Format (.gif)\n",
      "  BIGGIF -raster- (rov): Graphics Interchange Format (.gif)\n",
      "  ESAT -raster- (rov): Envisat Image Format\n",
      "  FITS -raster,vector- (rw+): Flexible Image Transport System\n",
      "  BSB -raster- (rov): Maptech BSB Nautical Charts\n",
      "  XPM -raster- (rwv): X11 PixMap Format\n",
      "  BMP -raster- (rw+v): MS Windows Device Independent Bitmap\n",
      "  DIMAP -raster- (rovs): SPOT DIMAP\n",
      "  AirSAR -raster- (rov): AirSAR Polarimetric Image\n",
      "  RS2 -raster- (rovs): RadarSat 2 XML Product\n",
      "  SAFE -raster- (rov): Sentinel-1 SAR SAFE Product\n",
      "  PCIDSK -raster,vector- (rw+v): PCIDSK Database File\n",
      "  PCRaster -raster- (rw+): PCRaster Raster File\n",
      "  ILWIS -raster- (rw+v): ILWIS Raster Map\n",
      "  SGI -raster- (rw+v): SGI Image File Format 1.0\n",
      "  SRTMHGT -raster- (rwv): SRTMHGT File Format\n",
      "  Leveller -raster- (rw+v): Leveller heightfield\n",
      "  Terragen -raster- (rw+v): Terragen heightfield\n",
      "  netCDF -raster,multidimensional raster,vector- (rw+s): Network Common Data Format\n",
      "  HDF4 -raster,multidimensional raster- (ros): Hierarchical Data Format Release 4\n",
      "  HDF4Image -raster- (rw+): HDF4 Dataset\n",
      "  ISIS3 -raster- (rw+v): USGS Astrogeology ISIS cube (Version 3)\n",
      "  ISIS2 -raster- (rw+v): USGS Astrogeology ISIS cube (Version 2)\n",
      "  PDS -raster- (rov): NASA Planetary Data System\n",
      "  PDS4 -raster,vector- (rw+vs): NASA Planetary Data System 4\n",
      "  VICAR -raster,vector- (rw+v): MIPL VICAR file\n",
      "  TIL -raster- (rov): EarthWatch .TIL\n",
      "  ERS -raster- (rw+v): ERMapper .ers Labelled\n",
      "  JP2OpenJPEG -raster,vector- (rwv): JPEG-2000 driver based on OpenJPEG library\n",
      "  L1B -raster- (rovs): NOAA Polar Orbiter Level 1b Data Set\n",
      "  FIT -raster- (rwv): FIT Image\n",
      "  GRIB -raster,multidimensional raster- (rwv): GRIdded Binary (.grb, .grb2)\n",
      "  RMF -raster- (rw+v): Raster Matrix Format\n",
      "  WCS -raster- (rovs): OGC Web Coverage Service\n",
      "  WMS -raster- (rwvs): OGC Web Map Service\n",
      "  MSGN -raster- (rov): EUMETSAT Archive native (.nat)\n",
      "  RST -raster- (rw+v): Idrisi Raster A.1\n",
      "  GSAG -raster- (rwv): Golden Software ASCII Grid (.grd)\n",
      "  GSBG -raster- (rw+v): Golden Software Binary Grid (.grd)\n",
      "  GS7BG -raster- (rw+v): Golden Software 7 Binary Grid (.grd)\n",
      "  COSAR -raster- (rov): COSAR Annotated Binary Matrix (TerraSAR-X)\n",
      "  TSX -raster- (rov): TerraSAR-X Product\n",
      "  COASP -raster- (ro): DRDC COASP SAR Processor Raster\n",
      "  R -raster- (rwv): R Object Data Store\n",
      "  MAP -raster- (rov): OziExplorer .MAP\n",
      "  KMLSUPEROVERLAY -raster- (rwv): Kml Super Overlay\n",
      "  WEBP -raster- (rwv): WEBP\n",
      "  PDF -raster,vector- (rw+vs): Geospatial PDF\n",
      "  Rasterlite -raster- (rwvs): Rasterlite\n",
      "  MBTiles -raster,vector- (rw+v): MBTiles\n",
      "  PLMOSAIC -raster- (ro): Planet Labs Mosaics API\n",
      "  CALS -raster- (rwv): CALS (Type 1)\n",
      "  WMTS -raster- (rwv): OGC Web Map Tile Service\n",
      "  SENTINEL2 -raster- (rovs): Sentinel 2\n",
      "  MRF -raster- (rw+v): Meta Raster Format\n",
      "  TileDB -raster- (rw+vs): TileDB\n",
      "  PNM -raster- (rw+v): Portable Pixmap Format (netpbm)\n",
      "  DOQ1 -raster- (rov): USGS DOQ (Old Style)\n",
      "  DOQ2 -raster- (rov): USGS DOQ (New Style)\n",
      "  PAux -raster- (rw+v): PCI .aux Labelled\n",
      "  MFF -raster- (rw+v): Vexcel MFF Raster\n",
      "  MFF2 -raster- (rw+): Vexcel MFF2 (HKV) Raster\n",
      "  GSC -raster- (rov): GSC Geogrid\n",
      "  FAST -raster- (rov): EOSAT FAST Format\n",
      "  BT -raster- (rw+v): VTP .bt (Binary Terrain) 1.3 Format\n",
      "  LAN -raster- (rw+v): Erdas .LAN/.GIS\n",
      "  CPG -raster- (rov): Convair PolGASP\n",
      "  NDF -raster- (rov): NLAPS Data Format\n",
      "  EIR -raster- (rov): Erdas Imagine Raw\n",
      "  DIPEx -raster- (rov): DIPEx\n",
      "  LCP -raster- (rwv): FARSITE v.4 Landscape File (.lcp)\n",
      "  GTX -raster- (rw+v): NOAA Vertical Datum .GTX\n",
      "  LOSLAS -raster- (rov): NADCON .los/.las Datum Grid Shift\n",
      "  NTv2 -raster- (rw+vs): NTv2 Datum Grid Shift\n",
      "  CTable2 -raster- (rw+v): CTable2 Datum Grid Shift\n",
      "  ACE2 -raster- (rov): ACE2\n",
      "  SNODAS -raster- (rov): Snow Data Assimilation System\n",
      "  KRO -raster- (rw+v): KOLOR Raw\n",
      "  ROI_PAC -raster- (rw+v): ROI_PAC raster\n",
      "  RRASTER -raster- (rw+v): R Raster\n",
      "  BYN -raster- (rw+v): Natural Resources Canada's Geoid\n",
      "  ARG -raster- (rwv): Azavea Raster Grid format\n",
      "  RIK -raster- (rov): Swedish Grid RIK (.rik)\n",
      "  USGSDEM -raster- (rwv): USGS Optional ASCII DEM (and CDED)\n",
      "  GXF -raster- (rov): GeoSoft Grid Exchange Format\n",
      "  KEA -raster- (rw+v): KEA Image Format (.kea)\n",
      "  BAG -raster,multidimensional raster,vector- (rw+v): Bathymetry Attributed Grid\n",
      "  HDF5 -raster,multidimensional raster- (rovs): Hierarchical Data Format Release 5\n",
      "  HDF5Image -raster- (rov): HDF5 Dataset\n",
      "  NWT_GRD -raster- (rw+v): Northwood Numeric Grid Format .grd/.tab\n",
      "  NWT_GRC -raster- (rov): Northwood Classified Grid Format .grc/.tab\n",
      "  ADRG -raster- (rw+vs): ARC Digitized Raster Graphics\n",
      "  SRP -raster- (rovs): Standard Raster Product (ASRP/USRP)\n",
      "  BLX -raster- (rwv): Magellan topo (.blx)\n",
      "  PostGISRaster -raster- (rws): PostGIS Raster driver\n",
      "  SAGA -raster- (rw+v): SAGA GIS Binary Grid (.sdat, .sg-grd-z)\n",
      "  XYZ -raster- (rwv): ASCII Gridded XYZ\n",
      "  HF2 -raster- (rwv): HF2/HFZ heightfield raster\n",
      "  OZI -raster- (rov): OziExplorer Image File\n",
      "  CTG -raster- (rov): USGS LULC Composite Theme Grid\n",
      "  ZMap -raster- (rwv): ZMap Plus Grid\n",
      "  NGSGEOID -raster- (rov): NOAA NGS Geoid Height Grids\n",
      "  IRIS -raster- (rov): IRIS data (.PPI, .CAPPi etc)\n",
      "  PRF -raster- (rov): Racurs PHOTOMOD PRF\n",
      "  EEDAI -raster- (ros): Earth Engine Data API Image\n",
      "  DAAS -raster- (ro): Airbus DS Intelligence Data As A Service driver\n",
      "  SIGDEM -raster- (rwv): Scaled Integer Gridded DEM .sigdem\n",
      "  TGA -raster- (rov): TGA/TARGA Image File Format\n",
      "  OGCAPI -raster,vector- (rov): OGCAPI\n",
      "  STACTA -raster- (rovs): Spatio-Temporal Asset Catalog Tiled Assets\n",
      "  STACIT -raster- (rovs): Spatio-Temporal Asset Catalog Items\n",
      "  GPKG -raster,vector- (rw+vs): GeoPackage\n",
      "  CAD -raster,vector- (rovs): AutoCAD Driver\n",
      "  PLSCENES -raster,vector- (ro): Planet Labs Scenes API\n",
      "  NGW -raster,vector- (rw+s): NextGIS Web\n",
      "  GenBin -raster- (rov): Generic Binary (.hdr Labelled)\n",
      "  ENVI -raster- (rw+v): ENVI .hdr Labelled\n",
      "  EHdr -raster- (rw+v): ESRI .hdr Labelled\n",
      "  ISCE -raster- (rw+v): ISCE raster\n",
      "  Zarr -raster,multidimensional raster- (rw+vs): Zarr\n",
      "  HTTP -raster,vector- (ro): HTTP Fetching Wrapper\n"
     ]
    }
   ],
   "source": [
    "!gdal_translate --formats"
   ]
  },
  {
   "cell_type": "code",
   "execution_count": 35,
   "id": "df1d9aa6-0b29-4385-bd15-87059634f725",
   "metadata": {
    "tags": []
   },
   "outputs": [
    {
     "name": "stdout",
     "output_type": "stream",
     "text": [
      "CPU times: user 3 µs, sys: 1e+03 ns, total: 4 µs\n",
      "Wall time: 7.87 µs\n",
      "Input file size is 7201, 7201\n",
      "0...10...20...30...40...50...60...70...80...90...100 - done.\n"
     ]
    }
   ],
   "source": [
    "%time\n",
    "# gdal will guess the output format\n",
    "!gdal_translate merged.vrt merged.tif"
   ]
  },
  {
   "cell_type": "code",
   "execution_count": 36,
   "id": "991759bd-8c3e-43c5-8a8a-aef3a7cc1842",
   "metadata": {},
   "outputs": [
    {
     "name": "stdout",
     "output_type": "stream",
     "text": [
      "-rw-r--r--  1 abharathi  staff    99M Apr 25 07:15 merged.tif\n",
      "-rw-r--r--  1 abharathi  staff   2.6K Apr 25 06:58 merged.vrt\n"
     ]
    }
   ],
   "source": [
    "ls -lh merged*"
   ]
  },
  {
   "cell_type": "code",
   "execution_count": 37,
   "id": "a2cc8b45-6c8a-45d8-8ac5-c0d49bdcad63",
   "metadata": {},
   "outputs": [
    {
     "name": "stdout",
     "output_type": "stream",
     "text": [
      "CPU times: user 2 µs, sys: 1e+03 ns, total: 3 µs\n",
      "Wall time: 11 µs\n",
      "ERROR 1: Cannot guess driver for merged.zarr\n",
      "Output driver not found.\n"
     ]
    }
   ],
   "source": [
    "%time\n",
    "# gdal will guess the output format\n",
    "!gdal_translate merged.vrt merged.zarr"
   ]
  },
  {
   "cell_type": "code",
   "execution_count": 38,
   "id": "5c11ded1-efd2-4d22-8e8e-237f93a5d802",
   "metadata": {
    "collapsed": true,
    "jupyter": {
     "outputs_hidden": true
    },
    "tags": []
   },
   "outputs": [
    {
     "name": "stdout",
     "output_type": "stream",
     "text": [
      "Driver: GTiff/GeoTIFF\n",
      "Files: merged.tif\n",
      "Size is 7201, 7201\n",
      "Coordinate System is:\n",
      "GEOGCRS[\"WGS 84\",\n",
      "    ENSEMBLE[\"World Geodetic System 1984 ensemble\",\n",
      "        MEMBER[\"World Geodetic System 1984 (Transit)\"],\n",
      "        MEMBER[\"World Geodetic System 1984 (G730)\"],\n",
      "        MEMBER[\"World Geodetic System 1984 (G873)\"],\n",
      "        MEMBER[\"World Geodetic System 1984 (G1150)\"],\n",
      "        MEMBER[\"World Geodetic System 1984 (G1674)\"],\n",
      "        MEMBER[\"World Geodetic System 1984 (G1762)\"],\n",
      "        MEMBER[\"World Geodetic System 1984 (G2139)\"],\n",
      "        ELLIPSOID[\"WGS 84\",6378137,298.257223563,\n",
      "            LENGTHUNIT[\"metre\",1]],\n",
      "        ENSEMBLEACCURACY[2.0]],\n",
      "    PRIMEM[\"Greenwich\",0,\n",
      "        ANGLEUNIT[\"degree\",0.0174532925199433]],\n",
      "    CS[ellipsoidal,2],\n",
      "        AXIS[\"geodetic latitude (Lat)\",north,\n",
      "            ORDER[1],\n",
      "            ANGLEUNIT[\"degree\",0.0174532925199433]],\n",
      "        AXIS[\"geodetic longitude (Lon)\",east,\n",
      "            ORDER[2],\n",
      "            ANGLEUNIT[\"degree\",0.0174532925199433]],\n",
      "    USAGE[\n",
      "        SCOPE[\"Horizontal component of 3D system.\"],\n",
      "        AREA[\"World.\"],\n",
      "        BBOX[-90,-180,90,180]],\n",
      "    ID[\"EPSG\",4326]]\n",
      "Data axis to CRS axis mapping: 2,1\n",
      "Origin = (85.999861111111116,29.000138888888888)\n",
      "Pixel Size = (0.000277777777778,-0.000277777777778)\n",
      "Metadata:\n",
      "  AREA_OR_POINT=Area\n",
      "Image Structure Metadata:\n",
      "  INTERLEAVE=BAND\n",
      "Corner Coordinates:\n",
      "Upper Left  (  85.9998611,  29.0001389) ( 85d59'59.50\"E, 29d 0' 0.50\"N)\n",
      "Lower Left  (  85.9998611,  26.9998611) ( 85d59'59.50\"E, 26d59'59.50\"N)\n",
      "Upper Right (  88.0001389,  29.0001389) ( 88d 0' 0.50\"E, 29d 0' 0.50\"N)\n",
      "Lower Right (  88.0001389,  26.9998611) ( 88d 0' 0.50\"E, 26d59'59.50\"N)\n",
      "Center      (  87.0000000,  28.0000000) ( 87d 0' 0.00\"E, 28d 0' 0.00\"N)\n",
      "Band 1 Block=7201x1 Type=Int16, ColorInterp=Gray\n",
      "  Min=176.000 Max=8748.000 \n",
      "  Minimum=176.000, Maximum=8748.000, Mean=3840.966, StdDev=1649.758\n",
      "  NoData Value=-32768\n",
      "  Metadata:\n",
      "    STATISTICS_MAXIMUM=8748\n",
      "    STATISTICS_MEAN=3840.9655621886\n",
      "    STATISTICS_MINIMUM=176\n",
      "    STATISTICS_STDDEV=1649.7576436136\n",
      "    STATISTICS_VALID_PERCENT=100\n"
     ]
    }
   ],
   "source": [
    "!gdalinfo merged.tif"
   ]
  },
  {
   "cell_type": "markdown",
   "id": "26f2ba72-4d3c-438d-b6dc-ae64e8b74122",
   "metadata": {},
   "source": [
    "#### Convert format and compress"
   ]
  },
  {
   "cell_type": "markdown",
   "id": "87874709-9996-4d9e-8bfe-82af921bffda",
   "metadata": {},
   "source": [
    "Use creation options (`-co`) to specify compression when creating the resulting raser. Doc: https://gdal.org/drivers/raster/gtiff.html#creation-options\n",
    "\n",
    "`TILDED=YES` - stores tiled TIFF where neighborhood effect is used for compression\n",
    "`PREDICTOR=YES` - stores diff  in values"
   ]
  },
  {
   "cell_type": "code",
   "execution_count": 43,
   "id": "29ccb9c3-ef05-41a9-9c48-aba2cb26713b",
   "metadata": {},
   "outputs": [
    {
     "name": "stdout",
     "output_type": "stream",
     "text": [
      "CPU times: user 3 µs, sys: 1e+03 ns, total: 4 µs\n",
      "Wall time: 9.78 µs\n",
      "Input file size is 7201, 7201\n",
      "0...10...20...30...40...50...60...70...80...90...100 - done.\n"
     ]
    }
   ],
   "source": [
    "%time\n",
    "!gdal_translate merged.vrt merged.tif -co COMPRESS=DEFLATE -co TILED=YES -co PREDICTOR=2"
   ]
  },
  {
   "cell_type": "code",
   "execution_count": 44,
   "id": "96056665-0df4-4c1e-863e-d723a7672941",
   "metadata": {},
   "outputs": [
    {
     "name": "stdout",
     "output_type": "stream",
     "text": [
      "-rw-r--r--  1 abharathi  staff    39M Apr 25 07:31 merged.tif\n"
     ]
    }
   ],
   "source": [
    "ls -lh *.tif"
   ]
  },
  {
   "cell_type": "code",
   "execution_count": 45,
   "id": "044135ef-4f59-44ec-ab6f-ffef026f5fea",
   "metadata": {},
   "outputs": [
    {
     "name": "stdout",
     "output_type": "stream",
     "text": [
      "Driver: GTiff/GeoTIFF\n",
      "Files: merged.tif\n",
      "Size is 7201, 7201\n",
      "Coordinate System is:\n",
      "GEOGCRS[\"WGS 84\",\n",
      "    ENSEMBLE[\"World Geodetic System 1984 ensemble\",\n",
      "        MEMBER[\"World Geodetic System 1984 (Transit)\"],\n",
      "        MEMBER[\"World Geodetic System 1984 (G730)\"],\n",
      "        MEMBER[\"World Geodetic System 1984 (G873)\"],\n",
      "        MEMBER[\"World Geodetic System 1984 (G1150)\"],\n",
      "        MEMBER[\"World Geodetic System 1984 (G1674)\"],\n",
      "        MEMBER[\"World Geodetic System 1984 (G1762)\"],\n",
      "        MEMBER[\"World Geodetic System 1984 (G2139)\"],\n",
      "        ELLIPSOID[\"WGS 84\",6378137,298.257223563,\n",
      "            LENGTHUNIT[\"metre\",1]],\n",
      "        ENSEMBLEACCURACY[2.0]],\n",
      "    PRIMEM[\"Greenwich\",0,\n",
      "        ANGLEUNIT[\"degree\",0.0174532925199433]],\n",
      "    CS[ellipsoidal,2],\n",
      "        AXIS[\"geodetic latitude (Lat)\",north,\n",
      "            ORDER[1],\n",
      "            ANGLEUNIT[\"degree\",0.0174532925199433]],\n",
      "        AXIS[\"geodetic longitude (Lon)\",east,\n",
      "            ORDER[2],\n",
      "            ANGLEUNIT[\"degree\",0.0174532925199433]],\n",
      "    USAGE[\n",
      "        SCOPE[\"Horizontal component of 3D system.\"],\n",
      "        AREA[\"World.\"],\n",
      "        BBOX[-90,-180,90,180]],\n",
      "    ID[\"EPSG\",4326]]\n",
      "Data axis to CRS axis mapping: 2,1\n",
      "Origin = (85.999861111111116,29.000138888888888)\n",
      "Pixel Size = (0.000277777777778,-0.000277777777778)\n",
      "Metadata:\n",
      "  AREA_OR_POINT=Area\n",
      "Image Structure Metadata:\n",
      "  COMPRESSION=DEFLATE\n",
      "  INTERLEAVE=BAND\n",
      "  PREDICTOR=2\n",
      "Corner Coordinates:\n",
      "Upper Left  (  85.9998611,  29.0001389) ( 85d59'59.50\"E, 29d 0' 0.50\"N)\n",
      "Lower Left  (  85.9998611,  26.9998611) ( 85d59'59.50\"E, 26d59'59.50\"N)\n",
      "Upper Right (  88.0001389,  29.0001389) ( 88d 0' 0.50\"E, 29d 0' 0.50\"N)\n",
      "Lower Right (  88.0001389,  26.9998611) ( 88d 0' 0.50\"E, 26d59'59.50\"N)\n",
      "Center      (  87.0000000,  28.0000000) ( 87d 0' 0.00\"E, 28d 0' 0.00\"N)\n",
      "Band 1 Block=256x256 Type=Int16, ColorInterp=Gray\n",
      "  Min=176.000 Max=8748.000 \n",
      "  Minimum=176.000, Maximum=8748.000, Mean=3840.966, StdDev=1649.758\n",
      "  NoData Value=-32768\n",
      "  Metadata:\n",
      "    STATISTICS_MAXIMUM=8748\n",
      "    STATISTICS_MEAN=3840.9655621886\n",
      "    STATISTICS_MINIMUM=176\n",
      "    STATISTICS_STDDEV=1649.7576436136\n",
      "    STATISTICS_VALID_PERCENT=100\n"
     ]
    }
   ],
   "source": [
    "!gdalinfo merged.tif"
   ]
  },
  {
   "cell_type": "markdown",
   "id": "0b2e64c3-5bde-4265-a06c-3a3ef74b3220",
   "metadata": {},
   "source": [
    "#### Assign a different no data value"
   ]
  },
  {
   "cell_type": "code",
   "execution_count": 46,
   "id": "5183492d-930c-4fa5-b380-0380d5c791b6",
   "metadata": {},
   "outputs": [
    {
     "name": "stdout",
     "output_type": "stream",
     "text": [
      "CPU times: user 4 µs, sys: 0 ns, total: 4 µs\n",
      "Wall time: 10 µs\n",
      "Input file size is 7201, 7201\n",
      "0...10...20...30...40...50...60...70...80...90...100 - done.\n"
     ]
    }
   ],
   "source": [
    "%time\n",
    "!gdal_translate merged.vrt merged.tif -co COMPRESS=DEFLATE \\\n",
    "-co TILED=YES -co PREDICTOR=2 -a_nodata -9999"
   ]
  },
  {
   "cell_type": "code",
   "execution_count": 57,
   "id": "37a2cc45-33d6-4df3-88dd-4ad3b5d0128d",
   "metadata": {},
   "outputs": [
    {
     "name": "stdout",
     "output_type": "stream",
     "text": [
      "\u001b[0;39m-9999\u001b[0m\n"
     ]
    }
   ],
   "source": [
    "!gdalinfo -json merged.tif | jq \".bands[0].noDataValue\""
   ]
  },
  {
   "cell_type": "markdown",
   "id": "9280e0c2-6e6b-492b-932e-4f0b853adb7e",
   "metadata": {},
   "source": [
    "#### Writing GOG\n",
    "Need to specify output format using `-of COG` as COG also has same `*.tif` extension"
   ]
  },
  {
   "cell_type": "code",
   "execution_count": 59,
   "id": "18b34f08-b150-4d7e-80fb-c7a15e99c19a",
   "metadata": {},
   "outputs": [
    {
     "name": "stdout",
     "output_type": "stream",
     "text": [
      "CPU times: user 4 µs, sys: 0 ns, total: 4 µs\n",
      "Wall time: 10 µs\n",
      "Input file size is 7201, 7201\n",
      "0...10...20...30...40...50...60...70...80...90...100 - done.\n"
     ]
    }
   ],
   "source": [
    "%time\n",
    "!gdal_translate -of COG merged.vrt merged_cog.tif \\\n",
    "  -co COMPRESS=DEFLATE -co PREDICTOR=2 -co NUM_THREADS=ALL_CPUS \\\n",
    "  -a_nodata -9999"
   ]
  },
  {
   "cell_type": "code",
   "execution_count": 60,
   "id": "177a264c-2353-48fe-9291-4c7c2d71b7c5",
   "metadata": {},
   "outputs": [
    {
     "name": "stdout",
     "output_type": "stream",
     "text": [
      "-rw-r--r--  1 abharathi  staff    39M Apr 25 07:40 merged.tif\n",
      "-rw-r--r--  1 abharathi  staff    54M Apr 25 07:50 merged_cog.tif\n"
     ]
    }
   ],
   "source": [
    "!ls -lh *.tif"
   ]
  },
  {
   "cell_type": "code",
   "execution_count": 65,
   "id": "4c6c9f18-3f10-4576-b49c-25b4d3b621e7",
   "metadata": {},
   "outputs": [
    {
     "name": "stdout",
     "output_type": "stream",
     "text": [
      "\u001b[1;39m{\n",
      "  \u001b[0m\u001b[34;1m\"COMPRESSION\"\u001b[0m\u001b[1;39m: \u001b[0m\u001b[0;32m\"DEFLATE\"\u001b[0m\u001b[1;39m,\n",
      "  \u001b[0m\u001b[34;1m\"INTERLEAVE\"\u001b[0m\u001b[1;39m: \u001b[0m\u001b[0;32m\"BAND\"\u001b[0m\u001b[1;39m,\n",
      "  \u001b[0m\u001b[34;1m\"LAYOUT\"\u001b[0m\u001b[1;39m: \u001b[0m\u001b[0;32m\"COG\"\u001b[0m\u001b[1;39m,\n",
      "  \u001b[0m\u001b[34;1m\"PREDICTOR\"\u001b[0m\u001b[1;39m: \u001b[0m\u001b[0;32m\"2\"\u001b[0m\u001b[1;39m\n",
      "\u001b[1;39m}\u001b[0m\n"
     ]
    }
   ],
   "source": [
    "!gdalinfo merged_cog.tif -json | jq \".metadata.IMAGE_STRUCTURE\""
   ]
  },
  {
   "cell_type": "markdown",
   "id": "b0160b71-a418-4060-acf1-4960cb366698",
   "metadata": {},
   "source": [
    "### Using GDALINFO on COG files stored on the cloud\n",
    "I am using Open aerial map site for this: https://map.openaerialmap.org/#/-117.81875610351562,33.76544869849223,9/latest/643b06ca8cae390005a1456f?_k=9krcby"
   ]
  },
  {
   "cell_type": "code",
   "execution_count": 68,
   "id": "7c6be333-db40-4a70-93b7-53387e282448",
   "metadata": {},
   "outputs": [
    {
     "name": "stdout",
     "output_type": "stream",
     "text": [
      "Driver: GTiff/GeoTIFF\n",
      "Files: none associated\n",
      "Size is 12099, 9659\n",
      "Coordinate System is:\n",
      "PROJCRS[\"WGS 84 / UTM zone 36S\",\n",
      "    BASEGEOGCRS[\"WGS 84\",\n",
      "        DATUM[\"World Geodetic System 1984\",\n",
      "            ELLIPSOID[\"WGS 84\",6378137,298.257223563,\n",
      "                LENGTHUNIT[\"metre\",1]]],\n",
      "        PRIMEM[\"Greenwich\",0,\n",
      "            ANGLEUNIT[\"degree\",0.0174532925199433]],\n",
      "        ID[\"EPSG\",4326]],\n",
      "    CONVERSION[\"UTM zone 36S\",\n",
      "        METHOD[\"Transverse Mercator\",\n",
      "            ID[\"EPSG\",9807]],\n",
      "        PARAMETER[\"Latitude of natural origin\",0,\n",
      "            ANGLEUNIT[\"degree\",0.0174532925199433],\n",
      "            ID[\"EPSG\",8801]],\n",
      "        PARAMETER[\"Longitude of natural origin\",33,\n",
      "            ANGLEUNIT[\"degree\",0.0174532925199433],\n",
      "            ID[\"EPSG\",8802]],\n",
      "        PARAMETER[\"Scale factor at natural origin\",0.9996,\n",
      "            SCALEUNIT[\"unity\",1],\n",
      "            ID[\"EPSG\",8805]],\n",
      "        PARAMETER[\"False easting\",500000,\n",
      "            LENGTHUNIT[\"metre\",1],\n",
      "            ID[\"EPSG\",8806]],\n",
      "        PARAMETER[\"False northing\",10000000,\n",
      "            LENGTHUNIT[\"metre\",1],\n",
      "            ID[\"EPSG\",8807]]],\n",
      "    CS[Cartesian,2],\n",
      "        AXIS[\"(E)\",east,\n",
      "            ORDER[1],\n",
      "            LENGTHUNIT[\"metre\",1]],\n",
      "        AXIS[\"(N)\",north,\n",
      "            ORDER[2],\n",
      "            LENGTHUNIT[\"metre\",1]],\n",
      "    USAGE[\n",
      "        SCOPE[\"Engineering survey, topographic mapping.\"],\n",
      "        AREA[\"Between 30°E and 36°E, southern hemisphere between 80°S and equator, onshore and offshore. Burundi. Eswatini (Swaziland). Kenya. Malawi. Mozambique. Rwanda. South Africa. Tanzania. Uganda. Zambia. Zimbabwe.\"],\n",
      "        BBOX[-80,30,0,36]],\n",
      "    ID[\"EPSG\",32736]]\n",
      "Data axis to CRS axis mapping: 1,2\n",
      "Origin = (415959.438299251720309,7169051.803544469177723)\n",
      "Pixel Size = (0.019999931184024,-0.019998767072739)\n",
      "Metadata:\n",
      "  AREA_OR_POINT=Area\n",
      "Image Structure Metadata:\n",
      "  COMPRESSION=YCbCr JPEG\n",
      "  INTERLEAVE=PIXEL\n",
      "  JPEGTABLESMODE=1\n",
      "  JPEG_QUALITY=75\n",
      "  SOURCE_COLOR_SPACE=YCbCr\n",
      "Corner Coordinates:\n",
      "Upper Left  (  415959.438, 7169051.804) ( 32d 9'47.25\"E, 25d35'37.10\"S)\n",
      "Lower Left  (  415959.438, 7168858.635) ( 32d 9'47.20\"E, 25d35'43.38\"S)\n",
      "Upper Right (  416201.417, 7169051.804) ( 32d 9'55.92\"E, 25d35'37.15\"S)\n",
      "Lower Right (  416201.417, 7168858.635) ( 32d 9'55.88\"E, 25d35'43.42\"S)\n",
      "Center      (  416080.428, 7168955.219) ( 32d 9'51.56\"E, 25d35'40.26\"S)\n",
      "Band 1 Block=512x512 Type=Byte, ColorInterp=Red\n",
      "  Description = red\n",
      "  Min=0.000 Max=255.000 \n",
      "  Minimum=0.000, Maximum=255.000, Mean=108.198, StdDev=76.230\n",
      "  Overviews: 6050x4830, 3025x2415, 1513x1208, 757x604, 379x302\n",
      "  Mask Flags: PER_DATASET \n",
      "  Overviews of mask band: 6050x4830, 3025x2415, 1513x1208, 757x604, 379x302\n",
      "  Metadata:\n",
      "    STATISTICS_MAXIMUM=255\n",
      "    STATISTICS_MEAN=108.19774015389\n",
      "    STATISTICS_MINIMUM=0\n",
      "    STATISTICS_STDDEV=76.230400100428\n",
      "Band 2 Block=512x512 Type=Byte, ColorInterp=Green\n",
      "  Description = green\n",
      "  Min=0.000 Max=255.000 \n",
      "  Minimum=0.000, Maximum=255.000, Mean=99.308, StdDev=66.015\n",
      "  Overviews: 6050x4830, 3025x2415, 1513x1208, 757x604, 379x302\n",
      "  Mask Flags: PER_DATASET \n",
      "  Overviews of mask band: 6050x4830, 3025x2415, 1513x1208, 757x604, 379x302\n",
      "  Metadata:\n",
      "    STATISTICS_MAXIMUM=255\n",
      "    STATISTICS_MEAN=99.30805629414\n",
      "    STATISTICS_MINIMUM=0\n",
      "    STATISTICS_STDDEV=66.014549775173\n",
      "Band 3 Block=512x512 Type=Byte, ColorInterp=Blue\n",
      "  Description = blue\n",
      "  Min=0.000 Max=255.000 \n",
      "  Minimum=0.000, Maximum=255.000, Mean=79.344, StdDev=57.837\n",
      "  Overviews: 6050x4830, 3025x2415, 1513x1208, 757x604, 379x302\n",
      "  Mask Flags: PER_DATASET \n",
      "  Overviews of mask band: 6050x4830, 3025x2415, 1513x1208, 757x604, 379x302\n",
      "  Metadata:\n",
      "    STATISTICS_MAXIMUM=255\n",
      "    STATISTICS_MEAN=79.343554107368\n",
      "    STATISTICS_MINIMUM=0\n",
      "    STATISTICS_STDDEV=57.837036128418\n"
     ]
    }
   ],
   "source": [
    "!gdalinfo https://oin-hotosm.s3.amazonaws.com/643b06548cae390005a1456c/0/643b06548cae390005a1456d.tif"
   ]
  },
  {
   "cell_type": "markdown",
   "id": "71eb2376-b1b4-4921-894a-59cf5c1d0c54",
   "metadata": {},
   "source": [
    "### DEMs using `gdaldem`"
   ]
  },
  {
   "cell_type": "code",
   "execution_count": 70,
   "id": "2ed26029-5a8c-49a1-9f42-1eed72fd77c9",
   "metadata": {},
   "outputs": [
    {
     "name": "stdout",
     "output_type": "stream",
     "text": [
      "CPU times: user 4 µs, sys: 1 µs, total: 5 µs\n",
      "Wall time: 8.82 µs\n",
      "0...10...20...30...40...50...60...70...80...90...100 - done.\n"
     ]
    }
   ],
   "source": [
    "# We specify scale since the vert units are in meters whereas the horz units are in degrees\n",
    "%time\n",
    "!gdaldem hillshade merged.vrt hillshade.tif -s 111120"
   ]
  },
  {
   "cell_type": "code",
   "execution_count": 71,
   "id": "c1ff4825-e89e-4137-8e46-68078f2cbd43",
   "metadata": {},
   "outputs": [
    {
     "name": "stdout",
     "output_type": "stream",
     "text": [
      "-rw-r--r--  1 abharathi  staff    49M Apr 25 08:00 hillshade.tif\n"
     ]
    }
   ],
   "source": [
    "ls -lh hill*"
   ]
  },
  {
   "cell_type": "markdown",
   "id": "136bb968-f1be-42e8-9437-208faa8e2112",
   "metadata": {},
   "source": [
    "#### DEM classified (color relief) file"
   ]
  },
  {
   "cell_type": "code",
   "execution_count": 74,
   "id": "b29a314b-4a45-46d8-9a87-b1254d2fc62e",
   "metadata": {},
   "outputs": [
    {
     "data": {
      "text/plain": [
       "(6000, 255, 255, 255)"
      ]
     },
     "execution_count": 74,
     "metadata": {},
     "output_type": "execute_result"
    }
   ],
   "source": [
    "# first create a file to store the classes\n",
    "1000,101,146,82\n",
    "1500,190,202,130\n",
    "2000,241,225,145\n",
    "2500,244,200,126\n",
    "3000,197,147,117\n",
    "4000,204,169,170\n",
    "5000,251,238,253\n",
    "6000,255,255,255"
   ]
  },
  {
   "cell_type": "code",
   "execution_count": 77,
   "id": "5a1d5875-53e9-407f-9684-fa9c690cf5ca",
   "metadata": {},
   "outputs": [
    {
     "name": "stdout",
     "output_type": "stream",
     "text": [
      "1000,101,146,82\n",
      "1500,190,202,130\n",
      "2000,241,225,145\n",
      "2500,244,200,126\n",
      "3000,197,147,117\n",
      "4000,204,169,170\n",
      "5000,251,238,253\n",
      "6000,255,255,255"
     ]
    }
   ],
   "source": [
    "cat colormap.txt"
   ]
  },
  {
   "cell_type": "code",
   "execution_count": 78,
   "id": "3620525d-74f8-4519-ad27-2c9159653944",
   "metadata": {},
   "outputs": [
    {
     "name": "stdout",
     "output_type": "stream",
     "text": [
      "CPU times: user 2 µs, sys: 1e+03 ns, total: 3 µs\n",
      "Wall time: 11.2 µs\n",
      "0...10...20...30...40...50...60...70...80...90...100 - done.\n"
     ]
    }
   ],
   "source": [
    "%time\n",
    "!gdaldem color-relief merged.vrt colormap.txt colorized_dem.tif"
   ]
  },
  {
   "cell_type": "code",
   "execution_count": 82,
   "id": "bfc3b294-9267-4f13-a40f-c0f59bdb05cb",
   "metadata": {},
   "outputs": [
    {
     "name": "stdout",
     "output_type": "stream",
     "text": [
      "CPU times: user 5 µs, sys: 3 µs, total: 8 µs\n",
      "Wall time: 16.9 µs\n",
      "Input file size is 7201, 7201\n",
      "0...10...20...30...40...50...60...70...80...90...100 - done.\n"
     ]
    }
   ],
   "source": [
    "# Convert to PNG, but a downsampled file that is 10% x 10%\n",
    "%time\n",
    "!gdal_translate -of PNG colorized_dem.tif colorized.png -outsize 10% 10%"
   ]
  },
  {
   "cell_type": "code",
   "execution_count": 83,
   "id": "9ea5d25e-66ba-4be7-9a3d-92e6f237702a",
   "metadata": {},
   "outputs": [
    {
     "name": "stdout",
     "output_type": "stream",
     "text": [
      "-rw-r--r--  1 abharathi  staff   595K Apr 25 08:22 colorized.png\n",
      "-rw-r--r--  1 abharathi  staff   712B Apr 25 08:22 colorized.png.aux.xml\n",
      "-rw-r--r--  1 abharathi  staff   148M Apr 25 08:12 colorized_dem.tif\n"
     ]
    }
   ],
   "source": [
    "ls -lh colorized*"
   ]
  },
  {
   "cell_type": "markdown",
   "id": "7de925aa-2019-405c-b46d-1c3d7adf564b",
   "metadata": {},
   "source": [
    "![fie](colorized.png)"
   ]
  },
  {
   "cell_type": "code",
   "execution_count": 87,
   "id": "db3490c3-76d8-4af7-9b60-d972dced322c",
   "metadata": {},
   "outputs": [
    {
     "data": {
      "text/plain": [
       "10.3074074071188"
      ]
     },
     "execution_count": 87,
     "metadata": {},
     "output_type": "execute_result"
    }
   ],
   "source": [
    "0.00009259259259 * 111320"
   ]
  },
  {
   "cell_type": "code",
   "execution_count": null,
   "id": "190f24e2-30cb-4f54-a781-d4e6fc8988ce",
   "metadata": {},
   "outputs": [],
   "source": []
  }
 ],
 "metadata": {
  "kernelspec": {
   "display_name": "Python 3 (ipykernel)",
   "language": "python",
   "name": "python3"
  },
  "language_info": {
   "codemirror_mode": {
    "name": "ipython",
    "version": 3
   },
   "file_extension": ".py",
   "mimetype": "text/x-python",
   "name": "python",
   "nbconvert_exporter": "python",
   "pygments_lexer": "ipython3",
   "version": "3.11.3"
  }
 },
 "nbformat": 4,
 "nbformat_minor": 5,
 "nikola": {
    "title": "GDAL Day 1"
   }
}
