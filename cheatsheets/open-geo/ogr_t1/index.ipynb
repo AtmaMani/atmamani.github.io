{
 "cells": [
  {
   "cell_type": "markdown",
   "id": "8ae2d242-9373-4947-8ed5-266957fdea91",
   "metadata": {},
   "source": [
    "# OGR"
   ]
  },
  {
   "cell_type": "markdown",
   "id": "fc85a08a-bc0e-498b-b20e-7ff3f4b942ca",
   "metadata": {},
   "source": [
    "Commands\n",
    "- ogrinfo: Lists information about an OGR-supported data source.\n",
    "- ogr2ogr: Converts simple features data between file formats.\n",
    "- ogrtindex: Creates a tileindex.\n",
    "- ogrlineref: Create linear reference and provide some calculations using it.\n",
    "- ogrmerge.py: Merge several vector datasets into a single one.\n",
    "- ogr_layer_algebra.py: Performs various Vector layer algebraic operations."
   ]
  },
  {
   "cell_type": "code",
   "execution_count": 5,
   "id": "658b6248-f9f9-463d-aefb-7bc312fb10a1",
   "metadata": {},
   "outputs": [
    {
     "name": "stdout",
     "output_type": "stream",
     "text": [
      "/Users/abharathi/Documents/gis_data/gdal-tools\n"
     ]
    }
   ],
   "source": [
    "cd /Users/abharathi/Documents/gis_data/gdal-tools"
   ]
  },
  {
   "cell_type": "code",
   "execution_count": 6,
   "id": "c237f502-e5c4-48a7-ad40-b883da57de27",
   "metadata": {},
   "outputs": [
    {
     "name": "stdout",
     "output_type": "stream",
     "text": [
      "\u001b[31m1870_southern-india.jpg\u001b[m\u001b[m*           india-with-gcp.vrt\n",
      "1870_southern-india.jpg.aux.xml    \u001b[1m\u001b[36mlandsat8\u001b[m\u001b[m/\n",
      "5d16a93f1cf0f6000579ad2c.tif       \u001b[1m\u001b[36mlondon_1m_dsm\u001b[m\u001b[m/\n",
      "\u001b[31mbatch.py\u001b[m\u001b[m*                          \u001b[1m\u001b[36mnaip\u001b[m\u001b[m/\n",
      "\u001b[31mbatch_parallel.py\u001b[m\u001b[m*                 precipitation.gpkg\n",
      "\u001b[31mearth_at_night.jpg\u001b[m\u001b[m*                \u001b[1m\u001b[36mprism\u001b[m\u001b[m/\n",
      "earth_at_night.tif                 reservoirs.xml\n",
      "\u001b[1m\u001b[36mearthquakes\u001b[m\u001b[m/                       reservoirs_india.tif\n",
      "gdal_stuff.qgz                     reservoirs_india_proj.tif\n",
      "\u001b[1m\u001b[36mgeonames\u001b[m\u001b[m/                          spatial_query.gpkg\n",
      "india-reprojected-polynomial.tif   \u001b[1m\u001b[36msrtm\u001b[m\u001b[m/\n",
      "india-reprojected-tps.tif          \u001b[31mworldcities.csv\u001b[m\u001b[m*\n",
      "india-reprojected-tps.tif.aux.xml\n"
     ]
    }
   ],
   "source": [
    "ls"
   ]
  },
  {
   "cell_type": "markdown",
   "id": "f3b93028-93c1-4fb6-8ed2-07fa4bab263b",
   "metadata": {},
   "source": [
    "## Info using OGRINFO"
   ]
  },
  {
   "cell_type": "code",
   "execution_count": 7,
   "id": "279c9048-0c31-4871-8485-01b171e89230",
   "metadata": {},
   "outputs": [
    {
     "name": "stdout",
     "output_type": "stream",
     "text": [
      "INFO: Open of `worldcities.csv'\n",
      "      using driver `CSV' successful.\n",
      "1: worldcities (None)\n"
     ]
    }
   ],
   "source": [
    "!ogrinfo worldcities.csv"
   ]
  },
  {
   "cell_type": "code",
   "execution_count": 9,
   "id": "e6ac1e66-78ef-494d-80ee-e398ba9775e4",
   "metadata": {},
   "outputs": [
    {
     "name": "stdout",
     "output_type": "stream",
     "text": [
      "INFO: Open of `worldcities.csv'\n",
      "      using driver `CSV' successful.\n",
      "\n",
      "Layer name: worldcities\n",
      "Geometry: None\n",
      "Feature Count: 15493\n",
      "Layer SRS WKT:\n",
      "(unknown)\n",
      "city: String (0.0)\n",
      "city_ascii: String (0.0)\n",
      "lat: String (0.0)\n",
      "lng: String (0.0)\n",
      "country: String (0.0)\n",
      "iso2: String (0.0)\n",
      "iso3: String (0.0)\n",
      "admin_name: String (0.0)\n",
      "capital: String (0.0)\n",
      "population: String (0.0)\n",
      "id: String (0.0)\n"
     ]
    }
   ],
   "source": [
    "!ogrinfo -al -so worldcities.csv"
   ]
  },
  {
   "cell_type": "markdown",
   "id": "36fc856e-3502-45f4-ab27-989436a28182",
   "metadata": {},
   "source": [
    "## `ogr2ogr` the Swiss army knife"
   ]
  },
  {
   "cell_type": "markdown",
   "id": "a8906dde-f5cb-4932-a4ad-5f383397bb06",
   "metadata": {},
   "source": [
    "### Convert CSV to GeoPackage"
   ]
  },
  {
   "cell_type": "code",
   "execution_count": 10,
   "id": "e78cf1e2-5327-4914-a824-cc560ceb9c3a",
   "metadata": {},
   "outputs": [
    {
     "name": "stdout",
     "output_type": "stream",
     "text": [
      "CPU times: user 9.59 ms, sys: 9.28 ms, total: 18.9 ms\n",
      "Wall time: 887 ms\n"
     ]
    }
   ],
   "source": [
    "%%time\n",
    "!ogr2ogr -f GPKG worldcities.gpkg worldcities.csv \\\n",
    "  -oo X_POSSIBLE_NAMES=lng -oo Y_POSSIBLE_NAMES=lat -a_srs EPSG:4326"
   ]
  },
  {
   "cell_type": "markdown",
   "id": "083bd1a2-1ccf-4a52-82af-c511ace1f0ed",
   "metadata": {},
   "source": [
    "### Use SQL statements"
   ]
  },
  {
   "cell_type": "code",
   "execution_count": 11,
   "id": "48a34fd4-371b-45be-b3b3-7bdeb534c35a",
   "metadata": {},
   "outputs": [
    {
     "name": "stdout",
     "output_type": "stream",
     "text": [
      "CPU times: user 4.59 ms, sys: 8.77 ms, total: 13.4 ms\n",
      "Wall time: 381 ms\n"
     ]
    }
   ],
   "source": [
    "%%time\n",
    "!ogr2ogr -f GPKG worldcities.gpkg worldcities.csv \\\n",
    "  -oo X_POSSIBLE_NAMES=lng -oo Y_POSSIBLE_NAMES=lat -a_srs EPSG:4326 \\\n",
    "  -sql \"SELECT city, country, CAST(population AS integer) as population from worldcities where country = 'India'\""
   ]
  },
  {
   "cell_type": "markdown",
   "id": "6fb1672a-9d29-48f1-b9d4-07f552477423",
   "metadata": {},
   "source": [
    "### Rename layer in gpkg"
   ]
  },
  {
   "cell_type": "code",
   "execution_count": 12,
   "id": "53999f90-2df8-4759-a20f-28051cb56a21",
   "metadata": {},
   "outputs": [
    {
     "name": "stdout",
     "output_type": "stream",
     "text": [
      "CPU times: user 4.89 ms, sys: 6.51 ms, total: 11.4 ms\n",
      "Wall time: 443 ms\n"
     ]
    }
   ],
   "source": [
    "%%time\n",
    "!ogr2ogr -f GPKG worldcities.gpkg worldcities.csv \\\n",
    "  -oo X_POSSIBLE_NAMES=lng -oo Y_POSSIBLE_NAMES=lat -a_srs EPSG:4326 \\\n",
    "  -sql \"SELECT city, country, CAST(population AS integer) as population from worldcities where country = 'India'\" \\\n",
    "  -nln mycities"
   ]
  },
  {
   "cell_type": "code",
   "execution_count": 14,
   "id": "aef0fa72-e407-45fe-88bf-29b54187d5e4",
   "metadata": {},
   "outputs": [
    {
     "name": "stdout",
     "output_type": "stream",
     "text": [
      "INFO: Open of `worldcities.gpkg'\n",
      "      using driver `GPKG' successful.\n",
      "\n",
      "Layer name: mycities\n",
      "Geometry: Point\n",
      "Feature Count: 212\n",
      "Extent: (69.670000, 8.180400) - (94.900000, 34.300000)\n",
      "Layer SRS WKT:\n",
      "GEOGCRS[\"WGS 84\",\n",
      "    ENSEMBLE[\"World Geodetic System 1984 ensemble\",\n",
      "        MEMBER[\"World Geodetic System 1984 (Transit)\"],\n",
      "        MEMBER[\"World Geodetic System 1984 (G730)\"],\n",
      "        MEMBER[\"World Geodetic System 1984 (G873)\"],\n",
      "        MEMBER[\"World Geodetic System 1984 (G1150)\"],\n",
      "        MEMBER[\"World Geodetic System 1984 (G1674)\"],\n",
      "        MEMBER[\"World Geodetic System 1984 (G1762)\"],\n",
      "        MEMBER[\"World Geodetic System 1984 (G2139)\"],\n",
      "        ELLIPSOID[\"WGS 84\",6378137,298.257223563,\n",
      "            LENGTHUNIT[\"metre\",1]],\n",
      "        ENSEMBLEACCURACY[2.0]],\n",
      "    PRIMEM[\"Greenwich\",0,\n",
      "        ANGLEUNIT[\"degree\",0.0174532925199433]],\n",
      "    CS[ellipsoidal,2],\n",
      "        AXIS[\"geodetic latitude (Lat)\",north,\n",
      "            ORDER[1],\n",
      "            ANGLEUNIT[\"degree\",0.0174532925199433]],\n",
      "        AXIS[\"geodetic longitude (Lon)\",east,\n",
      "            ORDER[2],\n",
      "            ANGLEUNIT[\"degree\",0.0174532925199433]],\n",
      "    USAGE[\n",
      "        SCOPE[\"Horizontal component of 3D system.\"],\n",
      "        AREA[\"World.\"],\n",
      "        BBOX[-90,-180,90,180]],\n",
      "    ID[\"EPSG\",4326]]\n",
      "Data axis to CRS axis mapping: 2,1\n",
      "FID Column = fid\n",
      "Geometry Column = geom\n",
      "city: String (0.0)\n",
      "country: String (0.0)\n",
      "population: Integer (0.0)\n"
     ]
    }
   ],
   "source": [
    "!ogrinfo -so -al worldcities.gpkg"
   ]
  },
  {
   "cell_type": "markdown",
   "id": "60c36d50-851f-4d69-8508-3fb33887acff",
   "metadata": {},
   "source": [
    "### Exercise 6"
   ]
  },
  {
   "cell_type": "code",
   "execution_count": 16,
   "id": "11a1cd99-874b-4cd4-a6a7-b33d88621807",
   "metadata": {},
   "outputs": [],
   "source": [
    "!ogr2ogr mycities.shp worldcities.gpkg \\\n",
    "-t_srs EPSG:7755 -lco ENCODING=UTF-8 \\\n",
    "-lco SPATIAL_INDEX=Yes"
   ]
  },
  {
   "cell_type": "markdown",
   "id": "52973281-b626-4f1c-aafe-c2831074e554",
   "metadata": {},
   "source": [
    "## Querying data using `ogr2ogr`"
   ]
  },
  {
   "cell_type": "code",
   "execution_count": 18,
   "id": "2d010c7a-0f1c-4a05-ab0c-b581ec6b5a96",
   "metadata": {},
   "outputs": [
    {
     "name": "stdout",
     "output_type": "stream",
     "text": [
      "\u001b[31m1870_southern-india.jpg\u001b[m\u001b[m*           mycities.dbf\n",
      "1870_southern-india.jpg.aux.xml    mycities.prj\n",
      "5d16a93f1cf0f6000579ad2c.tif       mycities.qix\n",
      "\u001b[31mbatch.py\u001b[m\u001b[m*                          mycities.shp\n",
      "\u001b[31mbatch_parallel.py\u001b[m\u001b[m*                 mycities.shx\n",
      "\u001b[31mearth_at_night.jpg\u001b[m\u001b[m*                \u001b[1m\u001b[36mnaip\u001b[m\u001b[m/\n",
      "earth_at_night.tif                 precipitation.gpkg\n",
      "\u001b[1m\u001b[36mearthquakes\u001b[m\u001b[m/                       \u001b[1m\u001b[36mprism\u001b[m\u001b[m/\n",
      "gdal_stuff.qgz                     reservoirs.xml\n",
      "\u001b[1m\u001b[36mgeonames\u001b[m\u001b[m/                          reservoirs_india.tif\n",
      "india-reprojected-polynomial.tif   reservoirs_india_proj.tif\n",
      "india-reprojected-tps.tif          spatial_query.gpkg\n",
      "india-reprojected-tps.tif.aux.xml  \u001b[1m\u001b[36msrtm\u001b[m\u001b[m/\n",
      "india-with-gcp.vrt                 \u001b[31mworldcities.csv\u001b[m\u001b[m*\n",
      "\u001b[1m\u001b[36mlandsat8\u001b[m\u001b[m/                          worldcities.gpkg\n",
      "\u001b[1m\u001b[36mlondon_1m_dsm\u001b[m\u001b[m/                     worldcities.gpkg-shm\n",
      "mycities.cpg                       worldcities.gpkg-wal\n"
     ]
    }
   ],
   "source": [
    "ls"
   ]
  },
  {
   "cell_type": "code",
   "execution_count": 17,
   "id": "0ad81acf-1e85-44a2-b084-59042f2e532a",
   "metadata": {},
   "outputs": [
    {
     "name": "stdout",
     "output_type": "stream",
     "text": [
      "ERROR 1: In ExecuteSQL(): sqlite3_prepare_v2(SELECT country, sum(population) as total_population from worldcities GROUP BY country):\n",
      "  no such table: worldcities\n"
     ]
    }
   ],
   "source": [
    "# Get country pop from city pop\n",
    "!ogr2ogr country_pop.csv worldcities.gpkg \\\n",
    "  -sql \"SELECT country, sum(population) as total_population from worldcities GROUP BY country\""
   ]
  },
  {
   "cell_type": "markdown",
   "id": "a00c594e-6a63-41a7-ac70-6b3c03841990",
   "metadata": {},
   "source": [
    "## Merging layers"
   ]
  },
  {
   "cell_type": "code",
   "execution_count": 19,
   "id": "d89a3ddb-1e55-4d4a-b9d8-9d6d326e08c5",
   "metadata": {},
   "outputs": [
    {
     "name": "stdout",
     "output_type": "stream",
     "text": [
      "/Users/abharathi/Documents/gis_data/gdal-tools/earthquakes\n"
     ]
    }
   ],
   "source": [
    "cd earthquakes/"
   ]
  },
  {
   "cell_type": "code",
   "execution_count": 20,
   "id": "07344cdb-f887-4645-8607-6ff141e76341",
   "metadata": {},
   "outputs": [
    {
     "name": "stdout",
     "output_type": "stream",
     "text": [
      "\u001b[31m2020_01.geojson\u001b[m\u001b[m* \u001b[31m2020_04.geojson\u001b[m\u001b[m* \u001b[31m2020_07.geojson\u001b[m\u001b[m* \u001b[31m2020_10.geojson\u001b[m\u001b[m*\n",
      "\u001b[31m2020_02.geojson\u001b[m\u001b[m* \u001b[31m2020_05.geojson\u001b[m\u001b[m* \u001b[31m2020_08.geojson\u001b[m\u001b[m* \u001b[31m2020_11.geojson\u001b[m\u001b[m*\n",
      "\u001b[31m2020_03.geojson\u001b[m\u001b[m* \u001b[31m2020_06.geojson\u001b[m\u001b[m* \u001b[31m2020_09.geojson\u001b[m\u001b[m* \u001b[31m2020_12.geojson\u001b[m\u001b[m*\n"
     ]
    }
   ],
   "source": [
    "ls"
   ]
  },
  {
   "cell_type": "code",
   "execution_count": 25,
   "id": "2e22faeb-6163-46a7-90c7-5e15f3b936a2",
   "metadata": {},
   "outputs": [
    {
     "name": "stdout",
     "output_type": "stream",
     "text": [
      "/Users/abharathi/micromamba/envs/opengeo/bin/ogrmerge.py\n"
     ]
    }
   ],
   "source": [
    "!which ogrmerge.py"
   ]
  },
  {
   "cell_type": "code",
   "execution_count": 26,
   "id": "b40e0338-a674-4773-adac-4bb1615bff8a",
   "metadata": {},
   "outputs": [
    {
     "name": "stdout",
     "output_type": "stream",
     "text": [
      "ERROR: Unrecognized argument : --help\n",
      "Usage: ogrmerge.py -o out_dsname src_dsname [src_dsname]*\n",
      "            [-f format] [-single] [-nln layer_name_template]\n",
      "            [-update | -overwrite_ds] [-append | -overwrite_layer]\n",
      "            [-src_geom_type geom_type_name[,geom_type_name]*]\n",
      "            [-dsco NAME=VALUE]* [-lco NAME=VALUE]*\n",
      "            [-s_srs srs_def] [-t_srs srs_def | -a_srs srs_def]\n",
      "            [-progress] [-skipfailures] [--help-general]\n",
      "\n",
      "Options specific to -single:\n",
      "            [-field_strategy FirstLayer|Union|Intersection]\n",
      "            [-src_layer_field_name name]\n",
      "            [-src_layer_field_content layer_name_template]\n",
      "\n",
      "* layer_name_template can contain the following substituable variables:\n",
      "     {AUTO_NAME}  : {DS_BASENAME}_{LAYER_NAME} if they are different\n",
      "                    or {LAYER_NAME} if they are identical\n",
      "     {DS_NAME}    : name of the source dataset\n",
      "     {DS_BASENAME}: base name of the source dataset\n",
      "     {DS_INDEX}   : index of the source dataset\n",
      "     {LAYER_NAME} : name of the source layer\n",
      "     {LAYER_INDEX}: index of the source layer\n"
     ]
    },
    {
     "ename": "SystemExit",
     "evalue": "2",
     "output_type": "error",
     "traceback": [
      "An exception has occurred, use %tb to see the full traceback.\n",
      "\u001b[0;31mSystemExit\u001b[0m\u001b[0;31m:\u001b[0m 2\n"
     ]
    }
   ],
   "source": [
    "%run -i /Users/abharathi/micromamba/envs/opengeo/bin/ogrmerge.py --help"
   ]
  },
  {
   "cell_type": "code",
   "execution_count": 28,
   "id": "f5e2cfe9-293f-4dbc-b255-913b5dbf96d5",
   "metadata": {},
   "outputs": [],
   "source": [
    "%run -i /Users/abharathi/micromamba/envs/opengeo/bin/ogrmerge.py -o earthquakes.gpkg *.geojson \\\n",
    " -single -nln all_earthquakes -overwrite_ds"
   ]
  },
  {
   "cell_type": "markdown",
   "id": "3b8d3e60-0df4-4d4c-8c9f-88dec5f9a47e",
   "metadata": {},
   "source": [
    "## Write a new layer into the existing geopackage"
   ]
  },
  {
   "cell_type": "code",
   "execution_count": 32,
   "id": "9705390e-990e-498a-86d5-0c8b7cbb6b3d",
   "metadata": {},
   "outputs": [],
   "source": [
    "!ogr2ogr earthquakes.gpkg earthquakes.gpkg \\\n",
    "-where \"mag>4.5\" -nln large_earthquakes -update"
   ]
  },
  {
   "cell_type": "markdown",
   "id": "30604c8c-6df3-4826-b331-7020990c4a43",
   "metadata": {},
   "source": [
    "## Spatial SQL\n",
    "OGR supports dialect called SQLite dialect that is implemented by SpatiaLite. This is not as powerful as postGIS, but still useful."
   ]
  },
  {
   "cell_type": "markdown",
   "id": "9fd3ecea-8d2c-4bc6-9add-9e131c305bf3",
   "metadata": {},
   "source": [
    "## ETL section"
   ]
  },
  {
   "cell_type": "code",
   "execution_count": 33,
   "id": "752429cb-27a5-4bad-afaa-e2ccc74b8019",
   "metadata": {},
   "outputs": [
    {
     "name": "stdout",
     "output_type": "stream",
     "text": [
      "/Users/abharathi/Documents/gis_data/gdal-tools\n"
     ]
    }
   ],
   "source": [
    "cd .."
   ]
  },
  {
   "cell_type": "code",
   "execution_count": 37,
   "id": "4080cd0c-6563-48c9-8187-e3ef6f563227",
   "metadata": {
    "collapsed": true,
    "jupyter": {
     "outputs_hidden": true
    },
    "tags": []
   },
   "outputs": [
    {
     "name": "stdout",
     "output_type": "stream",
     "text": [
      "Input file size is 5000, 5000\n",
      "0...10...20...30...40...50...60...70...80...90...100 - done.\n",
      "Input file size is 5000, 5000\n",
      "0...10...20...30...40...50...60...70...80...90...100 - done.\n",
      "Input file size is 5000, 5000\n",
      "0...10...20...30...40...50...60...70...80...90...100 - done.\n",
      "Input file size is 5000, 5000\n",
      "0...10...20...30...40...50...60...70...80...90...100 - done.\n",
      "Input file size is 5000, 5000\n",
      "0...10...20...30...40...50...60...70...80...90...100 - done.\n",
      "Input file size is 5000, 5000\n",
      "0...10...20...30...40...50...60...70...80...90...100 - done.\n",
      "Input file size is 5000, 5000\n",
      "0...10...20...30...40...50...60...70...80...90...100 - done.\n",
      "Input file size is 5000, 5000\n",
      "0...10...20...30...40...50...60...70...80...90...100 - done.\n",
      "Input file size is 5000, 5000\n",
      "0...10...20...30...40...50...60...70...80...90...100 - done.\n",
      "Input file size is 5000, 5000\n",
      "0...10...20...30...40...50...60...70...80...90...100 - done.\n",
      "Input file size is 5000, 5000\n",
      "0...10...20...30...40...50...60...70...80...90...100 - done.\n",
      "Input file size is 5000, 5000\n",
      "0...10...20...30...40...50...60...70...80...90...100 - done.\n",
      "Input file size is 5000, 5000\n",
      "0...10...20...30...40...50...60...70...80...90...100 - done.\n",
      "Input file size is 5000, 5000\n",
      "0...10...20...30...40...50...60...70...80...90...100 - done.\n",
      "Input file size is 5000, 5000\n",
      "0...10...20...30...40...50...60...70...80...90...100 - done.\n",
      "Input file size is 5000, 5000\n",
      "0...10...20...30...40...50...60...70...80...90...100 - done.\n",
      "Input file size is 5000, 5000\n",
      "0...10...20...30...40...50...60...70...80...90...100 - done.\n",
      "Input file size is 5000, 5000\n",
      "0...10...20...30...40...50...60...70...80...90...100 - done.\n",
      "Input file size is 5000, 5000\n",
      "0...10...20...30...40...50...60...70...80...90...100 - done.\n",
      "Input file size is 5000, 5000\n",
      "0...10...20...30...40...50...60...70...80...90...100 - done.\n",
      "Input file size is 5000, 5000\n",
      "0...10...20...30...40...50...60...70...80...90...100 - done.\n",
      "Input file size is 5000, 5000\n",
      "0...10...20...30...40...50...60...70...80...90...100 - done.\n",
      "Input file size is 5000, 5000\n",
      "0...10...20...30...40...50...60...70...80...90...100 - done.\n",
      "Input file size is 5000, 5000\n",
      "0...10...20...30...40...50...60...70...80...90...100 - done.\n",
      "Input file size is 5000, 5000\n",
      "0...10...20...30...40...50...60...70...80...90...100 - done.\n",
      "Input file size is 5000, 5000\n",
      "0...10...20...30...40...50...60...70...80...90...100 - done.\n",
      "Input file size is 5000, 5000\n",
      "0...10...20...30...40...50...60...70...80...90...100 - done.\n",
      "Input file size is 5000, 5000\n",
      "0...10...20...30...40...50...60...70...80...90...100 - done.\n",
      "Input file size is 5000, 5000\n",
      "0...10...20...30...40...50...60...70...80...90...100 - done.\n",
      "Input file size is 5000, 5000\n",
      "0...10...20...30...40...50...60...70...80...90...100 - done.\n",
      "Input file size is 5000, 5000\n",
      "0...10...20...30...40...50...60...70...80...90...100 - done.\n",
      "Input file size is 5000, 5000\n",
      "0...10...20...30...40...50...60...70...80...90...100 - done.\n",
      "Input file size is 5000, 5000\n",
      "0...10...20...30...40...50...60...70...80...90...100 - done.\n",
      "Input file size is 5000, 5000\n",
      "0...10...20...30...40...50...60...70...80...90...100 - done.\n",
      "Input file size is 5000, 5000\n",
      "0...10...20...30...40...50...60...70...80...90...100 - done.\n",
      "Input file size is 5000, 5000\n",
      "0...10...20...30...40...50...60...70...80...90...100 - done.\n",
      "Input file size is 5000, 5000\n",
      "0...10...20...30...40...50...60...70...80...90...100 - done.\n",
      "Input file size is 5000, 5000\n",
      "0...10...20...30...40...50...60...70...80...90...100 - done.\n",
      "Input file size is 5000, 5000\n",
      "0...10...20...30...40...50...60...70...80...90...100 - done.\n",
      "Input file size is 5000, 5000\n",
      "0...10...20...30...40...50...60...70...80...90...100 - done.\n",
      "Input file size is 5000, 5000\n",
      "0...10...20...30...40...50...60...70...80...90...100 - done.\n",
      "Input file size is 5000, 5000\n",
      "0...10...20...30...40...50...60...70...80...90...100 - done.\n",
      "Input file size is 5000, 5000\n",
      "0...10...20...30...40...50...60...70...80...90...100 - done.\n",
      "Input file size is 5000, 5000\n",
      "0...10...20...30...40...50...60...70...80...90...100 - done.\n",
      "Input file size is 5000, 5000\n",
      "0...10...20...30...40...50...60...70...80...90...100 - done.\n",
      "Input file size is 5000, 5000\n",
      "0...10...20...30...40...50...60...70...80...90...100 - done.\n",
      "Input file size is 5000, 5000\n",
      "0...10...20...30...40...50...60...70...80...90...100 - done.\n",
      "Input file size is 5000, 5000\n",
      "0...10...20...30...40...50...60...70...80...90...100 - done.\n",
      "Input file size is 5000, 5000\n",
      "0...10...20...30...40...50...60...70...80...90...100 - done.\n",
      "Input file size is 5000, 5000\n",
      "0...10...20...30...40...50...60...70...80...90...100 - done.\n",
      "Input file size is 5000, 5000\n",
      "0...10...20...30...40...50...60...70...80...90...100 - done.\n",
      "Input file size is 5000, 5000\n",
      "0...10...20...30...40...50...60...70...80...90...100 - done.\n",
      "Input file size is 5000, 5000\n",
      "0...10...20...30...40...50...60...70...80...90...100 - done.\n",
      "Input file size is 5000, 5000\n",
      "0...10...20...30...40...50...60...70...80...90...100 - done.\n",
      "Input file size is 5000, 5000\n",
      "0...10...20...30...40...50...60...70...80...90...100 - done.\n",
      "Input file size is 5000, 5000\n",
      "0...10...20...30...40...50...60...70...80...90...100 - done.\n",
      "Input file size is 5000, 5000\n",
      "0...10...20...30...40...50...60...70...80...90...100 - done.\n",
      "Input file size is 5000, 5000\n",
      "0...10...20...30...40...50...60...70...80...90...100 - done.\n",
      "Input file size is 5000, 5000\n",
      "0...10...20...30...40...50...60...70...80...90...100 - done.\n",
      "Input file size is 5000, 5000\n",
      "0...10...20...30...40...50...60...70...80...90...100 - done.\n",
      "Input file size is 5000, 5000\n",
      "0...10...20...30...40...50...60...70...80...90...100 - done.\n",
      "Input file size is 5000, 5000\n",
      "0...10...20...30...40...50...60...70...80...90...100 - done.\n",
      "Input file size is 5000, 5000\n",
      "0...10...20...30...40...50...60...70...80...90...100 - done.\n",
      "Input file size is 5000, 5000\n",
      "0...10...20...30...40...50...60...70...80...90...100 - done.\n"
     ]
    }
   ],
   "source": [
    "# %load batch.py\n",
    "import os\n",
    "\n",
    "input_dir = 'naip'\n",
    "\n",
    "command = 'gdal_translate -of GTiff -co COMPRESS=JPEG {input} {output}'\n",
    "for file in os.listdir(input_dir):\n",
    "  if file.endswith('.jp2'):\n",
    "    input = os.path.join(input_dir, file)\n",
    "    filename = os.path.splitext(os.path.basename(file))[0]\n",
    "    output =  os.path.join(input_dir, filename + '.tif')\n",
    "    os.system(command.format(input=input, output=output))"
   ]
  },
  {
   "cell_type": "code",
   "execution_count": null,
   "id": "b1a1e668-83fd-4610-a78d-57c4ddaab4c6",
   "metadata": {},
   "outputs": [],
   "source": [
    "# %load batch_parallel.py\n",
    "import os\n",
    "from multiprocessing import Pool\n",
    "from timeit import default_timer as timer\n",
    "\n",
    "input_dir = 'naip'\n",
    "\n",
    "command = 'gdal_translate -of GTiff -co COMPRESS=JPEG {input} {output}'\n",
    "\n",
    "def process(file):\n",
    "    input = os.path.join(input_dir, file)\n",
    "    filename = os.path.splitext(os.path.basename(file))[0]\n",
    "    output =  os.path.join(input_dir, filename + '.tif')\n",
    "    os.system(command.format(input=input, output=output))\n",
    "    \n",
    "files = [file for file in os.listdir(input_dir) if file.endswith('.jp2')]\n",
    "\n",
    "if __name__ == '__main__':\n",
    "  start = timer()\n",
    "  p = Pool(4)\n",
    "  p.map(process, files)\n",
    "  end = timer()\n",
    "  print(end - start)\n",
    "  \n",
    "  # start = timer()\n",
    "  # for file in files:\n",
    "  #   process(file)\n",
    "  # end = timer()\n",
    "  # print(end - start)"
   ]
  },
  {
   "cell_type": "code",
   "execution_count": null,
   "id": "d3c19865-f245-4ede-a8a4-74c79e93ae00",
   "metadata": {},
   "outputs": [],
   "source": []
  }
 ],
 "metadata": {
  "kernelspec": {
   "display_name": "Python 3 (ipykernel)",
   "language": "python",
   "name": "python3"
  },
  "language_info": {
   "codemirror_mode": {
    "name": "ipython",
    "version": 3
   },
   "file_extension": ".py",
   "mimetype": "text/x-python",
   "name": "python",
   "nbconvert_exporter": "python",
   "pygments_lexer": "ipython3",
   "version": "3.10.8"
  }
 },
 "nbformat": 4,
 "nbformat_minor": 5
}
