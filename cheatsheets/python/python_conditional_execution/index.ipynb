{
 "cells": [
  {
   "cell_type": "markdown",
   "id": "0f5b4dad",
   "metadata": {},
   "source": [
    "# Python conditional execution"
   ]
  },
  {
   "cell_type": "markdown",
   "id": "7bf4826e",
   "metadata": {},
   "source": [
    "## Conditional execution\n",
    "### Simple If - else block:"
   ]
  },
  {
   "cell_type": "code",
   "execution_count": 1,
   "id": "c6c597ce",
   "metadata": {},
   "outputs": [
    {
     "name": "stdout",
     "output_type": "stream",
     "text": [
      "A greater than or equal to 10\n"
     ]
    }
   ],
   "source": [
    "a = 20\n",
    "\n",
    "if a < 10:\n",
    "    print(\"A less than 10\")\n",
    "else:\n",
    "    print(\"A greater than or equal to 10\")"
   ]
  },
  {
   "cell_type": "markdown",
   "id": "c0abd07d",
   "metadata": {},
   "source": [
    "### Implementing a switch block using `elif`"
   ]
  },
  {
   "cell_type": "code",
   "execution_count": 5,
   "id": "48b366fa",
   "metadata": {},
   "outputs": [
    {
     "name": "stdout",
     "output_type": "stream",
     "text": [
      "a is greater than 10 but less than 15\n"
     ]
    }
   ],
   "source": [
    "a = 13\n",
    "\n",
    "if a < 5:\n",
    "    print(\"a is less than 5\")\n",
    "elif a < 10:\n",
    "    print(\"a is greater than 5 but less than 10\")\n",
    "elif a < 15:\n",
    "    print(\"a is greater than 10 but less than 15\")\n",
    "else:\n",
    "    print(\"a is greater than 15\")"
   ]
  },
  {
   "cell_type": "markdown",
   "id": "f131e0a8",
   "metadata": {},
   "source": [
    "### Between check"
   ]
  },
  {
   "cell_type": "code",
   "execution_count": 6,
   "id": "daa2b011",
   "metadata": {},
   "outputs": [
    {
     "name": "stdout",
     "output_type": "stream",
     "text": [
      "A is between 5 and 25\n"
     ]
    }
   ],
   "source": [
    "a = 16\n",
    "\n",
    "if 5 < a < 25:\n",
    "    print(\"A is between 5 and 25\")"
   ]
  },
  {
   "cell_type": "markdown",
   "id": "9f439ab8",
   "metadata": {},
   "source": [
    "### Ternary operator"
   ]
  },
  {
   "cell_type": "code",
   "execution_count": 8,
   "id": "52e48d15",
   "metadata": {},
   "outputs": [
    {
     "data": {
      "text/plain": [
       "'a greater than or equal 5'"
      ]
     },
     "execution_count": 8,
     "metadata": {},
     "output_type": "execute_result"
    }
   ],
   "source": [
    "a=5\n",
    "'a less than 5' if a < 5 else 'a greater than or equal 5'"
   ]
  },
  {
   "cell_type": "markdown",
   "id": "1ee17cd1",
   "metadata": {},
   "source": [
    "### Truthy checks\n",
    "How do the following evaluate on a truthy check?"
   ]
  },
  {
   "cell_type": "code",
   "execution_count": 11,
   "id": "4e04257e",
   "metadata": {},
   "outputs": [
    {
     "name": "stdout",
     "output_type": "stream",
     "text": [
      "0: False\n",
      "1: , True\n",
      "-1: , True\n",
      "5: , True\n",
      "True: , True\n",
      "False: False\n",
      "[]: False\n",
      "a: , True\n",
      ": False\n",
      " : , True\n",
      "{'a': 'vak'}: , True\n",
      "{}: False\n"
     ]
    }
   ],
   "source": [
    "my_list = [0, 1, -1, 5, True, False, [], 'a', '', ' ', {'a':'vak'}, {}]\n",
    "\n",
    "for e in my_list:\n",
    "    print(f'{e}: , True') if e else print(f'{e}: False')"
   ]
  },
  {
   "cell_type": "markdown",
   "id": "1ba232b0",
   "metadata": {},
   "source": [
    "We see that `0`, `False`, **empty string**, **empty list**, **empty dict** eval to **`False`**. While `1`, `-1`, **string with space or any char** all eval to `True`."
   ]
  },
  {
   "cell_type": "code",
   "execution_count": null,
   "id": "aee2b4cd",
   "metadata": {},
   "outputs": [],
   "source": []
  }
 ],
 "metadata": {
  "kernelspec": {
   "display_name": "Python 3 (ipykernel)",
   "language": "python",
   "name": "python3"
  },
  "language_info": {
   "codemirror_mode": {
    "name": "ipython",
    "version": 3
   },
   "file_extension": ".py",
   "mimetype": "text/x-python",
   "name": "python",
   "nbconvert_exporter": "python",
   "pygments_lexer": "ipython3",
   "version": "3.9.7"
  },
  "nikola": {
   "title": "Python - conditional execution"
  }
 },
 "nbformat": 4,
 "nbformat_minor": 5
}
