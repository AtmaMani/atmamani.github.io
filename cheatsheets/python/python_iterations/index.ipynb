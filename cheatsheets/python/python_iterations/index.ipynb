{
 "cells": [
  {
   "cell_type": "markdown",
   "id": "46becaf8-86c9-4577-974a-0e602b623ab3",
   "metadata": {},
   "source": [
    "## Loops\n",
    "### for loop"
   ]
  },
  {
   "cell_type": "code",
   "execution_count": 70,
   "id": "65d9c975-6f44-4e0d-8571-db4e94dfd6d3",
   "metadata": {},
   "outputs": [
    {
     "name": "stdout",
     "output_type": "stream",
     "text": [
      "1\n",
      "2\n",
      "3\n",
      "4\n",
      "5\n",
      "6\n",
      "7\n"
     ]
    }
   ],
   "source": [
    "list1 = [1,2,3,4,5,6,7]\n",
    "for element in list1:\n",
    "    print(element)"
   ]
  },
  {
   "cell_type": "code",
   "execution_count": 71,
   "id": "1abc5840-b99d-4828-be8f-f81507480c33",
   "metadata": {},
   "outputs": [
    {
     "name": "stdout",
     "output_type": "stream",
     "text": [
      "1  squared  1\n",
      "2  squared  4\n",
      "3  squared  9\n",
      "4  squared  16\n",
      "5  squared  25\n",
      "6  squared  36\n",
      "7  squared  49\n"
     ]
    }
   ],
   "source": [
    "for element in list1:\n",
    "    print(element, \" squared \", element*element)"
   ]
  },
  {
   "cell_type": "code",
   "execution_count": 72,
   "id": "46475d90-02c2-44da-b920-a60d94c047a5",
   "metadata": {},
   "outputs": [
    {
     "name": "stdout",
     "output_type": "stream",
     "text": [
      "11\n",
      "12\n",
      "13\n",
      "14\n",
      "15\n",
      "16\n",
      "17\n",
      "18\n",
      "19\n"
     ]
    }
   ],
   "source": [
    "for count in range(11,20):\n",
    "    print(str(count))"
   ]
  },
  {
   "cell_type": "markdown",
   "id": "792563d7-c7b1-4182-ade5-74cccc203e75",
   "metadata": {},
   "source": [
    "### For-else statement\n",
    "\n",
    "The `else` block of the For-else is run if the for loop runs without encountering a break statement"
   ]
  },
  {
   "cell_type": "code",
   "execution_count": 19,
   "id": "ac374a4e-595e-49b8-8b20-8c99f9ced9e9",
   "metadata": {},
   "outputs": [
    {
     "name": "stdout",
     "output_type": "stream",
     "text": [
      "1 2 3 4 5 \n",
      "No multiples of 7 found in this series\n"
     ]
    }
   ],
   "source": [
    "# Find the multiple of 7\n",
    "\n",
    "for i in range(1,6):\n",
    "    print(i, end= \" \")\n",
    "    \n",
    "    if i % 7 == 0:\n",
    "        print(f'\\nMultiple of 7 found: {i}')\n",
    "        break\n",
    "else:\n",
    "    print('\\nNo multiples of 7 found in this series')"
   ]
  },
  {
   "cell_type": "code",
   "execution_count": null,
   "id": "1eec9616-1449-4fe7-8aa1-ca3f7476ae6f",
   "metadata": {},
   "outputs": [],
   "source": []
  },
  {
   "cell_type": "markdown",
   "id": "360ffdb3-19a9-4cce-96f0-611437f0248f",
   "metadata": {},
   "source": [
    "### While loop\n",
    "\n",
    "```python\n",
    "while <condition>:\n",
    "    statements\n",
    "    \n",
    "```\n",
    "Runs until condition becomes false."
   ]
  },
  {
   "cell_type": "code",
   "execution_count": 5,
   "id": "e62bebf4-8575-498b-aa2c-59a10028d9c1",
   "metadata": {},
   "outputs": [
    {
     "name": "stdout",
     "output_type": "stream",
     "text": [
      "5\n",
      "6\n",
      "7\n",
      "8\n",
      "9\n"
     ]
    }
   ],
   "source": [
    "a = 5\n",
    "while a < 10:\n",
    "    print(a)\n",
    "    a += 1"
   ]
  },
  {
   "cell_type": "markdown",
   "id": "2d2f744a-e1a4-4098-86b3-7827844d30e3",
   "metadata": {},
   "source": [
    "#### Do While loop emulation in Python\n",
    "There is no do while loop, but we can jimmy one. Do-while pattern is good in scenarios where an iterable code needs to be run at-least once."
   ]
  },
  {
   "cell_type": "code",
   "execution_count": 6,
   "id": "9248fe71-5a4c-49f5-91ba-b6d82147f351",
   "metadata": {},
   "outputs": [
    {
     "name": "stdout",
     "output_type": "stream",
     "text": [
      "5\n",
      "6\n",
      "7\n",
      "8\n",
      "9\n"
     ]
    }
   ],
   "source": [
    "a = 5\n",
    "\n",
    "while True:  ## Do-while emulation\n",
    "    print(a)\n",
    "    a += 1\n",
    "    if a >= 10:\n",
    "        break"
   ]
  },
  {
   "cell_type": "code",
   "execution_count": 8,
   "id": "3ee8456e-8cde-44f8-90aa-e3e26f39b610",
   "metadata": {},
   "outputs": [
    {
     "name": "stdout",
     "output_type": "stream",
     "text": [
      "Enter your username: ./\\\n",
      "Enter your username: --0\n",
      "Enter your username: 90\n",
      "Enter your username: atma\n",
      "Hello atma\n"
     ]
    }
   ],
   "source": [
    "# Fashion a username getter that won't give up until a valid username is input.\n",
    "\n",
    "min_char = 2\n",
    "\n",
    "while True:\n",
    "    name = input(\"Enter your username: \")\n",
    "    if len(name) >= min_char and name.isprintable() and name.isalpha():\n",
    "        break\n",
    "\n",
    "print(f\"Hello {name}\")"
   ]
  },
  {
   "cell_type": "markdown",
   "id": "183146d7-0652-489a-814b-09216ec6f984",
   "metadata": {},
   "source": [
    "#### While Else loop\n",
    "The While-Else offers an option where the Else block get executed if the While block **did not encounter** a break statement. This is useful to insert logic that needs to run if the while loop iterated to its entirity."
   ]
  },
  {
   "cell_type": "code",
   "execution_count": 13,
   "id": "12f9d2c1-e5c1-4490-a3e6-96eb12f7dd1c",
   "metadata": {},
   "outputs": [
    {
     "name": "stdout",
     "output_type": "stream",
     "text": [
      "[9, 18, 27, 36]\n"
     ]
    }
   ],
   "source": [
    "# check if an element exists and append it to a list.\n",
    "l = [9,18,27]\n",
    "idx = 0\n",
    "val = 36\n",
    "\n",
    "while idx < len(l):\n",
    "    if l[idx] == val:\n",
    "        break  # no need to append\n",
    "    idx += 1\n",
    "\n",
    "else:\n",
    "    l.append(val)\n",
    "\n",
    "print(l)"
   ]
  },
  {
   "cell_type": "markdown",
   "id": "df7ca351-4cda-410e-950c-3d4fe51ada66",
   "metadata": {},
   "source": [
    "### Continue statement\n",
    "Allows a loop to skip an interation when some condition is met"
   ]
  },
  {
   "cell_type": "code",
   "execution_count": 11,
   "id": "3381e9a2-8f6f-43cf-8d86-0a5c71ca3783",
   "metadata": {},
   "outputs": [
    {
     "name": "stdout",
     "output_type": "stream",
     "text": [
      "5\n",
      "6\n",
      "Skipped\n",
      "8\n",
      "9\n",
      "10\n",
      "11\n",
      "12\n"
     ]
    }
   ],
   "source": [
    "a = 4\n",
    "while True:\n",
    "    a += 1\n",
    "    if a == 7:  # skip on condition\n",
    "        print(\"Skipped\")\n",
    "        continue\n",
    "    print(a)\n",
    "    \n",
    "    if a > 11:\n",
    "        break\n",
    "    "
   ]
  },
  {
   "cell_type": "markdown",
   "id": "22d45809-94a7-4282-8510-61e19593847f",
   "metadata": {},
   "source": [
    "## Comprehensions\n",
    "Comprehensions are an effective way to loop through sequences\n",
    "\n",
    "### List comprehension\n",
    "       [operation for index in sequence condition] "
   ]
  },
  {
   "cell_type": "code",
   "execution_count": 73,
   "id": "077785fc-aa98-4825-9f44-a894ced5f78c",
   "metadata": {},
   "outputs": [
    {
     "data": {
      "text/plain": [
       "[1, 4, 9, 16, 25, 36, 49]"
      ]
     },
     "execution_count": 73,
     "metadata": {},
     "output_type": "execute_result"
    }
   ],
   "source": [
    "list2_comp = [e*e for e in list1]\n",
    "list2_comp"
   ]
  },
  {
   "cell_type": "code",
   "execution_count": 74,
   "id": "b410955a-0652-472e-b211-79bdb4db8d62",
   "metadata": {},
   "outputs": [
    {
     "data": {
      "text/plain": [
       "[4, 16, 36]"
      ]
     },
     "execution_count": 74,
     "metadata": {},
     "output_type": "execute_result"
    }
   ],
   "source": [
    "list2_even = [e*e for e in list1 if e%2==0]\n",
    "list2_even"
   ]
  },
  {
   "cell_type": "markdown",
   "id": "5f998574-361f-4637-89c7-c697b471fb27",
   "metadata": {},
   "source": [
    "### Dictionary comprehension\n",
    "Same as list comprehension, but instead of lists, it returns a dictionary. You use {} instead of []\n",
    "    \n",
    "    {key:value for key, value in dictionary if condition}"
   ]
  },
  {
   "cell_type": "code",
   "execution_count": 39,
   "id": "616094d4-aff1-45f1-a13c-5ef002367744",
   "metadata": {
    "collapsed": true,
    "jupyter": {
     "outputs_hidden": true
    }
   },
   "outputs": [],
   "source": [
    "d3 = {'day':'Thursday',\n",
    "     'day_of_week':5,\n",
    "     'start_of_week':'Sunday',\n",
    "     'day_of_year':123,\n",
    "     'dod':{'month_of_year':'Feb',\n",
    "           'year':2017},\n",
    "     'list1':[8,7,66]}"
   ]
  },
  {
   "cell_type": "code",
   "execution_count": 43,
   "id": "2d3def15-3512-427f-a1a7-da25e294e5da",
   "metadata": {},
   "outputs": [
    {
     "data": {
      "text/plain": [
       "{'list1': [8, 7, 66]}"
      ]
     },
     "execution_count": 43,
     "metadata": {},
     "output_type": "execute_result"
    }
   ],
   "source": [
    "# get those kvp whose value is a list\n",
    "{k:v for k,v in d3.items() if type(v)==list}"
   ]
  },
  {
   "cell_type": "markdown",
   "id": "a968bc40-ec6f-4413-8577-930247707d61",
   "metadata": {},
   "source": [
    "reverse keys and values? - works only when values are immutable types. hence filter them out"
   ]
  },
  {
   "cell_type": "code",
   "execution_count": 45,
   "id": "362f162a-2370-459f-83fb-e2434a1b4369",
   "metadata": {},
   "outputs": [
    {
     "data": {
      "text/plain": [
       "{'day': 'Thursday',\n",
       " 'day_of_week': 5,\n",
       " 'day_of_year': 123,\n",
       " 'start_of_week': 'Sunday'}"
      ]
     },
     "execution_count": 45,
     "metadata": {},
     "output_type": "execute_result"
    }
   ],
   "source": [
    "d4 = {k:v for k,v in d3.items() if type(v) not in [list, dict]}\n",
    "d4"
   ]
  },
  {
   "cell_type": "code",
   "execution_count": 47,
   "id": "1a4ba0ae-f536-4c05-92f5-22e799d3ad47",
   "metadata": {},
   "outputs": [
    {
     "data": {
      "text/plain": [
       "{'Thursday': 'day',\n",
       " 5: 'day_of_week',\n",
       " 'Sunday': 'start_of_week',\n",
       " 123: 'day_of_year'}"
      ]
     },
     "execution_count": 47,
     "metadata": {},
     "output_type": "execute_result"
    }
   ],
   "source": [
    "# reverse keys and values\n",
    "d4_reverse = {v:k for k,v in d4.items()}\n",
    "d4_reverse"
   ]
  },
  {
   "cell_type": "code",
   "execution_count": null,
   "id": "a9680e69-f523-4c1c-8ece-e8d53e3999d1",
   "metadata": {
    "collapsed": true,
    "jupyter": {
     "outputs_hidden": true
    }
   },
   "outputs": [],
   "source": []
  }
 ],
 "metadata": {
  "kernelspec": {
   "display_name": "Python 3 (ipykernel)",
   "language": "python",
   "name": "python3"
  },
  "language_info": {
   "codemirror_mode": {
    "name": "ipython",
    "version": 3
   },
   "file_extension": ".py",
   "mimetype": "text/x-python",
   "name": "python",
   "nbconvert_exporter": "python",
   "pygments_lexer": "ipython3",
   "version": "3.9.7"
  },
  "nikola": {
   "title": "Python - iteration"
  }
 },
 "nbformat": 4,
 "nbformat_minor": 5
}
