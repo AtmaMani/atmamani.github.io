{
 "cells": [
  {
   "cell_type": "markdown",
   "metadata": {},
   "source": [
    "# Probability distributions - 1\n",
    "\n",
    "**ToC**\n",
    " - [Axioms of probability](#Axioms-of-probability)\n",
    " - [Conditional probability](#Conditional-probability)\n",
    "   - [Bayesian conditional probability](#Bayesian-conditional-probability)\n",
    " - [Random variables](#Random-variables)\n",
    "   - [Properties of discrete random variables](#Properties-of-discrete-random-variables)\n",
    "   - [Binomial and Poisson discrete random variables](#Binomial-and-Poisson-discrete-random-variables)\n",
    "\n",
    "### Axioms of probability\n",
    "$$\n",
    "0 \\leq P(A) \\leq 1\n",
    "\\\\\n",
    "P(A) + P(\\bar A) = 1\n",
    "\\\\\n",
    "P(A \\verb ! or ! B) = P(A) + P(B)\n",
    "$$"
   ]
  },
  {
   "cell_type": "markdown",
   "metadata": {},
   "source": [
    "Probability ranges from 0 to 1. The sum of P(A) and the opposite of A occuring is 1. For mutually exclusive events A and B, the Probability of either A or B ocurring is sum of their probabilities.\n",
    "\n",
    "**Mutually exclusive**: Two events are considered mutually exclusive, if when an event is performed once, the occurrence of one of the events excludes the possibility of another.\n",
    "\n",
    "For two independent events, probabilities of their union and intersection can be represented as"
   ]
  },
  {
   "cell_type": "markdown",
   "metadata": {},
   "source": [
    "$$\n",
    "P(A \\cup B) = P(A) + P(B) - P(A \\cap B)\n",
    "$$"
   ]
  },
  {
   "cell_type": "markdown",
   "metadata": {},
   "source": [
    "If A and B are mutually exclusive, then $P(A \\cap B) = 0$\n",
    "\n",
    "The reason we negate `P(A intersection B)` can be seen from the venn diagram below. Probabilities of A and B are (0.5 and 0.2). The probability of both A and B ocurring is 0.05. Thus to not double count the intersection, we negate it."
   ]
  },
  {
   "cell_type": "code",
   "execution_count": 4,
   "metadata": {},
   "outputs": [
    {
     "data": {
      "text/plain": [
       "<matplotlib_venn._common.VennDiagram at 0x11a436ef0>"
      ]
     },
     "execution_count": 4,
     "metadata": {},
     "output_type": "execute_result"
    },
    {
     "data": {
      "image/png": "[encoded data removed]",
      "text/plain": [
       "<matplotlib.figure.Figure at 0x1101021d0>"
      ]
     },
     "metadata": {},
     "output_type": "display_data"
    }
   ],
   "source": [
    "import matplotlib.pyplot as plt\n",
    "%matplotlib inline\n",
    "from matplotlib_venn import venn2\n",
    "venn2(subsets = (0.45, 0.15, 0.05), set_labels = ('A', 'B'))"
   ]
  },
  {
   "cell_type": "markdown",
   "metadata": {},
   "source": [
    "## Conditional Probability\n",
    "Generally, conditional probability is more helpful in explaining a situtation than general probabilities.\n",
    "\n",
    "Given two events `A` and `B` with non zero probabilities, then the probability of A occurring, given that B has occurs is\n",
    "\n",
    "$$\n",
    "P(A|B) = \\frac{P(A \\cap B)}{P(B)}\n",
    "$$\n",
    "\n",
    "and\n",
    "$$\n",
    "P(B|A) = \\frac{P(A \\cap B)}{P(A)}\n",
    "$$"
   ]
  },
  {
   "cell_type": "markdown",
   "metadata": {},
   "source": [
    "The $P(A/B)$ probability of A given that B occurs, is the probability of A and B occurring $P(A \\cap B)$ to the probability of B occurring $P(B)$. Thus if `A` and `B` are `mutually exclusive`, then there is no conditional probability."
   ]
  },
  {
   "cell_type": "markdown",
   "metadata": {},
   "source": [
    "**Example**\n",
    "Consider the case of insurance fraud. In table below, you are given insurance type and what rate of them are fraud claims."
   ]
  },
  {
   "cell_type": "code",
   "execution_count": 2,
   "metadata": {},
   "outputs": [],
   "source": [
    "import pandas as pd\n",
    "df = pd.DataFrame([[6,1,3,'Fradulent'],[14,29,47,'Not Fradulent']], \n",
    "                  columns=['Fire', 'Auto','Other','Status'])"
   ]
  },
  {
   "cell_type": "code",
   "execution_count": 3,
   "metadata": {},
   "outputs": [
    {
     "data": {
      "text/html": [
       "<div>\n",
       "<style scoped>\n",
       "    .dataframe tbody tr th:only-of-type {\n",
       "        vertical-align: middle;\n",
       "    }\n",
       "\n",
       "    .dataframe tbody tr th {\n",
       "        vertical-align: top;\n",
       "    }\n",
       "\n",
       "    .dataframe thead th {\n",
       "        text-align: right;\n",
       "    }\n",
       "</style>\n",
       "<table border=\"1\" class=\"dataframe\">\n",
       "  <thead>\n",
       "    <tr style=\"text-align: right;\">\n",
       "      <th></th>\n",
       "      <th>Fire</th>\n",
       "      <th>Auto</th>\n",
       "      <th>Other</th>\n",
       "      <th>Status</th>\n",
       "    </tr>\n",
       "  </thead>\n",
       "  <tbody>\n",
       "    <tr>\n",
       "      <th>0</th>\n",
       "      <td>6</td>\n",
       "      <td>1</td>\n",
       "      <td>3</td>\n",
       "      <td>Fradulent</td>\n",
       "    </tr>\n",
       "    <tr>\n",
       "      <th>1</th>\n",
       "      <td>14</td>\n",
       "      <td>29</td>\n",
       "      <td>47</td>\n",
       "      <td>Not Fradulent</td>\n",
       "    </tr>\n",
       "  </tbody>\n",
       "</table>\n",
       "</div>"
      ],
      "text/plain": [
       "   Fire  Auto  Other         Status\n",
       "0     6     1      3      Fradulent\n",
       "1    14    29     47  Not Fradulent"
      ]
     },
     "execution_count": 3,
     "metadata": {},
     "output_type": "execute_result"
    }
   ],
   "source": [
    "df"
   ]
  },
  {
   "cell_type": "markdown",
   "metadata": {},
   "source": [
    "The **total number of claims**: 100, **number of fraud claims**: 10. Thus 10% of all claims are fraud. However, with additional information about type of claims, we can fine grain whether a given claim is fraud, **if we knew the type of claim** (predictor variable)."
   ]
  },
  {
   "cell_type": "markdown",
   "metadata": {},
   "source": [
    "To answer the question, **what is the probability that a claim is fraud, given that it is a Fire claim**?:\n",
    "\n",
    "$$\n",
    "p(Fraud \\ |\\ fire \\ policy) = \\frac{p(fire \\cap fraud)}{p(fire \\ policy)}\n",
    "$$\n",
    "$$\n",
    "p(Fraud \\ | \\ fire \\ policy) = \\frac{0.06}{0.20} = .30\n",
    "$$\n",
    "or 30% of claims are fraud, given that they are of type fire.\n",
    "\n",
    "Here, **`30%`** is called the `conditional probability` and the general **`10%`** is called the `unconditional` or `marginal` probability. Clearly, knowing the conditional probability is of much higher value than knowing the unconditional probability."
   ]
  },
  {
   "cell_type": "markdown",
   "metadata": {
    "collapsed": true
   },
   "source": [
    "### Bayesian conditional probability\n",
    "The Bayesian theorem builds on conditional probability, specifically on prior and posterior probabilities. It states that, if `A` and `B` are any events whose probabilities are not 0 or 1, then:\n",
    "\n",
    "$$\n",
    "P(A|B) = \\frac{P(B|A)P(A)}{P(B|A)P(A) + P(B|\\bar A)P(\\bar A)}\n",
    "$$"
   ]
  },
  {
   "cell_type": "markdown",
   "metadata": {},
   "source": [
    "In reality, we expand the $\\bar A$ case. Thus if $A_1 ,... A_k$ are mutually exclusive `states of nature` and if $B_1 .. B_m$ are `m` possible mutually exclusive observable events, then,"
   ]
  },
  {
   "cell_type": "markdown",
   "metadata": {},
   "source": [
    "$$\n",
    "P(A_i | B_j) = \\frac{P(B_j | A_i)P(A_i)}{P(B_j | A_1)P(A_1) + P(B_j | A_2)P(A_2) + ... + P(B_j | A_k)P(A_k)}\n",
    "$$"
   ]
  },
  {
   "cell_type": "markdown",
   "metadata": {},
   "source": [
    "Consider $A_1 ,... A_k$ as $k$ predictor variables in machine learning. The Naive Bayes classifier will build the conditional probabilities of $p(B_j|A_k)$ to later predict what would $p(A_i | B_j)$ be."
   ]
  },
  {
   "cell_type": "code",
   "execution_count": null,
   "metadata": {},
   "outputs": [],
   "source": []
  }
 ],
 "metadata": {
  "kernelspec": {
   "display_name": "Python 3",
   "language": "python",
   "name": "python3"
  },
  "language_info": {
   "codemirror_mode": {
    "name": "ipython",
    "version": 3
   },
   "file_extension": ".py",
   "mimetype": "text/x-python",
   "name": "python",
   "nbconvert_exporter": "python",
   "pygments_lexer": "ipython3",
   "version": "3.6.5"
  }
 },
 "nbformat": 4,
 "nbformat_minor": 2
}
