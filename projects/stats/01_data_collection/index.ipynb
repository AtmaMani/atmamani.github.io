{
 "cells": [
  {
   "cell_type": "markdown",
   "metadata": {},
   "source": [
    "# Data collection methodologies"
   ]
  },
  {
   "cell_type": "markdown",
   "metadata": {},
   "source": [
    "In scientific studies, data collection can fall under two broad categories\n",
    "\n",
    " - **observational study** - where data is recorded without interfering with the process under study. These can be of 3 basic types\n",
    "  - **sample survey** - provides info about a population at a particular point in time\n",
    "  - **prospective study** - describes the population at present using sample survey and proceeds to follow forward in time to record specific outcomes\n",
    "  - **retrospective study** - describes the population at present using sample survey and records specific occurrence that have already taken place\n",
    " - **experimental study** - where explanatory variables are actively manipulated and the effects on response variables are studied."
   ]
  },
  {
   "cell_type": "markdown",
   "metadata": {
    "collapsed": true
   },
   "source": [
    "### Sampling designs for surveys - observational study\n",
    "\n",
    "The various ways in which data collection experiments can be designed:\n",
    "\n",
    " - **Simple random sampling** - Selecting a group of *n* units in such a way that each sample of size *n* has the equal probability of being selected.\n",
    " \n",
    " - **Stratified random sampling** - grouping the target population into strata based on a known auxiliary variable and then performing simple random sampling on each of the strata\n",
    " \n",
    " - **cluster sampling** - this involves selecting groups (based on convenience of study, such as buildings or city blocks) based on simple random sampling and then surveying or measuring all units within the groups.\n",
    " \n",
    " - **systematic sampling** - this involves selecting every *n*th value from a finite list as the sample. This technique is economical but can he heavily biased."
   ]
  },
  {
   "cell_type": "markdown",
   "metadata": {},
   "source": [
    "### Design of experiments - experimental study\n",
    "\n",
    "There are 2 types of variables in an experimental study - controlled variables (factors) and measured variables (response variables) which are under study\n",
    "\n",
    " - **factorial treatment** - each of the various factors (m,n,o..) affecting the phenomena are combined with one-another. The resulting combinations (m*n*o..) are studied individually\n",
    " \n",
    " - **fractional factorial treatment** - as the number of factors increase, factorial treatment becomes impossible to complete. Then, only a few selected combinations are picked for the study forming a fractional factorial treatment."
   ]
  }
 ],
 "metadata": {
  "kernelspec": {
   "display_name": "Python 3",
   "language": "python",
   "name": "python3"
  },
  "language_info": {
   "codemirror_mode": {
    "name": "ipython",
    "version": 3
   },
   "file_extension": ".py",
   "mimetype": "text/x-python",
   "name": "python",
   "nbconvert_exporter": "python",
   "pygments_lexer": "ipython3",
   "version": "3.6.5"
  }
 },
 "nbformat": 4,
 "nbformat_minor": 2
}
