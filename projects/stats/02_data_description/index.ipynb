{
 "cells": [
  {
   "cell_type": "markdown",
   "metadata": {},
   "source": [
    "# Data Description"
   ]
  },
  {
   "cell_type": "code",
   "execution_count": 8,
   "metadata": {},
   "outputs": [
    {
     "data": {
      "text/html": [
       "<div>\n",
       "<style>\n",
       "    .dataframe thead tr:only-child th {\n",
       "        text-align: right;\n",
       "    }\n",
       "\n",
       "    .dataframe thead th {\n",
       "        text-align: left;\n",
       "    }\n",
       "\n",
       "    .dataframe tbody tr th {\n",
       "        vertical-align: top;\n",
       "    }\n",
       "</style>\n",
       "<table border=\"1\" class=\"dataframe\">\n",
       "  <thead>\n",
       "    <tr style=\"text-align: right;\">\n",
       "      <th></th>\n",
       "      <th>Year</th>\n",
       "      <th>Month</th>\n",
       "      <th>Sales</th>\n",
       "    </tr>\n",
       "  </thead>\n",
       "  <tbody>\n",
       "    <tr>\n",
       "      <th>0</th>\n",
       "      <td>1</td>\n",
       "      <td>1</td>\n",
       "      <td>101.9</td>\n",
       "    </tr>\n",
       "    <tr>\n",
       "      <th>1</th>\n",
       "      <td>2</td>\n",
       "      <td>1</td>\n",
       "      <td>109.0</td>\n",
       "    </tr>\n",
       "    <tr>\n",
       "      <th>2</th>\n",
       "      <td>3</td>\n",
       "      <td>1</td>\n",
       "      <td>115.5</td>\n",
       "    </tr>\n",
       "    <tr>\n",
       "      <th>3</th>\n",
       "      <td>4</td>\n",
       "      <td>1</td>\n",
       "      <td>122.0</td>\n",
       "    </tr>\n",
       "    <tr>\n",
       "      <th>4</th>\n",
       "      <td>5</td>\n",
       "      <td>1</td>\n",
       "      <td>128.1</td>\n",
       "    </tr>\n",
       "  </tbody>\n",
       "</table>\n",
       "</div>"
      ],
      "text/plain": [
       "   Year  Month  Sales\n",
       "0     1      1  101.9\n",
       "1     2      1  109.0\n",
       "2     3      1  115.5\n",
       "3     4      1  122.0\n",
       "4     5      1  128.1"
      ]
     },
     "execution_count": 8,
     "metadata": {},
     "output_type": "execute_result"
    }
   ],
   "source": [
    "import pandas as pd\n",
    "import matplotlib.pyplot as plt\n",
    "%matplotlib inline\n",
    "\n",
    "sales_data = pd.read_csv('datasets_csv/CH03/ex3-14.txt')\n",
    "sales_data.columns = ['Year', 'Month', 'Sales'] #strip out the double quotes\n",
    "sales_data.head()"
   ]
  },
  {
   "cell_type": "markdown",
   "metadata": {},
   "source": [
    "### Measures of central tendancy"
   ]
  },
  {
   "cell_type": "code",
   "execution_count": 14,
   "metadata": {},
   "outputs": [
    {
     "name": "stdout",
     "output_type": "stream",
     "text": [
      "Mean 118.7\n",
      "Median 116.95\n",
      "Mode 0    117.5\n",
      "dtype: float64\n"
     ]
    }
   ],
   "source": [
    "print('Mean ' + str(sales_data.Sales.mean()))\n",
    "print('Median ' + str(sales_data.Sales.median()))\n",
    "print('Mode ' + str(sales_data.Sales.mode()))"
   ]
  },
  {
   "cell_type": "markdown",
   "metadata": {},
   "source": [
    "### Measuring dispersion - Inter Quartile Ranges"
   ]
  },
  {
   "cell_type": "code",
   "execution_count": 17,
   "metadata": {},
   "outputs": [
    {
     "data": {
      "text/plain": [
       "0.25    108.275\n",
       "0.50    116.950\n",
       "0.75    128.175\n",
       "Name: Sales, dtype: float64"
      ]
     },
     "execution_count": 17,
     "metadata": {},
     "output_type": "execute_result"
    }
   ],
   "source": [
    "quartiles = sales_data.Sales.quantile(q=[0.25, 0.5, 0.75])\n",
    "quartiles"
   ]
  },
  {
   "cell_type": "code",
   "execution_count": 21,
   "metadata": {},
   "outputs": [
    {
     "data": {
      "text/plain": [
       "19.899999999999991"
      ]
     },
     "execution_count": 21,
     "metadata": {},
     "output_type": "execute_result"
    }
   ],
   "source": [
    "IQR = quartiles[0.75] - quartiles[0.25]\n",
    "IQR"
   ]
  },
  {
   "cell_type": "markdown",
   "metadata": {},
   "source": [
    "### Histogram of sales data"
   ]
  },
  {
   "cell_type": "code",
   "execution_count": 88,
   "metadata": {},
   "outputs": [
    {
     "data": {
      "text/plain": [
       "<matplotlib.text.Text at 0x120d504a8>"
      ]
     },
     "execution_count": 88,
     "metadata": {},
     "output_type": "execute_result"
    },
    {
     "data": {
      "image/png": "[encoded data removed]",
      "text/plain": [
       "<matplotlib.figure.Figure at 0x121b0aa90>"
      ]
     },
     "metadata": {},
     "output_type": "display_data"
    }
   ],
   "source": [
    "#create a subplot to show box plot and histogram next to each other\n",
    "fig, axs = plt.subplots(nrows=2, ncols=1, figsize=(8,10))\n",
    "\n",
    "#plot a histogram using Pandas.\n",
    "hax = sales_data.Sales.hist(ax = axs[0], bins=15, grid=False)\n",
    "hax.set_title('Histogram of Sales data')\n",
    "\n",
    "#get the axis bounds\n",
    "hax_bounds = hax.axis()\n",
    "\n",
    "#plot the mean in black\n",
    "mean = sales_data.Sales.mean()\n",
    "hax.vlines(mean, hax_bounds[2], hax_bounds[3], label='Mean = ' + str(mean))\n",
    "\n",
    "#plot the median in yellow\n",
    "median= sales_data.Sales.median()\n",
    "hax.vlines(median, hax_bounds[2], hax_bounds[3], label='Median = ' + str(median), colors='yellow')\n",
    "\n",
    "#plot the mode in red\n",
    "mode= sales_data.Sales.mode()[0]\n",
    "hax.vlines(mode, hax_bounds[2], hax_bounds[3], label='Mode = ' + str(mode), colors='red')\n",
    "\n",
    "#Get the standard deviation\n",
    "sd = sales_data.Sales.std()\n",
    "\n",
    "#get mean +- 1SD lines\n",
    "m1sd = mean + 1*sd\n",
    "m1negsd = mean - 1*sd\n",
    "hax.vlines(m1sd, hax_bounds[2], hax_bounds[3], label='Mean + 1SD = ' + str(m1sd), colors='cyan')\n",
    "hax.vlines(m1negsd, hax_bounds[2], hax_bounds[3], label='SD = ' + str(sd), colors='cyan')\n",
    "\n",
    "hax.legend()\n",
    "\n",
    "\n",
    "############## plot 2\n",
    "#now plot the box plot\n",
    "bax = sales_data.Sales.plot(kind='box', ax = axs[1], title = 'Boxplot of Sales data', vert=False)\n",
    "#vert False to make it horizontal\n",
    "\n",
    "#Get the quartiles\n",
    "quartiles = sales_data.Sales.quantile([0.25, 0.5, 0.75])\n",
    "bax.text(quartiles[0.25], 0.75, r'$Q_{0.25}= ' + str(quartiles[0.25])+'$')\n",
    "bax.text(quartiles[0.75], 0.75, r'$Q_{0.75}= ' + str(quartiles[0.75])+'$')\n",
    "\n",
    "#Calculate the IQR\n",
    "iqr = quartiles[0.75] - quartiles[0.25]\n",
    "bax.text(x=150, y=1.25, s='IQR = ' + str(iqr))\n",
    "\n",
    "#Get the Left inner quartile\n",
    "liq = quartiles[0.25] - 1.5*iqr\n",
    "bax.text(x=liq, y=0.85, s=str(liq))\n",
    "\n",
    "#Get the right inner quartile\n",
    "riq = quartiles[0.75] + 1.5*iqr\n",
    "bax.text(x=riq, y=0.85, s=str(riq))\n",
    "\n"
   ]
  },
  {
   "cell_type": "markdown",
   "metadata": {},
   "source": [
    "## Measures of dispersion - Standard Deviation\n",
    "Range (max val - min val), IQR - inter quartile range are a few measures to find the spread of data and outliers. Another quantitative way is variance and standard deviation.\n",
    "\n",
    "$$\n",
    "\\mu = \\verb !population mean (cannot be calculated in most cases)!\n",
    "\\\\\n",
    "\\bar y = \\verb !(y bar) sample mean!\n",
    "\\\\\n",
    "\\bar y = \\frac{\\sum_{i}^{n}y_i}{n}\n",
    "$$"
   ]
  },
  {
   "cell_type": "markdown",
   "metadata": {},
   "source": [
    "`Variance` is the mean squared deviation from mean. Thus $\\sigma^2$ is `variance of population` and $s^2$ is `variance of sample`"
   ]
  },
  {
   "cell_type": "markdown",
   "metadata": {},
   "source": [
    "$$\n",
    "s^2 = \\frac{\\sum_{i}^{n}(y_i - \\bar y)^2}{(n-1)}\n",
    "$$"
   ]
  },
  {
   "cell_type": "markdown",
   "metadata": {},
   "source": [
    "`s` = `standard deviation` is square root of variance.\n",
    "$$\n",
    "s = \\sqrt{\\frac{\\sum_{i}^{n}(y_i - \\bar y)^2}{(n-1)}}\n",
    "$$"
   ]
  },
  {
   "cell_type": "markdown",
   "metadata": {},
   "source": [
    "We divide the sum of squared deviation by `(n-1)` because we don't want the sample SD to be underestimated. This is because, we can estimate the SD of population by averaging the SDs of multiple samples. During this process, if we divided by `n` instead of `n-1`, then the SD of population is underestimated.\n",
    "\n",
    "For a `normal`ly distributed population, empirically,\n",
    "$$\n",
    "\\bar y \\pm 1s = 68\\% \\verb ! of data!\n",
    "\\\\\n",
    "\\bar y \\pm 2s = 95\\% \\verb ! of data!\n",
    "\\\\\n",
    "\\bar y \\pm 3s = 97.7\\% \\verb ! of data!\n",
    "$$"
   ]
  },
  {
   "cell_type": "markdown",
   "metadata": {},
   "source": [
    "Thus range is max - min value. Hence $range = 6s$"
   ]
  },
  {
   "cell_type": "markdown",
   "metadata": {},
   "source": [
    "#### Coefficient of variability\n",
    "To compare the dispersion of two different variables (of different ranges and units), we can normalize them to a common unitless measure called `CV`.\n",
    "\n",
    "$$\n",
    "CV = \\frac{s}{|\\bar y|}\n",
    "$$"
   ]
  },
  {
   "cell_type": "markdown",
   "metadata": {},
   "source": [
    "### Dispersion based on percentiles\n",
    "A `percentile` : `p`th percentile is the value such that `p`% of values are less than this and `100-p`% are higher than that value. Thus `80`th percentile means, `79.9%` of data points are less than this and `19.9%` values are higher than this.\n",
    "\n",
    "**Quantile** is the same as **percentile** but expressed in **decimals**. Thus `80`th percentile = `0.8` quantile.\n",
    "\n",
    "**Quartile** is quantile at every quarter. Thus `0.25`, `0.5`, `0.75` quantiles are quartiles. **Note**: `0.5` quantile is same as **Median**.\n",
    "\n",
    "`IQR` **InterQuartile Range** is the difference between `75`th and `25`th percentiles. (0.75 and 0.25 quartiles)."
   ]
  },
  {
   "cell_type": "markdown",
   "metadata": {},
   "source": [
    "### Correlation coefficient\n",
    "To determine the linear relationship between two variables, we determine how each of the measurement pairs deviate from their corresponding means.\n",
    "\n",
    "$$\n",
    "r = \\frac{\\sum_{i}^{n}(x_i - \\bar x)(y_i - \\bar y)}{(n-1)s_x s_y}\n",
    "$$"
   ]
  },
  {
   "cell_type": "markdown",
   "metadata": {},
   "source": [
    "where $s_x$ is standard deviation of $x$ and so on. **$r$** is called **Pearson's r**\n",
    "\n",
    "`r` ranges from `-1 to 1`. A value of `-1` indicates strong negative relationship and vice versa. A value close to `0` might represent no relationship or presence of a non-linear relationship.\n",
    "\n",
    "The numerator, is called the `covariance` of `x` and `y`, which is the combined deviation from their corresponding means."
   ]
  },
  {
   "cell_type": "markdown",
   "metadata": {},
   "source": [
    "### When is big data needed?\n",
    "Are all problems a big data problem? Can problems be solved with sampling and handling a subset of data? **Yes**, most often, quality and **representiveness** of data is more important than quantity.\n",
    "\n",
    "The cases where big-data is needed is when data is **sparse**, when thousands of **predictors** is required over millions of data points, where values of most predictors is **0**. This is a very sparse data set. For such cases, big data improves the accuracy and random sampling cannot just produce a representative sample."
   ]
  },
  {
   "cell_type": "code",
   "execution_count": null,
   "metadata": {},
   "outputs": [],
   "source": []
  }
 ],
 "metadata": {
  "kernelspec": {
   "display_name": "Python 3",
   "language": "python",
   "name": "python3"
  },
  "language_info": {
   "codemirror_mode": {
    "name": "ipython",
    "version": 3
   },
   "file_extension": ".py",
   "mimetype": "text/x-python",
   "name": "python",
   "nbconvert_exporter": "python",
   "pygments_lexer": "ipython3",
   "version": "3.6.4"
  }
 },
 "nbformat": 4,
 "nbformat_minor": 2
}
