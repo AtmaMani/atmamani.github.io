{
 "cells": [
  {
   "cell_type": "markdown",
   "metadata": {},
   "source": [
    "<img src=http://www.scipy-lectures.org/_images/scikit-learn-logo.png height=\"200\" width=\"400\">"
   ]
  },
  {
   "cell_type": "markdown",
   "metadata": {},
   "source": [
    "# Scikit Learn basics\n",
    "## Library constructs\n",
    "\n",
    "### Estimator\n",
    "Every algorithm is exposed via an `Estimator` which can be imported as\n",
    "\n",
    "```python\n",
    "from sklearn.<family> import <model>\n",
    "```\n",
    "\n",
    "for linear regression\n",
    "```python\n",
    "from sklearn.linear_model import LinearRegression\n",
    "lm_model = LinearRegression(<estimator parameters>)\n",
    "```\n",
    "\n",
    "**Estimator parameters** are provided as arguments when you instantiate an Estimator. Sklearn provides good defaults.\n",
    "\n",
    "In Scikit-learn, Estimators are designed such that\n",
    " - **consistency**: all estimators share a common interface\n",
    " - **inspection**: the hyperparameters you set when you instantiate an estimator is available for inspection as properties of that object\n",
    " - **limited hierarchy**: only the algorithms are represented as Python objects. Training data, results, parameter names follow standard Python or Numpy / Pandas types\n",
    " - **composition**: many workflows can be achieved as a series of more fundamental algorithms\n",
    " - **sensible defaults**: you guessed it.\n",
    "\n",
    "### General steps when using Scikit-learn\n",
    " - choose a class of model\n",
    " - instantiate a model from the class by specifying hyperparameters to its constructor\n",
    " - arrange data into `X` and `y` and split them for training and testing\n",
    " - fit / learn the model on training data by calling **`fit()`** method\n",
    " - predict new values by calling the **`predict()`** method\n",
    " - evaluate results\n",
    "\n",
    "\n",
    "### Train-test split\n",
    "To split the input data into train and validation sets, use\n",
    "```python\n",
    "from sklearn.model_selection import train_test_split\n",
    "x_train, x_test, y_train, y_test = train_test_split(x,y,test_size=0.3)\n",
    "```\n",
    "to split it at 70% train and 30% test sets. This method splits both the dependent and independent attributes so as to validate the prediction.\n",
    "\n",
    "### Training\n",
    "The general syntax is `model.fit(independent_train, dependent_train)`. Thus\n",
    "```python\n",
    "lm_model.fit(x_train, y_train)\n",
    "```\n",
    "\n",
    "In case of **unsupervised models** you only have a training data, no test data. Hence\n",
    "```python\n",
    "model.fit(x_train)\n",
    "```\n",
    "\n",
    "In Scikit-Learn, by convention all model parameters that were learned during the `fit()` process have trailing underscores; for example in this linear model, we have `model.coef_`, `model.intercept_`\n",
    "\n",
    "#### Training score\n",
    "A `model.score()` method returns the a value `0-1` illustrating how well the model fitted the training data. Note this is useful to understand the influence of **underfitting** and **overfitting** of training data.\n",
    "\n",
    "### Prediction\n",
    "Use `model.predict(<independent_test data>)`. Thus for linear reg,\n",
    "```python\n",
    "y_predicted = lm_model.predict(x_test)\n",
    "```\n",
    "#### Prediction probabilities\n",
    "In case of **classification** problems, you also get a `model.predict_proba()` method which will return the probabilities for each class. The `model.predict()` will return the class with highest probability.\n",
    "\n",
    "### Transformation\n",
    "Relevant in **unsupervised** models, `model.transform()` is used to transform input data to a new basis. Some models combine the fitting and transformation in one step using the `model.fit_transform()` method.\n",
    "\n",
    "### Validation\n",
    "You can obtain the **MAE** (Mean Absolute Error), **MSE** (Mean Squared Error) and **RMSE** (Root Mean Squared Error) from the `metrics` module.\n",
    "\n",
    "```python\n",
    "from sklearn import metrics\n",
    "import numpy.np\n",
    "\n",
    "metrics.mean_absolute_error(y_test, y_predicted)\n",
    "metrics.mean_squared_error(y_test, y_predicted)\n",
    "np.sqrt(metrics.mean_squared_error(y_test, y_predicted)\n",
    "```"
   ]
  },
  {
   "cell_type": "code",
   "execution_count": null,
   "metadata": {
    "collapsed": true
   },
   "outputs": [],
   "source": []
  }
 ],
 "metadata": {
  "kernelspec": {
   "display_name": "Python 3",
   "language": "python",
   "name": "python3"
  },
  "language_info": {
   "codemirror_mode": {
    "name": "ipython",
    "version": 3
   },
   "file_extension": ".py",
   "mimetype": "text/x-python",
   "name": "python",
   "nbconvert_exporter": "python",
   "pygments_lexer": "ipython3",
   "version": "3.6.2"
  }
 },
 "nbformat": 4,
 "nbformat_minor": 2
}
