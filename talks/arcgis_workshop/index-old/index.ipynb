{
 "cells": [
  {
   "cell_type": "markdown",
   "metadata": {},
   "source": [
    "# <center>ArcGIS API for Python</center>\n",
    "## <center>Two day hands-on training. March 5-6 2017 @ Palm Springs, CA</center>"
   ]
  },
  {
   "cell_type": "markdown",
   "metadata": {},
   "source": [
    "**Table of contents**\n",
    "### Day 1\n",
    " - #### Intro to Python\n",
    "  - [Python data structures](day1/02_intro_to_python/python_cheat_sheet_1.ipynb)\n",
    "  - [Download course data](day1/02_intro_to_python/Ex_download_course_data.ipynb)\n",
    "  - [Extract data in archives](day1/02_intro_to_python/Ex_extract_archives.ipynb)\n",
    " - #### Intermediate Python\n",
    "  - [Functions, classes and exception handling](day1/03_intermediate_python/python_cheat_sheet2.ipynb)\n",
    "  - [Getting used to Conda, the Python package and env manager](day1/03_intermediate_python/conda_cheat_sheet.ipynb)\n",
    "  - [Exercise - conda](day1/03_intermediate_python/Ex_interm_python_conda.ipynb)\n",
    "    - [Finished - conda](day1/03_intermediate_python/Ex_interm_python_conda_finished.ipynb)\n",
    " - #### Introduction to GIS\n",
    "  - [GIS crash course](day1/04_intro_to_GIS/gis_crash_course.ipynb)\n",
    " - #### Introduction to the ArcGIS Platform\n",
    " - #### Introduction to the ArcGIS Python API\n",
    "  - [Working with the map widget](day1/06_intro_to_ArcGIS_Python_api/06_WorkingWithTheMapWidget.ipynb)\n",
    "  - [Using the GIS with ArcGIS Online](day1/06_intro_to_ArcGIS_Python_api/L06_UsingTheGis_ArcGisOnline.ipynb)\n",
    "  - [Using the GIS with Portal for ArcGIS](day1/06_intro_to_ArcGIS_Python_api/L06_UsingTheGis_Portal.ipynb)\n",
    " - #### Portal administration\n",
    "  - [Gather info about org](day1/07_portal_administration/gather_org_info.ipynb)\n",
    "  - [Create groups](day1/07_portal_administration/L07_OrgAdministration_CreateGroup.ipynb)\n",
    "  - [Create users add to group share content with group](day1/07_portal_administration/L07_CreateUserAddToGroupShareContentWithGroup.ipynb)\n",
    "  - [Add participants as admins](day1/07_portal_administration/demo_add_participants_as_admins.ipynb)\n",
    " - #### Server administration\n",
    "  - [Getting started with server module](day1/08_server_administration/getting_started_server_module.ipynb)\n",
    "  - [Inspect site properties](day1/08_server_administration/inspect_site_properties.ipynb)\n",
    "  - [Inspect server contents - folders and services](day1/08_server_administration/inspect_server_contents.ipynb)\n",
    "  - [Inspect service properties](day1/08_server_administration/inspect_service_properties.ipynb)\n",
    "  - [Get usage reports](day1/08_server_administration/get_usage_reports.ipynb)\n",
    " - #### Content publishing\n",
    "  - [Exercise - publish all shape files](day1/09_content_publishing/Ex_publish_all_shp.ipynb)\n",
    "  - [Exercise - compose a web map](day1/09_content_publishing/Ex_compose_web_map.ipynb)\n",
    "  - [Publish feature layer from shape files](day1/09_content_publishing/L09_PublishingFeatureLayerFromShapeFile.ipynb)\n",
    "  - [Publish feature layer from csv](day1/09_content_publishing/L09_PublishingFeatureLayerFromCSV.ipynb)\n",
    " - #### Working with feature data\n",
    "  - [Introduction to the `features` module](day1/10_working_with_feature_data/intro_features_module.ipynb)\n",
    "  - [Accessing and visualizing feature data](day1/10_working_with_feature_data/accessing_and_visualizing_feature_data.ipynb)\n",
    "  - [Editing features](day1/10_working_with_feature_data/editing_features.ipynb)\n",
    "  - [Updating feature layer properties](day1/10_working_with_feature_data/updating_feature_layer_properties.ipynb)\n",
    "  - [Exercise - features module](day1/10_working_with_feature_data/Ex_features_module.ipynb)\n",
    " \n",
    "## Day 2\n",
    " - #### Working with feature data continued\n",
    "  - [Ordering a data takeout](day2/11_working_with_feature_data2/ordering_a_data_takeout.ipynb)\n",
    "  - [Using attachments with feature layers](day2/11_working_with_feature_data2/using_attachments_feature_layers.ipynb)\n",
    " - #### Geocoding and spatial analysis\n",
    "  - [Introduction to `geocoding`](day2/12_geocoding_spatial_analysis/introduction_geocoding.ipynb)\n",
    "  - [Batch geocoding](day2/12_geocoding_spatial_analysis/batch_geocoding.ipynb)\n",
    "  - [Reverse geocoding](day2/12_geocoding_spatial_analysis/reverse_geocoding.ipynb)\n",
    "  - [Analyzing feature data - Proximity](day2/12_geocoding_spatial_analysis/feature_analysis.ipynb)\n",
    "  - [Analyzing feature data - Overlay](day2/12_geocoding_spatial_analysis/spatial_analysis.ipynb)\n",
    " - #### Working with vector big data\n",
    "  - [Vector big data processing](day2/13_vector_big_data/vector_geoanalytics.ipynb)\n",
    "  - [Analyze GeoAnalytics results](day2/13_vector_big_data/data_analysis_geoanalytics.ipynb)\n",
    " - #### Working with raster big data\n",
    "  - [Analyze raster data](day2/14_raster_big_data/analyze_raster_bigdata.ipynb)\n",
    "  - [Distributed raster analytics](day2/14_raster_big_data/distributed_raster_analysis.ipynb)\n",
    " - Recap"
   ]
  }
 ],
 "metadata": {
  "kernelspec": {
   "display_name": "Python 3",
   "language": "python",
   "name": "python3"
  },
  "language_info": {
   "codemirror_mode": {
    "name": "ipython",
    "version": 3
   },
   "file_extension": ".py",
   "mimetype": "text/x-python",
   "name": "python",
   "nbconvert_exporter": "python",
   "pygments_lexer": "ipython3",
   "version": "3.6.8"
  }
 },
 "nbformat": 4,
 "nbformat_minor": 2
}
