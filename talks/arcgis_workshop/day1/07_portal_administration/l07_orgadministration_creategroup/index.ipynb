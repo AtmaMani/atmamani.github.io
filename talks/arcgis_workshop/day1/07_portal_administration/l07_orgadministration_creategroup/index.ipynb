{
 "cells": [
  {
   "cell_type": "code",
   "execution_count": 4,
   "metadata": {
    "collapsed": false
   },
   "outputs": [],
   "source": [
    "from arcgis.gis import GIS\n",
    "# connect to GIS with credentials\n",
    "gis = GIS(\"https://www.arcgis.com\", \"<enter username here>\", \"<password>\")\n"
   ]
  },
  {
   "cell_type": "code",
   "execution_count": 5,
   "metadata": {
    "collapsed": false
   },
   "outputs": [
    {
     "data": {
      "text/html": [
       "<div class=\"9item_container\" style=\"height: auto; overflow: hidden; border: 1px solid #cfcfcf; border-radius: 2px; background: #f6fafa; line-height: 1.21429em; padding: 10px;\">\n",
       "                    <div class=\"item_left\" style=\"width: 210px; float: left;\">\n",
       "                       <a href='https://www.arcgis.com/home/group.html?id=72433b978e9847a69885223eba1d4900' target='_blank'>\n",
       "                        <img src='data:image/png;base64,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' ' class=\"itemThumbnail\">\n",
       "                       </a>\n",
       "                    </div>\n",
       "\n",
       "                    <div class=\"item_right\" style=\"float: none; width: auto; overflow: hidden;\">\n",
       "                        <a href='https://www.arcgis.com/home/group.html?id=72433b978e9847a69885223eba1d4900' target='_blank'><b>New York City Emergency Management</b>\n",
       "                        </a>\n",
       "                        <br/>\n",
       "                        <br/><b>Summary</b>: NYC open data\n",
       "                        <br/><b>Description</b>: Group to work with New York City Emergency Management\n",
       "                        <br/><b>Owner</b>: BenRamsethEsri5\n",
       "                        <br/><b>Created</b>: February 13, 2017\n",
       "\n",
       "                    </div>\n",
       "                </div>\n",
       "                "
      ],
      "text/plain": [
       "<Group title:\"New York City Emergency Management\" owner:BenRamsethEsri5>"
      ]
     },
     "execution_count": 5,
     "metadata": {},
     "output_type": "execute_result"
    }
   ],
   "source": [
    "nyc_group = gis.groups.create(title='New York City Emergency Management',\n",
    "                                    tags = 'nyc, Emergency Management',\n",
    "                                    description = 'Group to work with New York City Emergency Management',\n",
    "                                    snippet = 'NYC open data',\n",
    "                                    access = 'org',\n",
    "                                    is_invitation_only = 'False',\n",
    "                                    thumbnail = r'C:\\ArcGISPythonAPI_Code\\NYC_icon.png')\n",
    "nyc_group"
   ]
  },
  {
   "cell_type": "code",
   "execution_count": 7,
   "metadata": {
    "collapsed": false
   },
   "outputs": [
    {
     "data": {
      "text/plain": [
       "[<Group title:\"New York City Emergency Management\" owner:BenRamsethEsri5>]"
      ]
     },
     "execution_count": 7,
     "metadata": {},
     "output_type": "execute_result"
    }
   ],
   "source": [
    "nyc_group = gis.groups.search('New York City Emergency Management')\n",
    "nyc_group"
   ]
  },
  {
   "cell_type": "code",
   "execution_count": 8,
   "metadata": {
    "collapsed": false
   },
   "outputs": [
    {
     "data": {
      "text/html": [
       "<div class=\"9item_container\" style=\"height: auto; overflow: hidden; border: 1px solid #cfcfcf; border-radius: 2px; background: #f6fafa; line-height: 1.21429em; padding: 10px;\">\n",
       "                    <div class=\"item_left\" style=\"width: 210px; float: left;\">\n",
       "                       <a href='https://www.arcgis.com/home/group.html?id=72433b978e9847a69885223eba1d4900' target='_blank'>\n",
       "                        <img src='data:image/png;base64,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' ' class=\"itemThumbnail\">\n",
       "                       </a>\n",
       "                    </div>\n",
       "\n",
       "                    <div class=\"item_right\" style=\"float: none; width: auto; overflow: hidden;\">\n",
       "                        <a href='https://www.arcgis.com/home/group.html?id=72433b978e9847a69885223eba1d4900' target='_blank'><b>New York City Emergency Management</b>\n",
       "                        </a>\n",
       "                        <br/>\n",
       "                        <br/><b>Summary</b>: NYC open data\n",
       "                        <br/><b>Description</b>: Group to work with New York City Emergency Management\n",
       "                        <br/><b>Owner</b>: BenRamsethEsri5\n",
       "                        <br/><b>Created</b>: February 13, 2017\n",
       "\n",
       "                    </div>\n",
       "                </div>\n",
       "                "
      ],
      "text/plain": [
       "<Group title:\"New York City Emergency Management\" owner:BenRamsethEsri5>"
      ]
     },
     "execution_count": 8,
     "metadata": {},
     "output_type": "execute_result"
    }
   ],
   "source": [
    "nyc_group[0]"
   ]
  },
  {
   "cell_type": "code",
   "execution_count": null,
   "metadata": {
    "collapsed": true
   },
   "outputs": [],
   "source": []
  }
 ],
 "metadata": {
  "kernelspec": {
   "display_name": "Python 3",
   "language": "python",
   "name": "python3"
  },
  "language_info": {
   "codemirror_mode": {
    "name": "ipython",
    "version": 3
   },
   "file_extension": ".py",
   "mimetype": "text/x-python",
   "name": "python",
   "nbconvert_exporter": "python",
   "pygments_lexer": "ipython3",
   "version": "3.5.3"
  }
 },
 "nbformat": 4,
 "nbformat_minor": 2
}
