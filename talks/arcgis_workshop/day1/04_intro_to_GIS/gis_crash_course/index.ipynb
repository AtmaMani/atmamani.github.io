{
 "cells": [
  {
   "cell_type": "markdown",
   "metadata": {
    "slideshow": {
     "slide_type": "slide"
    }
   },
   "source": [
    "# GIS crash course"
   ]
  },
  {
   "cell_type": "markdown",
   "metadata": {
    "slideshow": {
     "slide_type": "slide"
    }
   },
   "source": [
    "## GIS is everywhere!\n",
    " - 80% of all data has some spatial component\n",
    " - Spatial data is pervasive across several industries\n",
    ".\n",
    "<table>\n",
    "<tr>\n",
    "<td>\n",
    " - police 911 call locations\n",
    " - tracks of hurricanes\n",
    " - 3d seismic data\n",
    " - oil pipeline tracks across the country\n",
    " - shipping tracks of oil containers\n",
    " - fastest route from Palm Springs to LAX\n",
    "</td>\n",
    "<td>\n",
    " - steaming traffic data from sensors\n",
    " - real estate data in sunny Palm Springs (Location! Location! Location!)\n",
    " - weather data from NOAA satellites, automated weather stations\n",
    " - facility and utility maps of sewers, electricity lines\n",
    "</td>\n",
    "</tr>\n",
    "</table>"
   ]
  },
  {
   "cell_type": "markdown",
   "metadata": {
    "slideshow": {
     "slide_type": "subslide"
    }
   },
   "source": [
    "Data from newer sources of late\n",
    "\n",
    " - IP address pings\n",
    " - geocoded photos on flickr, facebook, tweets\n",
    " - 3D maps of genomes\n",
    " - 3D viz of medical imaging\n",
    " - Extra terrestrial maps for space travel, orbital maps for space crafts\n",
    " - drone mapping data"
   ]
  },
  {
   "cell_type": "markdown",
   "metadata": {
    "slideshow": {
     "slide_type": "slide"
    }
   },
   "source": [
    "## How to represent all this data?\n",
    "\n",
    "### Vector or feature data\n",
    "It is quite suprising that so many types of GIS data can be represented using **points, lines and polygons**\n",
    "![plp](http://desktop.arcgis.com/en/arcmap/10.3/manage-data/geodatabases/GUID-49497935-EDB0-4BCA-8861-8BE08F89AAA9-web.gif)"
   ]
  },
  {
   "cell_type": "markdown",
   "metadata": {
    "slideshow": {
     "slide_type": "subslide"
    }
   },
   "source": [
    "Sometimes when you have 3D data, it is represented using multipatches - consider these as 3D polygons but can also have textures\n",
    "![multipatch](http://desktop.arcgis.com/en/arcmap/10.3/manage-data/geodatabases/GUID-1D9BF03A-35AD-4FCD-9D3C-CFE07B57B08E-web.png)\n",
    "\n",
    "Feature data are suitable for representing spatially discrete phenomena such as locations of street lamps, railway tracks, state boundaries, 3D building footprints etc."
   ]
  },
  {
   "cell_type": "markdown",
   "metadata": {
    "slideshow": {
     "slide_type": "slide"
    }
   },
   "source": [
    "### Raster and imagery data\n",
    "To represent continuous phenomena such as images of Earth taken from space, rainfall and temperature distribution throughout the state etc., we need raster datasets.\n",
    "![sat image](https://learn.arcgis.com/en/arcgis-imagery-book/images/ch1/01-fig-1-8bcde.jpg)"
   ]
  },
  {
   "cell_type": "markdown",
   "metadata": {
    "slideshow": {
     "slide_type": "subslide"
    }
   },
   "source": [
    "Rasters are great for representing elevation data. Each pixel is the elevation of that ground unit from a datum\n",
    "![](http://desktop.arcgis.com/en/arcmap/latest/manage-data/terrains/GUID-5C16026B-2B88-402B-AB18-D4B9C1D13079-web.gif)"
   ]
  },
  {
   "cell_type": "markdown",
   "metadata": {
    "slideshow": {
     "slide_type": "fragment"
    }
   },
   "source": [
    "Fundamentally, all rasters are a matrix of numbers\n",
    "![](http://desktop.arcgis.com/en/arcmap/latest/manage-data/raster-and-images/GUID-6754AF39-CDE9-4F9D-8C3A-D59D93059BDD-web.png)"
   ]
  },
  {
   "cell_type": "markdown",
   "metadata": {
    "slideshow": {
     "slide_type": "slide"
    }
   },
   "source": [
    "## GIS data in ArcGIS"
   ]
  },
  {
   "cell_type": "markdown",
   "metadata": {
    "collapsed": true,
    "slideshow": {
     "slide_type": "slide"
    }
   },
   "source": [
    "### GIS data accessed as files on disk\n",
    "What are some common data formats?\n",
    "\n",
    "<table>\n",
    "<tr>\n",
    "<td>\n",
    " - <i>shp</i>, coverages\n",
    " - <b>csv</b>\n",
    " - <i>esri file geodatabases (fgdb)</i>\n",
    " - feature datasets\n",
    " - feature classes\n",
    " - esri raster grid, mosaic dataset\n",
    " - kml, geoJSON\n",
    " - GeoTIFF, HDF, netCDF\n",
    " - gpx\n",
    "</td>\n",
    "<td>\n",
    " - ArcGIS Packages\n",
    " - layer, map, project, gp, network, address, tile, scene etc\n",
    " - maps, scenes\n",
    "</td>\n",
    "</tr>\n",
    "</table> ."
   ]
  },
  {
   "cell_type": "markdown",
   "metadata": {
    "slideshow": {
     "slide_type": "slide"
    }
   },
   "source": [
    "### GIS data accessed via web layers\n",
    "GIS data served over HTTP. What are the different types of ArcGIS services?\n",
    "<table>\n",
    "<tr>\n",
    "<td>\n",
    " - <b>Feature service\n",
    " - Map service\n",
    " - Geocode service\n",
    " - Geoprocessing service\n",
    " - Image service\n",
    " - Big data catalog service\n",
    " - Network service\n",
    " - Schematic service\n",
    " - Stream service</b>\n",
    "</td>\n",
    "<td>\n",
    " - <i>Scene service\n",
    " - Vector tile service</i>\n",
    " - Data reviewer service\n",
    " - Geodata service\n",
    " - Mobile service\n",
    "</td>\n",
    " </tr>\n",
    " </table>\n",
    "The API can work with a number of popular web layers (in bold) and is quickly gaining support for other layer types as well."
   ]
  },
  {
   "cell_type": "markdown",
   "metadata": {
    "slideshow": {
     "slide_type": "subslide"
    }
   },
   "source": [
    "The graphic below shows the different modules in the API. The module names correspond to the layer types they work with\n",
    "\n",
    "![](http://esri.github.io/arcgis-python-api/notebooks/nbimages/guide_api_overview_01.png)"
   ]
  },
  {
   "cell_type": "code",
   "execution_count": 2,
   "metadata": {
    "collapsed": false,
    "slideshow": {
     "slide_type": "slide"
    }
   },
   "outputs": [],
   "source": [
    "from arcgis.gis import *\n",
    "gis=GIS()\n",
    "gis.map()"
   ]
  }
 ],
 "metadata": {
  "celltoolbar": "Slideshow",
  "kernelspec": {
   "display_name": "Python 3",
   "language": "python",
   "name": "python3"
  },
  "language_info": {
   "codemirror_mode": {
    "name": "ipython",
    "version": 3
   },
   "file_extension": ".py",
   "mimetype": "text/x-python",
   "name": "python",
   "nbconvert_exporter": "python",
   "pygments_lexer": "ipython3",
   "version": "3.5.3"
  },
  "widgets": {
   "state": {
    "96bcd0db96934006916ee948183f527e": {
     "views": [
      {
       "cell_index": 12
      }
     ]
    }
   },
   "version": "1.2.0"
  }
 },
 "nbformat": 4,
 "nbformat_minor": 2
}
