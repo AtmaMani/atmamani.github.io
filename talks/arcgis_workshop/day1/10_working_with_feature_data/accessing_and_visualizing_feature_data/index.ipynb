{
 "cells": [
  {
   "cell_type": "markdown",
   "metadata": {},
   "source": [
    "# Accessing and visualizing feature data\n",
    "\n",
    " - from feature service with multiple layers\n",
    " - from feature collection items\n",
    " - from a map service with feature access enabled"
   ]
  },
  {
   "cell_type": "code",
   "execution_count": 1,
   "metadata": {
    "collapsed": true
   },
   "outputs": [],
   "source": [
    "from arcgis.gis import *\n",
    "from getpass import getpass"
   ]
  },
  {
   "cell_type": "code",
   "execution_count": 2,
   "metadata": {
    "collapsed": false
   },
   "outputs": [
    {
     "name": "stdout",
     "output_type": "stream",
     "text": [
      "········\n"
     ]
    }
   ],
   "source": [
    "password=getpass()\n",
    "gis = GIS(\"https://pycontraptions.maps.arcgis.com\", \"atma_mani\", password)"
   ]
  },
  {
   "cell_type": "markdown",
   "metadata": {},
   "source": [
    "Search for a feature service titled 'fortune_500_styled_wfl'"
   ]
  },
  {
   "cell_type": "code",
   "execution_count": 3,
   "metadata": {
    "collapsed": false
   },
   "outputs": [
    {
     "data": {
      "text/plain": [
       "[<Item title:\"fortune_500_styled_wfl\" type:Feature Service owner:atma_mani>]"
      ]
     },
     "execution_count": 3,
     "metadata": {},
     "output_type": "execute_result"
    }
   ],
   "source": [
    "search_result = gis.content.search('title:fortune_500_styled_wfl', item_type = 'Feature Layer')\n",
    "search_result"
   ]
  },
  {
   "cell_type": "code",
   "execution_count": 5,
   "metadata": {
    "collapsed": false
   },
   "outputs": [
    {
     "data": {
      "text/html": [
       "<div class=\"item_container\" style=\"height: auto; overflow: hidden; border: 1px solid #cfcfcf; border-radius: 2px; background: #f6fafa; line-height: 1.21429em; padding: 10px;\">\n",
       "                    <div class=\"item_left\" style=\"width: 210px; float: left;\">\n",
       "                       <a href='https://pycontraptions.maps.arcgis.com/home/item.html?id=0a3a3963fb4a452b8c34c484f8383b48' target='_blank'>\n",
       "                        <img src='data:image/png;base64,iVBORw0KGgoAAAANSUhEUgAAAMgAAACFCAIAAACR/CB7AAAACXBIWXMAAA7EAAAOxAGVKw4bAAAP9ElEQVR4nO2dfXAUZZ7Hvz2dnrzAgECMvKlAsRvDq7qsZdQ93sTi/rgFQ5ZLXMGF9W1Llr3bZW/PcmtLl7O8XYRibym50iIqUYxWCFLBk4NcBHHNShBIQhJhIZFIMAsJCZmEZLqnu++PznR6enpmema65+kMz6dSqZ6nn376yfQ3v9/v+T1PdzOyLINCsRoX6Q5QUhMqLIotUGFRbIEKi2ILVFgUW3CusDYwDOkuUOLHucIC1dZIhnFgHkunpx2yrBbucF5vKYakke5AEIYmitqtkYizhBUVQ2NGcSCOcIWW2CQqMkcxwixWBKgxcxTkLZatIRSVFykIpxtoYJ6qODqPRRm5kBQWNVcpDIHgnerpZiB1RoWvvDePdBcow9AYi2ILBCzWDlmOyRtSUzQSIWOxaHop5SHmCqm2UhuSMZZJbT1fXG93TyiWQzh4p3YrVSGWblAX7mm1FRrU08h9hEJGWKHLQXWSonoa6SRbWFoBUfuUwiRPWHQm56YiecG7LpwyJO4B4OHy9tCS0EJK0hjZc4XhpEMlRZxkCyvyfE4iMRYVk6MgmXlXPKMZF0kZcZBf866ygWHis1gRbFVBeWcCPaLEz0iKsWQZR870fSJ5u7JFnpOzfMzEy9wPp4wj3S+KATYKS42lTHq6yObqVKvvlbRvW3/kOzvPh0CQ5haYQ3/xeprE4o6s7Cy6tsxB2O4Ko8rLWzZfyTJEENa7F7pfu/dqw/JBw72MH3l/5NYd8cwYqx8WUFdICmIxlrdsvsmaR7/u/7fvtTc/bKwqlTl/zPz50Qyd3aLCIgUx9+EpqjNTjffLr4zpiKoqAGd+NfD2jP6E+0WxBmLCMmmxdrV1nS4YMNUii/Mr/W1epwxyb3LIjAoNVWWYNXh/jvfGbZLJZq8skj7Z43uiNyOhzlGsgIDFMq8qAF2TxBiaZnH5TiG+XlGshYDF8hTVKdoyMwkzMDo21xZrfYpNkImxPEV1kVVVvbdL2XCJsS22ccVi4Cj24bjMuyopZeOWRZkdMBe8A5Axupuu+nIEybZYFYXZFYXZ4faqqlKZdEkyryvXRVd+R3poufmcGcUqiKUb1NRl5BzmmpYsz/+YNUJ5X+a9WnK9oLxT+QHgLZtPVUUER6xuUGxYqLlasmoCgNLvDu5/ql+eFqWRjC8yym4rWzF9Regub9l8bT5W95FiB46LsVQUVQFYcy7jxlcPHsIhTAtb2X3CvSltk6GqFBS75SmqG3LE5dl0tsdWnLIioKC8M8IiiGd2ffn035/OPJxpEG9dw/jK8a+PfX3zgs3hDvcU1Skmyls2v6C8c1nhlOq9XfTmDltxhCvUsoFhFIVpY3zFuqydxFx9Z3mD0NDJdfLgs+SsicLEhWMX7rhvR2ZappnGFSeo/KavurAVxwlLQauq6r1dFl5+1Scqy3WosGzCKa4wHKqL3MAwljgvT1Hd88X1qrmiY0abcKKwVHOleEBVUlZZF2079N4em3CisBTUUZt6M4+17asjxAgJW0rcOC7GUi5zEnIBoYMDioU4KI+1gWHU3FUSKCjvVDOlFYXZywqn0KyphTjCYmmj8iQP07xl8w+Xt1fv7VJu5aDasgryMZaauCJ1S/SywinKBlWVhZB/SZNNsblJFDHRbJblEHOFqqQoKYkjYixK6kFgoV+Sz0ghQvLSDUlLUFGcQJKEVVFI1z/dXNAYi2IL5PNYlJQkUWHRYJxiCHWFUZAkacuWLfuu7eue1C24hYyBjJzWnI1LNno8nqpvqzo9nTzLZ/mzJnVPWnXfqrlz55Lur1OgwopEaWnpr7/9dc+KHt93hh8jCD/Yoyx7huVX8rhzqMwtuu9uujvvdN7vF/3+jjvuINRfB0GFFZYn/+vJPbP2DCzV3L9xFLgdmAEAEIFKsFNZccHwXf0u0fVQ5UNbb9+6YMGCZHcXAMBopvPJXlkqLGO2vrX1hekv+P7BF1TqAlzABaiGitvPCfcICLZQC/cv3H3v7iTYLSZkrXZNc4m6nZ+3XrsryReaCsuAvr6+qaVTrz97HQBkMFWM3CHDAxQAALLB/h8rzhUBQAQ+AIqDjxex+oPV7z/2vuUdi6ykyOTnrU/mtXbQQj/nsPaNtdcfvw6ArWWlfZI8ScZUoDywuxPiKRGngYXAHcAcsA0BnSmwqJ1z+FTFP86Z6VEKuHmzhfpGdRuAUN+obCjbhtWE+kZJwvb/7dl3rbd7Uve5fz2nykixRuZVpVRWdCnLchI8JhWWAZ+N/gzZYHeyoiTiKWAawACFmhobgDrgJNgrrHiPiA+B4OFg66zutz//estMg0GiIilVQ9y82YNNZwF4igpUVSmU1cm/av2w959l310iNDLKz1sfk6RUlKMYhtEerrOCVumMCssA7y1e5nVGzBWxZKhk1KOjBl2DohgwS33AdrBrWFe7S8wRxcyQp3KxOD+217DxUIvlKSrwllVo93rLKp6pOPHeg22Dj4tw6SOn+FSlUtNcojV4utYYxproiMZYBnBbOf98P5ZqikITyZng3uX8Xr/cJGMKcCfgB7rBfn/ILf6gdPRH7hkZs3KH2gzISEHnCtVtvq7x6JXM/6w8dnTl1+Ji2XJVaZvSlej8bILCoBZLD8/zoksMUtUUo3oDcO1xyS/IeBzDKS4RYpOIUmAhWAkIDpt0qK5Q+egtqzg7M//F2s/+dl//ubxeLIZ9qkLAbhm2r3rMRLRFhaVnZ/VOuUjzhbYA3xrX9O3z4YPAh78DtwEsMBeYBVSC/caTsSLXMEhXUXZx82Z7yyr2Zs/YLuyve7YD24HH9apKAqEuMhFt0UloPQcHD2Ki5vPssDUhAqsD2zOBq4FtFliJjqm+85+eASDUNwr1jd6yCiVIV1DidwTUVjv9nlfHfF53fwcAjAZCJmCtNVcKqpK0JdpCdSAZB1RYeuoFzeuD3wZ84asC7kr30JOV+oGioF2Na679ti/I1nmKCnSRFgBu3myeF19sO9L4/StDRbfY6wS1hGpLVxi3tqiw9PS4e4Y/6L9zPbyPxxLgSwDAEaBJs4/F4Qd7N5acPnPeC0CN4lUUSwZgZ3XtycUaCa5OthMMxVBwMUFjLD1+2T+0tQYwE2B8EUhxyUARoLF33nyp5HJL7bj23H3pm+9/4HYMxVhanyjUNx7iL/RP4K3pvXWo0X18wRYVlh63z82DB4B3TR9zMbBxBqgCHgYwFM7zo8UvF9049dCNb94//krnPbsqLhwc1d4/XZDamtJ65DEnXc9NnnxpdfRXUJElDm1RYelhbjAYADIBCegCvgP0GNfk5nLCSQG3BldYB3wDAJgJtAAsAEhpON7S+wPxMP5DlnOH0xM9ovj88Ta5DBgElOenOslyhaYkzENjLD2543JxLPDhpbCqAiA0COBCKrSD280BgXBe+Sf/d/ju98kvyvJdAVUdBQCwkPJleZuMy0jfnA4A1fqz2Be5K0QOp+IOtqjF0jMnc86pzFPiRREDwH+HrRZhgYqwURhKUhwBVsG12SUtl7Ao+PjFwDHgQQAAC/wM8hsy9gOPko/cLYEKS88fHvhD5eeVXc1d2AL4h8sjXG/drvy89XgEACADWyH9S4iqFBYHOT5+PY9fJNJxZ0FdoZ4cT846zzomj8EDwEdDheFUlZ+3Xv1RC2uaS9Ad+NAKTA457GUAgB94bbgs7Z00TLeg/zYRa0KLTkIbk/d83ldLv8IyI2ukIYJDHI5OpgTCeRX135kBxOASIxHbGmZFbVytENNSQeoKDejr62vJaTFUVUwOcUhb7eB2c8LaoTd0jnp0VD8C766WgaeAXUnKs8dHfGNDKiwDil8r5n/Dh1qjWFdsqjZM2Chg7VC576PgSaJdKRKt66DCMuDAbw5YYkJUD4Je4AXgZWAK/H6/rsKIINYl8zR4j4IlKzYBuP/sxtmgFTgjSFVxQIWlR7sk3Kpwp6a5hO/jtStwDJvVjS61lROcEg6HmT8wvi+BCisIO1SlUNNcAkmzHYI64xt1KYtV2DpKoMIij2KotNfYPhOVNKiwjLFpxSbCZCXMnMtatcX0B8ZxsysVlgE2+YjQZiOcyFaHGOsfGEcWnQqLGFGvrk3aitVWxXcWKqxhdLcI24rJqxtBW3Fc8tBgLmp9xHuDIU2QOh3dXVlqIWK3PXH828Q9lUyFRYBYr3E4GRnev6U9S7hdJjuZyAIFurphGMUV2h25J9K+eRkhscx+4s88ohZrGN3zfRxIhDU8w/OSRjVjwpInaVFhjWAiqCeO5RhILFrXQUeFqUxMI0fFUNHnY9mFTWGWfdFbZMyHZdZG21RYSYXsvVwIFpOt4zbqCoOQZXmkz/4akv5iOiSgFtxeDgKeLHnS7mwAFZaelMy/+Db7AOBuyOdksKi4WmH3Gamwbg6UR3mx8Of4AVzzXGtoaLD1hFRYBtjkEHWpJjuI0Hj6gXQMABkAgPH45Z9+aV83QIUVDju0lZ+3Pr0q3do2zcCyLADfoA9LAAmQgQzUjKmx9aQOGhXKslxVVZXar9QaXDrIINnJffUp4q5al3RRwkVgGgbaByIflSBOEdaJEydeOvvShfwLzUub1W/eLbo/bvo4bzeZV2opMzxWZQeS/MYRQziO8/3Zx+VyQoEgn7K3M44Q1ltVb20ftb3usTpdOc/yx+cePzHrRGtl69YrBF6pZZW2iKuK4zhBEARBwGQI9wpgwEj2Gk7yMVb1F9Wvjnm17n69qlQkVvp05aebLm1qa2tLZscUEg+2dKqyL1UWoVlBEABIkoTTQCYgI63HXptCeNkMz/MP73/4WOGx6FVte6WWGZRVDxbO6Vq+WtWkWDmOE6YLOIjlR5Z/vO5jCzugg7DF2lm98+Tik6aqsqidU2t39iUcyuwswTldqxAEAd/AfdB9YO0BW09EOMY6xB/qn9AfvR4AoHVW65sfvrlt7jZbuxSB0AVbcc/p2jEyuHXPrZ2/68SFaLUHMO2TaezPWEtOHQ7CwrrkvhRDbRbnM8/b1hdT6OSSyIv/LB8ZXH3sKvNTUyH5hEsTEjxpVAi7Qi/rtbW+3cga4jvc2pGBW3KbOaqjoyORk5qBsMVyybEpm5XtNeDJR3WvlowMfD4fgPcuv/eTT37Cj+IxCnABfjBeZowwpumfmiaPDn1wpS0QFlaOmHMhelAQQMY4YZyd3SGDIo6Y3GLkxFjx5OLiHxeH25scCAsr15VbM1CDTFOVXRddhdMKo9cbmVg4MnAChPNYV7xXZn0+q+uRLjOVZ++d3bCqweE30lhIEl4Jbh+Eg/ehZ19fjK6VjC8yXv7eyzePqpDwyIAs5Kd0tjywZVnzMnwdqY77hHtT2qYV01ckqU+UhHHKndDP/PWZ0t7SgYcG9PHWNYz/y/htd2174rtPkOkZJS6cIiwALTdanqt5rkFo6OQ6efBZctZEYeLCsQt33LcjM81ceE9xDA4SFiWVIB9jUVKS/wdREvODPETX0AAAAABJRU5ErkJggg==' width='200' height='133' class=\"itemThumbnail\">\n",
       "                       </a>\n",
       "                    </div>\n",
       "\n",
       "                    <div class=\"item_right\"     style=\"float: none; width: auto; overflow: hidden;\">\n",
       "                        <a href='https://pycontraptions.maps.arcgis.com/home/item.html?id=0a3a3963fb4a452b8c34c484f8383b48' target='_blank'><b>fortune_500_styled_wfl</b>\n",
       "                        </a>\n",
       "                        <br/>fortune 500<img src='https://pycontraptions.maps.arcgis.com/home/js/jsapi/esri/css/images/item_type_icons/featureshosted16.png' style=\"vertical-align:middle;\">Feature Layer Collection by atma_mani\n",
       "                        <br/>Last Modified: March 04, 2017\n",
       "                        <br/>0 comments, 6 views\n",
       "                    </div>\n",
       "                </div>\n",
       "                "
      ],
      "text/plain": [
       "<Item title:\"fortune_500_styled_wfl\" type:Feature Service owner:atma_mani>"
      ]
     },
     "execution_count": 5,
     "metadata": {},
     "output_type": "execute_result"
    }
   ],
   "source": [
    "fortune_fl_item = search_result[0]\n",
    "fortune_fl_item"
   ]
  },
  {
   "cell_type": "markdown",
   "metadata": {},
   "source": [
    "Notice that this is a **Feature Layer Collection**"
   ]
  },
  {
   "cell_type": "markdown",
   "metadata": {},
   "source": [
    "### Accessing a Feature Layer Collection\n",
    "A Feature Layer Collection is simply a collection of Feature Layer objects"
   ]
  },
  {
   "cell_type": "code",
   "execution_count": 6,
   "metadata": {
    "collapsed": false
   },
   "outputs": [],
   "source": [
    "from arcgis.features import FeatureLayerCollection"
   ]
  },
  {
   "cell_type": "code",
   "execution_count": 7,
   "metadata": {
    "collapsed": false
   },
   "outputs": [
    {
     "data": {
      "text/plain": [
       "'https://services7.arcgis.com/xo9aDUkMXBivHk37/arcgis/rest/services/fortune_500_styled/FeatureServer'"
      ]
     },
     "execution_count": 7,
     "metadata": {},
     "output_type": "execute_result"
    }
   ],
   "source": [
    "fortune_fl_item.url"
   ]
  },
  {
   "cell_type": "markdown",
   "metadata": {},
   "source": [
    "Notice the url ends with a `FeatureServer`. We can use this URL to instantiate a `FeatureLayerCollection` object."
   ]
  },
  {
   "cell_type": "code",
   "execution_count": 8,
   "metadata": {
    "collapsed": false
   },
   "outputs": [
    {
     "data": {
      "text/plain": [
       "arcgis.features.layer.FeatureLayerCollection"
      ]
     },
     "execution_count": 8,
     "metadata": {},
     "output_type": "execute_result"
    }
   ],
   "source": [
    "flc = FeatureLayerCollection(fortune_fl_item.url, gis)\n",
    "type(flc)"
   ]
  },
  {
   "cell_type": "code",
   "execution_count": 9,
   "metadata": {
    "collapsed": false
   },
   "outputs": [
    {
     "data": {
      "text/plain": [
       "[<FeatureLayer url:\"https://services7.arcgis.com/xo9aDUkMXBivHk37/arcgis/rest/services/fortune_500_styled/FeatureServer/0\">,\n",
       " <FeatureLayer url:\"https://services7.arcgis.com/xo9aDUkMXBivHk37/arcgis/rest/services/fortune_500_styled/FeatureServer/1\">,\n",
       " <FeatureLayer url:\"https://services7.arcgis.com/xo9aDUkMXBivHk37/arcgis/rest/services/fortune_500_styled/FeatureServer/2\">,\n",
       " <FeatureLayer url:\"https://services7.arcgis.com/xo9aDUkMXBivHk37/arcgis/rest/services/fortune_500_styled/FeatureServer/3\">]"
      ]
     },
     "execution_count": 9,
     "metadata": {},
     "output_type": "execute_result"
    }
   ],
   "source": [
    "flc.layers"
   ]
  },
  {
   "cell_type": "code",
   "execution_count": 10,
   "metadata": {
    "collapsed": false
   },
   "outputs": [
    {
     "data": {
      "text/plain": [
       "arcgis.features.layer.FeatureLayer"
      ]
     },
     "execution_count": 10,
     "metadata": {},
     "output_type": "execute_result"
    }
   ],
   "source": [
    "flc_ly1 = flc.layers[0]\n",
    "type(flc_ly1)"
   ]
  },
  {
   "cell_type": "markdown",
   "metadata": {},
   "source": [
    "Thus `FeatureLayerCollection.layers` = `[FeatureLayer]` objects"
   ]
  },
  {
   "cell_type": "markdown",
   "metadata": {},
   "source": [
    "## Accessing a Feature Layer"
   ]
  },
  {
   "cell_type": "code",
   "execution_count": 11,
   "metadata": {
    "collapsed": false
   },
   "outputs": [
    {
     "data": {
      "text/plain": [
       "arcgis.features.layer.FeatureLayer"
      ]
     },
     "execution_count": 11,
     "metadata": {},
     "output_type": "execute_result"
    }
   ],
   "source": [
    "fl_list = fortune_fl_item.layers\n",
    "type(fl_list[0])"
   ]
  },
  {
   "cell_type": "markdown",
   "metadata": {},
   "source": [
    "Thus FeatureLayer objects can be directly obtained from Item objects as well"
   ]
  },
  {
   "cell_type": "code",
   "execution_count": 12,
   "metadata": {
    "collapsed": false
   },
   "outputs": [
    {
     "data": {
      "text/plain": [
       "[<FeatureLayer url:\"https://services7.arcgis.com/xo9aDUkMXBivHk37/arcgis/rest/services/fortune_500_styled/FeatureServer/0\">,\n",
       " <FeatureLayer url:\"https://services7.arcgis.com/xo9aDUkMXBivHk37/arcgis/rest/services/fortune_500_styled/FeatureServer/1\">,\n",
       " <FeatureLayer url:\"https://services7.arcgis.com/xo9aDUkMXBivHk37/arcgis/rest/services/fortune_500_styled/FeatureServer/2\">,\n",
       " <FeatureLayer url:\"https://services7.arcgis.com/xo9aDUkMXBivHk37/arcgis/rest/services/fortune_500_styled/FeatureServer/3\">]"
      ]
     },
     "execution_count": 12,
     "metadata": {},
     "output_type": "execute_result"
    }
   ],
   "source": [
    "fl_list"
   ]
  },
  {
   "cell_type": "code",
   "execution_count": 13,
   "metadata": {
    "collapsed": false
   },
   "outputs": [
    {
     "name": "stdout",
     "output_type": "stream",
     "text": [
      "cities_over1mil\n",
      "Fortune_500_Corporate_HQ\n",
      "cities_over100k\n",
      "Counties\n"
     ]
    }
   ],
   "source": [
    "for layer in fl_list:\n",
    "    print(layer.properties.name)"
   ]
  },
  {
   "cell_type": "code",
   "execution_count": 14,
   "metadata": {
    "collapsed": true
   },
   "outputs": [],
   "source": [
    "cities_million_pop = fl_list[0]"
   ]
  },
  {
   "cell_type": "code",
   "execution_count": 15,
   "metadata": {
    "collapsed": false
   },
   "outputs": [
    {
     "data": {
      "text/plain": [
       "{\n",
       "  \"xmin\": -13627667.422245564,\n",
       "  \"ymin\": 3473190.4835932995,\n",
       "  \"spatialReference\": {\n",
       "    \"wkid\": 102100,\n",
       "    \"latestWkid\": 3857\n",
       "  },\n",
       "  \"ymax\": 5210794.33529687,\n",
       "  \"xmax\": -8238277.595337318\n",
       "}"
      ]
     },
     "execution_count": 15,
     "metadata": {},
     "output_type": "execute_result"
    }
   ],
   "source": [
    "cities_million_pop.properties.extent"
   ]
  },
  {
   "cell_type": "code",
   "execution_count": 16,
   "metadata": {
    "collapsed": true
   },
   "outputs": [],
   "source": [
    "map1 = gis.map('USA')\n",
    "map1"
   ]
  },
  {
   "cell_type": "code",
   "execution_count": 17,
   "metadata": {
    "collapsed": true
   },
   "outputs": [],
   "source": [
    "map1.add_layer(cities_million_pop)"
   ]
  },
  {
   "cell_type": "markdown",
   "metadata": {},
   "source": [
    "You can visualize `FeatureLayer` objects on the map widget"
   ]
  },
  {
   "cell_type": "markdown",
   "metadata": {},
   "source": [
    "## Accessing FeatureSet objects\n",
    "Let us query the FeatureLayer objected created above to get a `FeatureSet` in return"
   ]
  },
  {
   "cell_type": "code",
   "execution_count": 18,
   "metadata": {
    "collapsed": false
   },
   "outputs": [
    {
     "data": {
      "text/plain": [
       "[{\n",
       "   \"alias\": \"OBJECTID\",\n",
       "   \"nullable\": false,\n",
       "   \"type\": \"esriFieldTypeOID\",\n",
       "   \"editable\": false,\n",
       "   \"defaultValue\": null,\n",
       "   \"domain\": null,\n",
       "   \"name\": \"OBJECTID\",\n",
       "   \"sqlType\": \"sqlTypeOther\"\n",
       " }, {\n",
       "   \"alias\": \"FEATURE\",\n",
       "   \"nullable\": true,\n",
       "   \"length\": 60,\n",
       "   \"editable\": true,\n",
       "   \"defaultValue\": null,\n",
       "   \"domain\": null,\n",
       "   \"type\": \"esriFieldTypeString\",\n",
       "   \"name\": \"FEATURE\",\n",
       "   \"sqlType\": \"sqlTypeOther\"\n",
       " }, {\n",
       "   \"alias\": \"NAME\",\n",
       "   \"nullable\": true,\n",
       "   \"length\": 48,\n",
       "   \"editable\": true,\n",
       "   \"defaultValue\": null,\n",
       "   \"domain\": null,\n",
       "   \"type\": \"esriFieldTypeString\",\n",
       "   \"name\": \"NAME\",\n",
       "   \"sqlType\": \"sqlTypeOther\"\n",
       " }, {\n",
       "   \"alias\": \"POP\",\n",
       "   \"nullable\": true,\n",
       "   \"type\": \"esriFieldTypeDouble\",\n",
       "   \"editable\": true,\n",
       "   \"defaultValue\": null,\n",
       "   \"domain\": null,\n",
       "   \"name\": \"POP\",\n",
       "   \"sqlType\": \"sqlTypeOther\"\n",
       " }]"
      ]
     },
     "execution_count": 18,
     "metadata": {},
     "output_type": "execute_result"
    }
   ],
   "source": [
    "cities_million_pop.properties.fields"
   ]
  },
  {
   "cell_type": "markdown",
   "metadata": {},
   "source": [
    "Let us write an empty query so we can get all the features"
   ]
  },
  {
   "cell_type": "code",
   "execution_count": 19,
   "metadata": {
    "collapsed": false
   },
   "outputs": [
    {
     "data": {
      "text/plain": [
       "arcgis.features.feature.FeatureSet"
      ]
     },
     "execution_count": 19,
     "metadata": {},
     "output_type": "execute_result"
    }
   ],
   "source": [
    "cities_mil_fset = cities_million_pop.query()\n",
    "type(cities_mil_fset)"
   ]
  },
  {
   "cell_type": "code",
   "execution_count": 20,
   "metadata": {
    "collapsed": false
   },
   "outputs": [
    {
     "data": {
      "text/plain": [
       "'esriGeometryPoint'"
      ]
     },
     "execution_count": 20,
     "metadata": {},
     "output_type": "execute_result"
    }
   ],
   "source": [
    "cities_mil_fset.geometry_type"
   ]
  },
  {
   "cell_type": "code",
   "execution_count": 21,
   "metadata": {
    "collapsed": false
   },
   "outputs": [
    {
     "data": {
      "text/plain": [
       "{'latestWkid': 3857, 'wkid': 102100}"
      ]
     },
     "execution_count": 21,
     "metadata": {},
     "output_type": "execute_result"
    }
   ],
   "source": [
    "cities_mil_fset.spatial_reference"
   ]
  },
  {
   "cell_type": "code",
   "execution_count": 22,
   "metadata": {
    "collapsed": false
   },
   "outputs": [
    {
     "data": {
      "text/html": [
       "<div>\n",
       "<table border=\"1\" class=\"dataframe\">\n",
       "  <thead>\n",
       "    <tr style=\"text-align: right;\">\n",
       "      <th></th>\n",
       "      <th>FEATURE</th>\n",
       "      <th>NAME</th>\n",
       "      <th>POP</th>\n",
       "      <th>geometry.x</th>\n",
       "      <th>geometry.y</th>\n",
       "    </tr>\n",
       "    <tr>\n",
       "      <th>OBJECTID</th>\n",
       "      <th></th>\n",
       "      <th></th>\n",
       "      <th></th>\n",
       "      <th></th>\n",
       "      <th></th>\n",
       "    </tr>\n",
       "  </thead>\n",
       "  <tbody>\n",
       "    <tr>\n",
       "      <th>1</th>\n",
       "      <td>Population greater than 999,999   County Seat</td>\n",
       "      <td>Los Angeles</td>\n",
       "      <td>3485398</td>\n",
       "      <td>-1.316297e+07</td>\n",
       "      <td>4.035820e+06</td>\n",
       "    </tr>\n",
       "    <tr>\n",
       "      <th>2</th>\n",
       "      <td>Population greater than 999,999   County Seat</td>\n",
       "      <td>San Diego</td>\n",
       "      <td>1110549</td>\n",
       "      <td>-1.304195e+07</td>\n",
       "      <td>3.857562e+06</td>\n",
       "    </tr>\n",
       "    <tr>\n",
       "      <th>3</th>\n",
       "      <td>Population greater than 999,999   County Seat</td>\n",
       "      <td>New York</td>\n",
       "      <td>7322564</td>\n",
       "      <td>-8.238278e+06</td>\n",
       "      <td>4.970310e+06</td>\n",
       "    </tr>\n",
       "    <tr>\n",
       "      <th>4</th>\n",
       "      <td>Population greater than 999,999   County Seat</td>\n",
       "      <td>Philadelphia</td>\n",
       "      <td>1585577</td>\n",
       "      <td>-8.367174e+06</td>\n",
       "      <td>4.859018e+06</td>\n",
       "    </tr>\n",
       "    <tr>\n",
       "      <th>5</th>\n",
       "      <td>Population greater than 999,999   County Seat</td>\n",
       "      <td>Dallas</td>\n",
       "      <td>1006877</td>\n",
       "      <td>-1.077579e+07</td>\n",
       "      <td>3.866612e+06</td>\n",
       "    </tr>\n",
       "    <tr>\n",
       "      <th>6</th>\n",
       "      <td>Population greater than 999,999   County Seat</td>\n",
       "      <td>Houston</td>\n",
       "      <td>1630553</td>\n",
       "      <td>-1.061585e+07</td>\n",
       "      <td>3.473191e+06</td>\n",
       "    </tr>\n",
       "    <tr>\n",
       "      <th>7</th>\n",
       "      <td>Population greater than 999,999   County Seat</td>\n",
       "      <td>Chicago</td>\n",
       "      <td>2783726</td>\n",
       "      <td>-9.757182e+06</td>\n",
       "      <td>5.138534e+06</td>\n",
       "    </tr>\n",
       "    <tr>\n",
       "      <th>8</th>\n",
       "      <td>Population greater than 999,999   County Seat</td>\n",
       "      <td>Detroit</td>\n",
       "      <td>1027974</td>\n",
       "      <td>-9.244611e+06</td>\n",
       "      <td>5.210796e+06</td>\n",
       "    </tr>\n",
       "  </tbody>\n",
       "</table>\n",
       "</div>"
      ],
      "text/plain": [
       "                                                FEATURE          NAME  \\\n",
       "OBJECTID                                                                \n",
       "1         Population greater than 999,999   County Seat   Los Angeles   \n",
       "2         Population greater than 999,999   County Seat     San Diego   \n",
       "3         Population greater than 999,999   County Seat      New York   \n",
       "4         Population greater than 999,999   County Seat  Philadelphia   \n",
       "5         Population greater than 999,999   County Seat        Dallas   \n",
       "6         Population greater than 999,999   County Seat       Houston   \n",
       "7         Population greater than 999,999   County Seat       Chicago   \n",
       "8         Population greater than 999,999   County Seat       Detroit   \n",
       "\n",
       "              POP    geometry.x    geometry.y  \n",
       "OBJECTID                                       \n",
       "1         3485398 -1.316297e+07  4.035820e+06  \n",
       "2         1110549 -1.304195e+07  3.857562e+06  \n",
       "3         7322564 -8.238278e+06  4.970310e+06  \n",
       "4         1585577 -8.367174e+06  4.859018e+06  \n",
       "5         1006877 -1.077579e+07  3.866612e+06  \n",
       "6         1630553 -1.061585e+07  3.473191e+06  \n",
       "7         2783726 -9.757182e+06  5.138534e+06  \n",
       "8         1027974 -9.244611e+06  5.210796e+06  "
      ]
     },
     "execution_count": 22,
     "metadata": {},
     "output_type": "execute_result"
    }
   ],
   "source": [
    "cities_mil_fset.df"
   ]
  },
  {
   "cell_type": "markdown",
   "metadata": {},
   "source": [
    "## Accessing Feature objects\n",
    "Now get the `Features` from cities over 1 million population `FeatureSet`"
   ]
  },
  {
   "cell_type": "code",
   "execution_count": 23,
   "metadata": {
    "collapsed": false
   },
   "outputs": [
    {
     "data": {
      "text/plain": [
       "list"
      ]
     },
     "execution_count": 23,
     "metadata": {},
     "output_type": "execute_result"
    }
   ],
   "source": [
    "cities_mil_features = cities_mil_fset.features\n",
    "type(cities_mil_features)"
   ]
  },
  {
   "cell_type": "code",
   "execution_count": 24,
   "metadata": {
    "collapsed": false
   },
   "outputs": [
    {
     "data": {
      "text/plain": [
       "8"
      ]
     },
     "execution_count": 24,
     "metadata": {},
     "output_type": "execute_result"
    }
   ],
   "source": [
    "len(cities_mil_features)"
   ]
  },
  {
   "cell_type": "code",
   "execution_count": 25,
   "metadata": {
    "collapsed": false
   },
   "outputs": [
    {
     "data": {
      "text/plain": [
       "arcgis.features.feature.Feature"
      ]
     },
     "execution_count": 25,
     "metadata": {},
     "output_type": "execute_result"
    }
   ],
   "source": [
    "type(cities_mil_features[0])"
   ]
  },
  {
   "cell_type": "code",
   "execution_count": 27,
   "metadata": {
    "collapsed": false
   },
   "outputs": [],
   "source": [
    "f1= cities_mil_features[0]"
   ]
  },
  {
   "cell_type": "code",
   "execution_count": 28,
   "metadata": {
    "collapsed": false
   },
   "outputs": [
    {
     "data": {
      "text/plain": [
       "{'x': -13162974.851296365, 'y': 4035820.2117743446}"
      ]
     },
     "execution_count": 28,
     "metadata": {},
     "output_type": "execute_result"
    }
   ],
   "source": [
    "f1.geometry"
   ]
  },
  {
   "cell_type": "markdown",
   "metadata": {},
   "source": [
    "## Accessing a FeatureCollection object"
   ]
  },
  {
   "cell_type": "code",
   "execution_count": 31,
   "metadata": {
    "collapsed": false
   },
   "outputs": [
    {
     "data": {
      "text/plain": [
       "[<Item title:\"cities_over1mil_fc\" type:Feature Collection owner:atma_mani>]"
      ]
     },
     "execution_count": 31,
     "metadata": {},
     "output_type": "execute_result"
    }
   ],
   "source": [
    "fc_search = gis.content.search('*_fc', item_type='Feature Collection')\n",
    "fc_search"
   ]
  },
  {
   "cell_type": "code",
   "execution_count": 32,
   "metadata": {
    "collapsed": false
   },
   "outputs": [
    {
     "data": {
      "text/html": [
       "<div class=\"item_container\" style=\"height: auto; overflow: hidden; border: 1px solid #cfcfcf; border-radius: 2px; background: #f6fafa; line-height: 1.21429em; padding: 10px;\">\n",
       "                    <div class=\"item_left\" style=\"width: 210px; float: left;\">\n",
       "                       <a href='https://pycontraptions.maps.arcgis.com/home/item.html?id=6a4fcf15433644a99b1b31b39a69ab89' target='_blank'>\n",
       "                        <img src='data:image/png;base64,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' width='200' height='133' class=\"itemThumbnail\">\n",
       "                       </a>\n",
       "                    </div>\n",
       "\n",
       "                    <div class=\"item_right\"     style=\"float: none; width: auto; overflow: hidden;\">\n",
       "                        <a href='https://pycontraptions.maps.arcgis.com/home/item.html?id=6a4fcf15433644a99b1b31b39a69ab89' target='_blank'><b>cities_over1mil_fc</b>\n",
       "                        </a>\n",
       "                        <br/>Large cities of the US<img src='https://pycontraptions.maps.arcgis.com/home/js/jsapi/esri/css/images/item_type_icons/features16.png' style=\"vertical-align:middle;\">Feature Collection by atma_mani\n",
       "                        <br/>Last Modified: March 04, 2017\n",
       "                        <br/>0 comments, 7 views\n",
       "                    </div>\n",
       "                </div>\n",
       "                "
      ],
      "text/plain": [
       "<Item title:\"cities_over1mil_fc\" type:Feature Collection owner:atma_mani>"
      ]
     },
     "execution_count": 32,
     "metadata": {},
     "output_type": "execute_result"
    }
   ],
   "source": [
    "cities_fc_item = fc_search[0]\n",
    "cities_fc_item"
   ]
  },
  {
   "cell_type": "code",
   "execution_count": 33,
   "metadata": {
    "collapsed": false
   },
   "outputs": [
    {
     "data": {
      "text/plain": [
       "'D:\\\\temp\\\\cities_over1mil_fc'"
      ]
     },
     "execution_count": 33,
     "metadata": {},
     "output_type": "execute_result"
    }
   ],
   "source": [
    "cities_fc_item.download(r'D:\\temp')"
   ]
  },
  {
   "cell_type": "code",
   "execution_count": 34,
   "metadata": {
    "collapsed": false
   },
   "outputs": [
    {
     "data": {
      "text/plain": [
       "[<FeatureCollection>]"
      ]
     },
     "execution_count": 34,
     "metadata": {},
     "output_type": "execute_result"
    }
   ],
   "source": [
    "cities_fc = cities_fc_item.layers\n",
    "cities_fc"
   ]
  },
  {
   "cell_type": "code",
   "execution_count": 35,
   "metadata": {
    "collapsed": false
   },
   "outputs": [
    {
     "data": {
      "text/plain": [
       "arcgis.features.feature.FeatureSet"
      ]
     },
     "execution_count": 35,
     "metadata": {},
     "output_type": "execute_result"
    }
   ],
   "source": [
    "fc1 = cities_fc[0]\n",
    "fc1_lyr1 = fc1.query()\n",
    "type(fc1_lyr1)"
   ]
  },
  {
   "cell_type": "code",
   "execution_count": 36,
   "metadata": {
    "collapsed": false
   },
   "outputs": [
    {
     "data": {
      "text/plain": [
       "[{\"geometry\": {\"x\": 1203411, \"y\": 2401940, \"spatialReference\": {\"wkid\": 102100}}, \"attributes\": {\"OBJECTID\": 0, \"FEATURE\": \"1\", \"POP\": 150000000, \"NAME\": \"LA\"}},\n",
       " {\"geometry\": {\"x\": 3600476, \"y\": 2538915, \"spatialReference\": {\"wkid\": 102100}}, \"attributes\": {\"OBJECTID\": 1, \"FEATURE\": \"2\", \"POP\": 143000000, \"NAME\": \"Dallas\"}},\n",
       " {\"geometry\": {\"x\": 6124732, \"y\": 1452898, \"spatialReference\": {\"wkid\": 102100}}, \"attributes\": {\"OBJECTID\": 2, \"FEATURE\": \"3\", \"POP\": 193000000, \"NAME\": \"NYC\"}},\n",
       " {\"geometry\": {\"x\": 4618006, \"y\": 1286571, \"spatialReference\": {\"wkid\": 102100}}, \"attributes\": {\"OBJECTID\": 3, \"FEATURE\": \"4\", \"POP\": 128000000, \"NAME\": \"Chicago\"}}]"
      ]
     },
     "execution_count": 36,
     "metadata": {},
     "output_type": "execute_result"
    }
   ],
   "source": [
    "fc1_lyr1.features"
   ]
  },
  {
   "cell_type": "code",
   "execution_count": 37,
   "metadata": {
    "collapsed": false
   },
   "outputs": [
    {
     "data": {
      "text/html": [
       "<div>\n",
       "<table border=\"1\" class=\"dataframe\">\n",
       "  <thead>\n",
       "    <tr style=\"text-align: right;\">\n",
       "      <th></th>\n",
       "      <th>FEATURE</th>\n",
       "      <th>NAME</th>\n",
       "      <th>POP</th>\n",
       "      <th>geometry.spatialReference.wkid</th>\n",
       "      <th>geometry.x</th>\n",
       "      <th>geometry.y</th>\n",
       "    </tr>\n",
       "    <tr>\n",
       "      <th>OBJECTID</th>\n",
       "      <th></th>\n",
       "      <th></th>\n",
       "      <th></th>\n",
       "      <th></th>\n",
       "      <th></th>\n",
       "      <th></th>\n",
       "    </tr>\n",
       "  </thead>\n",
       "  <tbody>\n",
       "    <tr>\n",
       "      <th>0</th>\n",
       "      <td>1</td>\n",
       "      <td>LA</td>\n",
       "      <td>150000000</td>\n",
       "      <td>102100</td>\n",
       "      <td>1203411</td>\n",
       "      <td>2401940</td>\n",
       "    </tr>\n",
       "    <tr>\n",
       "      <th>1</th>\n",
       "      <td>2</td>\n",
       "      <td>Dallas</td>\n",
       "      <td>143000000</td>\n",
       "      <td>102100</td>\n",
       "      <td>3600476</td>\n",
       "      <td>2538915</td>\n",
       "    </tr>\n",
       "    <tr>\n",
       "      <th>2</th>\n",
       "      <td>3</td>\n",
       "      <td>NYC</td>\n",
       "      <td>193000000</td>\n",
       "      <td>102100</td>\n",
       "      <td>6124732</td>\n",
       "      <td>1452898</td>\n",
       "    </tr>\n",
       "    <tr>\n",
       "      <th>3</th>\n",
       "      <td>4</td>\n",
       "      <td>Chicago</td>\n",
       "      <td>128000000</td>\n",
       "      <td>102100</td>\n",
       "      <td>4618006</td>\n",
       "      <td>1286571</td>\n",
       "    </tr>\n",
       "  </tbody>\n",
       "</table>\n",
       "</div>"
      ],
      "text/plain": [
       "         FEATURE     NAME        POP  geometry.spatialReference.wkid  \\\n",
       "OBJECTID                                                               \n",
       "0              1       LA  150000000                          102100   \n",
       "1              2   Dallas  143000000                          102100   \n",
       "2              3      NYC  193000000                          102100   \n",
       "3              4  Chicago  128000000                          102100   \n",
       "\n",
       "          geometry.x  geometry.y  \n",
       "OBJECTID                          \n",
       "0            1203411     2401940  \n",
       "1            3600476     2538915  \n",
       "2            6124732     1452898  \n",
       "3            4618006     1286571  "
      ]
     },
     "execution_count": 37,
     "metadata": {},
     "output_type": "execute_result"
    }
   ],
   "source": [
    "fc1_lyr1.df"
   ]
  },
  {
   "cell_type": "code",
   "execution_count": null,
   "metadata": {
    "collapsed": true
   },
   "outputs": [],
   "source": []
  }
 ],
 "metadata": {
  "kernelspec": {
   "display_name": "Python 3",
   "language": "python",
   "name": "python3"
  },
  "language_info": {
   "codemirror_mode": {
    "name": "ipython",
    "version": 3
   },
   "file_extension": ".py",
   "mimetype": "text/x-python",
   "name": "python",
   "nbconvert_exporter": "python",
   "pygments_lexer": "ipython3",
   "version": "3.5.3"
  },
  "widgets": {
   "state": {
    "1beb71aa8e97436eaf04040bbb5282a1": {
     "views": [
      {
       "cell_index": 22
      }
     ]
    }
   },
   "version": "1.2.0"
  }
 },
 "nbformat": 4,
 "nbformat_minor": 2
}
