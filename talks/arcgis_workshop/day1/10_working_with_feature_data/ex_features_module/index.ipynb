{
 "cells": [
  {
   "cell_type": "markdown",
   "metadata": {},
   "source": [
    "# Exercise - add new cities and to the `cities over100k` `FeatureLayer`"
   ]
  },
  {
   "cell_type": "markdown",
   "metadata": {},
   "source": [
    "## Goal:\n",
    " - Add 4 new cities 'Jackson, WY', 'Bend, OR', 'Cedar Falls, IA', 'Palm Springs, CA' to the layer `cities over100k`.\n",
    "  - Make up your own values for their population. Better yet, get the 4 quantiles of population column and use them for the population of these 4 cities.\n",
    " - Add a new field called male_femal_ratio, float as data type\n",
    " - Generate random number between bounds [0.7 - 1.3] and assign values for the male_female_ratio for all rows\n",
    " - Update the service description and the item description with a string 'hands on exercise completed'\n",
    " - Explore if you can edit HTML popup for this layer for use when rendered in map widget"
   ]
  },
  {
   "cell_type": "markdown",
   "metadata": {},
   "source": [
    "## Hints\n",
    " - Publish the service definition `datasets/fortune_500_styled_wfl.sd` to your account. This will give you the feature layers to play with\n",
    " - \n",
    " - Read the item as a `FeatureLayer` object and use `edit_features()` method to add new rows - cities\n",
    "  - for calculating the quantiles, read the attribute information as a pandas data frame. To do this, \n",
    "   - call `query()` without any parameters \n",
    " - Get the `FeatureLayerManager` object from the `FeatureLayer` and use `add_to_definition()` to create the new field\n",
    " - Create random values using `numpy` package `random` function\n",
    " - In a loop add the ratio value to all features\n",
    " - Once again call the `edit_features()` now with `updates` argument to feed the sex ratio values"
   ]
  },
  {
   "cell_type": "code",
   "execution_count": null,
   "metadata": {
    "collapsed": true,
    "scrolled": true
   },
   "outputs": [],
   "source": [
    "# connect to your GIS\n",
    "from arcgis.gis import *\n",
    "from getpass import getpass\n",
    "password = getpass()"
   ]
  },
  {
   "cell_type": "code",
   "execution_count": null,
   "metadata": {
    "collapsed": true,
    "scrolled": true
   },
   "outputs": [],
   "source": [
    "gis = GIS('url','username',password)"
   ]
  },
  {
   "cell_type": "code",
   "execution_count": null,
   "metadata": {
    "collapsed": true,
    "scrolled": true
   },
   "outputs": [],
   "source": [
    "# publish the sd file\n",
    "fortune_500_item = gis.content.add({},data='../../datasets/fortune_500_styled_wfl.sd')\n",
    "fortune_500_item"
   ]
  },
  {
   "cell_type": "code",
   "execution_count": null,
   "metadata": {
    "collapsed": true,
    "scrolled": true
   },
   "outputs": [],
   "source": [
    "# get all layers from the item\n",
    "fortune_500_item.layers"
   ]
  },
  {
   "cell_type": "code",
   "execution_count": null,
   "metadata": {
    "collapsed": true,
    "scrolled": true
   },
   "outputs": [],
   "source": [
    "# find which layer is cities_over100k\n",
    "cities_flayer  = fortune_500_item.layers[<appropriate index here>]"
   ]
  },
  {
   "cell_type": "markdown",
   "metadata": {},
   "source": [
    "### Get the attribute table as a data frame"
   ]
  },
  {
   "cell_type": "code",
   "execution_count": null,
   "metadata": {
    "collapsed": true,
    "scrolled": true
   },
   "outputs": [],
   "source": [
    "# create cities_fset by running the query() on cities_flayer\n"
   ]
  },
  {
   "cell_type": "code",
   "execution_count": null,
   "metadata": {
    "collapsed": true,
    "scrolled": true
   },
   "outputs": [],
   "source": [
    "cities_fset.df"
   ]
  },
  {
   "cell_type": "markdown",
   "metadata": {},
   "source": [
    "If you get an error about pandas not found, then save notebook, close all notebooks. Stop the kernel in terminal. Install pandas using the followin command:\n",
    "\n",
    "    conda install pandas\n",
    "\n",
    "Then resume your work, start notebooks. Run the above cell to view the table"
   ]
  },
  {
   "cell_type": "code",
   "execution_count": null,
   "metadata": {
    "collapsed": true,
    "scrolled": true
   },
   "outputs": [],
   "source": [
    "pop_series = cities_fset.df.<name of population column here>\n",
    "pop_quantiles = pop_series.quantile([0,0.25,0.5,0.75]) # to get 4 population values at equal intervals\n",
    "pop_quantiles"
   ]
  },
  {
   "cell_type": "markdown",
   "metadata": {},
   "source": [
    "The above cell give you 4 new population values. Now create a list of dictionaries for 4 new cities"
   ]
  },
  {
   "cell_type": "code",
   "execution_count": null,
   "metadata": {
    "collapsed": true,
    "scrolled": true
   },
   "outputs": [],
   "source": [
    "cities_features = cities_fset.features\n",
    "cities_features[0] # you are viewing the first city"
   ]
  },
  {
   "cell_type": "markdown",
   "metadata": {},
   "source": [
    "Import `geocoding` module and find the coordinates, of the 4 new cities\n"
   ]
  },
  {
   "cell_type": "markdown",
   "metadata": {},
   "source": [
    "### Adding new features"
   ]
  },
  {
   "cell_type": "code",
   "execution_count": null,
   "metadata": {
    "collapsed": true,
    "scrolled": true
   },
   "outputs": [],
   "source": [
    "#from arcgis import ....\n",
    "\n",
    "# find the x, y of the 4 new cities"
   ]
  },
  {
   "cell_type": "code",
   "execution_count": null,
   "metadata": {
    "collapsed": true,
    "scrolled": true
   },
   "outputs": [],
   "source": [
    "# create 4 deep copies of the first feature to use as a template\n",
    "\n",
    "# edit each copy to feed the x,y, name and population.\n",
    "\n",
    "# read population as pop_quantiles[0], then as pop_quantiles[0.25] and so on for 0.5 and 0.75"
   ]
  },
  {
   "cell_type": "code",
   "execution_count": null,
   "metadata": {
    "collapsed": true,
    "scrolled": true
   },
   "outputs": [],
   "source": [
    "# compose a list of these 4 features"
   ]
  },
  {
   "cell_type": "code",
   "execution_count": null,
   "metadata": {
    "collapsed": true,
    "scrolled": true
   },
   "outputs": [],
   "source": [
    "# call edit_features, pass the list of featuers as parameters to `adds` parameter"
   ]
  },
  {
   "cell_type": "markdown",
   "metadata": {},
   "source": [
    "Scroll up, rerun the cell with query() on FeatureLayer object and the cell that prints the data frame. Find if your new features are listed"
   ]
  },
  {
   "cell_type": "markdown",
   "metadata": {},
   "source": [
    "### Adding new fields"
   ]
  },
  {
   "cell_type": "code",
   "execution_count": null,
   "metadata": {
    "collapsed": true,
    "scrolled": true
   },
   "outputs": [],
   "source": [
    "cities_flayer_mgr = cities_flayer.manager\n",
    "cities_flayer_mgr.properties.fields"
   ]
  },
  {
   "cell_type": "code",
   "execution_count": null,
   "metadata": {
    "collapsed": true,
    "scrolled": true
   },
   "outputs": [],
   "source": [
    "template_field = cities_flayer_mgr.properties.fields[0]\n",
    "template_field"
   ]
  },
  {
   "cell_type": "code",
   "execution_count": null,
   "metadata": {
    "collapsed": true,
    "scrolled": true
   },
   "outputs": [],
   "source": [
    "new_field = copy.deepcopy(template_field)\n",
    "# edit the name, alias, data type, nullable, of this field to match the requirements for male_to_female column"
   ]
  },
  {
   "cell_type": "code",
   "execution_count": null,
   "metadata": {
    "collapsed": true,
    "scrolled": true
   },
   "outputs": [],
   "source": [
    "#cities_flayer_mgr.add_to_definition(pass the new fields)"
   ]
  },
  {
   "cell_type": "markdown",
   "metadata": {},
   "source": [
    "### Calculating field values"
   ]
  },
  {
   "cell_type": "code",
   "execution_count": null,
   "metadata": {
    "collapsed": true,
    "scrolled": true
   },
   "outputs": [],
   "source": [
    "import numpy as np"
   ]
  },
  {
   "cell_type": "code",
   "execution_count": null,
   "metadata": {
    "collapsed": false,
    "scrolled": true
   },
   "outputs": [],
   "source": [
    "# rand1 = np.random.uniform(low=0.7, high=1.3, size=<fill with number of features in your featureset> )\n",
    "len(list(rand1))"
   ]
  },
  {
   "cell_type": "code",
   "execution_count": null,
   "metadata": {
    "collapsed": false,
    "scrolled": true
   },
   "outputs": [],
   "source": [
    "rand1[0]"
   ]
  },
  {
   "cell_type": "code",
   "execution_count": null,
   "metadata": {
    "collapsed": true,
    "scrolled": true
   },
   "outputs": [],
   "source": [
    "count=0\n",
    "for f in cities_fset:\n",
    "    f.attributes['male_to_female'] = int(rand1[count])\n",
    "    count+=1"
   ]
  },
  {
   "cell_type": "code",
   "execution_count": null,
   "metadata": {
    "collapsed": false,
    "scrolled": true
   },
   "outputs": [],
   "source": [
    "#print f to view the last feature.\n",
    "f"
   ]
  },
  {
   "cell_type": "code",
   "execution_count": null,
   "metadata": {
    "collapsed": false,
    "scrolled": true
   },
   "outputs": [],
   "source": [
    "cities_flayer.edit_features(updates=cities_fset)"
   ]
  },
  {
   "cell_type": "markdown",
   "metadata": {},
   "source": [
    "Re run the cell that queries the featuer layer and the cell that prints the data frame to find if the new column and values are applied"
   ]
  },
  {
   "cell_type": "code",
   "execution_count": null,
   "metadata": {
    "collapsed": true,
    "scrolled": true
   },
   "outputs": [],
   "source": []
  }
 ],
 "metadata": {
  "kernelspec": {
   "display_name": "Python 3",
   "language": "python",
   "name": "python3"
  },
  "language_info": {
   "codemirror_mode": {
    "name": "ipython",
    "version": 3
   },
   "file_extension": ".py",
   "mimetype": "text/x-python",
   "name": "python",
   "nbconvert_exporter": "python",
   "pygments_lexer": "ipython3",
   "version": "3.5.3"
  }
 },
 "nbformat": 4,
 "nbformat_minor": 2
}
