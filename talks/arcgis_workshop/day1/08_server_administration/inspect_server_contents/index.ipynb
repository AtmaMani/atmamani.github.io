{
 "cells": [
  {
   "cell_type": "markdown",
   "metadata": {},
   "source": [
    "# Inspect server contents\n",
    "\n",
    "### Connect to GIS & hosting server"
   ]
  },
  {
   "cell_type": "code",
   "execution_count": 2,
   "metadata": {
    "collapsed": true
   },
   "outputs": [],
   "source": [
    "from arcgis.gis import *\n",
    "from getpass import getpass"
   ]
  },
  {
   "cell_type": "code",
   "execution_count": 3,
   "metadata": {
    "collapsed": false
   },
   "outputs": [
    {
     "name": "stdout",
     "output_type": "stream",
     "text": [
      "········\n"
     ]
    }
   ],
   "source": [
    "password = getpass()\n",
    "gis = GIS(\"https://esriwebgis.webgistesting.net/portal\",\"admin\",password)"
   ]
  },
  {
   "cell_type": "code",
   "execution_count": 9,
   "metadata": {
    "collapsed": false
   },
   "outputs": [
    {
     "data": {
      "text/plain": [
       "'https://ESRIwebgis.webgistesting.net/server/rest/services'"
      ]
     },
     "execution_count": 9,
     "metadata": {},
     "output_type": "execute_result"
    }
   ],
   "source": [
    "hosting_server = gis.servers[0]\n",
    "hosting_server.connection.baseurl"
   ]
  },
  {
   "cell_type": "markdown",
   "metadata": {},
   "source": [
    "#### Get list of folders"
   ]
  },
  {
   "cell_type": "code",
   "execution_count": 10,
   "metadata": {
    "collapsed": false
   },
   "outputs": [
    {
     "data": {
      "text/plain": [
       "['root', 'custom_streets', 'Hosted', 'System', 'Utilities']"
      ]
     },
     "execution_count": 10,
     "metadata": {},
     "output_type": "execute_result"
    }
   ],
   "source": [
    "hosting_server.content.folders"
   ]
  },
  {
   "cell_type": "markdown",
   "metadata": {},
   "source": [
    "#### Get the contents of each folder"
   ]
  },
  {
   "cell_type": "code",
   "execution_count": 7,
   "metadata": {
    "collapsed": false
   },
   "outputs": [],
   "source": [
    "# set current folder as 'root' and get list of services\n",
    "hosting_server.content.folder='custom_streets'"
   ]
  },
  {
   "cell_type": "code",
   "execution_count": 11,
   "metadata": {
    "collapsed": false
   },
   "outputs": [
    {
     "data": {
      "text/plain": [
       "[<FeatureLayerCollection url:\"https://ESRIwebgis.webgistesting.net/server/rest/services/custom_streets/set3_Streets/FeatureServer\">,\n",
       " <MapImageLayer url:\"https://ESRIwebgis.webgistesting.net/server/rest/services/custom_streets/set3_Streets/MapServer\">]"
      ]
     },
     "execution_count": 11,
     "metadata": {},
     "output_type": "execute_result"
    }
   ],
   "source": [
    "hosting_server.content.services"
   ]
  },
  {
   "cell_type": "code",
   "execution_count": 7,
   "metadata": {
    "collapsed": false
   },
   "outputs": [
    {
     "data": {
      "text/plain": [
       "[<FeatureLayerCollection url:\"https://ESRIwebgis.webgistesting.net/server/rest/services/custom_streets/set3_Streets/FeatureServer\">,\n",
       " <MapImageLayer url:\"https://ESRIwebgis.webgistesting.net/server/rest/services/custom_streets/set3_Streets/MapServer\">]"
      ]
     },
     "execution_count": 7,
     "metadata": {},
     "output_type": "execute_result"
    }
   ],
   "source": [
    "# set current folder and explore the contents\n",
    "hosting_server.content.folder='custom_streets'\n",
    "hosting_server.content.services"
   ]
  },
  {
   "cell_type": "code",
   "execution_count": 12,
   "metadata": {
    "collapsed": false
   },
   "outputs": [
    {
     "data": {
      "text/plain": [
       "[<FeatureLayerCollection url:\"https://ESRIwebgis.webgistesting.net/server/rest/services/Hosted/At_Risk_Infrastructure_2017_03_06_07_05_30/FeatureServer\">,\n",
       " <FeatureLayerCollection url:\"https://ESRIwebgis.webgistesting.net/server/rest/services/Hosted/CA_Fires_facilities/FeatureServer\">,\n",
       " <FeatureLayerCollection url:\"https://ESRIwebgis.webgistesting.net/server/rest/services/Hosted/Emergency_Response_Incidents_NYC_/FeatureServer\">,\n",
       " <FeatureLayerCollection url:\"https://ESRIwebgis.webgistesting.net/server/rest/services/Hosted/Emergency_Response_Incidents_NYC_SV/FeatureServer\">,\n",
       " <FeatureLayerCollection url:\"https://ESRIwebgis.webgistesting.net/server/rest/services/Hosted/Fire_Buffers_2017_03_06_07_05_30/FeatureServer\">,\n",
       " <MapImageLayer url:\"https://ESRIwebgis.webgistesting.net/server/rest/services/Hosted/Hyperspectral_WTL1_del1/MapServer\">,\n",
       " <FeatureLayerCollection url:\"https://ESRIwebgis.webgistesting.net/server/rest/services/Hosted/NYC_BoroughBoundaries_PolygonShapefile2/FeatureServer\">,\n",
       " <FeatureLayerCollection url:\"https://ESRIwebgis.webgistesting.net/server/rest/services/Hosted/NYC_BoroughBoundaries_PolygonShapefile/FeatureServer\">,\n",
       " <FeatureLayerCollection url:\"https://ESRIwebgis.webgistesting.net/server/rest/services/Hosted/NYC_ManhattanCensusTracts_PolygonShapefile/FeatureServer\">,\n",
       " <FeatureLayerCollection url:\"https://ESRIwebgis.webgistesting.net/server/rest/services/Hosted/ports_west_USA/FeatureServer\">,\n",
       " <FeatureLayerCollection url:\"https://ESRIwebgis.webgistesting.net/server/rest/services/Hosted/Reconstructed_Tracks_MO1UC2/FeatureServer\">,\n",
       " <FeatureLayerCollection url:\"https://ESRIwebgis.webgistesting.net/server/rest/services/Hosted/SS_Emergency_Response_Incidents_NYC_/FeatureServer\">]"
      ]
     },
     "execution_count": 12,
     "metadata": {},
     "output_type": "execute_result"
    }
   ],
   "source": [
    "# find hosted services\n",
    "hosting_server.content.folder='Hosted'\n",
    "hosting_server.content.services"
   ]
  },
  {
   "cell_type": "code",
   "execution_count": 12,
   "metadata": {
    "collapsed": false
   },
   "outputs": [
    {
     "name": "stdout",
     "output_type": "stream",
     "text": [
      "https://ESRIwebgis.webgistesting.net/server/rest/services/System/CachingControllers/GPServer\n",
      "https://ESRIwebgis.webgistesting.net/server/rest/services/System/CachingToolsEx/GPServer\n",
      "https://ESRIwebgis.webgistesting.net/server/rest/services/System/CachingTools/GPServer\n",
      "https://ESRIwebgis.webgistesting.net/server/rest/services/System/DynamicMappingHost/MapServer\n",
      "https://ESRIwebgis.webgistesting.net/server/rest/services/System/PublishingToolsEx/GPServer\n",
      "https://ESRIwebgis.webgistesting.net/server/rest/services/System/PublishingTools/GPServer\n",
      "https://ESRIwebgis.webgistesting.net/server/rest/services/System/ReportingTools/GPServer\n",
      "https://ESRIwebgis.webgistesting.net/server/rest/services/System/SceneCachingControllers/GPServer\n",
      "https://ESRIwebgis.webgistesting.net/server/rest/services/System/SceneCachingTools/GPServer\n",
      "https://ESRIwebgis.webgistesting.net/server/rest/services/System/SpatialAnalysisTools/GPServer\n",
      "https://ESRIwebgis.webgistesting.net/server/rest/services/System/SyncTools/GPServer\n",
      "https://ESRIwebgis.webgistesting.net/server/rest/services/Utilities/GeocodingTools/GPServer\n",
      "https://ESRIwebgis.webgistesting.net/server/rest/services/Utilities/PrintingTools/GPServer\n"
     ]
    }
   ],
   "source": [
    "# find system and utility services\n",
    "folder_list = ['System','Utilities']\n",
    "\n",
    "for f in folder_list:\n",
    "    hosting_server.content.folder=f\n",
    "    service_list = hosting_server.content.services\n",
    "    for serv in service_list:\n",
    "        print(serv.url)"
   ]
  },
  {
   "cell_type": "markdown",
   "metadata": {},
   "source": [
    "## Inspect users & roles"
   ]
  },
  {
   "cell_type": "code",
   "execution_count": 13,
   "metadata": {
    "collapsed": false
   },
   "outputs": [
    {
     "data": {
      "text/plain": [
       "{'disabled': False}"
      ]
     },
     "execution_count": 13,
     "metadata": {},
     "output_type": "execute_result"
    }
   ],
   "source": [
    "hosting_server.users.get_primary_site_administrator"
   ]
  },
  {
   "cell_type": "code",
   "execution_count": 14,
   "metadata": {
    "collapsed": false
   },
   "outputs": [
    {
     "data": {
      "text/plain": [
       "{'hasMore': False, 'roles': ['org_admin']}"
      ]
     },
     "execution_count": 14,
     "metadata": {},
     "output_type": "execute_result"
    }
   ],
   "source": [
    "hosting_server.users.get_user_roles('admin')"
   ]
  },
  {
   "cell_type": "code",
   "execution_count": null,
   "metadata": {
    "collapsed": true
   },
   "outputs": [],
   "source": [
    "hosting_server.users.add_user('Sunday','1sunday23','sunday monday','from code','email@company.com')"
   ]
  }
 ],
 "metadata": {
  "kernelspec": {
   "display_name": "Python 3",
   "language": "python",
   "name": "python3"
  }
 },
 "nbformat": 4,
 "nbformat_minor": 2
}
