{
 "cells": [
  {
   "cell_type": "markdown",
   "metadata": {},
   "source": [
    "# Understand server utilization"
   ]
  },
  {
   "cell_type": "code",
   "execution_count": 1,
   "metadata": {
    "collapsed": true
   },
   "outputs": [],
   "source": [
    "from arcgis.gis import *\n",
    "from getpass import getpass"
   ]
  },
  {
   "cell_type": "code",
   "execution_count": 2,
   "metadata": {
    "collapsed": false
   },
   "outputs": [
    {
     "name": "stdout",
     "output_type": "stream",
     "text": [
      "········\n"
     ]
    },
    {
     "data": {
      "text/plain": [
       "'https://sabu.esri.com:6443/arcgis/rest/services'"
      ]
     },
     "execution_count": 2,
     "metadata": {},
     "output_type": "execute_result"
    }
   ],
   "source": [
    "password = getpass()\n",
    "gis = GIS('https://sabu.esri.com/portal/','admin',password)\n",
    "\n",
    "hosting_server = gis.servers[0]\n",
    "hosting_server.connection.baseurl"
   ]
  },
  {
   "cell_type": "code",
   "execution_count": 3,
   "metadata": {
    "collapsed": true
   },
   "outputs": [],
   "source": [
    "%matplotlib inline\n",
    "import matplotlib.pyplot as plt\n",
    "from datetime import datetime"
   ]
  },
  {
   "cell_type": "code",
   "execution_count": 4,
   "metadata": {
    "collapsed": true
   },
   "outputs": [],
   "source": [
    "usage = hosting_server.usage"
   ]
  },
  {
   "cell_type": "code",
   "execution_count": 5,
   "metadata": {
    "collapsed": false
   },
   "outputs": [
    {
     "data": {
      "text/plain": [
       "'https://sabu.esri.com:6443/arcgis/admin/usagereports'"
      ]
     },
     "execution_count": 5,
     "metadata": {},
     "output_type": "execute_result"
    }
   ],
   "source": [
    "usage.url"
   ]
  },
  {
   "cell_type": "code",
   "execution_count": 6,
   "metadata": {
    "collapsed": false
   },
   "outputs": [
    {
     "data": {
      "text/plain": [
       "[UsageReport([('reportname', 'Max response times for the last 7 days'),\n",
       "              ('metadata',\n",
       "               {'managerReport': True,\n",
       "                'styles': {'services/': {'color': '#382DF5'}},\n",
       "                'temp': False,\n",
       "                'title': 'Max response times for the last 7 days'}),\n",
       "              ('queries',\n",
       "               [{'metrics': ['RequestMaxResponseTime'],\n",
       "                 'resourceURIs': ['services/']}]),\n",
       "              ('since', 'LAST_WEEK')]),\n",
       " UsageReport([('reportname', 'Timed-out requests for the last 7 days'),\n",
       "              ('metadata',\n",
       "               {'managerReport': True,\n",
       "                'styles': {'services/': {'color': '#2F9400'}},\n",
       "                'temp': False,\n",
       "                'title': 'Timed-out requests for the last 7 days'}),\n",
       "              ('queries',\n",
       "               [{'metrics': ['RequestsTimedOut'],\n",
       "                 'resourceURIs': ['services/']}]),\n",
       "              ('since', 'LAST_WEEK')]),\n",
       " UsageReport([('reportname', 'Total requests for the last 7 days'),\n",
       "              ('metadata',\n",
       "               {'managerReport': True,\n",
       "                'styles': {'services/': {'color': '#D900D9'}},\n",
       "                'temp': False,\n",
       "                'title': 'Total requests for the last 7 days'}),\n",
       "              ('queries',\n",
       "               [{'metrics': ['RequestCount'], 'resourceURIs': ['services/']}]),\n",
       "              ('since', 'LAST_WEEK')])]"
      ]
     },
     "execution_count": 6,
     "metadata": {},
     "output_type": "execute_result"
    }
   ],
   "source": [
    "server_use_reports = usage.reports\n",
    "server_use_reports"
   ]
  },
  {
   "cell_type": "code",
   "execution_count": 7,
   "metadata": {
    "collapsed": false
   },
   "outputs": [
    {
     "data": {
      "text/plain": [
       "{'report': {'metadata': '{\"temp\":false,\"title\":\"Total requests for the last 7 days\",\"managerReport\":true,\"styles\":{\"services/\":{\"color\":\"#D900D9\"}}}',\n",
       "  'report-data': [[{'data': [0,\n",
       "      0,\n",
       "      0,\n",
       "      0,\n",
       "      0,\n",
       "      0,\n",
       "      0,\n",
       "      0,\n",
       "      0,\n",
       "      0,\n",
       "      0,\n",
       "      0,\n",
       "      149,\n",
       "      260,\n",
       "      43,\n",
       "      0,\n",
       "      0,\n",
       "      0,\n",
       "      3,\n",
       "      6,\n",
       "      45,\n",
       "      0,\n",
       "      0,\n",
       "      0,\n",
       "      0,\n",
       "      0,\n",
       "      0,\n",
       "      0,\n",
       "      0,\n",
       "      0,\n",
       "      0,\n",
       "      0,\n",
       "      0,\n",
       "      0,\n",
       "      0,\n",
       "      30,\n",
       "      112,\n",
       "      529,\n",
       "      43,\n",
       "      29,\n",
       "      0,\n",
       "      0],\n",
       "     'metric-type': 'RequestCount',\n",
       "     'resourceURI': 'services/'}]],\n",
       "  'reportname': 'Total requests for the last 7 days',\n",
       "  'time-slices': [1488052800000,\n",
       "   1488067200000,\n",
       "   1488081600000,\n",
       "   1488096000000,\n",
       "   1488110400000,\n",
       "   1488124800000,\n",
       "   1488139200000,\n",
       "   1488153600000,\n",
       "   1488168000000,\n",
       "   1488182400000,\n",
       "   1488196800000,\n",
       "   1488211200000,\n",
       "   1488225600000,\n",
       "   1488240000000,\n",
       "   1488254400000,\n",
       "   1488268800000,\n",
       "   1488283200000,\n",
       "   1488297600000,\n",
       "   1488312000000,\n",
       "   1488326400000,\n",
       "   1488340800000,\n",
       "   1488355200000,\n",
       "   1488369600000,\n",
       "   1488384000000,\n",
       "   1488398400000,\n",
       "   1488412800000,\n",
       "   1488427200000,\n",
       "   1488441600000,\n",
       "   1488456000000,\n",
       "   1488470400000,\n",
       "   1488484800000,\n",
       "   1488499200000,\n",
       "   1488513600000,\n",
       "   1488528000000,\n",
       "   1488542400000,\n",
       "   1488556800000,\n",
       "   1488571200000,\n",
       "   1488585600000,\n",
       "   1488600000000,\n",
       "   1488614400000,\n",
       "   1488628800000,\n",
       "   1488643200000]}}"
      ]
     },
     "execution_count": 7,
     "metadata": {},
     "output_type": "execute_result"
    }
   ],
   "source": [
    "report_total_req = server_use_reports[-1].query()\n",
    "report_total_req"
   ]
  },
  {
   "cell_type": "code",
   "execution_count": 8,
   "metadata": {
    "collapsed": false
   },
   "outputs": [],
   "source": [
    "data_y = report_total_req['report']['report-data'][0][0]['data']\n",
    "data_x = [datetime.fromtimestamp(d//1000) for d in report_total_req['report']['time-slices']]"
   ]
  },
  {
   "cell_type": "code",
   "execution_count": 9,
   "metadata": {
    "collapsed": false
   },
   "outputs": [
    {
     "data": {
      "text/plain": [
       "(array([ 736386.,  736387.,  736388.,  736389.,  736390.,  736391.,  736392.]),\n",
       " <a list of 7 Text xticklabel objects>)"
      ]
     },
     "execution_count": 9,
     "metadata": {},
     "output_type": "execute_result"
    },
    {
     "data": {
      "image/png": "[encoded data removed]",
      "text/plain": [
       "<matplotlib.figure.Figure at 0x19d9ef22400>"
      ]
     },
     "metadata": {},
     "output_type": "display_data"
    }
   ],
   "source": [
    "plt.plot(data_x,data_y, marker='o',linestyle='--', color='r', label='Square')\n",
    "plt.xlabel('Date of Requests')\n",
    "plt.ylabel('# of Requests')\n",
    "plt.title(\"Total requests for the last 7 days\")\n",
    "plt.xticks(rotation = 45)"
   ]
  }
 ],
 "metadata": {
  "kernelspec": {
   "display_name": "Python 3",
   "language": "python",
   "name": "python3"
  },
  "language_info": {
   "codemirror_mode": {
    "name": "ipython",
    "version": 3
   },
   "file_extension": ".py",
   "mimetype": "text/x-python",
   "name": "python",
   "nbconvert_exporter": "python",
   "pygments_lexer": "ipython3",
   "version": "3.5.2"
  }
 },
 "nbformat": 4,
 "nbformat_minor": 2
}
