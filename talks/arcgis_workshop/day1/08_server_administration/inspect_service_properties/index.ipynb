{
 "cells": [
  {
   "cell_type": "markdown",
   "metadata": {},
   "source": [
    "# Inspect service properties"
   ]
  },
  {
   "cell_type": "code",
   "execution_count": 1,
   "metadata": {
    "collapsed": true
   },
   "outputs": [],
   "source": [
    "from arcgis.gis import *\n",
    "from getpass import getpass"
   ]
  },
  {
   "cell_type": "code",
   "execution_count": 2,
   "metadata": {
    "collapsed": false
   },
   "outputs": [
    {
     "name": "stdout",
     "output_type": "stream",
     "text": [
      "········\n"
     ]
    }
   ],
   "source": [
    "password = getpass()\n",
    "gis = GIS(\"https://esriwebgis.webgistesting.net/portal/\",'admin',password)"
   ]
  },
  {
   "cell_type": "code",
   "execution_count": 3,
   "metadata": {
    "collapsed": false
   },
   "outputs": [
    {
     "data": {
      "text/plain": [
       "'https://ESRIwebgis.webgistesting.net/server/rest/services'"
      ]
     },
     "execution_count": 3,
     "metadata": {},
     "output_type": "execute_result"
    }
   ],
   "source": [
    "hosting_server = gis.servers[0]\n",
    "hosting_server.connection.baseurl"
   ]
  },
  {
   "cell_type": "code",
   "execution_count": 4,
   "metadata": {
    "collapsed": false
   },
   "outputs": [
    {
     "data": {
      "text/plain": [
       "'https://ESRIwebgis.webgistesting.net/server/admin/services'"
      ]
     },
     "execution_count": 4,
     "metadata": {},
     "output_type": "execute_result"
    }
   ],
   "source": [
    "hosting_server.services.url"
   ]
  },
  {
   "cell_type": "markdown",
   "metadata": {},
   "source": [
    "## Get admin properties for a map service"
   ]
  },
  {
   "cell_type": "code",
   "execution_count": 4,
   "metadata": {
    "collapsed": false
   },
   "outputs": [
    {
     "data": {
      "text/plain": [
       "['custom_streets', 'Hosted', 'System', 'Utilities', '/']"
      ]
     },
     "execution_count": 4,
     "metadata": {},
     "output_type": "execute_result"
    }
   ],
   "source": [
    "# get the list of folders\n",
    "hosting_server.services.folders"
   ]
  },
  {
   "cell_type": "code",
   "execution_count": 5,
   "metadata": {
    "collapsed": true
   },
   "outputs": [],
   "source": [
    "# set active folder\n",
    "hosting_server.services.folder = '/'"
   ]
  },
  {
   "cell_type": "code",
   "execution_count": 6,
   "metadata": {
    "collapsed": false
   },
   "outputs": [],
   "source": [
    "# get list of services in that folder\n",
    "service_list = hosting_server.services.services"
   ]
  },
  {
   "cell_type": "code",
   "execution_count": 7,
   "metadata": {
    "collapsed": false
   },
   "outputs": [
    {
     "name": "stdout",
     "output_type": "stream",
     "text": [
      "4\n"
     ]
    }
   ],
   "source": [
    "print(len(service_list))\n",
    "s1 = service_list[1]"
   ]
  },
  {
   "cell_type": "code",
   "execution_count": 8,
   "metadata": {
    "collapsed": false
   },
   "outputs": [
    {
     "data": {
      "text/plain": [
       "'https://ESRIwebgis.webgistesting.net/server/admin/services/Renter_percentage.MapServer'"
      ]
     },
     "execution_count": 8,
     "metadata": {},
     "output_type": "execute_result"
    }
   ],
   "source": [
    "s1.url"
   ]
  },
  {
   "cell_type": "code",
   "execution_count": 9,
   "metadata": {
    "collapsed": false
   },
   "outputs": [
    {
     "data": {
      "text/plain": [
       "{'antialiasingMode': 'None',\n",
       " 'cacheDir': '/gisdata/arcgisserver/directories/arcgiscache',\n",
       " 'cacheOnDemand': 'false',\n",
       " 'clientCachingAllowed': 'true',\n",
       " 'disableIdentifyRelates': 'false',\n",
       " 'dynamicDataWorkspaces': '',\n",
       " 'enableDynamicLayers': 'true',\n",
       " 'exportTilesAllowed': 'false',\n",
       " 'filePath': 'Z:\\\\gisdata\\\\arcgisserver\\\\directories\\\\arcgissystem\\\\arcgisinput\\\\Renter_percentage.MapServer\\\\extracted\\\\v101\\\\Renter_percentage.msd',\n",
       " 'hasStaticData': 'true',\n",
       " 'ignoreCache': 'false',\n",
       " 'isCached': 'false',\n",
       " 'maxBufferCount': '100',\n",
       " 'maxDomainCodeCount': '25000',\n",
       " 'maxExportTilesCount': '100000',\n",
       " 'maxImageHeight': '4096',\n",
       " 'maxImageWidth': '4096',\n",
       " 'maxRecordCount': '1000',\n",
       " 'maxScale': '4513.9887049999998',\n",
       " 'minScale': '9244648.8686180003',\n",
       " 'outputDir': '/gisdata/arcgisserver/directories/arcgisoutput',\n",
       " 'schemaLockingEnabled': 'true',\n",
       " 'supportedImageReturnTypes': 'URL',\n",
       " 'textAntialiasingMode': 'Force',\n",
       " 'useLocalCacheDir': 'true',\n",
       " 'virtualCacheDir': '/rest/directories/arcgiscache',\n",
       " 'virtualOutputDir': '/rest/directories/arcgisoutput'}"
      ]
     },
     "execution_count": 9,
     "metadata": {},
     "output_type": "execute_result"
    }
   ],
   "source": [
    "s1.properties"
   ]
  },
  {
   "cell_type": "code",
   "execution_count": 10,
   "metadata": {
    "collapsed": false
   },
   "outputs": [
    {
     "data": {
      "text/plain": [
       "{'configuredState': 'STARTED', 'realTimeState': 'STARTED'}"
      ]
     },
     "execution_count": 10,
     "metadata": {},
     "output_type": "execute_result"
    }
   ],
   "source": [
    "s1.status"
   ]
  },
  {
   "cell_type": "code",
   "execution_count": 11,
   "metadata": {
    "collapsed": false
   },
   "outputs": [
    {
     "data": {
      "text/plain": [
       "{'accessInformation': '',\n",
       " 'catalogPath': '',\n",
       " 'culture': 'en-US',\n",
       " 'description': 'ratio of renters vs owners',\n",
       " 'extent': [[-124.579958342708, 32.4162831425432],\n",
       "  [-113.498062309958, 42.0723284696811]],\n",
       " 'guid': 'EAEEFB44-ED9A-44F8-B079-FF351370C604',\n",
       " 'licenseInfo': '',\n",
       " 'name': 'Renter_percentage',\n",
       " 'snippet': 'social vulnerability',\n",
       " 'spatialReference': 'NAD_1983_California_Teale_Albers',\n",
       " 'summary': 'social vulnerability',\n",
       " 'tags': ['renters'],\n",
       " 'thumbnail': 'thumbnail/thumbnail.png',\n",
       " 'title': 'Renter_percentage',\n",
       " 'type': 'Map Service',\n",
       " 'typeKeywords': ['Data', 'Service', 'Map Service', 'ArcGIS Server'],\n",
       " 'url': ''}"
      ]
     },
     "execution_count": 11,
     "metadata": {},
     "output_type": "execute_result"
    }
   ],
   "source": [
    "s1.iteminfo"
   ]
  },
  {
   "cell_type": "code",
   "execution_count": 12,
   "metadata": {
    "collapsed": false
   },
   "outputs": [
    {
     "data": {
      "text/plain": [
       "{'perMachine': [{'busy': 0,\n",
       "   'folderName': '/',\n",
       "   'free': 1,\n",
       "   'initializing': 0,\n",
       "   'isStatisticsAvailable': True,\n",
       "   'machineName': '10.0.0.157',\n",
       "   'max': 2,\n",
       "   'notCreated': 1,\n",
       "   'serviceName': 'Renter_percentage',\n",
       "   'totalBusyTime': 3150,\n",
       "   'transactions': 3,\n",
       "   'type': 'MapServer'}],\n",
       " 'summary': {'busy': 0,\n",
       "  'folderName': '/',\n",
       "  'free': 1,\n",
       "  'initializing': 0,\n",
       "  'isStatisticsAvailable': True,\n",
       "  'max': 2,\n",
       "  'notCreated': 1,\n",
       "  'serviceName': 'Renter_percentage',\n",
       "  'totalBusyTime': 3150,\n",
       "  'transactions': 3,\n",
       "  'type': 'MapServer'}}"
      ]
     },
     "execution_count": 12,
     "metadata": {},
     "output_type": "execute_result"
    }
   ],
   "source": [
    "s1.statistics"
   ]
  },
  {
   "cell_type": "markdown",
   "metadata": {},
   "source": [
    "## Modify a service state"
   ]
  },
  {
   "cell_type": "code",
   "execution_count": 13,
   "metadata": {
    "collapsed": false
   },
   "outputs": [
    {
     "name": "stderr",
     "output_type": "stream",
     "text": [
      "Unknown Error\n"
     ]
    },
    {
     "ename": "RuntimeError",
     "evalue": "Unknown Error\n(Error Code: 0)",
     "output_type": "error",
     "traceback": [
      "\u001b[0;31m---------------------------------------------------------------------------\u001b[0m",
      "\u001b[0;31mRuntimeError\u001b[0m                              Traceback (most recent call last)",
      "\u001b[0;32m<ipython-input-13-b1ff7ba3a5c7>\u001b[0m in \u001b[0;36m<module>\u001b[0;34m()\u001b[0m\n\u001b[0;32m----> 1\u001b[0;31m \u001b[0ms1\u001b[0m\u001b[1;33m.\u001b[0m\u001b[0mstop\u001b[0m\u001b[1;33m(\u001b[0m\u001b[1;33m)\u001b[0m\u001b[1;33m\u001b[0m\u001b[0m\n\u001b[0m",
      "\u001b[0;32mC:\\Users\\atma6951\\AppData\\Local\\Programs\\ArcGIS\\Pro\\bin\\Python\\envs\\geonuma_server\\lib\\site-packages\\arcgis\\server\\admin\\_services.py\u001b[0m in \u001b[0;36mstop\u001b[0;34m(self)\u001b[0m\n\u001b[1;32m    757\u001b[0m         }\n\u001b[1;32m    758\u001b[0m         \u001b[0muURL\u001b[0m \u001b[1;33m=\u001b[0m \u001b[0mself\u001b[0m\u001b[1;33m.\u001b[0m\u001b[0m_url\u001b[0m \u001b[1;33m+\u001b[0m \u001b[1;34m\"/stop\"\u001b[0m\u001b[1;33m\u001b[0m\u001b[0m\n\u001b[0;32m--> 759\u001b[0;31m         \u001b[1;32mreturn\u001b[0m \u001b[0mself\u001b[0m\u001b[1;33m.\u001b[0m\u001b[0m_con\u001b[0m\u001b[1;33m.\u001b[0m\u001b[0mpost\u001b[0m\u001b[1;33m(\u001b[0m\u001b[0mpath\u001b[0m\u001b[1;33m=\u001b[0m\u001b[0muURL\u001b[0m\u001b[1;33m,\u001b[0m \u001b[0mpostdata\u001b[0m\u001b[1;33m=\u001b[0m\u001b[0mparams\u001b[0m\u001b[1;33m)\u001b[0m\u001b[1;33m\u001b[0m\u001b[0m\n\u001b[0m\u001b[1;32m    760\u001b[0m     \u001b[1;31m#----------------------------------------------------------------------\u001b[0m\u001b[1;33m\u001b[0m\u001b[1;33m\u001b[0m\u001b[0m\n\u001b[1;32m    761\u001b[0m     \u001b[1;32mdef\u001b[0m \u001b[0mrestart\u001b[0m\u001b[1;33m(\u001b[0m\u001b[0mself\u001b[0m\u001b[1;33m)\u001b[0m\u001b[1;33m:\u001b[0m\u001b[1;33m\u001b[0m\u001b[0m\n",
      "\u001b[0;32mC:\\Users\\atma6951\\AppData\\Local\\Programs\\ArcGIS\\Pro\\bin\\Python\\envs\\geonuma_server\\lib\\site-packages\\arcgis\\server\\_common\\_connection.py\u001b[0m in \u001b[0;36mpost\u001b[0;34m(self, path, postdata, files, ssl, compress, is_retry, use_ordered_dict, add_token, verify_cert, token, **kwargs)\u001b[0m\n\u001b[1;32m    779\u001b[0m                     \u001b[1;32mraise\u001b[0m \u001b[0mRuntimeError\u001b[0m\u001b[1;33m(\u001b[0m\u001b[1;34m'Invalid token'\u001b[0m\u001b[1;33m)\u001b[0m\u001b[1;33m\u001b[0m\u001b[0m\n\u001b[1;32m    780\u001b[0m                 \u001b[1;32mif\u001b[0m \u001b[1;34m'status'\u001b[0m \u001b[1;32min\u001b[0m \u001b[0mresp_json\u001b[0m\u001b[1;33m:\u001b[0m\u001b[1;33m\u001b[0m\u001b[0m\n\u001b[0;32m--> 781\u001b[0;31m                     \u001b[0mself\u001b[0m\u001b[1;33m.\u001b[0m\u001b[0m_handle_json_error\u001b[0m\u001b[1;33m(\u001b[0m\u001b[0mresp_json\u001b[0m\u001b[1;33m,\u001b[0m \u001b[0merrorcode\u001b[0m\u001b[1;33m)\u001b[0m\u001b[1;33m\u001b[0m\u001b[0m\n\u001b[0m\u001b[1;32m    782\u001b[0m                 \u001b[1;32melse\u001b[0m\u001b[1;33m:\u001b[0m\u001b[1;33m\u001b[0m\u001b[0m\n\u001b[1;32m    783\u001b[0m                     \u001b[0mself\u001b[0m\u001b[1;33m.\u001b[0m\u001b[0m_handle_json_error\u001b[0m\u001b[1;33m(\u001b[0m\u001b[0mresp_json\u001b[0m\u001b[1;33m[\u001b[0m\u001b[1;34m'error'\u001b[0m\u001b[1;33m]\u001b[0m\u001b[1;33m,\u001b[0m \u001b[0merrorcode\u001b[0m\u001b[1;33m)\u001b[0m\u001b[1;33m\u001b[0m\u001b[0m\n",
      "\u001b[0;32mC:\\Users\\atma6951\\AppData\\Local\\Programs\\ArcGIS\\Pro\\bin\\Python\\envs\\geonuma_server\\lib\\site-packages\\arcgis\\server\\_common\\_connection.py\u001b[0m in \u001b[0;36m_handle_json_error\u001b[0;34m(self, error, errorcode)\u001b[0m\n\u001b[1;32m    806\u001b[0m                 \u001b[0merrormessage\u001b[0m \u001b[1;33m=\u001b[0m \u001b[0merrormessage\u001b[0m \u001b[1;33m+\u001b[0m \u001b[1;34m\"\\n\"\u001b[0m \u001b[1;33m+\u001b[0m \u001b[0merrordetail\u001b[0m\u001b[1;33m\u001b[0m\u001b[0m\n\u001b[1;32m    807\u001b[0m         \u001b[0merrormessage\u001b[0m \u001b[1;33m=\u001b[0m \u001b[0merrormessage\u001b[0m \u001b[1;33m+\u001b[0m \u001b[1;34m\"\\n(Error Code: \"\u001b[0m \u001b[1;33m+\u001b[0m \u001b[0mstr\u001b[0m\u001b[1;33m(\u001b[0m\u001b[0merrorcode\u001b[0m\u001b[1;33m)\u001b[0m \u001b[1;33m+\u001b[0m\u001b[1;34m\")\"\u001b[0m\u001b[1;33m\u001b[0m\u001b[0m\n\u001b[0;32m--> 808\u001b[0;31m         \u001b[1;32mraise\u001b[0m \u001b[0mRuntimeError\u001b[0m\u001b[1;33m(\u001b[0m\u001b[0merrormessage\u001b[0m\u001b[1;33m)\u001b[0m\u001b[1;33m\u001b[0m\u001b[0m\n\u001b[0m\u001b[1;32m    809\u001b[0m \u001b[1;31m########################################################################\u001b[0m\u001b[1;33m\u001b[0m\u001b[1;33m\u001b[0m\u001b[0m\n\u001b[1;32m    810\u001b[0m \u001b[1;32mclass\u001b[0m \u001b[0m_StrictURLopener\u001b[0m\u001b[1;33m(\u001b[0m\u001b[0mrequest\u001b[0m\u001b[1;33m.\u001b[0m\u001b[0mFancyURLopener\u001b[0m\u001b[1;33m)\u001b[0m\u001b[1;33m:\u001b[0m\u001b[1;33m\u001b[0m\u001b[0m\n",
      "\u001b[0;31mRuntimeError\u001b[0m: Unknown Error\n(Error Code: 0)"
     ]
    }
   ],
   "source": [
    "s1.stop()"
   ]
  },
  {
   "cell_type": "code",
   "execution_count": 14,
   "metadata": {
    "collapsed": false
   },
   "outputs": [
    {
     "data": {
      "text/plain": [
       "{'configuredState': 'STOPPED', 'realTimeState': 'STOPPED'}"
      ]
     },
     "execution_count": 14,
     "metadata": {},
     "output_type": "execute_result"
    }
   ],
   "source": [
    "s1.status"
   ]
  },
  {
   "cell_type": "code",
   "execution_count": null,
   "metadata": {
    "collapsed": true
   },
   "outputs": [],
   "source": [
    "s1.start()"
   ]
  },
  {
   "cell_type": "markdown",
   "metadata": {},
   "source": [
    "## Inspect service extensions"
   ]
  },
  {
   "cell_type": "code",
   "execution_count": 15,
   "metadata": {
    "collapsed": false
   },
   "outputs": [
    {
     "data": {
      "text/plain": [
       "7"
      ]
     },
     "execution_count": 15,
     "metadata": {},
     "output_type": "execute_result"
    }
   ],
   "source": [
    "extns = s1.extensions\n",
    "len(extns)"
   ]
  },
  {
   "cell_type": "code",
   "execution_count": 16,
   "metadata": {
    "collapsed": false
   },
   "outputs": [
    {
     "data": {
      "text/plain": [
       "False"
      ]
     },
     "execution_count": 16,
     "metadata": {},
     "output_type": "execute_result"
    }
   ],
   "source": [
    "extn1 = extns[0]\n",
    "extn1.enabled"
   ]
  },
  {
   "cell_type": "code",
   "execution_count": 17,
   "metadata": {
    "collapsed": false
   },
   "outputs": [
    {
     "name": "stdout",
     "output_type": "stream",
     "text": [
      "NAServer : False\n",
      "SchematicsServer : False\n",
      "WCSServer : False\n",
      "WFSServer : False\n",
      "WMSServer : False\n",
      "KmlServer : True\n",
      "FeatureServer : False\n"
     ]
    }
   ],
   "source": [
    "for ex in extns:\n",
    "    print(ex.typeName + \" : \" + str(ex.enabled))"
   ]
  },
  {
   "cell_type": "code",
   "execution_count": 18,
   "metadata": {
    "collapsed": true
   },
   "outputs": [],
   "source": [
    "fx_ext = extns[-2]"
   ]
  },
  {
   "cell_type": "code",
   "execution_count": 19,
   "metadata": {
    "collapsed": false
   },
   "outputs": [
    {
     "data": {
      "text/plain": [
       "'SingleImage,SeparateImages,Vectors'"
      ]
     },
     "execution_count": 19,
     "metadata": {},
     "output_type": "execute_result"
    }
   ],
   "source": [
    "fx_ext.capabilities"
   ]
  },
  {
   "cell_type": "code",
   "execution_count": null,
   "metadata": {
    "collapsed": true
   },
   "outputs": [],
   "source": []
  }
 ],
 "metadata": {
  "kernelspec": {
   "display_name": "Python 3",
   "language": "python",
   "name": "python3"
  },
  "language_info": {
   "codemirror_mode": {
    "name": "ipython",
    "version": 3
   },
   "file_extension": ".py",
   "mimetype": "text/x-python",
   "name": "python",
   "nbconvert_exporter": "python",
   "pygments_lexer": "ipython3",
   "version": "3.5.3"
  }
 },
 "nbformat": 4,
 "nbformat_minor": 2
}
