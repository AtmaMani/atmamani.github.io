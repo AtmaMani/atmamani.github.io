{
 "cells": [
  {
   "cell_type": "markdown",
   "metadata": {},
   "source": [
    "# Inspect site properties\n",
    "\n",
    "![](http://server.arcgis.com/en/server/latest/administer/windows/GUID-D6EBE1B2-D598-43CB-94BD-1CADA02AB1A2-web.png)"
   ]
  },
  {
   "cell_type": "code",
   "execution_count": 1,
   "metadata": {
    "collapsed": true
   },
   "outputs": [],
   "source": [
    "from arcgis.gis import *\n",
    "from getpass import getpass"
   ]
  },
  {
   "cell_type": "code",
   "execution_count": 2,
   "metadata": {
    "collapsed": false
   },
   "outputs": [
    {
     "name": "stdout",
     "output_type": "stream",
     "text": [
      "········\n"
     ]
    }
   ],
   "source": [
    "#Connect to Enterprise\n",
    "password = getpass()\n",
    "gis = GIS(\"https://esriwebgis.webgistesting.net/portal/\",'admin',password)"
   ]
  },
  {
   "cell_type": "code",
   "execution_count": 3,
   "metadata": {
    "collapsed": false
   },
   "outputs": [
    {
     "name": "stdout",
     "output_type": "stream",
     "text": [
      "<class 'arcgis.server.managers.Server'>\n",
      "https://ESRIgeoanalytics.webgistesting.net/server/rest/services\n"
     ]
    }
   ],
   "source": [
    "# Connect to geoanalytics server\n",
    "server_list = gis.servers\n",
    "server2 = server_list[1]\n",
    "\n",
    "print(type(server2))\n",
    "print(server2.connection.baseurl)"
   ]
  },
  {
   "cell_type": "markdown",
   "metadata": {},
   "source": [
    "## Inspect GeoAnalytics server site properties\n",
    "Find the following:\n",
    " - number of clusters\n",
    " - number of machines\n",
    " - version of servers in the cluster"
   ]
  },
  {
   "cell_type": "code",
   "execution_count": 4,
   "metadata": {
    "collapsed": false
   },
   "outputs": [],
   "source": [
    "# Create a site manager object\n",
    "from arcgis.server.managers import SiteManager"
   ]
  },
  {
   "cell_type": "code",
   "execution_count": 5,
   "metadata": {
    "collapsed": false
   },
   "outputs": [],
   "source": [
    "server2_sitemgr = SiteManager(connection=server2.connection, \n",
    "                              url='https://ESRIgeoanalytics.webgistesting.net/server/admin')"
   ]
  },
  {
   "cell_type": "markdown",
   "metadata": {},
   "source": [
    "### Find the list of machine clusters"
   ]
  },
  {
   "cell_type": "code",
   "execution_count": 6,
   "metadata": {
    "collapsed": false
   },
   "outputs": [
    {
     "data": {
      "text/plain": [
       "Cluster([('clusters',\n",
       "          [{'clusterName': 'default',\n",
       "            'clusterProtocol': {'tcpClusterPort': 4004, 'type': 'TCP'},\n",
       "            'configuredState': 'STARTED',\n",
       "            'machineNames': ['10.0.1.225', '10.0.0.126', '10.0.1.232']}])])"
      ]
     },
     "execution_count": 6,
     "metadata": {},
     "output_type": "execute_result"
    }
   ],
   "source": [
    "server2_sitemgr.clusters"
   ]
  },
  {
   "cell_type": "markdown",
   "metadata": {},
   "source": [
    "General info about the cluster, the version, connection privilege"
   ]
  },
  {
   "cell_type": "code",
   "execution_count": 7,
   "metadata": {
    "collapsed": false
   },
   "outputs": [
    {
     "data": {
      "text/plain": [
       "Info([('currentversion', '10.5.0'),\n",
       "      ('timezone',\n",
       "       {'daylightsavings': '',\n",
       "        'displayname': '',\n",
       "        'olsonid': '',\n",
       "        'windowsid': ''}),\n",
       "      ('fullVersion', '10.5.0'),\n",
       "      ('loggedInUserPrivilege', 'ADMINISTER'),\n",
       "      ('currentbuild', '6491'),\n",
       "      ('loggedInUser', '0123456789ABCDEF::admin')])"
      ]
     },
     "execution_count": 7,
     "metadata": {},
     "output_type": "execute_result"
    }
   ],
   "source": [
    "server2_sitemgr.info"
   ]
  },
  {
   "cell_type": "markdown",
   "metadata": {},
   "source": [
    "### Find the list of machines in the cluster\n",
    "[https://esrigeoanalytics.webgistesting.net/server/admin/machines/10.0.0.126](https://esrigeoanalytics.webgistesting.net/server/admin/machines/10.0.0.126)"
   ]
  },
  {
   "cell_type": "code",
   "execution_count": 8,
   "metadata": {
    "collapsed": false
   },
   "outputs": [
    {
     "data": {
      "text/plain": [
       "3"
      ]
     },
     "execution_count": 8,
     "metadata": {},
     "output_type": "execute_result"
    }
   ],
   "source": [
    "server2_machine_mgr = server2_sitemgr.machines\n",
    "machine_list = server2_machine_mgr.machines\n",
    "len(machine_list)"
   ]
  },
  {
   "cell_type": "code",
   "execution_count": 9,
   "metadata": {
    "collapsed": false
   },
   "outputs": [
    {
     "data": {
      "text/plain": [
       "Machine([('platform', 'Linux-amd64-4.4.0-45-generic'),\n",
       "         ('appServerMaxHeapSize', 256),\n",
       "         ('ServerStartTime', 1487785131675),\n",
       "         ('webServerSSLEnabled', True),\n",
       "         ('ports',\n",
       "          {'DerbyPort': 4003,\n",
       "           'HTTP': 6080,\n",
       "           'HTTPS': 6443,\n",
       "           'JMXPort': 4001,\n",
       "           'NamingPort': 4002,\n",
       "           'OpenEJBPort': 4000,\n",
       "           'tcpClusterPort': 4004,\n",
       "           'webSocketsPort': 6180}),\n",
       "         ('webServerCertificateAlias', 'SelfSignedCertificate'),\n",
       "         ('machineName', '10.0.0.126'),\n",
       "         ('socMaxHeapSize', 64),\n",
       "         ('configuredState', 'STARTED'),\n",
       "         ('synchronize', False),\n",
       "         ('webServerMaxHeapSize', -1),\n",
       "         ('adminURL', 'https://10.0.0.126:6443/arcgis/admin')])"
      ]
     },
     "execution_count": 9,
     "metadata": {},
     "output_type": "execute_result"
    }
   ],
   "source": [
    "mac1 = machine_list[0]\n",
    "mac1"
   ]
  },
  {
   "cell_type": "code",
   "execution_count": 38,
   "metadata": {
    "collapsed": false
   },
   "outputs": [
    {
     "data": {
      "text/plain": [
       "'https://10.0.0.126:6443/arcgis/admin'"
      ]
     },
     "execution_count": 38,
     "metadata": {},
     "output_type": "execute_result"
    }
   ],
   "source": [
    "mac1.adminURL"
   ]
  },
  {
   "cell_type": "code",
   "execution_count": 44,
   "metadata": {
    "collapsed": false
   },
   "outputs": [
    {
     "data": {
      "text/plain": [
       "{'certificates': ['selfsignedcertificate']}"
      ]
     },
     "execution_count": 44,
     "metadata": {},
     "output_type": "execute_result"
    }
   ],
   "source": [
    "mac1.sslcertificates"
   ]
  },
  {
   "cell_type": "code",
   "execution_count": 45,
   "metadata": {
    "collapsed": false
   },
   "outputs": [
    {
     "data": {
      "text/plain": [
       "{'#1': 'ObjectId: 2.5.29.14 Criticality=false',\n",
       " '0000': 'EA D7 46 66 CA 7A B5 72   BA 32 82 9D DD 3C 37 2B  ..Ff.z.r.2...<7+',\n",
       " '0010': 'F0 47 FD 78                                        .G.x',\n",
       " ':': '',\n",
       " 'Alias name': 'selfsignedcertificate',\n",
       " 'Certificate chain length': '1',\n",
       " 'Certificate fingerprints': '',\n",
       " 'Certificate[1]': '',\n",
       " 'Creation date': 'Feb 22, 2017',\n",
       " 'Entry type': 'PrivateKeyEntry',\n",
       " 'Extensions': '',\n",
       " 'Issuer': 'CN=10.0.0.126, O=SelfSignedCertificate',\n",
       " 'KeyIdentifier [': '',\n",
       " 'MD5': '80:00:28:F2:FC:43:BD:D6:36:B6:2B:78:6C:03:22:3C',\n",
       " 'Owner': 'CN=10.0.0.126, O=SelfSignedCertificate',\n",
       " 'SHA1': 'E9:1D:CD:69:44:47:E9:EA:37:6E:8F:83:FC:7A:3F:AA:CD:9B:CA:80',\n",
       " 'SHA256': '27:C7:1B:27:C1:EF:22:07:0D:23:CD:B7:24:23:B7:C4:AD:8D:6B:C1:82:07:1C:A3:10:43:83:AC:9A:A4:C5:25',\n",
       " 'Serial number': '57ea8242',\n",
       " 'Signature algorithm name': 'SHA256withRSA',\n",
       " 'SubjectKeyIdentifier [': '',\n",
       " 'Valid from': 'Wed Feb 22 17:38:54 UTC 2017 until: Fri Dec 31 17:38:54 UTC 2049',\n",
       " 'Version': '3',\n",
       " ']': ''}"
      ]
     },
     "execution_count": 45,
     "metadata": {},
     "output_type": "execute_result"
    }
   ],
   "source": [
    "mac1.sslcertificate('selfsignedcertificate')"
   ]
  }
 ],
 "metadata": {
  "kernelspec": {
   "display_name": "Python 3",
   "language": "python",
   "name": "python3"
  },
  "language_info": {
   "codemirror_mode": {
    "name": "ipython",
    "version": 3
   },
   "file_extension": ".py",
   "mimetype": "text/x-python",
   "name": "python",
   "nbconvert_exporter": "python",
   "pygments_lexer": "ipython3",
   "version": "3.5.3"
  }
 },
 "nbformat": 4,
 "nbformat_minor": 2
}
