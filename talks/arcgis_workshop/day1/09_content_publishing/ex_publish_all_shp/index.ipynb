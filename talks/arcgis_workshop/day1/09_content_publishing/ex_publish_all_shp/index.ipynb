{
 "cells": [
  {
   "cell_type": "markdown",
   "metadata": {},
   "source": [
    "# Exercise: Publish all the shape file in the folder\n",
    "\n",
    "This exercise demonstrates how to get the list of shape files in a folder and publish them as feature layers on the portal."
   ]
  },
  {
   "cell_type": "code",
   "execution_count": 1,
   "metadata": {
    "collapsed": true
   },
   "outputs": [],
   "source": [
    "#Connect to your GIS\n",
    "from arcgis.gis import *\n",
    "from getpass import getpass"
   ]
  },
  {
   "cell_type": "code",
   "execution_count": 2,
   "metadata": {
    "collapsed": false
   },
   "outputs": [
    {
     "name": "stdout",
     "output_type": "stream",
     "text": [
      "········\n"
     ]
    }
   ],
   "source": [
    "url=\"https://geosaurus.maps.arcgis.com\"\n",
    "username=\"amani_geosaurus\"\n",
    "pass1 = getpass()"
   ]
  },
  {
   "cell_type": "code",
   "execution_count": 3,
   "metadata": {
    "collapsed": false
   },
   "outputs": [
    {
     "data": {
      "text/html": [
       "<div class=\"9item_container\" style=\"height: auto; overflow: hidden; border: 1px solid #cfcfcf; border-radius: 2px; background: #f6fafa; line-height: 1.21429em; padding: 10px;\">\n",
       "                    <div class=\"item_left\" style=\"width: 210px; float: left;\">\n",
       "                       <a href='https://geosaurus.maps.arcgis.com/home/user.html?user=amani_geosaurus' target='_blank'>\n",
       "                        <img src='data:image/png;base64,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' width='200' height='133' class=\"itemThumbnail\">\n",
       "                       </a>\n",
       "                    </div>\n",
       "\n",
       "                    <div class=\"item_right\" style=\"float: none; width: auto; overflow: hidden;\">\n",
       "                        <a href='https://geosaurus.maps.arcgis.com/home/user.html?user=amani_geosaurus' target='_blank'><b>Atma Mani</b>\n",
       "                        </a>\n",
       "                        <br/><br/><b>Bio</b>: Product Engineer for the ArcGIS Python API development team\n",
       "                        <br/><b>First Name</b>: Atma\n",
       "                        <br/><b>Last Name</b>: Mani\n",
       "                        <br/><b>Username</b>: amani_geosaurus\n",
       "                        <br/><b>Joined</b>: December 21, 2016\n",
       "\n",
       "                    </div>\n",
       "                </div>\n",
       "                "
      ],
      "text/plain": [
       "<User username:amani_geosaurus>"
      ]
     },
     "execution_count": 3,
     "metadata": {},
     "output_type": "execute_result"
    }
   ],
   "source": [
    "gis = GIS(url, username, pass1)\n",
    "me = gis.users.me\n",
    "me"
   ]
  },
  {
   "cell_type": "markdown",
   "metadata": {},
   "source": [
    "### Find how many credits are available before publishing"
   ]
  },
  {
   "cell_type": "code",
   "execution_count": 4,
   "metadata": {
    "collapsed": false
   },
   "outputs": [
    {
     "data": {
      "text/plain": [
       "85573.09"
      ]
     },
     "execution_count": 4,
     "metadata": {},
     "output_type": "execute_result"
    }
   ],
   "source": [
    "credits_before = gis.properties.availableCredits\n",
    "credits_before"
   ]
  },
  {
   "cell_type": "markdown",
   "metadata": {},
   "source": [
    "### Publish all shape files\n",
    "Loop through each .zip file, add as an item, then publish it. Determine the credits remaining after publishing."
   ]
  },
  {
   "cell_type": "code",
   "execution_count": 5,
   "metadata": {
    "collapsed": false
   },
   "outputs": [
    {
     "name": "stdout",
     "output_type": "stream",
     "text": [
      "Number of files found: 14\n",
      "Adding: Municipal_Building_Energy_Reporting_BERDO.zip # publishing # success\n",
      "Adding: Non_Public_Schools.zip # publishing # success\n",
      "Adding: Open_Space.zip # publishing # success\n",
      "Adding: Parcels_2016_Data_Full.zip # publishing # success\n",
      "Adding: Parcels_2017.zip # publishing # success\n",
      "Adding: Parking_Meters.zip # publishing # success\n",
      "Adding: Pedestrian_Ramp_Inventory.zip # publishing # success\n",
      "Adding: Police_Districts.zip # publishing # success\n",
      "Adding: Polling_Locations.zip # publishing # success\n",
      "Adding: Public_Schools.zip # publishing # success\n",
      "Adding: Traffic_Signals.zip # publishing # success\n",
      "Adding: Trees.zip # publishing # success\n",
      "Adding: Wards.zip # publishing # success\n",
      "Adding: ZIP_Codes.zip # publishing # success\n"
     ]
    }
   ],
   "source": [
    "# Get list of valid file types\n",
    "from fnmatch import filter\n",
    "import os\n",
    "\n",
    "for fld_path, fld_name, files in os.walk(r'D:\\DS_demo\\Boston_data\\archive'):\n",
    "    valid_files = filter(files, '*.zip')\n",
    "    print(\"Number of files found: \" + str(len(valid_files)))\n",
    "    \n",
    "    for f in valid_files:\n",
    "        file_path = os.path.join(fld_path, f)\n",
    "        \n",
    "        #add to GIS\n",
    "        print(\"Adding: \" + f, end=\" # \")\n",
    "        added_item = gis.content.add({}, file_path,folder='boston')\n",
    "        \n",
    "        #publish the item\n",
    "        print(\"publishing\", end=\" # \")\n",
    "        published_item = added_item.publish()\n",
    "        if published_item is not None:\n",
    "            print(\"success\")"
   ]
  },
  {
   "cell_type": "markdown",
   "metadata": {},
   "source": [
    "### Check the number of credits after publishing\n",
    "\n",
    "You can refer to this page to understand how much credits is used for "
   ]
  },
  {
   "cell_type": "code",
   "execution_count": 6,
   "metadata": {
    "collapsed": false
   },
   "outputs": [
    {
     "data": {
      "text/plain": [
       "85573.09"
      ]
     },
     "execution_count": 6,
     "metadata": {},
     "output_type": "execute_result"
    }
   ],
   "source": [
    "credits_after = gis.properties.availableCredits\n",
    "credits_after"
   ]
  },
  {
   "cell_type": "code",
   "execution_count": null,
   "metadata": {
    "collapsed": true
   },
   "outputs": [],
   "source": []
  }
 ],
 "metadata": {
  "kernelspec": {
   "display_name": "Python 3",
   "language": "python",
   "name": "python3"
  },
  "language_info": {
   "codemirror_mode": {
    "name": "ipython",
    "version": 3
   },
   "file_extension": ".py",
   "mimetype": "text/x-python",
   "name": "python",
   "nbconvert_exporter": "python",
   "pygments_lexer": "ipython3",
   "version": "3.5.3"
  }
 },
 "nbformat": 4,
 "nbformat_minor": 2
}
