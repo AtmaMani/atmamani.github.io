{
 "cells": [
  {
   "cell_type": "markdown",
   "metadata": {},
   "source": [
    "# Exercise - compose a web map with newly published web layers"
   ]
  },
  {
   "cell_type": "markdown",
   "metadata": {},
   "source": [
    "## Instructions\n",
    "\n",
    " 1. Create a group called 'hands_on'. If you are sharing an Enterprise / AGO then prefix the group with your initials so there is no conflict.\n",
    " 2. Use the datasets downloaded in the `/datasets/` directory (or any data that you wish) to publish at least 3 layers to your Enterprise. \n",
    " 3. Compose a web map by adding these layers as operational layers. \n",
    " 4. Use 'dark gray canvas' for basemap.\n",
    " 5. Share the web map and all the web layers to group\n",
    " 6. Display the web map in map widget\n",
    " 6. Open the web map from some other client - portal map app, ArcGIS Pro, ArcGIS Desktop, smart phone apps"
   ]
  },
  {
   "cell_type": "markdown",
   "metadata": {},
   "source": [
    "### Hint\n",
    " - Use the `web_map_simple.json` file as a template for web map json. Read this json into a Python dictionary and modify it in-memory\n",
    " - Refer to the sample [https://developers.arcgis.com/python/sample-notebooks/publishing-web-maps-and-web-scenes/](https://developers.arcgis.com/python/sample-notebooks/publishing-web-maps-and-web-scenes/) for some ideas\n",
    " - Refer to the [Web Map spec](https://developers.arcgis.com/web-map-specification/) if you want to customize the web map beyond the simple JSON found in the helper file.\n",
    " - As an alternate, publish the web map using a different client or authoring environment and access it using the API. Inspect that web map json to get some ideas"
   ]
  }
 ],
 "metadata": {
  "kernelspec": {
   "display_name": "Python 3",
   "language": "python",
   "name": "python3"
  },
  "language_info": {
   "codemirror_mode": {
    "name": "ipython",
    "version": 3
   },
   "file_extension": ".py",
   "mimetype": "text/x-python",
   "name": "python",
   "nbconvert_exporter": "python",
   "pygments_lexer": "ipython3",
   "version": "3.5.3"
  }
 },
 "nbformat": 4,
 "nbformat_minor": 2
}
