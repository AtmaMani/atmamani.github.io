{
 "cells": [
  {
   "cell_type": "markdown",
   "metadata": {},
   "source": [
    "# Exercise: intermediate Python\n",
    "\n",
    "You will exercise the following concepts\n",
    " - sequences (lists)\n",
    " - loops\n",
    " - functions\n",
    " - exception handling\n",
    "\n",
    "**Problem**: You are presented with aggregated census data containing the male and female population across different states. You need to calculate the sex ratio and print that out in the format:\n",
    "    \n",
    "    Male:female ratio in AL is 1.22:0.82\n",
    "    Male:female ratio in AZ is 1.04:0.96\n",
    "\n",
    "Complete the following code"
   ]
  },
  {
   "cell_type": "code",
   "execution_count": null,
   "metadata": {
    "collapsed": true
   },
   "outputs": [],
   "source": [
    "states_list = ['AL', 'AZ', 'AK', 'AR', 'CA', 'CO', 'CT']\n",
    "males = [55, 51, 52.9, 'tuesday', [53], 49, 50]\n",
    "females = [45, 49, 48.1, 48.5, 47, (51), 50]"
   ]
  },
  {
   "cell_type": "code",
   "execution_count": null,
   "metadata": {
    "collapsed": true
   },
   "outputs": [],
   "source": [
    "def sex_ratio_by_states(#write the parameters to accept states, population):\n",
    "    \n",
    "    for #write a for loop that iterates through each element in the list:\n",
    "        s = states_list[i]\n",
    "        m = males[i]\n",
    "        f = females[i]\n",
    "        \n",
    "        # write exception handling logic for the code below\n",
    "            male_ratio = round(m/f, 2)\n",
    "            female_ratio = round(f/m, 2)\n",
    "\n",
    "            print(\"Male:female ratio in {} is {}:{}\".format(s, str(male_ratio),\n",
    "                                                           str(female_ratio)))\n",
    "        \n",
    "            print(\"Error processing state: \" + s)\n",
    "            continue"
   ]
  },
  {
   "cell_type": "markdown",
   "metadata": {},
   "source": [
    "Run the cell below when you are ready"
   ]
  },
  {
   "cell_type": "code",
   "execution_count": null,
   "metadata": {
    "collapsed": false
   },
   "outputs": [],
   "source": [
    "sex_ratio_by_states(states_list, males, females)"
   ]
  },
  {
   "cell_type": "markdown",
   "metadata": {},
   "source": [
    "# Install arcgis package in a new env using conda\n",
    "\n",
    " 1. Create a new environment called `arcgis_handson` with Python 3.6\n",
    " 2. activate that environment\n",
    " 3. Install `arcgis` package from `esri` channel\n",
    " 4. Install `pandas` package from default channel\n",
    " 5. Install `matplotlib` package\n",
    " 6. Install `numpy` package, was it already installed?"
   ]
  }
 ],
 "metadata": {
  "anaconda-cloud": {},
  "kernelspec": {
   "display_name": "Python 3",
   "language": "python",
   "name": "python3"
  },
  "language_info": {
   "codemirror_mode": {
    "name": "ipython",
    "version": 3
   },
   "file_extension": ".py",
   "mimetype": "text/x-python",
   "name": "python",
   "nbconvert_exporter": "python",
   "pygments_lexer": "ipython3",
   "version": "3.5.3"
  }
 },
 "nbformat": 4,
 "nbformat_minor": 1
}
