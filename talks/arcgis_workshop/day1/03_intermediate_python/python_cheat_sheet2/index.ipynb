{
 "cells": [
  {
   "cell_type": "markdown",
   "metadata": {
    "nbpresent": {
     "id": "6eb6ae54-534b-4581-9172-4e35fd5b7e94"
    },
    "slideshow": {
     "slide_type": "slide"
    }
   },
   "source": [
    "# Python cheat sheet - iterations\n",
    "\n",
    "**Table of contents**\n",
    " - [Functions](#Functions)\n",
    " - [Classes](#Classes)\n",
    " - [Exception handling](#Exception-handling)\n"
   ]
  },
  {
   "cell_type": "markdown",
   "metadata": {
    "collapsed": true,
    "nbpresent": {
     "id": "85e9447a-7fa5-44a7-b804-bc73024c1a62"
    },
    "slideshow": {
     "slide_type": "subslide"
    }
   },
   "source": [
    "## Functions\n",
    "Specify optional parameters in the end. Specify the default values for optional parameters with = value notation\n",
    "\n",
    "    def func_name(arg1, arg2=None):\n",
    "        operations\n",
    "        return value"
   ]
  },
  {
   "cell_type": "code",
   "execution_count": 1,
   "metadata": {
    "collapsed": false,
    "nbpresent": {
     "id": "c2aebfaf-f880-4e8d-9853-c9ddbcfce385"
    },
    "slideshow": {
     "slide_type": "slide"
    }
   },
   "outputs": [],
   "source": [
    "def func_add_numbers(num1, num2=10):\n",
    "    return (num1 + num2)"
   ]
  },
  {
   "cell_type": "code",
   "execution_count": 2,
   "metadata": {
    "collapsed": false,
    "nbpresent": {
     "id": "0e4b1912-beb1-405c-9d18-50f02bc8c680"
    },
    "slideshow": {
     "slide_type": "subslide"
    }
   },
   "outputs": [
    {
     "data": {
      "text/plain": [
       "12"
      ]
     },
     "execution_count": 2,
     "metadata": {},
     "output_type": "execute_result"
    }
   ],
   "source": [
    "func_add_numbers(2)"
   ]
  },
  {
   "cell_type": "code",
   "execution_count": 3,
   "metadata": {
    "collapsed": false,
    "nbpresent": {
     "id": "8877b2bb-cdcb-48fc-b9e9-ddc2a226490c"
    },
    "slideshow": {
     "slide_type": "subslide"
    }
   },
   "outputs": [
    {
     "data": {
      "text/plain": [
       "36"
      ]
     },
     "execution_count": 3,
     "metadata": {},
     "output_type": "execute_result"
    }
   ],
   "source": [
    "func_add_numbers(2,34)"
   ]
  },
  {
   "cell_type": "code",
   "execution_count": 4,
   "metadata": {
    "collapsed": false,
    "nbpresent": {
     "id": "3b04b7e7-2a2a-4e73-b321-3933b4a216ed"
    },
    "slideshow": {
     "slide_type": "subslide"
    }
   },
   "outputs": [
    {
     "ename": "TypeError",
     "evalue": "func_add_numbers() missing 1 required positional argument: 'num1'",
     "output_type": "error",
     "traceback": [
      "\u001b[1;31m---------------------------------------------------------------------------\u001b[0m",
      "\u001b[1;31mTypeError\u001b[0m                                 Traceback (most recent call last)",
      "\u001b[1;32m<ipython-input-4-0d259ef4c90e>\u001b[0m in \u001b[0;36m<module>\u001b[1;34m()\u001b[0m\n\u001b[1;32m----> 1\u001b[1;33m \u001b[0mfunc_add_numbers\u001b[0m\u001b[1;33m(\u001b[0m\u001b[1;33m)\u001b[0m\u001b[1;33m\u001b[0m\u001b[0m\n\u001b[0m",
      "\u001b[1;31mTypeError\u001b[0m: func_add_numbers() missing 1 required positional argument: 'num1'"
     ]
    }
   ],
   "source": [
    "func_add_numbers()"
   ]
  },
  {
   "cell_type": "markdown",
   "metadata": {
    "nbpresent": {
     "id": "f9ee4b69-c3e6-4b15-90dc-06ffaadbd451"
    },
    "slideshow": {
     "slide_type": "slide"
    }
   },
   "source": [
    "## Classes\n",
    "Everything is an object in Python including native types. You define class names with camel casing.\n",
    "You define the constructor with special name `__init__()`. The fields (private) are denoted with `_variable_name` specification and properties are decorated with `@property` decorator.\n",
    "\n",
    "Fields and properties are accessed within the class using `self.name` notation. This helps differentiate a class field / property from a local variable or method argument of the same name.\n",
    "\n",
    "### A simple class\n",
    "    class MyClass:\n",
    "        _local_variables = \"value\"\n",
    "        \n",
    "        def __init__(self, args):  #constructor\n",
    "            statements\n",
    "            self._local_variables = args   # assign values to fields\n",
    "        \n",
    "        def func_1(self, args):\n",
    "            statements\n",
    "\n",
    "You use this method by instantiating an object.\n",
    "\n",
    "    obj1 = myClass(args_defined_in_constructor)"
   ]
  },
  {
   "cell_type": "code",
   "execution_count": 6,
   "metadata": {
    "collapsed": true,
    "nbpresent": {
     "id": "f6b2524f-d31a-4e7b-ae7d-b8333c456224"
    },
    "slideshow": {
     "slide_type": "slide"
    }
   },
   "outputs": [],
   "source": [
    "# Define a class to hold a satellite or aerial imagery file. Its properties give information\n",
    "# such as location of the ground, area, dimensions, spatial and spectral resolution etc.\n",
    "\n",
    "class ImageryObject:\n",
    "    _default_gsd = 5.0\n",
    "    \n",
    "    def __init__(self, file_path):\n",
    "        self._file_path = file_path\n",
    "        self._gps_location = (3,4)\n",
    "        \n",
    "    @property\n",
    "    def bands(self):\n",
    "        #count number of bands\n",
    "        count = 3\n",
    "        return count\n",
    "    \n",
    "    @property\n",
    "    def gsd(self):\n",
    "        # logic to calculate the ground sample distance\n",
    "        gsd = 10.0\n",
    "        return gsd\n",
    "    \n",
    "    @property\n",
    "    def address(self):\n",
    "        # logic to reverse geocode the self._gps_location to get address\n",
    "        # reverse geocode self._gps_location\n",
    "        address = \"123 XYZ Street\"\n",
    "        return address\n",
    "    \n",
    "    #class methods\n",
    "    def display(self):\n",
    "        #logic to display picture\n",
    "        print(\"image is displayed\")\n",
    "    \n",
    "    def shuffle_bands(self):\n",
    "        #logic to shift RGB combination\n",
    "        print(\"shifting pands\")\n",
    "        self.display()"
   ]
  },
  {
   "cell_type": "code",
   "execution_count": 7,
   "metadata": {
    "collapsed": false,
    "nbpresent": {
     "id": "b37c8960-7a37-4793-92a6-5b481f2ff20c"
    },
    "slideshow": {
     "slide_type": "slide"
    }
   },
   "outputs": [],
   "source": [
    "# class instantiation\n",
    "img1 = ImageryObject(\"user\\img\\file.img\") #pass value to constructor"
   ]
  },
  {
   "cell_type": "code",
   "execution_count": 8,
   "metadata": {
    "collapsed": false,
    "nbpresent": {
     "id": "cca870e6-a1c6-4c76-a149-b9611bd11080"
    },
    "slideshow": {
     "slide_type": "subslide"
    }
   },
   "outputs": [
    {
     "data": {
      "text/plain": [
       "'123 XYZ Street'"
      ]
     },
     "execution_count": 8,
     "metadata": {},
     "output_type": "execute_result"
    }
   ],
   "source": [
    "img1.address"
   ]
  },
  {
   "cell_type": "code",
   "execution_count": 9,
   "metadata": {
    "collapsed": false
   },
   "outputs": [
    {
     "data": {
      "text/plain": [
       "5.0"
      ]
     },
     "execution_count": 9,
     "metadata": {},
     "output_type": "execute_result"
    }
   ],
   "source": [
    "img1._default_gsd"
   ]
  },
  {
   "cell_type": "code",
   "execution_count": 10,
   "metadata": {
    "collapsed": false,
    "nbpresent": {
     "id": "0b8fc2fa-0647-43d5-83e7-a161c3921239"
    },
    "slideshow": {
     "slide_type": "subslide"
    }
   },
   "outputs": [
    {
     "data": {
      "text/plain": [
       "(3, 4)"
      ]
     },
     "execution_count": 10,
     "metadata": {},
     "output_type": "execute_result"
    }
   ],
   "source": [
    "img1._gps_location"
   ]
  },
  {
   "cell_type": "code",
   "execution_count": 11,
   "metadata": {
    "collapsed": false,
    "nbpresent": {
     "id": "66330b26-7740-4322-866c-7f9d7baee10d"
    },
    "slideshow": {
     "slide_type": "subslide"
    }
   },
   "outputs": [
    {
     "name": "stdout",
     "output_type": "stream",
     "text": [
      "shifting pands\n",
      "image is displayed\n"
     ]
    }
   ],
   "source": [
    "img1.shuffle_bands()"
   ]
  },
  {
   "cell_type": "code",
   "execution_count": 12,
   "metadata": {
    "collapsed": false,
    "nbpresent": {
     "id": "f14ee926-7346-48b8-b75e-ceb1103bd89e"
    },
    "slideshow": {
     "slide_type": "slide"
    }
   },
   "outputs": [
    {
     "name": "stdout",
     "output_type": "stream",
     "text": [
      "Help on ImageryObject in module __main__ object:\n",
      "\n",
      "class ImageryObject(builtins.object)\n",
      " |  Methods defined here:\n",
      " |  \n",
      " |  __init__(self, file_path)\n",
      " |      Initialize self.  See help(type(self)) for accurate signature.\n",
      " |  \n",
      " |  display(self)\n",
      " |      #class methods\n",
      " |  \n",
      " |  shuffle_bands(self)\n",
      " |  \n",
      " |  ----------------------------------------------------------------------\n",
      " |  Data descriptors defined here:\n",
      " |  \n",
      " |  __dict__\n",
      " |      dictionary for instance variables (if defined)\n",
      " |  \n",
      " |  __weakref__\n",
      " |      list of weak references to the object (if defined)\n",
      " |  \n",
      " |  address\n",
      " |  \n",
      " |  bands\n",
      " |  \n",
      " |  gsd\n",
      "\n"
     ]
    }
   ],
   "source": [
    "# Get help on any object. Only public methods, properties are displayed.\n",
    "# fields are private, properties are public. Class variables beginning with _ are private fields.\n",
    "help(img1)"
   ]
  },
  {
   "cell_type": "markdown",
   "metadata": {
    "nbpresent": {
     "id": "e4830d3a-9992-40a0-8f5b-ff17d9fb5265"
    },
    "slideshow": {
     "slide_type": "slide"
    }
   },
   "source": [
    "## Exception handling\n",
    "Exceptions are classes. You can define your own by inheriting from `Exception` class.\n",
    "\n",
    "    try:\n",
    "        statements\n",
    "    \n",
    "    except Exception_type1 as e1:\n",
    "        handling statements\n",
    "    \n",
    "    except Exception_type2 as e2:\n",
    "        specific handling statements\n",
    "    \n",
    "    except Exception as generic_ex:\n",
    "        generic handling statements\n",
    "    \n",
    "    else:\n",
    "        some more statements\n",
    "    \n",
    "    finally:\n",
    "        default statements which will always be executed"
   ]
  },
  {
   "cell_type": "code",
   "execution_count": 13,
   "metadata": {
    "collapsed": false,
    "nbpresent": {
     "id": "1b6b0d20-99dd-4464-9aa7-63e4e3884ced"
    },
    "slideshow": {
     "slide_type": "slide"
    }
   },
   "outputs": [
    {
     "name": "stdout",
     "output_type": "stream",
     "text": [
      "image is displayed\n"
     ]
    }
   ],
   "source": [
    "try:\n",
    "    img2 = ImageryObject(\"user\\img\\file2.img\")\n",
    "    img2.display()\n",
    "except:\n",
    "    print(\"something bad happened\")"
   ]
  },
  {
   "cell_type": "code",
   "execution_count": 14,
   "metadata": {
    "collapsed": false,
    "slideshow": {
     "slide_type": "subslide"
    }
   },
   "outputs": [
    {
     "name": "stdout",
     "output_type": "stream",
     "text": [
      "image is displayed\n",
      "else block\n",
      "finally block\n"
     ]
    }
   ],
   "source": [
    "try:\n",
    "    img2 = ImageryObject(\"user\\img\\file2.img\")\n",
    "    img2.display()\n",
    "except:\n",
    "    print(\"something bad happened\")\n",
    "else:\n",
    "    print(\"else block\")\n",
    "finally:\n",
    "    print(\"finally block\")"
   ]
  },
  {
   "cell_type": "code",
   "execution_count": 15,
   "metadata": {
    "collapsed": false,
    "nbpresent": {
     "id": "7d94a383-045b-4dc6-ba2e-552137b64348"
    },
    "slideshow": {
     "slide_type": "subslide"
    }
   },
   "outputs": [
    {
     "name": "stdout",
     "output_type": "stream",
     "text": [
      "something bad happened\n",
      "finally block\n"
     ]
    }
   ],
   "source": [
    "try:\n",
    "    img2 = ImageryObject()\n",
    "    img2.display()\n",
    "except:\n",
    "    print(\"something bad happened\")\n",
    "else:\n",
    "    print(\"else block\")\n",
    "finally:\n",
    "    print(\"finally block\")"
   ]
  },
  {
   "cell_type": "code",
   "execution_count": 21,
   "metadata": {
    "collapsed": false,
    "nbpresent": {
     "id": "08b7f669-3eca-4930-8c50-44aa905cf79c"
    },
    "slideshow": {
     "slide_type": "subslide"
    }
   },
   "outputs": [
    {
     "name": "stdout",
     "output_type": "stream",
     "text": [
      "something bad happened\n",
      "exactly what whent bad? : __init__() missing 1 required positional argument: 'file_path'\n"
     ]
    }
   ],
   "source": [
    "try:\n",
    "    img2 = ImageryObject()\n",
    "    img2.display()\n",
    "\n",
    "except Exception as ex:\n",
    "    print(\"something bad happened\")\n",
    "    print(\"exactly what whent bad? : \" + str(ex))"
   ]
  },
  {
   "cell_type": "code",
   "execution_count": 22,
   "metadata": {
    "collapsed": false,
    "nbpresent": {
     "id": "c5a5c54a-8559-4cb7-b76f-840ff3b402fc"
    },
    "slideshow": {
     "slide_type": "subslide"
    }
   },
   "outputs": [
    {
     "name": "stdout",
     "output_type": "stream",
     "text": [
      "nope, it went worng here: 'ImageryObject' object has no attribute 'dddisplay'\n"
     ]
    }
   ],
   "source": [
    "try:\n",
    "    img2 = ImageryObject('path')\n",
    "    img2.dddisplay()\n",
    "\n",
    "except TypeError as terr:\n",
    "    print(\"looks like you forgot a parameter\")\n",
    "except Exception as ex:\n",
    "    print(\"nope, it went worng here: \" + str(ex))"
   ]
  },
  {
   "cell_type": "code",
   "execution_count": null,
   "metadata": {
    "collapsed": true
   },
   "outputs": [],
   "source": []
  }
 ],
 "metadata": {
  "anaconda-cloud": {},
  "kernelspec": {
   "display_name": "Python 3",
   "language": "python",
   "name": "python3"
  },
  "language_info": {
   "codemirror_mode": {
    "name": "ipython",
    "version": 3
   },
   "file_extension": ".py",
   "mimetype": "text/x-python",
   "name": "python",
   "nbconvert_exporter": "python",
   "pygments_lexer": "ipython3",
   "version": "3.5.3"
  },
  "nbpresent": {
   "slides": {
    "5004b7d3-2f6e-4b0b-ae28-dc334d829c7e": {
     "id": "5004b7d3-2f6e-4b0b-ae28-dc334d829c7e",
     "prev": "df1608ed-5dce-41a0-b82b-a5e6fed11664",
     "regions": {
      "9b95bea7-f729-4641-9c88-b56d2c0767a2": {
       "attrs": {
        "height": 1,
        "width": 1,
        "x": 0,
        "y": 0
       },
       "content": {
        "cell": "f9ee4b69-c3e6-4b15-90dc-06ffaadbd451",
        "part": "source"
       },
       "id": "9b95bea7-f729-4641-9c88-b56d2c0767a2"
      }
     }
    },
    "d855b7eb-dc83-44c0-9e6c-a9faf5d0e8ed": {
     "id": "d855b7eb-dc83-44c0-9e6c-a9faf5d0e8ed",
     "prev": null,
     "regions": {
      "2c6580a6-a0e8-4e28-9933-0b159705bc8e": {
       "attrs": {
        "height": 1,
        "width": 1,
        "x": 0,
        "y": 0
       },
       "content": {
        "cell": "6eb6ae54-534b-4581-9172-4e35fd5b7e94",
        "part": "whole"
       },
       "id": "2c6580a6-a0e8-4e28-9933-0b159705bc8e"
      }
     }
    },
    "df1608ed-5dce-41a0-b82b-a5e6fed11664": {
     "id": "df1608ed-5dce-41a0-b82b-a5e6fed11664",
     "prev": "d855b7eb-dc83-44c0-9e6c-a9faf5d0e8ed",
     "regions": {
      "deb372bf-1bb6-402a-86e0-edac0e7a401e": {
       "attrs": {
        "height": 1,
        "width": 1,
        "x": 0,
        "y": 0
       },
       "content": {
        "cell": "85e9447a-7fa5-44a7-b804-bc73024c1a62",
        "part": "source"
       },
       "id": "deb372bf-1bb6-402a-86e0-edac0e7a401e"
      }
     }
    }
   },
   "themes": {}
  }
 },
 "nbformat": 4,
 "nbformat_minor": 0
}
