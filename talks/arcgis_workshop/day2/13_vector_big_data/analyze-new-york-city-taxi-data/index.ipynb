{
 "cells": [
  {
   "cell_type": "markdown",
   "metadata": {},
   "source": [
    "<div class=\"alert alert-info\">\n",
    "\n",
    "**Note:** Refer here for instructions to <a href=\"https://developers.arcgis.com/python/sample-notebooks/#Download-and-run-the-sample-notebooks\">download and run this sample locally</a> on your computer\n",
    "\n",
    "</div>"
   ]
  },
  {
   "cell_type": "markdown",
   "metadata": {},
   "source": [
    "# Analyzing New York City taxi data using big data tools\n",
    "\n",
    "At 10.5, ArcGIS Enterprise introduces [ArcGIS GeoAnalytics Server](http://server.arcgis.com/en/server/latest/get-started/windows/what-is-arcgis-geoanalytics-server-.htm) which provides you the ability to perform big data analysis on your infrastructure. This sample demonstrates the steps involved in performing an aggregation analysis on New York city taxi point data using ArcGIS API for Python.\n",
    "\n",
    "The data used in this sample can be downloaded from [NYC Taxi & Limousine Commission website](http://www.nyc.gov/html/tlc/html/about/trip_record_data.shtml). For this sample, data for the months January & Febuary of 2015 were used, each averaging 12 million records.\n",
    "\n",
    "**Note**: The ability to perform big data analysis is only available on ArcGIS Enterprise 10.5 licensed with a GeoAnalytics server and not yet available on ArcGIS Online."
   ]
  },
  {
   "cell_type": "markdown",
   "metadata": {},
   "source": [
    "## The NYC taxi data\n",
    "\n",
    "To give you an overview, let us take a look at a subset with 2000 points published as a feature service."
   ]
  },
  {
   "cell_type": "code",
   "execution_count": 1,
   "metadata": {
    "collapsed": false
   },
   "outputs": [
    {
     "data": {
      "text/html": [
       "<div class=\"item_container\" style=\"height: auto; overflow: hidden; border: 1px solid #cfcfcf; border-radius: 2px; background: #f6fafa; line-height: 1.21429em; padding: 10px;\">\n",
       "                    <div class=\"item_left\" style=\"width: 210px; float: left;\">\n",
       "                       <a href='http://www.arcgis.com/home/item.html?id=83d94a090176478f88843e5daf75e997' target='_blank'>\n",
       "                        <img src='http://www.arcgis.com/sharing/rest//content/items/83d94a090176478f88843e5daf75e997/info/thumbnail/thumbnail.png' class=\"itemThumbnail\">\n",
       "                       </a>\n",
       "                    </div>\n",
       "\n",
       "                    <div class=\"item_right\"     style=\"float: none; width: auto; overflow: hidden;\">\n",
       "                        <a href='http://www.arcgis.com/home/item.html?id=83d94a090176478f88843e5daf75e997' target='_blank'><b>NYC_taxi_subset</b>\n",
       "                        </a>\n",
       "                        <br/>A subset of NYC taxi data<img src='http://www.arcgis.com/home/js/jsapi/esri/css/images/item_type_icons/featureshosted16.png' style=\"vertical-align:middle;\">Feature Layer Collection by atma.mani\n",
       "                        <br/>Last Modified: September 14, 2016\n",
       "                        <br/>0 comments, 2 views\n",
       "                    </div>\n",
       "                </div>\n",
       "                "
      ],
      "text/plain": [
       "<Item title:\"NYC_taxi_subset\" type:Feature Service owner:atma.mani>"
      ]
     },
     "execution_count": 1,
     "metadata": {},
     "output_type": "execute_result"
    }
   ],
   "source": [
    "import arcgis\n",
    "from arcgis.gis import GIS\n",
    "\n",
    "ago_gis = GIS() # Connect to ArcGIS Online as an anonymous user\n",
    "search_subset = ago_gis.content.search(\"NYC_taxi_subset\", item_type = \"Feature Layer\")\n",
    "subset_item = search_subset[0]\n",
    "subset_item"
   ]
  },
  {
   "cell_type": "markdown",
   "metadata": {},
   "source": [
    "Let us bring up a map to display the data."
   ]
  },
  {
   "cell_type": "code",
   "execution_count": 2,
   "metadata": {
    "collapsed": true
   },
   "outputs": [],
   "source": [
    "subset_map = ago_gis.map(\"New York, NY\", zoomlevel=11)\n",
    "subset_map"
   ]
  },
  {
   "cell_type": "code",
   "execution_count": 3,
   "metadata": {
    "collapsed": true
   },
   "outputs": [],
   "source": [
    "subset_map.add_layer(subset_item)"
   ]
  },
  {
   "cell_type": "markdown",
   "metadata": {},
   "source": [
    "Let us access the feature layers and their attribute table to understand the structure of our data. In the cell below, we are using the `query()` method to get the attribute information. The `query()` method returns a `FeatureSet` object which can be considered as a collection of individual `Feature` objects.\n",
    "\n",
    "You can mine through the `FeatureSet`, get individual `Feature`s and read their attribute information to compose a table of all features and their attributes. However, the `FeatureSet` object provides a much easier way to get that information. Using the `df` property of a `FeatureSet`, you can read the attribute information as a `pandas` dataframe object. \n",
    "\n",
    "To run this cell, you need to have `pandas` Python package installed. If you get an error that pandas cannot be found, you can install it by typing the following in your terminal that is running the jupyter notebook.\n",
    "\n",
    "    conda install pandas"
   ]
  },
  {
   "cell_type": "code",
   "execution_count": 4,
   "metadata": {
    "collapsed": false
   },
   "outputs": [
    {
     "data": {
      "text/html": [
       "<div>\n",
       "<table border=\"1\" class=\"dataframe\">\n",
       "  <thead>\n",
       "    <tr style=\"text-align: right;\">\n",
       "      <th></th>\n",
       "      <th>Field1</th>\n",
       "      <th>RateCodeID</th>\n",
       "      <th>VendorID</th>\n",
       "      <th>dropoff_latitude</th>\n",
       "      <th>dropoff_longitude</th>\n",
       "      <th>extra</th>\n",
       "      <th>fare_amount</th>\n",
       "      <th>improvement_surcharge</th>\n",
       "      <th>mta_tax</th>\n",
       "      <th>passenger_count</th>\n",
       "      <th>payment_type</th>\n",
       "      <th>pickup_latitude</th>\n",
       "      <th>pickup_longitude</th>\n",
       "      <th>store_and_fwd_flag</th>\n",
       "      <th>tip_amount</th>\n",
       "      <th>tolls_amount</th>\n",
       "      <th>total_amount</th>\n",
       "      <th>tpep_dropoff_datetime</th>\n",
       "      <th>tpep_pickup_datetime</th>\n",
       "      <th>trip_distance</th>\n",
       "    </tr>\n",
       "    <tr>\n",
       "      <th>OBJECTID</th>\n",
       "      <th></th>\n",
       "      <th></th>\n",
       "      <th></th>\n",
       "      <th></th>\n",
       "      <th></th>\n",
       "      <th></th>\n",
       "      <th></th>\n",
       "      <th></th>\n",
       "      <th></th>\n",
       "      <th></th>\n",
       "      <th></th>\n",
       "      <th></th>\n",
       "      <th></th>\n",
       "      <th></th>\n",
       "      <th></th>\n",
       "      <th></th>\n",
       "      <th></th>\n",
       "      <th></th>\n",
       "      <th></th>\n",
       "      <th></th>\n",
       "    </tr>\n",
       "  </thead>\n",
       "  <tbody>\n",
       "    <tr>\n",
       "      <th>1</th>\n",
       "      <td>3479320</td>\n",
       "      <td>1</td>\n",
       "      <td>2</td>\n",
       "      <td>40.782318</td>\n",
       "      <td>-73.980492</td>\n",
       "      <td>0.0</td>\n",
       "      <td>9.5</td>\n",
       "      <td>0.3</td>\n",
       "      <td>0.5</td>\n",
       "      <td>5</td>\n",
       "      <td>1</td>\n",
       "      <td>40.778149</td>\n",
       "      <td>-73.956291</td>\n",
       "      <td>N</td>\n",
       "      <td>2.1</td>\n",
       "      <td>0</td>\n",
       "      <td>12.4</td>\n",
       "      <td>1422268943000</td>\n",
       "      <td>1422268218000</td>\n",
       "      <td>1.76</td>\n",
       "    </tr>\n",
       "    <tr>\n",
       "      <th>2</th>\n",
       "      <td>8473342</td>\n",
       "      <td>1</td>\n",
       "      <td>2</td>\n",
       "      <td>40.769756</td>\n",
       "      <td>-73.950600</td>\n",
       "      <td>0.5</td>\n",
       "      <td>13.5</td>\n",
       "      <td>0.3</td>\n",
       "      <td>0.5</td>\n",
       "      <td>1</td>\n",
       "      <td>2</td>\n",
       "      <td>40.729458</td>\n",
       "      <td>-73.983864</td>\n",
       "      <td>N</td>\n",
       "      <td>0.0</td>\n",
       "      <td>0</td>\n",
       "      <td>14.8</td>\n",
       "      <td>1422137577000</td>\n",
       "      <td>1422136892000</td>\n",
       "      <td>3.73</td>\n",
       "    </tr>\n",
       "    <tr>\n",
       "      <th>3</th>\n",
       "      <td>10864374</td>\n",
       "      <td>1</td>\n",
       "      <td>2</td>\n",
       "      <td>40.753040</td>\n",
       "      <td>-73.985680</td>\n",
       "      <td>0.0</td>\n",
       "      <td>14.5</td>\n",
       "      <td>0.3</td>\n",
       "      <td>0.5</td>\n",
       "      <td>1</td>\n",
       "      <td>2</td>\n",
       "      <td>40.743740</td>\n",
       "      <td>-73.987617</td>\n",
       "      <td>N</td>\n",
       "      <td>0.0</td>\n",
       "      <td>0</td>\n",
       "      <td>15.3</td>\n",
       "      <td>1422719906000</td>\n",
       "      <td>1422718711000</td>\n",
       "      <td>2.84</td>\n",
       "    </tr>\n",
       "    <tr>\n",
       "      <th>4</th>\n",
       "      <td>7350094</td>\n",
       "      <td>1</td>\n",
       "      <td>2</td>\n",
       "      <td>40.765743</td>\n",
       "      <td>-73.954994</td>\n",
       "      <td>0.0</td>\n",
       "      <td>11.5</td>\n",
       "      <td>0.3</td>\n",
       "      <td>0.5</td>\n",
       "      <td>1</td>\n",
       "      <td>2</td>\n",
       "      <td>40.757507</td>\n",
       "      <td>-73.981682</td>\n",
       "      <td>N</td>\n",
       "      <td>0.0</td>\n",
       "      <td>0</td>\n",
       "      <td>12.3</td>\n",
       "      <td>1420907558000</td>\n",
       "      <td>1420906601000</td>\n",
       "      <td>2.18</td>\n",
       "    </tr>\n",
       "  </tbody>\n",
       "</table>\n",
       "</div>"
      ],
      "text/plain": [
       "            Field1  RateCodeID  VendorID  dropoff_latitude  dropoff_longitude  \\\n",
       "OBJECTID                                                                        \n",
       "1          3479320           1         2         40.782318         -73.980492   \n",
       "2          8473342           1         2         40.769756         -73.950600   \n",
       "3         10864374           1         2         40.753040         -73.985680   \n",
       "4          7350094           1         2         40.765743         -73.954994   \n",
       "\n",
       "          extra  fare_amount  improvement_surcharge  mta_tax  passenger_count  \\\n",
       "OBJECTID                                                                        \n",
       "1           0.0          9.5                    0.3      0.5                5   \n",
       "2           0.5         13.5                    0.3      0.5                1   \n",
       "3           0.0         14.5                    0.3      0.5                1   \n",
       "4           0.0         11.5                    0.3      0.5                1   \n",
       "\n",
       "          payment_type  pickup_latitude  pickup_longitude store_and_fwd_flag  \\\n",
       "OBJECTID                                                                       \n",
       "1                    1        40.778149        -73.956291                  N   \n",
       "2                    2        40.729458        -73.983864                  N   \n",
       "3                    2        40.743740        -73.987617                  N   \n",
       "4                    2        40.757507        -73.981682                  N   \n",
       "\n",
       "          tip_amount  tolls_amount  total_amount  tpep_dropoff_datetime  \\\n",
       "OBJECTID                                                                  \n",
       "1                2.1             0          12.4          1422268943000   \n",
       "2                0.0             0          14.8          1422137577000   \n",
       "3                0.0             0          15.3          1422719906000   \n",
       "4                0.0             0          12.3          1420907558000   \n",
       "\n",
       "          tpep_pickup_datetime  trip_distance  \n",
       "OBJECTID                                       \n",
       "1                1422268218000           1.76  \n",
       "2                1422136892000           3.73  \n",
       "3                1422718711000           2.84  \n",
       "4                1420906601000           2.18  "
      ]
     },
     "execution_count": 4,
     "metadata": {},
     "output_type": "execute_result"
    }
   ],
   "source": [
    "subset_feature_layer = subset_item.layers[0]\n",
    "\n",
    "# query the attribute information. Limit to first 5 rows.\n",
    "query_result = subset_feature_layer.query(where = 'OBJECTID < 5',\n",
    "                                          out_fields = \"*\", \n",
    "                                          returnGeometry = False)\n",
    "\n",
    "att_data_frame = query_result.df # get as a Pandas dataframe\n",
    "att_data_frame"
   ]
  },
  {
   "cell_type": "markdown",
   "metadata": {},
   "source": [
    "The table above represents the attribute information available from the NYC dataset. Columns like pickup, dropoff locations, fare, tips, toll, trip distance provide a wealth of infomation allowing many interesting patterns to be observed. Our full data dataset contains over 24 million points. To discern patterns out of it, let us aggregate the points into square blocks of 1 Kilometer length."
   ]
  },
  {
   "cell_type": "markdown",
   "metadata": {},
   "source": [
    "## Searching for big data file shares"
   ]
  },
  {
   "cell_type": "markdown",
   "metadata": {},
   "source": [
    "To process the csv data you have downloaded using GeoAnalyitcs Server, you need to register the data with your Geoanalytics Server. In this sample the data is in multiple csv files, which will be registered as a big data file share.\n",
    "\n",
    "Let us connect to an ArcGIS Enterprise."
   ]
  },
  {
   "cell_type": "code",
   "execution_count": 5,
   "metadata": {
    "collapsed": true
   },
   "outputs": [],
   "source": [
    "gis = GIS(\"https://yourportal.domain.com/webcontext\", \"username\", \"password\")"
   ]
  },
  {
   "cell_type": "markdown",
   "metadata": {},
   "source": [
    "Ensure that the Geoanalytics is supported with our GIS."
   ]
  },
  {
   "cell_type": "code",
   "execution_count": 6,
   "metadata": {
    "collapsed": false
   },
   "outputs": [
    {
     "data": {
      "text/plain": [
       "True"
      ]
     },
     "execution_count": 6,
     "metadata": {},
     "output_type": "execute_result"
    }
   ],
   "source": [
    "arcgis.geoanalytics.is_supported()"
   ]
  },
  {
   "cell_type": "markdown",
   "metadata": {},
   "source": [
    "Get the geoanalytics datastores and search it for the registered datasets:"
   ]
  },
  {
   "cell_type": "code",
   "execution_count": 7,
   "metadata": {
    "collapsed": false
   },
   "outputs": [],
   "source": [
    "datastores = arcgis.geoanalytics.get_datastores()"
   ]
  },
  {
   "cell_type": "code",
   "execution_count": 8,
   "metadata": {
    "collapsed": false
   },
   "outputs": [
    {
     "data": {
      "text/plain": [
       "[<Datastore title:\"/bigDataFileShares/Chicago_accidents\" type:\"bigDataFileShare\">,\n",
       " <Datastore title:\"/bigDataFileShares/hurricanes\" type:\"bigDataFileShare\">,\n",
       " <Datastore title:\"/bigDataFileShares/hurricanes_1m_168yrs\" type:\"bigDataFileShare\">,\n",
       " <Datastore title:\"/bigDataFileShares/hurricanes_all\" type:\"bigDataFileShare\">,\n",
       " <Datastore title:\"/bigDataFileShares/Hurricane_tracks\" type:\"bigDataFileShare\">,\n",
       " <Datastore title:\"/bigDataFileShares/NYCdata\" type:\"bigDataFileShare\">,\n",
       " <Datastore title:\"/bigDataFileShares/NYC_taxi\" type:\"bigDataFileShare\">]"
      ]
     },
     "execution_count": 8,
     "metadata": {},
     "output_type": "execute_result"
    }
   ],
   "source": [
    "bigdata_fileshares = datastores.search()\n",
    "bigdata_fileshares"
   ]
  },
  {
   "cell_type": "markdown",
   "metadata": {
    "collapsed": true
   },
   "source": [
    "NYC_taxi data is registered as a `big data file share` with the Geoanalytics datastore, so we can reference it:"
   ]
  },
  {
   "cell_type": "code",
   "execution_count": 9,
   "metadata": {
    "collapsed": true
   },
   "outputs": [],
   "source": [
    "data_item = bigdata_fileshares[5]"
   ]
  },
  {
   "cell_type": "markdown",
   "metadata": {},
   "source": [
    "## Registering big data file shares\n",
    "\n",
    "The code below shows how a big data file share can be registered with the geoanalytics datastores, in case it's not already registered."
   ]
  },
  {
   "cell_type": "code",
   "execution_count": 10,
   "metadata": {
    "collapsed": false
   },
   "outputs": [
    {
     "name": "stdout",
     "output_type": "stream",
     "text": [
      "Big Data file share exists for NYCdata\n"
     ]
    }
   ],
   "source": [
    "data_item = datastores.add_bigdata(\"NYCdata\", r\"\\\\teton\\atma_shared\\datasets\\NYC_taxi\")"
   ]
  },
  {
   "cell_type": "markdown",
   "metadata": {},
   "source": [
    "Once a big data file share is created, the GeoAnalytics server processes all the valid file types to discern the schema of the data. This process can take a few minutes depending on the size of your data. Once processed, querying the `manifest` property returns the schema. As you can see from below, the schema is similar to the subset we observed earlier in this sample."
   ]
  },
  {
   "cell_type": "code",
   "execution_count": 11,
   "metadata": {
    "collapsed": false
   },
   "outputs": [
    {
     "data": {
      "text/plain": [
       "{'datasets': [{'format': {'encoding': 'UTF-8',\n",
       "    'extension': 'csv',\n",
       "    'fieldDelimiter': ',',\n",
       "    'hasHeaderRow': True,\n",
       "    'quoteChar': '\"',\n",
       "    'recordTerminator': '\\n',\n",
       "    'type': 'delimited'},\n",
       "   'geometry': {'fields': [{'formats': ['x'], 'name': 'pickup_longitude'},\n",
       "     {'formats': ['y'], 'name': 'pickup_latitude'}],\n",
       "    'geometryType': 'esriGeometryPoint',\n",
       "    'spatialReference': {'wkid': 4326}},\n",
       "   'name': 'sampled',\n",
       "   'schema': {'fields': [{'name': 'VendorID',\n",
       "      'type': 'esriFieldTypeBigInteger'},\n",
       "     {'name': 'tpep_pickup_datetime', 'type': 'esriFieldTypeString'},\n",
       "     {'name': 'tpep_dropoff_datetime', 'type': 'esriFieldTypeString'},\n",
       "     {'name': 'passenger_count', 'type': 'esriFieldTypeBigInteger'},\n",
       "     {'name': 'trip_distance', 'type': 'esriFieldTypeDouble'},\n",
       "     {'name': 'pickup_longitude', 'type': 'esriFieldTypeDouble'},\n",
       "     {'name': 'pickup_latitude', 'type': 'esriFieldTypeDouble'},\n",
       "     {'name': 'RateCodeID', 'type': 'esriFieldTypeBigInteger'},\n",
       "     {'name': 'store_and_fwd_flag', 'type': 'esriFieldTypeString'},\n",
       "     {'name': 'dropoff_longitude', 'type': 'esriFieldTypeDouble'},\n",
       "     {'name': 'dropoff_latitude', 'type': 'esriFieldTypeDouble'},\n",
       "     {'name': 'payment_type', 'type': 'esriFieldTypeBigInteger'},\n",
       "     {'name': 'fare_amount', 'type': 'esriFieldTypeDouble'},\n",
       "     {'name': 'extra', 'type': 'esriFieldTypeDouble'},\n",
       "     {'name': 'mta_tax', 'type': 'esriFieldTypeDouble'},\n",
       "     {'name': 'tip_amount', 'type': 'esriFieldTypeDouble'},\n",
       "     {'name': 'tolls_amount', 'type': 'esriFieldTypeDouble'},\n",
       "     {'name': 'improvement_surcharge', 'type': 'esriFieldTypeDouble'},\n",
       "     {'name': 'total_amount', 'type': 'esriFieldTypeDouble'}]},\n",
       "   'time': {'fields': [{'formats': ['MM/dd/yyyy HH:mm'],\n",
       "      'name': 'tpep_pickup_datetime'}],\n",
       "    'timeReference': {'timeZone': 'UTC'},\n",
       "    'timeType': 'instant'}}]}"
      ]
     },
     "execution_count": 11,
     "metadata": {},
     "output_type": "execute_result"
    }
   ],
   "source": [
    "data_item.manifest"
   ]
  },
  {
   "cell_type": "markdown",
   "metadata": {},
   "source": [
    "## Performing data aggregation"
   ]
  },
  {
   "cell_type": "markdown",
   "metadata": {},
   "source": [
    "When you add a big data file share datastore, a corresponding item gets created on your portal. You can search for it like a regular item and query its layers."
   ]
  },
  {
   "cell_type": "code",
   "execution_count": 12,
   "metadata": {
    "collapsed": false
   },
   "outputs": [
    {
     "data": {
      "text/plain": [
       "[<Item title:\"bigDataFileShares_hurricanes_1m_168yrs\" type:Big Data File Share owner:admin>,\n",
       " <Item title:\"bigDataFileShares_NYC_taxi\" type:Big Data File Share owner:admin>,\n",
       " <Item title:\"bigDataFileShares_hurricanes\" type:Big Data File Share owner:admin>,\n",
       " <Item title:\"bigDataFileShares_Chicago_accidents\" type:Big Data File Share owner:admin>,\n",
       " <Item title:\"bigDataFileShares_hurricanes_all\" type:Big Data File Share owner:admin>,\n",
       " <Item title:\"bigDataFileShares_NYCdata\" type:Big Data File Share owner:admin>]"
      ]
     },
     "execution_count": 12,
     "metadata": {},
     "output_type": "execute_result"
    }
   ],
   "source": [
    "search_result = gis.content.search(\"\", item_type = \"big data file share\")\n",
    "search_result"
   ]
  },
  {
   "cell_type": "code",
   "execution_count": 13,
   "metadata": {
    "collapsed": false
   },
   "outputs": [
    {
     "data": {
      "text/html": [
       "<div class=\"item_container\" style=\"height: auto; overflow: hidden; border: 1px solid #cfcfcf; border-radius: 2px; background: #f6fafa; line-height: 1.21429em; padding: 10px;\">\n",
       "                    <div class=\"item_left\" style=\"width: 210px; float: left;\">\n",
       "                       <a href='https://dev003246.esri.com/portal/home/item.html?id=eb008eec870547bab733efa210a52e5d' target='_blank'>\n",
       "                        <img src='https://dev003246.esri.com/portal/portalimages/desktopapp.png' class=\"itemThumbnail\">\n",
       "                       </a>\n",
       "                    </div>\n",
       "\n",
       "                    <div class=\"item_right\"     style=\"float: none; width: auto; overflow: hidden;\">\n",
       "                        <a href='https://dev003246.esri.com/portal/home/item.html?id=eb008eec870547bab733efa210a52e5d' target='_blank'><b>bigDataFileShares_NYCdata</b>\n",
       "                        </a>\n",
       "                        <br/><img src='https://dev003246.esri.com/portal/home/js/jsapi/esri/css/images/item_type_icons/layers16.png' style=\"vertical-align:middle;\">Big Data File Share by admin\n",
       "                        <br/>Last Modified: December 01, 2016\n",
       "                        <br/>0 comments, 0 views\n",
       "                    </div>\n",
       "                </div>\n",
       "                "
      ],
      "text/plain": [
       "<Item title:\"bigDataFileShares_NYCdata\" type:Big Data File Share owner:admin>"
      ]
     },
     "execution_count": 13,
     "metadata": {},
     "output_type": "execute_result"
    }
   ],
   "source": [
    "data_item = search_result[5]\n",
    "data_item"
   ]
  },
  {
   "cell_type": "code",
   "execution_count": 14,
   "metadata": {
    "collapsed": false
   },
   "outputs": [
    {
     "data": {
      "text/plain": [
       "[<Layer url:\"https://yourserver.domain.com/webcontext/rest/services/DataStoreCatalogs/bigDataFileShares_NYCdata/BigDataCatalogServer/sampled\">]"
      ]
     },
     "execution_count": 14,
     "metadata": {},
     "output_type": "execute_result"
    }
   ],
   "source": [
    "data_item.layers"
   ]
  },
  {
   "cell_type": "code",
   "execution_count": 15,
   "metadata": {
    "collapsed": false
   },
   "outputs": [
    {
     "data": {
      "text/plain": [
       "<Layer url:\"https://yourserver.domain.com/webcontext/rest/services/DataStoreCatalogs/bigDataFileShares_NYCdata/BigDataCatalogServer/sampled\">"
      ]
     },
     "execution_count": 15,
     "metadata": {},
     "output_type": "execute_result"
    }
   ],
   "source": [
    "year_2015 = data_item.layers[0]\n",
    "year_2015"
   ]
  },
  {
   "cell_type": "markdown",
   "metadata": {},
   "source": [
    "### Aggregate points tool\n",
    "The `aggregate_points()` tool can be accessed through the `tools.bigdata` property of your GIS. In this example, we are using this tool to aggregate the numerous points into 1 Kilometer square blocks. The tool creates a feature layer as an output which can be accessed once the processing is complete."
   ]
  },
  {
   "cell_type": "code",
   "execution_count": 16,
   "metadata": {
    "collapsed": false
   },
   "outputs": [],
   "source": [
    "from arcgis.geoanalytics.summarize_data import aggregate_points"
   ]
  },
  {
   "cell_type": "code",
   "execution_count": 17,
   "metadata": {
    "collapsed": true
   },
   "outputs": [],
   "source": [
    "arcgis.env.process_spatial_reference=3857"
   ]
  },
  {
   "cell_type": "code",
   "execution_count": 18,
   "metadata": {
    "collapsed": false
   },
   "outputs": [
    {
     "name": "stdout",
     "output_type": "stream",
     "text": [
      "Submitted.\n",
      "Executing...\n",
      "Executing (AggregatePoints): AggregatePoints \"Feature Set\" # 1 Kilometers # # # # # # # {\"serviceProperties\":{\"name\":\"Aggregate_Points_Analysis_7PE5QR\",\"serviceUrl\":\"http://yourserver.domain.com/webcontext/rest/services/Hosted/Aggregate_Points_Analysis_7PE5QR/FeatureServer\"},\"itemProperties\":{\"itemId\":\"42add58c05d54ae1a492175894410b02\"}} {\"processSR\":{\"wkid\":3857}}\n",
      "Start Time: Wed Dec 14 12:38:07 2016\n",
      "Using URL based GPRecordSet param: https://yourserver.domain.com/webcontext/rest/services/DataStoreCatalogs/bigDataFileShares_NYCdata/BigDataCatalogServer/sampled?token=8wIONMIEQR-QQPpTaXJ_Tz-PRPWtYX9AQapkiMAa0GbMYQORQuzNMAWAjN641uvgg5yNJnXinc_NG3OUG0d0u2vySZ-r9BePKOMBuA_hEy0boVvNZ5_bGGeMl0v-4agYjkZKfOJxm4zZWEQoXJqx67WHktNU_s2snZ0QGE-wKLE.\n",
      "{\"messageCode\":\"BD_101033\",\"message\":\"'pointLayer' will be projected into the processing spatial reference.\",\"params\":{\"paramName\":\"pointLayer\"}}\n",
      "{\"messageCode\":\"BD_101028\",\"message\":\"Starting new distributed job with 6 tasks.\",\"params\":{\"totalTasks\":\"6\"}}\n",
      "{\"messageCode\":\"BD_101029\",\"message\":\"1/6 distributed tasks completed.\",\"params\":{\"completedTasks\":\"1\",\"totalTasks\":\"6\"}}\n",
      "{\"messageCode\":\"BD_101029\",\"message\":\"6/6 distributed tasks completed.\",\"params\":{\"completedTasks\":\"6\",\"totalTasks\":\"6\"}}\n",
      "  interval = None\n",
      "  count = 152\n",
      "{\"messageCode\":\"BD_0\",\"message\":\"Feature service layer created: http://yourserver.domain.com/webcontext/rest/services/Hosted/Aggregate_Points_Analysis_7PE5QR/FeatureServer/0\",\"params\":{\"serviceUrl\":\"http://yourserver.domain.com/webcontext/rest/services/Hosted/Aggregate_Points_Analysis_7PE5QR/FeatureServer/0\"}}\n",
      "Succeeded at Wed Dec 14 12:38:15 2016 (Elapsed Time: 8.00 seconds)\n"
     ]
    }
   ],
   "source": [
    "agg_result = aggregate_points(year_2015, bin_size=1, bin_size_unit='Kilometers')"
   ]
  },
  {
   "cell_type": "markdown",
   "metadata": {
    "collapsed": true
   },
   "source": [
    "### Inspect the results\n",
    "\n",
    "Let us create a map and load the processed result which is a feature layer item."
   ]
  },
  {
   "cell_type": "code",
   "execution_count": 19,
   "metadata": {
    "collapsed": true
   },
   "outputs": [],
   "source": [
    "processed_map = gis.map('New York, NY', 11)\n",
    "processed_map"
   ]
  },
  {
   "cell_type": "code",
   "execution_count": 20,
   "metadata": {
    "collapsed": true
   },
   "outputs": [],
   "source": [
    "processed_map.add_layer(agg_result)"
   ]
  },
  {
   "cell_type": "markdown",
   "metadata": {},
   "source": [
    "Let us inspect the analysis result using smart mapping. To learn more about this visualization capability, refer to the guide on [Smart Mapping](/python/guide/smart-mapping/) under the 'Mapping and Visualization' section."
   ]
  },
  {
   "cell_type": "code",
   "execution_count": 21,
   "metadata": {
    "collapsed": true
   },
   "outputs": [],
   "source": [
    "map2 = gis.map(\"New York, NY\", 11)\n",
    "map2"
   ]
  },
  {
   "cell_type": "code",
   "execution_count": 22,
   "metadata": {
    "collapsed": true
   },
   "outputs": [],
   "source": [
    "map2.add_layer(agg_result, {\n",
    "                \"renderer\":\"ClassedColorRenderer\",\n",
    "                \"field_name\":\"MAX_tip_amount\", \n",
    "                \"normalizationField\":'MAX_trip_distance',\n",
    "                \"classificationMethod\":'natural-breaks',\n",
    "                \"opacity\":0.75\n",
    "              })"
   ]
  },
  {
   "cell_type": "markdown",
   "metadata": {},
   "source": [
    "We can now start seeing patterns, such as which pickup areas resulted in higher tips for the cab drivers."
   ]
  }
 ],
 "metadata": {
  "anaconda-cloud": {},
  "kernelspec": {
   "display_name": "Python 3",
   "language": "python",
   "name": "python3"
  },
  "language_info": {
   "codemirror_mode": {
    "name": "ipython",
    "version": 3
   },
   "file_extension": ".py",
   "mimetype": "text/x-python",
   "name": "python",
   "nbconvert_exporter": "python",
   "pygments_lexer": "ipython3",
   "version": "3.5.3"
  }
 },
 "nbformat": 4,
 "nbformat_minor": 0
}
