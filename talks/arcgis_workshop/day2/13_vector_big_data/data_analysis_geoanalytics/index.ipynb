{
 "cells": [
  {
   "cell_type": "markdown",
   "metadata": {},
   "source": [
    "## Connect to the GIS"
   ]
  },
  {
   "cell_type": "code",
   "execution_count": 3,
   "metadata": {
    "collapsed": false
   },
   "outputs": [
    {
     "name": "stdout",
     "output_type": "stream",
     "text": [
      "········\n"
     ]
    }
   ],
   "source": [
    "from arcgis.gis import GIS\n",
    "from getpass import getpass\n",
    "password = getpass()\n",
    "gis = GIS(\"https://esriwebgis.webgistesting.net/portal\", \"atma.mani\", password)"
   ]
  },
  {
   "cell_type": "markdown",
   "metadata": {},
   "source": [
    "# Visualize the aggregate result"
   ]
  },
  {
   "cell_type": "code",
   "execution_count": 4,
   "metadata": {
    "collapsed": false
   },
   "outputs": [
    {
     "data": {
      "text/plain": [
       "[<Item title:\"Reconstructed_Tracks_WXXBKC\" type:Feature Service owner:admin>,\n",
       " <Item title:\"Reconstructed_Tracks_MO1UC2\" type:Feature Service owner:admin>]"
      ]
     },
     "execution_count": 4,
     "metadata": {},
     "output_type": "execute_result"
    }
   ],
   "source": [
    "search_results = gis.content.search(\"Reconstructed_Tracks*\")\n",
    "search_results"
   ]
  },
  {
   "cell_type": "code",
   "execution_count": 5,
   "metadata": {
    "collapsed": true
   },
   "outputs": [],
   "source": [
    "map1 = gis.map()\n",
    "map1"
   ]
  },
  {
   "cell_type": "code",
   "execution_count": 6,
   "metadata": {
    "collapsed": true
   },
   "outputs": [],
   "source": [
    "agg_result = search_results[0]\n",
    "map1.add_layer(agg_result)"
   ]
  },
  {
   "cell_type": "code",
   "execution_count": 8,
   "metadata": {
    "collapsed": true
   },
   "outputs": [],
   "source": [
    "# display hurricanes during any 20 years\n",
    "map1.start_time = '1852'\n",
    "map1.end_time = '1872'"
   ]
  },
  {
   "cell_type": "markdown",
   "metadata": {},
   "source": [
    "## Analyze the attribute info"
   ]
  },
  {
   "cell_type": "code",
   "execution_count": 9,
   "metadata": {
    "collapsed": false
   },
   "outputs": [
    {
     "data": {
      "text/plain": [
       "[<FeatureLayer url:\"http://ESRIwebgis.webgistesting.net/server/rest/services/Hosted/Reconstructed_Tracks_WXXBKC/FeatureServer/0\">]"
      ]
     },
     "execution_count": 9,
     "metadata": {},
     "output_type": "execute_result"
    }
   ],
   "source": [
    "agg_result_FL = agg_result.layers\n",
    "agg_result_FL"
   ]
  },
  {
   "cell_type": "code",
   "execution_count": 10,
   "metadata": {
    "collapsed": false
   },
   "outputs": [
    {
     "data": {
      "text/html": [
       "<div>\n",
       "<table border=\"1\" class=\"dataframe\">\n",
       "  <thead>\n",
       "    <tr style=\"text-align: right;\">\n",
       "      <th></th>\n",
       "      <th>ANY_basin</th>\n",
       "      <th>ANY_center</th>\n",
       "      <th>ANY_iso_time</th>\n",
       "      <th>ANY_name</th>\n",
       "      <th>ANY_nature</th>\n",
       "      <th>ANY_size</th>\n",
       "      <th>ANY_sub_basin</th>\n",
       "      <th>ANY_track_type</th>\n",
       "      <th>COUNT</th>\n",
       "      <th>COUNT_Wind</th>\n",
       "      <th>...</th>\n",
       "      <th>VAR_latitude</th>\n",
       "      <th>VAR_longitude</th>\n",
       "      <th>VAR_num</th>\n",
       "      <th>VAR_pres_wmo1</th>\n",
       "      <th>VAR_pres_wmo_</th>\n",
       "      <th>VAR_season</th>\n",
       "      <th>VAR_wind_wmo1</th>\n",
       "      <th>VAR_wind_wmo_</th>\n",
       "      <th>globalid</th>\n",
       "      <th>serial_num</th>\n",
       "    </tr>\n",
       "    <tr>\n",
       "      <th>OBJECTID</th>\n",
       "      <th></th>\n",
       "      <th></th>\n",
       "      <th></th>\n",
       "      <th></th>\n",
       "      <th></th>\n",
       "      <th></th>\n",
       "      <th></th>\n",
       "      <th></th>\n",
       "      <th></th>\n",
       "      <th></th>\n",
       "      <th></th>\n",
       "      <th></th>\n",
       "      <th></th>\n",
       "      <th></th>\n",
       "      <th></th>\n",
       "      <th></th>\n",
       "      <th></th>\n",
       "      <th></th>\n",
       "      <th></th>\n",
       "      <th></th>\n",
       "      <th></th>\n",
       "    </tr>\n",
       "  </thead>\n",
       "  <tbody>\n",
       "    <tr>\n",
       "      <th>1</th>\n",
       "      <td>SI</td>\n",
       "      <td>reunion</td>\n",
       "      <td>1848-01-11 06:00:00</td>\n",
       "      <td>XXXX848002</td>\n",
       "      <td>NR</td>\n",
       "      <td>0</td>\n",
       "      <td>MM</td>\n",
       "      <td>main</td>\n",
       "      <td>6.0</td>\n",
       "      <td>6.0</td>\n",
       "      <td>...</td>\n",
       "      <td>69.869667</td>\n",
       "      <td>17.237667</td>\n",
       "      <td>0.0</td>\n",
       "      <td>0.0</td>\n",
       "      <td>0.0</td>\n",
       "      <td>0.0</td>\n",
       "      <td>0.000000</td>\n",
       "      <td>0.000000</td>\n",
       "      <td>{39CC2082-8E91-4DF4-A6EF-19FF0083893E}</td>\n",
       "      <td>1848011S15057</td>\n",
       "    </tr>\n",
       "    <tr>\n",
       "      <th>9</th>\n",
       "      <td>NA</td>\n",
       "      <td>atcf</td>\n",
       "      <td>1852-09-22 00:00:00</td>\n",
       "      <td>NOT NAMED</td>\n",
       "      <td>TS</td>\n",
       "      <td>50000</td>\n",
       "      <td>MM</td>\n",
       "      <td>main</td>\n",
       "      <td>36.0</td>\n",
       "      <td>36.0</td>\n",
       "      <td>...</td>\n",
       "      <td>28.048159</td>\n",
       "      <td>25.096286</td>\n",
       "      <td>0.0</td>\n",
       "      <td>0.0</td>\n",
       "      <td>0.0</td>\n",
       "      <td>0.0</td>\n",
       "      <td>74.865499</td>\n",
       "      <td>100.634921</td>\n",
       "      <td>{60EF7236-A492-4888-A8D4-D09BF08282D5}</td>\n",
       "      <td>1852266N16302</td>\n",
       "    </tr>\n",
       "    <tr>\n",
       "      <th>17</th>\n",
       "      <td>SI</td>\n",
       "      <td>reunion</td>\n",
       "      <td>1854-03-01 06:00:00</td>\n",
       "      <td>XXXX854011</td>\n",
       "      <td>NR</td>\n",
       "      <td>0</td>\n",
       "      <td>MM</td>\n",
       "      <td>main</td>\n",
       "      <td>4.0</td>\n",
       "      <td>4.0</td>\n",
       "      <td>...</td>\n",
       "      <td>4.430000</td>\n",
       "      <td>0.042500</td>\n",
       "      <td>0.0</td>\n",
       "      <td>0.0</td>\n",
       "      <td>0.0</td>\n",
       "      <td>0.0</td>\n",
       "      <td>0.000000</td>\n",
       "      <td>0.000000</td>\n",
       "      <td>{EA818C35-E7CF-4B4C-AD20-A7AB1C47417F}</td>\n",
       "      <td>1854060S15069</td>\n",
       "    </tr>\n",
       "    <tr>\n",
       "      <th>37</th>\n",
       "      <td>NA</td>\n",
       "      <td>atcf</td>\n",
       "      <td>1858-09-17 00:00:00</td>\n",
       "      <td>NOT NAMED</td>\n",
       "      <td>TS</td>\n",
       "      <td>80000</td>\n",
       "      <td>MM</td>\n",
       "      <td>main</td>\n",
       "      <td>32.0</td>\n",
       "      <td>32.0</td>\n",
       "      <td>...</td>\n",
       "      <td>87.758548</td>\n",
       "      <td>54.076280</td>\n",
       "      <td>0.0</td>\n",
       "      <td>0.0</td>\n",
       "      <td>0.0</td>\n",
       "      <td>0.0</td>\n",
       "      <td>54.920887</td>\n",
       "      <td>75.806452</td>\n",
       "      <td>{1217FACB-B96B-485C-84DF-B209617A0ECD}</td>\n",
       "      <td>1858260N18319</td>\n",
       "    </tr>\n",
       "    <tr>\n",
       "      <th>49</th>\n",
       "      <td>SI</td>\n",
       "      <td>reunion</td>\n",
       "      <td>1860-01-11 06:00:00</td>\n",
       "      <td>XXXX860037</td>\n",
       "      <td>NR</td>\n",
       "      <td>0</td>\n",
       "      <td>MM</td>\n",
       "      <td>main</td>\n",
       "      <td>9.0</td>\n",
       "      <td>9.0</td>\n",
       "      <td>...</td>\n",
       "      <td>39.069444</td>\n",
       "      <td>22.152500</td>\n",
       "      <td>0.0</td>\n",
       "      <td>0.0</td>\n",
       "      <td>0.0</td>\n",
       "      <td>0.0</td>\n",
       "      <td>0.000000</td>\n",
       "      <td>0.000000</td>\n",
       "      <td>{328E45DE-F957-4FA4-B506-81B16ACB7443}</td>\n",
       "      <td>1860011S13068</td>\n",
       "    </tr>\n",
       "  </tbody>\n",
       "</table>\n",
       "<p>5 rows × 94 columns</p>\n",
       "</div>"
      ],
      "text/plain": [
       "         ANY_basin ANY_center         ANY_iso_time    ANY_name ANY_nature  \\\n",
       "OBJECTID                                                                    \n",
       "1               SI    reunion  1848-01-11 06:00:00  XXXX848002         NR   \n",
       "9               NA       atcf  1852-09-22 00:00:00   NOT NAMED         TS   \n",
       "17              SI    reunion  1854-03-01 06:00:00  XXXX854011         NR   \n",
       "37              NA       atcf  1858-09-17 00:00:00   NOT NAMED         TS   \n",
       "49              SI    reunion  1860-01-11 06:00:00  XXXX860037         NR   \n",
       "\n",
       "         ANY_size ANY_sub_basin ANY_track_type  COUNT  COUNT_Wind  \\\n",
       "OBJECTID                                                            \n",
       "1               0            MM           main    6.0         6.0   \n",
       "9           50000            MM           main   36.0        36.0   \n",
       "17              0            MM           main    4.0         4.0   \n",
       "37          80000            MM           main   32.0        32.0   \n",
       "49              0            MM           main    9.0         9.0   \n",
       "\n",
       "              ...        VAR_latitude  VAR_longitude  VAR_num  VAR_pres_wmo1  \\\n",
       "OBJECTID      ...                                                              \n",
       "1             ...           69.869667      17.237667      0.0            0.0   \n",
       "9             ...           28.048159      25.096286      0.0            0.0   \n",
       "17            ...            4.430000       0.042500      0.0            0.0   \n",
       "37            ...           87.758548      54.076280      0.0            0.0   \n",
       "49            ...           39.069444      22.152500      0.0            0.0   \n",
       "\n",
       "          VAR_pres_wmo_  VAR_season  VAR_wind_wmo1  VAR_wind_wmo_  \\\n",
       "OBJECTID                                                            \n",
       "1                   0.0         0.0       0.000000       0.000000   \n",
       "9                   0.0         0.0      74.865499     100.634921   \n",
       "17                  0.0         0.0       0.000000       0.000000   \n",
       "37                  0.0         0.0      54.920887      75.806452   \n",
       "49                  0.0         0.0       0.000000       0.000000   \n",
       "\n",
       "                                        globalid     serial_num  \n",
       "OBJECTID                                                         \n",
       "1         {39CC2082-8E91-4DF4-A6EF-19FF0083893E}  1848011S15057  \n",
       "9         {60EF7236-A492-4888-A8D4-D09BF08282D5}  1852266N16302  \n",
       "17        {EA818C35-E7CF-4B4C-AD20-A7AB1C47417F}  1854060S15069  \n",
       "37        {1217FACB-B96B-485C-84DF-B209617A0ECD}  1858260N18319  \n",
       "49        {328E45DE-F957-4FA4-B506-81B16ACB7443}  1860011S13068  \n",
       "\n",
       "[5 rows x 94 columns]"
      ]
     },
     "execution_count": 10,
     "metadata": {},
     "output_type": "execute_result"
    }
   ],
   "source": [
    "query_result = agg_result_FL[0].query(out_fields = \"*\", returnGeometry = False)\n",
    "att_data_frame = query_result.df\n",
    "att_data_frame.head()"
   ]
  },
  {
   "cell_type": "code",
   "execution_count": 11,
   "metadata": {
    "collapsed": false,
    "scrolled": true
   },
   "outputs": [
    {
     "data": {
      "text/plain": [
       "(568, 94)"
      ]
     },
     "execution_count": 11,
     "metadata": {},
     "output_type": "execute_result"
    }
   ],
   "source": [
    "att_data_frame.shape"
   ]
  },
  {
   "cell_type": "code",
   "execution_count": 12,
   "metadata": {
    "collapsed": false
   },
   "outputs": [
    {
     "data": {
      "text/plain": [
       "Index(['ANY_basin', 'ANY_center', 'ANY_iso_time', 'ANY_name', 'ANY_nature',\n",
       "       'ANY_size', 'ANY_sub_basin', 'ANY_track_type', 'COUNT', 'COUNT_Wind',\n",
       "       'COUNT_basin', 'COUNT_center', 'COUNT_iso_time', 'COUNT_latitude',\n",
       "       'COUNT_longitude', 'COUNT_name', 'COUNT_nature', 'COUNT_num',\n",
       "       'COUNT_pres_wmo1', 'COUNT_pres_wmo_', 'COUNT_season', 'COUNT_size',\n",
       "       'COUNT_sub_basin', 'COUNT_track_type', 'COUNT_wind_wmo1',\n",
       "       'COUNT_wind_wmo_', 'END_DATETIME', 'MAX_Wind', 'MAX_latitude',\n",
       "       'MAX_longitude', 'MAX_num', 'MAX_pres_wmo1', 'MAX_pres_wmo_',\n",
       "       'MAX_season', 'MAX_wind_wmo1', 'MAX_wind_wmo_', 'MEAN_Wind',\n",
       "       'MEAN_latitude', 'MEAN_longitude', 'MEAN_num', 'MEAN_pres_wmo1',\n",
       "       'MEAN_pres_wmo_', 'MEAN_season', 'MEAN_wind_wmo1', 'MEAN_wind_wmo_',\n",
       "       'MIN_Wind', 'MIN_latitude', 'MIN_longitude', 'MIN_num', 'MIN_pres_wmo1',\n",
       "       'MIN_pres_wmo_', 'MIN_season', 'MIN_wind_wmo1', 'MIN_wind_wmo_',\n",
       "       'RANGE_Wind', 'RANGE_latitude', 'RANGE_longitude', 'RANGE_num',\n",
       "       'RANGE_pres_wmo1', 'RANGE_pres_wmo_', 'RANGE_season', 'RANGE_wind_wmo1',\n",
       "       'RANGE_wind_wmo_', 'SD_Wind', 'SD_latitude', 'SD_longitude', 'SD_num',\n",
       "       'SD_pres_wmo1', 'SD_pres_wmo_', 'SD_season', 'SD_wind_wmo1',\n",
       "       'SD_wind_wmo_', 'START_DATETIME', 'SUM_Wind', 'SUM_latitude',\n",
       "       'SUM_longitude', 'SUM_num', 'SUM_pres_wmo1', 'SUM_pres_wmo_',\n",
       "       'SUM_season', 'SUM_wind_wmo1', 'SUM_wind_wmo_', 'TRACK_DURATION',\n",
       "       'VAR_Wind', 'VAR_latitude', 'VAR_longitude', 'VAR_num', 'VAR_pres_wmo1',\n",
       "       'VAR_pres_wmo_', 'VAR_season', 'VAR_wind_wmo1', 'VAR_wind_wmo_',\n",
       "       'globalid', 'serial_num'],\n",
       "      dtype='object')"
      ]
     },
     "execution_count": 12,
     "metadata": {},
     "output_type": "execute_result"
    }
   ],
   "source": [
    "att_data_frame.columns"
   ]
  },
  {
   "cell_type": "markdown",
   "metadata": {},
   "source": [
    "## Has the number of hurricanes increased over time?"
   ]
  },
  {
   "cell_type": "code",
   "execution_count": 13,
   "metadata": {
    "collapsed": false
   },
   "outputs": [
    {
     "data": {
      "text/plain": [
       "<Container object of 51 artists>"
      ]
     },
     "execution_count": 13,
     "metadata": {},
     "output_type": "execute_result"
    },
    {
     "data": {
      "image/png": "[encoded data removed]",
      "text/plain": [
       "<matplotlib.figure.Figure at 0x1d2f2743978>"
      ]
     },
     "metadata": {},
     "output_type": "display_data"
    }
   ],
   "source": [
    "sorted_df = att_data_frame.sort_values('MEAN_season')\n",
    "hurricane_freq = sorted_df.groupby('MEAN_season').count()\n",
    "\n",
    "%matplotlib inline\n",
    "import matplotlib.pyplot as plt\n",
    "import numpy as np\n",
    "\n",
    "x = np.asarray(hurricane_freq.axes[0])\n",
    "y = np.asarray(hurricane_freq['COUNT'])\n",
    "fig, ax = plt.subplots()\n",
    "ax.bar(x, y)"
   ]
  },
  {
   "cell_type": "markdown",
   "metadata": {},
   "source": [
    "### Fit a trend line"
   ]
  },
  {
   "cell_type": "code",
   "execution_count": 14,
   "metadata": {
    "collapsed": false
   },
   "outputs": [
    {
     "name": "stdout",
     "output_type": "stream",
     "text": [
      "[  8.51067944e-02  -1.48434647e+02]\n"
     ]
    },
    {
     "data": {
      "image/png": "[encoded data removed]",
      "text/plain": [
       "<matplotlib.figure.Figure at 0x1d2f2743978>"
      ]
     },
     "execution_count": 14,
     "metadata": {},
     "output_type": "execute_result"
    }
   ],
   "source": [
    "fit1 = np.polyfit(x, y, deg=1)\n",
    "print(fit1)\n",
    "\n",
    "ax.plot(x, x*fit1[0] + fit1[1], color='red', linewidth=4)\n",
    "\n",
    "fig"
   ]
  },
  {
   "cell_type": "markdown",
   "metadata": {},
   "source": [
    "# Has the duration of hurricanes increased over time?"
   ]
  },
  {
   "cell_type": "code",
   "execution_count": 15,
   "metadata": {
    "collapsed": false
   },
   "outputs": [
    {
     "data": {
      "text/plain": [
       "<matplotlib.collections.PathCollection at 0x1d2fc7a5940>"
      ]
     },
     "execution_count": 15,
     "metadata": {},
     "output_type": "execute_result"
    },
    {
     "data": {
      "image/png": "[encoded data removed]",
      "text/plain": [
       "<matplotlib.figure.Figure at 0x1d2fc7a5978>"
      ]
     },
     "metadata": {},
     "output_type": "display_data"
    }
   ],
   "source": [
    "intensity_df = sorted_df[['MEAN_season', 'MAX_wind_wmo_','VAR_pres_wmo1', 'TRACK_DURATION']]\n",
    "np_season = np.asarray(intensity_df['MEAN_season'])\n",
    "np_duration = np.asarray(intensity_df['TRACK_DURATION'] / (1000*60*60*24))\n",
    "\n",
    "fig2, ax2 = plt.subplots()\n",
    "ax2.scatter(np_season, np_duration, color='green')"
   ]
  },
  {
   "cell_type": "code",
   "execution_count": 16,
   "metadata": {
    "collapsed": false
   },
   "outputs": [
    {
     "name": "stdout",
     "output_type": "stream",
     "text": [
      "[  7.77924491e-02  -1.39884370e+02]\n"
     ]
    },
    {
     "data": {
      "image/png": "[encoded data removed]",
      "text/plain": [
       "<matplotlib.figure.Figure at 0x1d2fc7a5978>"
      ]
     },
     "execution_count": 16,
     "metadata": {},
     "output_type": "execute_result"
    }
   ],
   "source": [
    "fit2_1 = np.polyfit(np_season, np_duration, deg=1)\n",
    "ax2.plot(np_season, np_season * fit2_1[0] + fit2_1[1], linewidth=4, color='red')\n",
    "print(fit2_1)\n",
    "\n",
    "fig2"
   ]
  },
  {
   "cell_type": "code",
   "execution_count": null,
   "metadata": {
    "collapsed": true
   },
   "outputs": [],
   "source": []
  }
 ],
 "metadata": {
  "anaconda-cloud": {},
  "kernelspec": {
   "display_name": "Python 3",
   "language": "python",
   "name": "python3"
  },
  "language_info": {
   "codemirror_mode": {
    "name": "ipython",
    "version": 3
   },
   "file_extension": ".py",
   "mimetype": "text/x-python",
   "name": "python",
   "nbconvert_exporter": "python",
   "pygments_lexer": "ipython3",
   "version": "3.5.3"
  },
  "widgets": {
   "state": {
    "084c25f7b7c64727a179e7298f7c8035": {
     "views": [
      {
       "cell_index": 4
      }
     ]
    }
   },
   "version": "1.2.0"
  }
 },
 "nbformat": 4,
 "nbformat_minor": 0
}
