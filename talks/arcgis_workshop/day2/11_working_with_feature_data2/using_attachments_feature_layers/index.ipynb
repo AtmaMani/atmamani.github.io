{
 "cells": [
  {
   "cell_type": "markdown",
   "metadata": {},
   "source": [
    "# Layer Attachments\n",
    "\n",
    "Accessing `FeatureLayer.attachments` property, will return an `AttachmentManager` object. This object can be used to list, download, add, delete and update attachments."
   ]
  },
  {
   "cell_type": "code",
   "execution_count": null,
   "metadata": {
    "collapsed": true
   },
   "outputs": [],
   "source": [
    "# connect to web GIS\n",
    "from arcgis.gis import GIS\n",
    "gis = GIS(\"portal url\", \"username\",\"password\")\n",
    "search_result = gis.content.search(\"Chennai Rainfall\", \"Feature Layer\")\n",
    "chennai_rainfall = search_result[0]"
   ]
  },
  {
   "cell_type": "code",
   "execution_count": null,
   "metadata": {
    "collapsed": false
   },
   "outputs": [],
   "source": [
    "#get feature layers from the item\n",
    "cr_lyr = chennai_rainfall.layers[0]"
   ]
  },
  {
   "cell_type": "markdown",
   "metadata": {},
   "source": [
    "## List attachments\n",
    "Use the `get_list()` method on `attachments` property of a `FeatureLayer` object to get a list of dictionaries containing information about attachments. The `get_list()` accepts object id as parameter. You can loop through all the features and call this method if you would like to view all attachments on the layer"
   ]
  },
  {
   "cell_type": "code",
   "execution_count": null,
   "metadata": {
    "collapsed": false
   },
   "outputs": [
    {
     "data": {
      "text/plain": [
       "[{'contentType': 'image/png',\n",
       "  'id': 1,\n",
       "  'name': 'AppTemplate.png',\n",
       "  'parentObjectId': 1,\n",
       "  'size': 1394},\n",
       " {'contentType': 'image/png',\n",
       "  'id': 2,\n",
       "  'name': 'AppTemplate.png',\n",
       "  'parentObjectId': 1,\n",
       "  'size': 1394},\n",
       " {'contentType': 'image/png',\n",
       "  'id': 4,\n",
       "  'name': 'AppTemplate.png',\n",
       "  'parentObjectId': 1,\n",
       "  'size': 1394}]"
      ]
     },
     "execution_count": null,
     "metadata": {},
     "output_type": "execute_result"
    }
   ],
   "source": [
    "cr_lyr.attachments.get_list(oid=1)"
   ]
  },
  {
   "cell_type": "markdown",
   "metadata": {},
   "source": [
    "## Download attachments\n",
    "\n",
    "Use the `download()` method on `attachments` property of a `FeatureLayer` object to download individual attachments. It accepts the object id of the feature and the attachment id of the attachment as parameters. If the `save_path` parameter is not specified, the API saves it to user temporary directory"
   ]
  },
  {
   "cell_type": "code",
   "execution_count": null,
   "metadata": {
    "collapsed": false
   },
   "outputs": [
    {
     "data": {
      "text/plain": [
       "'C:\\\\Users\\\\rohit\\\\AppData\\\\Local\\\\Temp\\\\AppTemplate.png'"
      ]
     },
     "execution_count": null,
     "metadata": {},
     "output_type": "execute_result"
    }
   ],
   "source": [
    "cr_lyr.attachments.download(oid=1, attachment_id=1)"
   ]
  },
  {
   "cell_type": "markdown",
   "metadata": {},
   "source": [
    "## Add new attachments\n",
    "Use the `add()` method on `attachments` property of a `FeatureLayer` object to add new attachments to a feature. It accepts the object id of the feature and path to attachment as parameters"
   ]
  },
  {
   "cell_type": "code",
   "execution_count": null,
   "metadata": {
    "collapsed": false
   },
   "outputs": [
    {
     "data": {
      "text/plain": [
       "{'addAttachmentResult': {'globalId': None, 'objectId': 5, 'success': True}}"
      ]
     },
     "execution_count": null,
     "metadata": {},
     "output_type": "execute_result"
    }
   ],
   "source": [
    "cr_lyr.attachments.add(1, 'C:\\\\Users\\\\rohit\\\\AppData\\\\Local\\\\Temp\\\\AppTemplate.png')"
   ]
  },
  {
   "cell_type": "markdown",
   "metadata": {},
   "source": [
    "You can list the attachments to verify the `add` operation"
   ]
  },
  {
   "cell_type": "code",
   "execution_count": null,
   "metadata": {
    "collapsed": false
   },
   "outputs": [
    {
     "data": {
      "text/plain": [
       "[{'contentType': 'image/png',\n",
       "  'id': 1,\n",
       "  'name': 'AppTemplate.png',\n",
       "  'parentObjectId': 1,\n",
       "  'size': 1394},\n",
       " {'contentType': 'image/png',\n",
       "  'id': 2,\n",
       "  'name': 'AppTemplate.png',\n",
       "  'parentObjectId': 1,\n",
       "  'size': 1394},\n",
       " {'contentType': 'image/png',\n",
       "  'id': 4,\n",
       "  'name': 'AppTemplate.png',\n",
       "  'parentObjectId': 1,\n",
       "  'size': 1394},\n",
       " {'contentType': 'image/png',\n",
       "  'id': 5,\n",
       "  'name': 'AppTemplate.png',\n",
       "  'parentObjectId': 1,\n",
       "  'size': 1394}]"
      ]
     },
     "execution_count": null,
     "metadata": {},
     "output_type": "execute_result"
    }
   ],
   "source": [
    "cr_lyr.attachments.get_list(1)"
   ]
  },
  {
   "cell_type": "markdown",
   "metadata": {},
   "source": [
    "## Delete attachments\n",
    "Unwanted attachments can be removed by calling the `delete()` method on `attachments` property of a `FeatureLayer` object. It accepts the feature's object id and attachment's id as parameters"
   ]
  },
  {
   "cell_type": "code",
   "execution_count": null,
   "metadata": {
    "collapsed": false
   },
   "outputs": [
    {
     "data": {
      "text/plain": [
       "{'deleteAttachmentResults': [{'globalId': None,\n",
       "   'objectId': 4,\n",
       "   'success': True}]}"
      ]
     },
     "execution_count": null,
     "metadata": {},
     "output_type": "execute_result"
    }
   ],
   "source": [
    "cr_lyr.attachments.delete(1,4)"
   ]
  },
  {
   "cell_type": "markdown",
   "metadata": {},
   "source": [
    "List the attachments to verify removal"
   ]
  },
  {
   "cell_type": "code",
   "execution_count": null,
   "metadata": {
    "collapsed": false
   },
   "outputs": [
    {
     "data": {
      "text/plain": [
       "[{'contentType': 'image/png',\n",
       "  'id': 1,\n",
       "  'name': 'AppTemplate.png',\n",
       "  'parentObjectId': 1,\n",
       "  'size': 1394},\n",
       " {'contentType': 'image/png',\n",
       "  'id': 2,\n",
       "  'name': 'AppTemplate.png',\n",
       "  'parentObjectId': 1,\n",
       "  'size': 1394},\n",
       " {'contentType': 'image/png',\n",
       "  'id': 5,\n",
       "  'name': 'AppTemplate.png',\n",
       "  'parentObjectId': 1,\n",
       "  'size': 1394}]"
      ]
     },
     "execution_count": null,
     "metadata": {},
     "output_type": "execute_result"
    }
   ],
   "source": [
    "cr_lyr.attachments.get_list(1)"
   ]
  }
 ],
 "metadata": {
  "anaconda-cloud": {},
  "kernelspec": {
   "display_name": "Python 3",
   "language": "python",
   "name": "python3"
  },
  "language_info": {
   "codemirror_mode": {
    "name": "ipython",
    "version": 3
   },
   "file_extension": ".py",
   "mimetype": "text/x-python",
   "name": "python",
   "nbconvert_exporter": "python",
   "pygments_lexer": "ipython3",
   "version": "3.5.3"
  }
 },
 "nbformat": 4,
 "nbformat_minor": 0
}
