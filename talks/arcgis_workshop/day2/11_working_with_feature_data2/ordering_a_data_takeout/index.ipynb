{
 "cells": [
  {
   "cell_type": "markdown",
   "metadata": {},
   "source": [
    "# Ordering a data takeout\n",
    "## Sync overview\n",
    "\n",
    "Feature layers includes a `Sync` capability, which when enabled, allows client applications to take feature layers offline, perform edits and sync it back to the layer. \n",
    "\n",
    "When you checkout some features and store it offline in the client, you call that a `replica`. The `FeatureLayerCollection` class under the `features` module allows users to create and work with replicas. \n",
    "\n",
    "The workflow of using sync involves these three operations:\n",
    "- Create replica\n",
    "- Synchronize replica\n",
    "- Unregister replica\n",
    "\n",
    "To learn more about this feature, refer to the [documentation here](http://resources.arcgis.com/en/help/arcgis-rest-api/index.html#//02r300000112000000)"
   ]
  },
  {
   "cell_type": "markdown",
   "metadata": {},
   "source": [
    "### Checking out data from feature layers using replicas\n",
    "\n",
    "To create a replica, we need a feature layer that is sync enabled. `FeatureLayer.syncEnabled` to verify that. Further the `syncCapabilities` property returns a dictionary with fine grained sync capabilities."
   ]
  },
  {
   "cell_type": "code",
   "execution_count": 1,
   "metadata": {
    "collapsed": true
   },
   "outputs": [],
   "source": [
    "# connect to a GIS\n",
    "from arcgis.gis import GIS\n",
    "import arcgis.features\n",
    "gis = GIS() # connect to www.arcgis.com anonymously. \n",
    "            # we will use a public sync enabled feature layer"
   ]
  },
  {
   "cell_type": "markdown",
   "metadata": {},
   "source": [
    "Create a `FeatureLayerCollection` object from a feature service"
   ]
  },
  {
   "cell_type": "code",
   "execution_count": 2,
   "metadata": {
    "collapsed": true
   },
   "outputs": [],
   "source": [
    "url = 'https://sampleserver6.arcgisonline.com/arcgis/rest/services/Sync/WildfireSync/FeatureServer/'\n",
    "wildfire_flc = arcgis.features.FeatureLayerCollection(url, gis)"
   ]
  },
  {
   "cell_type": "code",
   "execution_count": 3,
   "metadata": {
    "collapsed": false
   },
   "outputs": [
    {
     "data": {
      "text/plain": [
       "arcgis.features.layer.FeatureLayerCollection"
      ]
     },
     "execution_count": 3,
     "metadata": {},
     "output_type": "execute_result"
    }
   ],
   "source": [
    "type(wildfire_flc)"
   ]
  },
  {
   "cell_type": "markdown",
   "metadata": {},
   "source": [
    "### Verify if sync is enabled\n",
    "\n",
    "Accessing the `layers` property on a `FeatureLayerCollection` returns a list of `FeatureLayer` objects. We can create a replica of one of these or all of these layers"
   ]
  },
  {
   "cell_type": "code",
   "execution_count": 4,
   "metadata": {
    "collapsed": false
   },
   "outputs": [
    {
     "data": {
      "text/plain": [
       "[<FeatureLayer url:\"https://sampleserver6.arcgisonline.com/arcgis/rest/services/Sync/WildfireSync/FeatureServer//0\">,\n",
       " <FeatureLayer url:\"https://sampleserver6.arcgisonline.com/arcgis/rest/services/Sync/WildfireSync/FeatureServer//1\">,\n",
       " <FeatureLayer url:\"https://sampleserver6.arcgisonline.com/arcgis/rest/services/Sync/WildfireSync/FeatureServer//2\">]"
      ]
     },
     "execution_count": 4,
     "metadata": {},
     "output_type": "execute_result"
    }
   ],
   "source": [
    "wildfire_flc.layers"
   ]
  },
  {
   "cell_type": "code",
   "execution_count": 5,
   "metadata": {
    "collapsed": false
   },
   "outputs": [
    {
     "data": {
      "text/plain": [
       "True"
      ]
     },
     "execution_count": 5,
     "metadata": {},
     "output_type": "execute_result"
    }
   ],
   "source": [
    "# query syncEnabled property to verify is sync is enabled\n",
    "wildfire_flc.properties.syncEnabled"
   ]
  },
  {
   "cell_type": "code",
   "execution_count": 6,
   "metadata": {
    "collapsed": false
   },
   "outputs": [
    {
     "data": {
      "text/plain": [
       "{\n",
       "  \"supportsRegisteringExistingData\": true,\n",
       "  \"supportsPerReplicaSync\": false,\n",
       "  \"supportsAttachmentsSyncDirection\": true,\n",
       "  \"supportsRollbackOnFailure\": false,\n",
       "  \"supportsAsync\": true,\n",
       "  \"supportsSyncDirectionControl\": true,\n",
       "  \"supportsPerLayerSync\": true,\n",
       "  \"supportsSyncModelNone\": true\n",
       "}"
      ]
     },
     "execution_count": 6,
     "metadata": {},
     "output_type": "execute_result"
    }
   ],
   "source": [
    "# query the syncCapabilities property to view fine grained capabilities\n",
    "wildfire_flc.properties.syncCapabilities"
   ]
  },
  {
   "cell_type": "markdown",
   "metadata": {},
   "source": [
    "### List existing replicas\n",
    "\n",
    "`FeatureLayerCollection.replicas` returns you a `SyncManager` object. You would work with this manager object for all your sync workflows.\n",
    "\n",
    "Call `SyncManager.get_list()` method to get list of existing replicas."
   ]
  },
  {
   "cell_type": "code",
   "execution_count": 7,
   "metadata": {
    "collapsed": false
   },
   "outputs": [
    {
     "data": {
      "text/plain": [
       "5741"
      ]
     },
     "execution_count": 7,
     "metadata": {},
     "output_type": "execute_result"
    }
   ],
   "source": [
    "replica_list = wildfire_flc.replicas.get_list()\n",
    "len(replica_list)"
   ]
  },
  {
   "cell_type": "markdown",
   "metadata": {},
   "source": [
    "As you can see, there are plenty of replicas on this layer. Let us view one of it"
   ]
  },
  {
   "cell_type": "code",
   "execution_count": 8,
   "metadata": {
    "collapsed": false
   },
   "outputs": [
    {
     "data": {
      "text/plain": [
       "{'replicaID': '8F0BAFB1-7CD2-4FA3-85C6-92B13F1E774D',\n",
       " 'replicaName': 'Ags_Fs_1477025582337'}"
      ]
     },
     "execution_count": 8,
     "metadata": {},
     "output_type": "execute_result"
    }
   ],
   "source": [
    "replica_list[0]"
   ]
  },
  {
   "cell_type": "markdown",
   "metadata": {},
   "source": [
    "### Create a replica\n",
    " Call `SyncManager.create()` method to creat a new replica.\n",
    " \n",
    "  - For 2 way sync between client and server, the feature layer needs `Sync` capability.\n",
    "  - For checking out (downloading) data from server, you need `Extract` capability."
   ]
  },
  {
   "cell_type": "code",
   "execution_count": 9,
   "metadata": {
    "collapsed": false
   },
   "outputs": [
    {
     "data": {
      "text/plain": [
       "'Create,Delete,Query,Sync,Update,Uploads,Editing'"
      ]
     },
     "execution_count": 9,
     "metadata": {},
     "output_type": "execute_result"
    }
   ],
   "source": [
    "# list all capabilities\n",
    "wildfire_flc.properties.capabilities"
   ]
  },
  {
   "cell_type": "markdown",
   "metadata": {},
   "source": [
    "This layer has disabled 'Extract'. Hence let us search for a different layer"
   ]
  },
  {
   "cell_type": "code",
   "execution_count": 15,
   "metadata": {
    "collapsed": false
   },
   "outputs": [
    {
     "name": "stdout",
     "output_type": "stream",
     "text": [
      "········\n"
     ]
    }
   ],
   "source": [
    "from getpass import getpass\n",
    "password = getpass()\n",
    "portal_gis = GIS(\"http://esriwebgis.webgistesting.net/portal\", \"atma.mani\", password)\n",
    "search_result = portal_gis.content.search(\"USA states rivers cities\", \"Feature Layer\")"
   ]
  },
  {
   "cell_type": "code",
   "execution_count": 16,
   "metadata": {
    "collapsed": false
   },
   "outputs": [
    {
     "data": {
      "text/html": [
       "<div class=\"item_container\" style=\"height: auto; overflow: hidden; border: 1px solid #cfcfcf; border-radius: 2px; background: #f6fafa; line-height: 1.21429em; padding: 10px;\">\n",
       "                    <div class=\"item_left\" style=\"width: 210px; float: left;\">\n",
       "                       <a href='http://esriwebgis.webgistesting.net/portal/home/item.html?id=b07e48ff4e1e4004b61487907bee8568' target='_blank'>\n",
       "                        <img src='data:image/png;base64,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' width='200' height='133' class=\"itemThumbnail\">\n",
       "                       </a>\n",
       "                    </div>\n",
       "\n",
       "                    <div class=\"item_right\"     style=\"float: none; width: auto; overflow: hidden;\">\n",
       "                        <a href='http://esriwebgis.webgistesting.net/portal/home/item.html?id=b07e48ff4e1e4004b61487907bee8568' target='_blank'><b>USA states rivers cities</b>\n",
       "                        </a>\n",
       "                        <br/>d005_GroupLayer<img src='http://esriwebgis.webgistesting.net/portal/home/js/jsapi/esri/css/images/item_type_icons/featureshosted16.png' style=\"vertical-align:middle;\">Feature Layer Collection by atma.mani\n",
       "                        <br/>Last Modified: March 04, 2017\n",
       "                        <br/>0 comments, 0 views\n",
       "                    </div>\n",
       "                </div>\n",
       "                "
      ],
      "text/plain": [
       "<Item title:\"USA states rivers cities\" type:Feature Service owner:atma.mani>"
      ]
     },
     "execution_count": 16,
     "metadata": {},
     "output_type": "execute_result"
    }
   ],
   "source": [
    "search_result[0]"
   ]
  },
  {
   "cell_type": "markdown",
   "metadata": {},
   "source": [
    "Let us create a `FeatureLayerCollection` object from this item"
   ]
  },
  {
   "cell_type": "code",
   "execution_count": 19,
   "metadata": {
    "collapsed": false
   },
   "outputs": [
    {
     "data": {
      "text/plain": [
       "arcgis.features.layer.FeatureLayerCollection"
      ]
     },
     "execution_count": 19,
     "metadata": {},
     "output_type": "execute_result"
    }
   ],
   "source": [
    "states_flc = arcgis.features.FeatureLayerCollection.fromitem(search_result[0])\n",
    "type(states_flc)"
   ]
  },
  {
   "cell_type": "markdown",
   "metadata": {},
   "source": [
    "#### Verify Extract capability"
   ]
  },
  {
   "cell_type": "code",
   "execution_count": 18,
   "metadata": {
    "collapsed": false
   },
   "outputs": [
    {
     "data": {
      "text/plain": [
       "'Create,Delete,Query,Sync,Update,Uploads,Editing'"
      ]
     },
     "execution_count": 18,
     "metadata": {},
     "output_type": "execute_result"
    }
   ],
   "source": [
    "states_flc.properties.capabilities"
   ]
  },
  {
   "cell_type": "markdown",
   "metadata": {},
   "source": [
    "Let us turn on the Extract capability by adding to the definition"
   ]
  },
  {
   "cell_type": "code",
   "execution_count": 22,
   "metadata": {
    "collapsed": false
   },
   "outputs": [
    {
     "data": {
      "text/plain": [
       "{'success': True}"
      ]
     },
     "execution_count": 22,
     "metadata": {},
     "output_type": "execute_result"
    }
   ],
   "source": [
    "existing_cap = states_flc.properties.capabilities\n",
    "states_flc.manager.update_definition({'capabilities':existing_cap + ',Extract'})"
   ]
  },
  {
   "cell_type": "code",
   "execution_count": 23,
   "metadata": {
    "collapsed": false
   },
   "outputs": [
    {
     "data": {
      "text/plain": [
       "'Create,Delete,Query,Sync,Update,Uploads,Editing,Extract'"
      ]
     },
     "execution_count": 23,
     "metadata": {},
     "output_type": "execute_result"
    }
   ],
   "source": [
    "states_flc._refresh()\n",
    "states_flc.properties.capabilities"
   ]
  },
  {
   "cell_type": "markdown",
   "metadata": {},
   "source": [
    "This is a suitable feature layer, let us extract the data into a file geodatabase and store it in local file system"
   ]
  },
  {
   "cell_type": "code",
   "execution_count": null,
   "metadata": {
    "collapsed": false
   },
   "outputs": [],
   "source": [
    "ports_flc = arcgis.features.FeatureLayerCollection.fromitem(sr[0])"
   ]
  },
  {
   "cell_type": "code",
   "execution_count": 25,
   "metadata": {
    "collapsed": false
   },
   "outputs": [
    {
     "data": {
      "text/plain": [
       "{'statusUrl': 'http://ESRIwebgis.webgistesting.net/server/rest/services/Hosted/WFL_allcapabilities/FeatureServer/jobs/j3427edd579874da2adce29a4db8d2c50'}"
      ]
     },
     "execution_count": 25,
     "metadata": {},
     "output_type": "execute_result"
    }
   ],
   "source": [
    "replica1 = states_flc.replicas.create(replica_name = 'arcgis_python_api_2',\n",
    "                                    layers='0',\n",
    "                                    data_format='filegdb',\n",
    "                                    out_path = 'D:\\\\Temp')\n",
    "replica1"
   ]
  },
  {
   "cell_type": "markdown",
   "metadata": {},
   "source": [
    "## Removing replicas\n",
    "\n",
    "The sync operation is expensive on the resources of your web GIS. Hence, it is a good maintenance practice to remove unnecessary replicas. An ArcGIS admin could use the ArcGIS Python API to script and automate the process of scanning all feature layers and removing stale replicas on each of them.\n",
    "\n",
    "A replica can be removed by calling the `unregister()` method and passing the id of a replica that needs to be removed."
   ]
  },
  {
   "cell_type": "code",
   "execution_count": null,
   "metadata": {
    "collapsed": false
   },
   "outputs": [],
   "source": [
    "# Let us query all the replicas registered on the ports feature layer from before\n",
    "replica_list = ports_flc.replicas.get_list()"
   ]
  },
  {
   "cell_type": "code",
   "execution_count": null,
   "metadata": {
    "collapsed": false
   },
   "outputs": [
    {
     "name": "stdout",
     "output_type": "stream",
     "text": [
      "{'replicaName': 'SDS_FS', 'replicaID': '86E9D1D7-96FF-4B40-A366-DC9A9AAB6923'}\n",
      "{'replicaName': 'SDS_FS_1481235956703', 'replicaID': '3B07459D-A23F-47D5-8E76-F3835E883A9D'}\n",
      "{'replicaName': 'SDS_FS_1481236016125', 'replicaID': '662B83DA-6626-4BD1-8FAE-1A171EA5230B'}\n",
      "{'replicaName': 'SDS_FS_1481236054393', 'replicaID': '38BAF9F8-34FE-4153-AE9C-2756992A49F5'}\n",
      "{'replicaName': 'SDS_FS_1481236093401', 'replicaID': '3CB074DB-BA87-4E05-8235-F981FE5C601E'}\n"
     ]
    }
   ],
   "source": [
    "for r in replica_list:\n",
    "    print(r)"
   ]
  },
  {
   "cell_type": "markdown",
   "metadata": {},
   "source": [
    "There are more than a few. I only want to remove the replicas that were registered 10 minutes ago. But, your search criteria could be any other. \n",
    "\n",
    "We will loop through each of the replicas returned and use the `get()` method to get detailed information about these replicas and look a `creationDate` property."
   ]
  },
  {
   "cell_type": "markdown",
   "metadata": {},
   "source": [
    "Before looping, let us take a deeper look at one of these replicas by calling the `get()` method:"
   ]
  },
  {
   "cell_type": "code",
   "execution_count": null,
   "metadata": {
    "collapsed": false
   },
   "outputs": [
    {
     "data": {
      "text/plain": [
       "{'attachmentsSyncDirection': 'bidirectional',\n",
       " 'creationDate': 1481235395998,\n",
       " 'geometry': {'spatialReference': {'latestWkid': 3857, 'wkid': 102100},\n",
       "  'xmax': -12351726.0067822,\n",
       "  'xmin': -18249471.330872223,\n",
       "  'ymax': 7382319.928103409,\n",
       "  'ymin': 341526.2431555473},\n",
       " 'lastSyncDate': 1481235395998,\n",
       " 'layerServerGens': [{'id': 0, 'serverGen': 1481235395998}],\n",
       " 'layers': [{'id': 0,\n",
       "   'includeRelated': True,\n",
       "   'queryOption': 'useFilter',\n",
       "   'useGeometry': True,\n",
       "   'where': ''}],\n",
       " 'replicaID': '86E9D1D7-96FF-4B40-A366-DC9A9AAB6923',\n",
       " 'replicaName': 'SDS_FS',\n",
       " 'replicaOwner': 'arcgis_python_api',\n",
       " 'returnsAttachments': True,\n",
       " 'spatialReference': {'latestWkid': 3857, 'wkid': 102100},\n",
       " 'spatialRel': 'esriSpatialRelIntersects',\n",
       " 'syncModel': 'perLayer',\n",
       " 'targetType': 'client'}"
      ]
     },
     "execution_count": null,
     "metadata": {},
     "output_type": "execute_result"
    }
   ],
   "source": [
    "replica1 = ports_flc.replicas.get('86E9D1D7-96FF-4B40-A366-DC9A9AAB6923')\n",
    "replica1"
   ]
  },
  {
   "cell_type": "markdown",
   "metadata": {},
   "source": [
    "The `creationDate` key is retured as unix epoch time. We need to convert it to local time for processing:"
   ]
  },
  {
   "cell_type": "code",
   "execution_count": null,
   "metadata": {
    "collapsed": false
   },
   "outputs": [
    {
     "data": {
      "text/plain": [
       "time.struct_time(tm_year=2016, tm_mon=12, tm_mday=8, tm_hour=14, tm_min=16, tm_sec=35, tm_wday=3, tm_yday=343, tm_isdst=0)"
      ]
     },
     "execution_count": null,
     "metadata": {},
     "output_type": "execute_result"
    }
   ],
   "source": [
    "import time\n",
    "time.localtime(replica1['creationDate']/1000) #dividing by 1000 to convert micro seconds to seconds"
   ]
  },
  {
   "cell_type": "markdown",
   "metadata": {},
   "source": [
    "To determine those replicas that were created 10 mins earlier, let us create an epoch timestamp for 10 mins before now and find those replicas whose time stamps are lower than this"
   ]
  },
  {
   "cell_type": "code",
   "execution_count": null,
   "metadata": {
    "collapsed": false
   },
   "outputs": [
    {
     "data": {
      "text/plain": [
       "1481238022.105653"
      ]
     },
     "execution_count": null,
     "metadata": {},
     "output_type": "execute_result"
    }
   ],
   "source": [
    "ten_min_earlier_epoch = time.time() - 10\n",
    "ten_min_earlier_epoch"
   ]
  },
  {
   "cell_type": "code",
   "execution_count": null,
   "metadata": {
    "collapsed": false
   },
   "outputs": [
    {
     "name": "stdout",
     "output_type": "stream",
     "text": [
      "{'creationDate': 1481235395.998, 'replica_id': '86E9D1D7-96FF-4B40-A366-DC9A9AAB6923'}\n",
      "{'creationDate': 1481235955.848, 'replica_id': '3B07459D-A23F-47D5-8E76-F3835E883A9D'}\n",
      "{'creationDate': 1481236015.278, 'replica_id': '662B83DA-6626-4BD1-8FAE-1A171EA5230B'}\n",
      "{'creationDate': 1481236053.455, 'replica_id': '38BAF9F8-34FE-4153-AE9C-2756992A49F5'}\n",
      "{'creationDate': 1481236092.515, 'replica_id': '3CB074DB-BA87-4E05-8235-F981FE5C601E'}\n"
     ]
    }
   ],
   "source": [
    "import time\n",
    "removal_list = []\n",
    "for r in replica_list:\n",
    "    temp_r = ports_flc.replicas.get(r['replicaID'])\n",
    "    temp_dict = {'replica_id': r['replicaID'],\n",
    "                'creationDate':temp_r['creationDate']/1000}\n",
    "    \n",
    "    #check\n",
    "    if temp_dict['creationDate'] < ten_min_earlier_epoch:\n",
    "        removal_list.append(temp_dict)\n",
    "        print(temp_dict)"
   ]
  },
  {
   "cell_type": "markdown",
   "metadata": {},
   "source": [
    "Let us loop through each of these replicas and remove them using the `unregister()` method:"
   ]
  },
  {
   "cell_type": "code",
   "execution_count": null,
   "metadata": {
    "collapsed": false
   },
   "outputs": [
    {
     "name": "stdout",
     "output_type": "stream",
     "text": [
      "{'success': True}\n",
      "{'success': True}\n",
      "{'success': True}\n",
      "{'success': True}\n",
      "{'success': True}\n"
     ]
    }
   ],
   "source": [
    "for r in removal_list:\n",
    "    result = ports_flc.replicas.unregister(r['replica_id'])\n",
    "    print(result)"
   ]
  }
 ],
 "metadata": {
  "anaconda-cloud": {},
  "kernelspec": {
   "display_name": "Python 3",
   "language": "python",
   "name": "python3"
  },
  "language_info": {
   "codemirror_mode": {
    "name": "ipython",
    "version": 3
   },
   "file_extension": ".py",
   "mimetype": "text/x-python",
   "name": "python",
   "nbconvert_exporter": "python",
   "pygments_lexer": "ipython3",
   "version": "3.5.3"
  }
 },
 "nbformat": 4,
 "nbformat_minor": 0
}
