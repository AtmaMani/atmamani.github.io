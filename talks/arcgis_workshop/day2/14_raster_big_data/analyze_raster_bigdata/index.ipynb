{
 "cells": [
  {
   "cell_type": "code",
   "execution_count": 11,
   "metadata": {
    "collapsed": false
   },
   "outputs": [
    {
     "name": "stdout",
     "output_type": "stream",
     "text": [
      "········\n"
     ]
    }
   ],
   "source": [
    "from arcgis.gis import *\n",
    "from getpass import getpass\n",
    "password = getpass()\n",
    "portal = GIS(\"https://dev003246.esri.com/portal\", \"admin\",password)"
   ]
  },
  {
   "cell_type": "code",
   "execution_count": 12,
   "metadata": {
    "collapsed": false
   },
   "outputs": [
    {
     "data": {
      "text/plain": [
       "[<Item title:\"ImgSrv_Landast_Montana2015\" type:Image Service owner:admin>,\n",
       " <Item title:\"ImgSrv_Landast_Montana2014\" type:Image Service owner:admin>]"
      ]
     },
     "execution_count": 12,
     "metadata": {},
     "output_type": "execute_result"
    }
   ],
   "source": [
    "montana_landsat_search = portal.content.search(\"Landast_Montana\")\n",
    "montana_landsat_search"
   ]
  },
  {
   "cell_type": "code",
   "execution_count": 13,
   "metadata": {
    "collapsed": true
   },
   "outputs": [],
   "source": [
    "montana_landsat = montana_landsat_search[0]"
   ]
  },
  {
   "cell_type": "code",
   "execution_count": 14,
   "metadata": {
    "collapsed": false
   },
   "outputs": [
    {
     "data": {
      "text/plain": [
       "[<Item title:\"GeneratedRasterProduct_QOEHJE\" type:Image Service owner:admin>,\n",
       " <Item title:\"GeneratedRasterProduct_L5K0YV\" type:Image Service owner:admin>,\n",
       " <Item title:\"GeneratedRasterProduct_31RY1Z\" type:Image Service owner:admin>,\n",
       " <Item title:\"GeneratedRasterProduct_6HKB4N\" type:Image Service owner:admin>,\n",
       " <Item title:\"GeneratedRasterProduct_SOZF4T\" type:Image Service owner:admin>,\n",
       " <Item title:\"GeneratedRasterProduct_DTUH8A\" type:Image Service owner:admin>,\n",
       " <Item title:\"SummarizeRasterWithin_EUE3W2\" type:Image Service owner:admin>,\n",
       " <Item title:\"GeneratedRasterProduct_N4RITA\" type:Image Service owner:admin>,\n",
       " <Item title:\"ImgSrv_Landast_Montana2015\" type:Image Service owner:admin>,\n",
       " <Item title:\"GeneratedRasterProduct_MMGS91\" type:Image Service owner:admin>]"
      ]
     },
     "execution_count": 14,
     "metadata": {},
     "output_type": "execute_result"
    }
   ],
   "source": [
    "search_results = portal.content.search('owner:admin', item_type='Image Layer')\n",
    "search_results"
   ]
  },
  {
   "cell_type": "code",
   "execution_count": 15,
   "metadata": {
    "collapsed": true
   },
   "outputs": [],
   "source": [
    "raster_analysis_result = search_results[0]"
   ]
  },
  {
   "cell_type": "code",
   "execution_count": 16,
   "metadata": {
    "collapsed": false
   },
   "outputs": [],
   "source": [
    "location = arcgis.geocoding.geocode(\"Marthas Basin, Montana\")[0]\n",
    "\n",
    "base_map = portal.map(location, 12)\n",
    "\n",
    "natural_color_map = portal.map(location, 12)\n",
    "natural_color_map.add_layer(montana_landsat)\n",
    "\n",
    "false_color_map = portal.map(location, 12)\n",
    "false_color_map.add_layer(raster_analysis_result)"
   ]
  },
  {
   "cell_type": "code",
   "execution_count": 17,
   "metadata": {
    "collapsed": true
   },
   "outputs": [],
   "source": [
    "import ipywidgets as widgets\n",
    "\n",
    "tab = widgets.Tab([base_map, natural_color_map, false_color_map])\n",
    "tab.set_title(0, 'base map')\n",
    "tab.set_title(1, 'Natural Color')\n",
    "tab.set_title(2, 'False Color')\n",
    "tab"
   ]
  },
  {
   "cell_type": "code",
   "execution_count": null,
   "metadata": {
    "collapsed": true
   },
   "outputs": [],
   "source": []
  },
  {
   "cell_type": "code",
   "execution_count": null,
   "metadata": {
    "collapsed": true
   },
   "outputs": [],
   "source": []
  }
 ],
 "metadata": {
  "kernelspec": {
   "display_name": "Python 3",
   "language": "python",
   "name": "python3"
  },
  "language_info": {
   "codemirror_mode": {
    "name": "ipython",
    "version": 3
   },
   "file_extension": ".py",
   "mimetype": "text/x-python",
   "name": "python",
   "nbconvert_exporter": "python",
   "pygments_lexer": "ipython3",
   "version": "3.5.3"
  },
  "widgets": {
   "state": {
    "b76b3bad38064844b7929356e329a2c4": {
     "views": [
      {
       "cell_index": 6
      }
     ]
    }
   },
   "version": "1.2.0"
  }
 },
 "nbformat": 4,
 "nbformat_minor": 2
}
