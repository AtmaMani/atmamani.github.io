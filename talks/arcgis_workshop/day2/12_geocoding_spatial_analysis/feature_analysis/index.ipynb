{
 "cells": [
  {
   "cell_type": "markdown",
   "metadata": {},
   "source": [
    "# Proximity analysis\n",
    "\n",
    "Proximity analysis tools help you answer one of the most common questions posed in spatial analysis: What is near what?\n",
    "\n",
    "Proximity tools are available under the sub module `use_proximity` in the `features` module of the API. This section of the guide talks about using two tools from this module - create buffers and plan routes"
   ]
  },
  {
   "cell_type": "markdown",
   "metadata": {},
   "source": [
    "## Create buffers\n",
    "\n",
    "The Create Buffers tool creates areas around input point, line, or area features to a specified distance. Running this tool creates output polygon layers of specified radius. This tool is often used with overlay analysis to answer questions such as 'What falls within 5 mile radius of this school?'. Refer [here](http://doc.arcgis.com/en/arcgis-online/use-maps/create-buffers.htm) for more details on this tool.\n",
    "\n",
    "In the examaple below, let us create buffers of 50 mile radius around major ports in the west coast of USA"
   ]
  },
  {
   "cell_type": "code",
   "execution_count": 23,
   "metadata": {
    "collapsed": false
   },
   "outputs": [
    {
     "name": "stdout",
     "output_type": "stream",
     "text": [
      "Enter password: ········\n"
     ]
    },
    {
     "data": {
      "text/html": [
       "<div class=\"item_container\" style=\"height: auto; overflow: hidden; border: 1px solid #cfcfcf; border-radius: 2px; background: #f6fafa; line-height: 1.21429em; padding: 10px;\">\n",
       "                    <div class=\"item_left\" style=\"width: 210px; float: left;\">\n",
       "                       <a href='https://www.arcgis.com/home/item.html?id=930a6992c0874f32818a02dd9b8b350c' target='_blank'>\n",
       "                        <img src='data:image/png;base64,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' width='200' height='133' class=\"itemThumbnail\">\n",
       "                       </a>\n",
       "                    </div>\n",
       "\n",
       "                    <div class=\"item_right\"     style=\"float: none; width: auto; overflow: hidden;\">\n",
       "                        <a href='https://www.arcgis.com/home/item.html?id=930a6992c0874f32818a02dd9b8b350c' target='_blank'><b>Emergency Response Incidents NYC </b>\n",
       "                        </a>\n",
       "                        <br/><img src='https://www.arcgis.com/home/js/jsapi/esri/css/images/item_type_icons/featureshosted16.png' style=\"vertical-align:middle;\">Feature Layer Collection by jim2stuff\n",
       "                        <br/>Last Modified: March 06, 2017\n",
       "                        <br/>0 comments, 3 views\n",
       "                    </div>\n",
       "                </div>\n",
       "                "
      ],
      "text/plain": [
       "<Item title:\"Emergency Response Incidents NYC \" type:Feature Service owner:jim2stuff>"
      ]
     },
     "execution_count": 23,
     "metadata": {},
     "output_type": "execute_result"
    }
   ],
   "source": [
    "import arcgis\n",
    "from arcgis.gis import GIS\n",
    "import getpass\n",
    "password = getpass.getpass(\"Enter password: \")\n",
    "gis = GIS(\"https://www.arcgis.com\", \"jim2stuff\", password)\n",
    "ports_item = gis.content.get(\"930a6992c0874f32818a02dd9b8b350c\")\n",
    "ports_item\n"
   ]
  },
  {
   "cell_type": "code",
   "execution_count": 25,
   "metadata": {
    "collapsed": false
   },
   "outputs": [
    {
     "data": {
      "text/html": [
       "<div class=\"item_container\" style=\"height: auto; overflow: hidden; border: 1px solid #cfcfcf; border-radius: 2px; background: #f6fafa; line-height: 1.21429em; padding: 10px;\">\n",
       "                    <div class=\"item_left\" style=\"width: 210px; float: left;\">\n",
       "                       <a href='https://www.arcgis.com/home/item.html?id=930a6992c0874f32818a02dd9b8b350c' target='_blank'>\n",
       "                        <img src='data:image/png;base64,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' width='200' height='133' class=\"itemThumbnail\">\n",
       "                       </a>\n",
       "                    </div>\n",
       "\n",
       "                    <div class=\"item_right\"     style=\"float: none; width: auto; overflow: hidden;\">\n",
       "                        <a href='https://www.arcgis.com/home/item.html?id=930a6992c0874f32818a02dd9b8b350c' target='_blank'><b>Emergency Response Incidents NYC </b>\n",
       "                        </a>\n",
       "                        <br/><img src='https://www.arcgis.com/home/js/jsapi/esri/css/images/item_type_icons/featureshosted16.png' style=\"vertical-align:middle;\">Feature Layer Collection by jim2stuff\n",
       "                        <br/>Last Modified: March 06, 2017\n",
       "                        <br/>0 comments, 3 views\n",
       "                    </div>\n",
       "                </div>\n",
       "                "
      ],
      "text/plain": [
       "<Item title:\"Emergency Response Incidents NYC \" type:Feature Service owner:jim2stuff>"
      ]
     },
     "execution_count": 25,
     "metadata": {},
     "output_type": "execute_result"
    }
   ],
   "source": [
    "ports_item = gis.content.get(\"930a6992c0874f32818a02dd9b8b350c\")\n",
    "ports_item"
   ]
  },
  {
   "cell_type": "markdown",
   "metadata": {},
   "source": [
    "Let us render these ports on a map"
   ]
  },
  {
   "cell_type": "code",
   "execution_count": 26,
   "metadata": {
    "collapsed": true
   },
   "outputs": [],
   "source": [
    "map1 = gis.map('New York')\n",
    "map1"
   ]
  },
  {
   "cell_type": "code",
   "execution_count": 27,
   "metadata": {
    "collapsed": true
   },
   "outputs": [],
   "source": [
    "map1.add_layer(ports_item)"
   ]
  },
  {
   "cell_type": "markdown",
   "metadata": {},
   "source": [
    "### Buffer a fixed distance\n",
    "Access `create_buffers` from `use_proximity` sub module"
   ]
  },
  {
   "cell_type": "code",
   "execution_count": 29,
   "metadata": {
    "collapsed": false
   },
   "outputs": [],
   "source": [
    "from arcgis.features import use_proximity\n",
    "\n",
    "#access the first layer in ports_item\n",
    "ports_layer1 = ports_item.layers[0]\n",
    "ports_buffer50 = use_proximity.create_buffers(ports_layer1, distances=[50], units = 'Miles')"
   ]
  },
  {
   "cell_type": "markdown",
   "metadata": {},
   "source": [
    "A buffer of 50 miles around each of these ports has been created"
   ]
  },
  {
   "cell_type": "code",
   "execution_count": 16,
   "metadata": {
    "collapsed": false
   },
   "outputs": [
    {
     "data": {
      "text/plain": [
       "arcgis.features.feature.FeatureCollection"
      ]
     },
     "execution_count": 16,
     "metadata": {},
     "output_type": "execute_result"
    }
   ],
   "source": [
    "type(ports_buffer50)"
   ]
  },
  {
   "cell_type": "markdown",
   "metadata": {},
   "source": [
    "`ports_buffer50` is an in memory feature collection and has not been persisted as an item on the portal because we did not specify `output_name` parameter to the tool.\n",
    "\n",
    "Let us add the result to a new map"
   ]
  },
  {
   "cell_type": "code",
   "execution_count": 30,
   "metadata": {
    "collapsed": true
   },
   "outputs": [],
   "source": [
    "map2 = gis.map('USA')\n",
    "map2\n"
   ]
  },
  {
   "cell_type": "code",
   "execution_count": 31,
   "metadata": {
    "collapsed": true
   },
   "outputs": [],
   "source": [
    "map2.add_layer(ports_buffer50)"
   ]
  },
  {
   "cell_type": "markdown",
   "metadata": {},
   "source": [
    "### Buffer based on a numerical field\n",
    "Sometimes, it makes sense to vary the buffered distance by a field on the layer. For instance, when creating buffers around hazardous sites, you may want to vary the distance by the type or quantity of materials held in the facility.\n",
    "Such kinds of buffers can be created by specifying a numerical field to the `field` parameter. Let us query all the fields on this layer and determine which can be used"
   ]
  },
  {
   "cell_type": "code",
   "execution_count": null,
   "metadata": {
    "collapsed": false
   },
   "outputs": [
    {
     "data": {
      "text/plain": [
       "[{\n",
       "   \"nullable\": false,\n",
       "   \"name\": \"objectid\",\n",
       "   \"alias\": \"objectid\",\n",
       "   \"type\": \"esriFieldTypeOID\",\n",
       "   \"domain\": null,\n",
       "   \"editable\": false\n",
       " }, {\n",
       "   \"nullable\": true,\n",
       "   \"name\": \"port_name\",\n",
       "   \"alias\": \"port_name\",\n",
       "   \"type\": \"esriFieldTypeString\",\n",
       "   \"domain\": null,\n",
       "   \"length\": 8000,\n",
       "   \"editable\": true\n",
       " }, {\n",
       "   \"nullable\": true,\n",
       "   \"name\": \"country\",\n",
       "   \"alias\": \"country\",\n",
       "   \"type\": \"esriFieldTypeString\",\n",
       "   \"domain\": null,\n",
       "   \"length\": 8000,\n",
       "   \"editable\": true\n",
       " }, {\n",
       "   \"nullable\": true,\n",
       "   \"name\": \"longitude\",\n",
       "   \"alias\": \"longitude\",\n",
       "   \"type\": \"esriFieldTypeDouble\",\n",
       "   \"domain\": null,\n",
       "   \"editable\": true\n",
       " }, {\n",
       "   \"nullable\": true,\n",
       "   \"name\": \"latitude\",\n",
       "   \"alias\": \"latitude\",\n",
       "   \"type\": \"esriFieldTypeDouble\",\n",
       "   \"domain\": null,\n",
       "   \"editable\": true\n",
       " }, {\n",
       "   \"nullable\": true,\n",
       "   \"name\": \"harborsize\",\n",
       "   \"alias\": \"harborsize\",\n",
       "   \"type\": \"esriFieldTypeString\",\n",
       "   \"domain\": null,\n",
       "   \"length\": 8000,\n",
       "   \"editable\": true\n",
       " }, {\n",
       "   \"nullable\": true,\n",
       "   \"name\": \"label_position\",\n",
       "   \"alias\": \"label_position\",\n",
       "   \"type\": \"esriFieldTypeString\",\n",
       "   \"domain\": null,\n",
       "   \"length\": 8000,\n",
       "   \"editable\": true\n",
       " }, {\n",
       "   \"nullable\": true,\n",
       "   \"name\": \"short_form\",\n",
       "   \"alias\": \"short_form\",\n",
       "   \"type\": \"esriFieldTypeString\",\n",
       "   \"domain\": null,\n",
       "   \"length\": 8000,\n",
       "   \"editable\": true\n",
       " }, {\n",
       "   \"nullable\": false,\n",
       "   \"length\": 38,\n",
       "   \"alias\": \"globalid\",\n",
       "   \"type\": \"esriFieldTypeGlobalID\",\n",
       "   \"domain\": null,\n",
       "   \"name\": \"globalid\",\n",
       "   \"editable\": false\n",
       " }]"
      ]
     },
     "execution_count": null,
     "metadata": {},
     "output_type": "execute_result"
    }
   ],
   "source": [
    "ports_layer1.properties.fields"
   ]
  },
  {
   "cell_type": "markdown",
   "metadata": {},
   "source": [
    "`latitude` seems to be a suitable field. This time, let us store the result on the portal"
   ]
  },
  {
   "cell_type": "code",
   "execution_count": null,
   "metadata": {
    "collapsed": false
   },
   "outputs": [
    {
     "name": "stdout",
     "output_type": "stream",
     "text": [
      "Submitted.\n",
      "Executing...\n"
     ]
    }
   ],
   "source": [
    "ports_buffer_lat = use_proximity.create_buffers(ports_layer1,\n",
    "                                                     field='latitude',\n",
    "                                                     units='kilometers',\n",
    "                                                     output_name='ports_buffers_lat1')"
   ]
  },
  {
   "cell_type": "code",
   "execution_count": null,
   "metadata": {
    "collapsed": false
   },
   "outputs": [
    {
     "data": {
      "text/plain": [
       "arcgis.gis.Item"
      ]
     },
     "execution_count": null,
     "metadata": {},
     "output_type": "execute_result"
    }
   ],
   "source": [
    "type(ports_buffer_lat)"
   ]
  },
  {
   "cell_type": "code",
   "execution_count": null,
   "metadata": {
    "collapsed": false
   },
   "outputs": [
    {
     "data": {
      "text/html": [
       "<div class=\"item_container\" style=\"height: auto; overflow: hidden; border: 1px solid #cfcfcf; border-radius: 2px; background: #f6fafa; line-height: 1.21429em; padding: 10px;\">\n",
       "                    <div class=\"item_left\" style=\"width: 210px; float: left;\">\n",
       "                       <a href='http://dev003246.esri.com/portal/home/item.html?id=2b31a47950934b0188fc45d6377bd21e' target='_blank'>\n",
       "                        <img src='http://dev003246.esri.com/portal/portalimages/desktopapp.png' class=\"itemThumbnail\">\n",
       "                       </a>\n",
       "                    </div>\n",
       "\n",
       "                    <div class=\"item_right\"     style=\"float: none; width: auto; overflow: hidden;\">\n",
       "                        <a href='http://dev003246.esri.com/portal/home/item.html?id=2b31a47950934b0188fc45d6377bd21e' target='_blank'><b>ports_buffers_lat1</b>\n",
       "                        </a>\n",
       "                        <br/><img src='http://dev003246.esri.com/portal/home/js/jsapi/esri/css/images/item_type_icons/featureshosted16.png' style=\"vertical-align:middle;\">Feature Layer Collection by arcgis_python_api\n",
       "                        <br/>Last Modified: December 08, 2016\n",
       "                        <br/>0 comments, 0 views\n",
       "                    </div>\n",
       "                </div>\n",
       "                "
      ],
      "text/plain": [
       "<Item title:\"ports_buffers_lat1\" type:Feature Service owner:arcgis_python_api>"
      ]
     },
     "execution_count": null,
     "metadata": {},
     "output_type": "execute_result"
    }
   ],
   "source": [
    "ports_buffer_lat"
   ]
  },
  {
   "cell_type": "markdown",
   "metadata": {},
   "source": [
    "Thus, an item has been created on the portal storing the result. Let us add this back to the map. Scroll above to see the result"
   ]
  },
  {
   "cell_type": "code",
   "execution_count": null,
   "metadata": {
    "collapsed": true
   },
   "outputs": [],
   "source": [
    "map2.add_layer(ports_buffer_lat)"
   ]
  },
  {
   "cell_type": "markdown",
   "metadata": {},
   "source": [
    "# Plan routes\n",
    "Plan Routes determines how a fleet of vehicles can visit a set of stops in the least amount of time. The plan routes tool is versatile and can be used to plan either a simple route direction or plan the travel of a fleet of vehicles. To learn more about this tool visit the [tool documentation](http://doc.arcgis.com/en/arcgis-online/use-maps/plan-routes.htm)\n",
    "\n",
    "In the example below, we will observe how to plan a simple route for tourists when they visit major attractions in Los Angeles. Our stops would be [Universal studios](https://en.wikipedia.org/wiki/Universal_Studios_Hollywood), [Griffith observatory](https://en.wikipedia.org/wiki/Griffith_Observatory), [Disneyland amusement park](https://en.wikipedia.org/wiki/Disneyland), [Hollywood walk of fame](https://en.wikipedia.org/wiki/Hollywood_Walk_of_Fame) and back to [Los Angeles international airport](https://en.wikipedia.org/wiki/Los_Angeles_International_Airport).\n",
    "\n",
    "At a minimum the plan routes tool accepts a stop layer, start layer, route count and the maximum number of stops per route."
   ]
  },
  {
   "cell_type": "code",
   "execution_count": null,
   "metadata": {
    "collapsed": false
   },
   "outputs": [],
   "source": [
    "# search for a feature layer containing the attractions and destination.\n",
    "stops_item = gis.content.search(\"LA_tourism_stops\", \"Feature Collection\", max_items=1)[0]\n",
    "airport_item = gis.content.search(\"LAX_airport\", \"Feature Collection\", max_items=1)[0]"
   ]
  },
  {
   "cell_type": "markdown",
   "metadata": {},
   "source": [
    "Let us add the attractions and destination to a map"
   ]
  },
  {
   "cell_type": "code",
   "execution_count": null,
   "metadata": {
    "collapsed": true
   },
   "outputs": [],
   "source": [
    "map3 = gis.map('Los Angeles, California')\n",
    "map3"
   ]
  },
  {
   "cell_type": "markdown",
   "metadata": {},
   "source": [
    "![LA tourism routes](http://esri.github.io/arcgis-python-api/notebooks/nbimages/guide_features_proximity_routes_01.PNG)"
   ]
  },
  {
   "cell_type": "code",
   "execution_count": null,
   "metadata": {
    "collapsed": true
   },
   "outputs": [],
   "source": [
    "map3.add_layer(stops_item)"
   ]
  },
  {
   "cell_type": "code",
   "execution_count": null,
   "metadata": {
    "collapsed": true
   },
   "outputs": [],
   "source": [
    "map3.add_layer(airport_item)"
   ]
  },
  {
   "cell_type": "markdown",
   "metadata": {},
   "source": [
    "Let us extract the feature data from the items and store them in two `FeatureCollection` objects to be used with the routes tool"
   ]
  },
  {
   "cell_type": "code",
   "execution_count": null,
   "metadata": {
    "collapsed": false
   },
   "outputs": [],
   "source": [
    "stops_fc = stops_item.layers[3]"
   ]
  },
  {
   "cell_type": "code",
   "execution_count": null,
   "metadata": {
    "collapsed": false
   },
   "outputs": [],
   "source": [
    "airport_fc = airport_item.layers[3]"
   ]
  },
  {
   "cell_type": "markdown",
   "metadata": {},
   "source": [
    "### Routing options\n",
    "In the tool below, `route_count` is 1, since there is just one vehicle carrying the tourists and all tourists need to visit all attractions. In other use cases, when there are multiple vehicles at disposal and not everyone needs to stop at all stops, this parameter can be increased. The `max_stops_per_route` similarly reflects the maximum work load a vehicle can take in a multiple vehicle scenario. The `route_start_time` parameter can be used to plan routes in advance and account for traffic at that time."
   ]
  },
  {
   "cell_type": "code",
   "execution_count": null,
   "metadata": {
    "collapsed": false
   },
   "outputs": [
    {
     "name": "stderr",
     "output_type": "stream",
     "text": [
      "Input field [OID] was not mapped to a field in the network analysis class \"Orders\".\n",
      "Input field [OID] was not mapped to a field in the network analysis class \"Depots\".\n",
      "Network elements with avoid-restrictions are traversed in the output (restriction attribute names: \"Through Traffic Prohibited\").\n"
     ]
    },
    {
     "name": "stdout",
     "output_type": "stream",
     "text": [
      "Input field [OID] was not mapped to a field in the network analysis class \"Orders\".\n",
      "Input field [OID] was not mapped to a field in the network analysis class \"Depots\".\n",
      "Network elements with avoid-restrictions are traversed in the output (restriction attribute names: \"Through Traffic Prohibited\").\n"
     ]
    }
   ],
   "source": [
    "import time\n",
    "route1 = use_proximity.plan_routes(stops_fc, route_count=1,\n",
    "                                   max_stops_per_route=5,\n",
    "                                   route_start_time = time.time(),\n",
    "                                   start_layer = airport_fc)"
   ]
  },
  {
   "cell_type": "markdown",
   "metadata": {},
   "source": [
    "We have successfully calculated the route, let us add it back to the map"
   ]
  },
  {
   "cell_type": "code",
   "execution_count": null,
   "metadata": {
    "collapsed": false
   },
   "outputs": [],
   "source": [
    "map3.add_layer(route1['routes_layer'])"
   ]
  }
 ],
 "metadata": {
  "kernelspec": {
   "display_name": "Python 3",
   "language": "python",
   "name": "python3"
  },
  "language_info": {
   "codemirror_mode": {
    "name": "ipython",
    "version": 3
   },
   "file_extension": ".py",
   "mimetype": "text/x-python",
   "name": "python",
   "nbconvert_exporter": "python",
   "pygments_lexer": "ipython3",
   "version": "3.5.3"
  }
 },
 "nbformat": 4,
 "nbformat_minor": 1
}
