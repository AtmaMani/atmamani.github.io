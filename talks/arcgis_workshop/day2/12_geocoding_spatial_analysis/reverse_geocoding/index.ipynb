{
 "cells": [
  {
   "cell_type": "markdown",
   "metadata": {},
   "source": [
    "# Reverse Geocoding"
   ]
  },
  {
   "cell_type": "markdown",
   "metadata": {},
   "source": [
    "## reverse_geocode() function signature and parameters"
   ]
  },
  {
   "cell_type": "code",
   "execution_count": 1,
   "metadata": {
    "collapsed": false
   },
   "outputs": [],
   "source": [
    "from arcgis import geocoding\n",
    "from arcgis.gis import *\n",
    "from getpass import getpass"
   ]
  },
  {
   "cell_type": "code",
   "execution_count": 2,
   "metadata": {
    "collapsed": false
   },
   "outputs": [
    {
     "name": "stdout",
     "output_type": "stream",
     "text": [
      "········\n"
     ]
    }
   ],
   "source": [
    "password= getpass()\n",
    "gis = GIS(\"https://esriwebgis.webgistesting.net/portal\",\"atma.mani\",password)"
   ]
  },
  {
   "cell_type": "code",
   "execution_count": 3,
   "metadata": {
    "collapsed": false
   },
   "outputs": [],
   "source": [
    "results = geocoding.reverse_geocode([2.2945, 48.8583])"
   ]
  },
  {
   "cell_type": "code",
   "execution_count": 4,
   "metadata": {
    "collapsed": false
   },
   "outputs": [
    {
     "data": {
      "text/plain": [
       "{'address': {'Address': '6 Avenue Gustave Eiffel',\n",
       "  'City': 'Paris',\n",
       "  'CountryCode': 'FRA',\n",
       "  'Loc_name': 'FRA.PointAddress',\n",
       "  'Match_addr': '6 Avenue Gustave Eiffel, 75007, 7e Arrondissement, Paris, Île-de-France',\n",
       "  'Neighborhood': '7e Arrondissement',\n",
       "  'Postal': '75007',\n",
       "  'PostalExt': None,\n",
       "  'Region': 'Île-de-France',\n",
       "  'Subregion': 'Paris'},\n",
       " 'location': {'spatialReference': {'latestWkid': 4326, 'wkid': 4326},\n",
       "  'x': 2.29465293958984,\n",
       "  'y': 48.85748501186063}}"
      ]
     },
     "execution_count": 4,
     "metadata": {},
     "output_type": "execute_result"
    }
   ],
   "source": [
    "results"
   ]
  },
  {
   "cell_type": "markdown",
   "metadata": {},
   "source": [
    "### Example: Reverse geocode location specified as a Point geometry"
   ]
  },
  {
   "cell_type": "code",
   "execution_count": 5,
   "metadata": {
    "collapsed": true
   },
   "outputs": [],
   "source": [
    "from arcgis.geometry import Geometry"
   ]
  },
  {
   "cell_type": "code",
   "execution_count": 6,
   "metadata": {
    "collapsed": true
   },
   "outputs": [],
   "source": [
    "pt = Geometry({\n",
    "    \"x\": 11563503,\n",
    "    \"y\": 148410,\n",
    "    \"spatialReference\": {\n",
    "        \"wkid\": 3857\n",
    "    }\n",
    "})"
   ]
  },
  {
   "cell_type": "code",
   "execution_count": 7,
   "metadata": {
    "collapsed": false
   },
   "outputs": [],
   "source": [
    "results = geocoding.reverse_geocode(pt)"
   ]
  },
  {
   "cell_type": "code",
   "execution_count": 8,
   "metadata": {
    "collapsed": false
   },
   "outputs": [
    {
     "data": {
      "text/plain": [
       "{'address': {'Address': '40 Lichi Avenue',\n",
       "  'City': None,\n",
       "  'CountryCode': 'SGP',\n",
       "  'Loc_name': 'SGP.PointAddress',\n",
       "  'Match_addr': '40 Lichi Avenue, 348814, Singapore',\n",
       "  'Neighborhood': None,\n",
       "  'Postal': '348814',\n",
       "  'PostalExt': None,\n",
       "  'Region': None,\n",
       "  'Subregion': None},\n",
       " 'location': {'spatialReference': {'latestWkid': 4326, 'wkid': 4326},\n",
       "  'x': 103.87671886128821,\n",
       "  'y': 1.3330587058289018}}"
      ]
     },
     "execution_count": 8,
     "metadata": {},
     "output_type": "execute_result"
    }
   ],
   "source": [
    "results"
   ]
  },
  {
   "cell_type": "markdown",
   "metadata": {},
   "source": [
    "### Example: Reverse geocode a clicked location on the map"
   ]
  },
  {
   "cell_type": "code",
   "execution_count": 9,
   "metadata": {
    "collapsed": false
   },
   "outputs": [
    {
     "name": "stdout",
     "output_type": "stream",
     "text": [
      "134 E Tahquitz Canyon Way, Palm Springs, California, 92262\n",
      "115 S Indian Canyon Dr, Palm Springs, California, 92262\n",
      "205 S Belardo Rd, Palm Springs, California, 92262\n"
     ]
    }
   ],
   "source": [
    "map1 = gis.map('150 S Tahquitz Canyon way, Palm Springs, CA', 16)\n",
    "map1"
   ]
  },
  {
   "cell_type": "code",
   "execution_count": 10,
   "metadata": {
    "collapsed": false
   },
   "outputs": [],
   "source": [
    "def find_addr(map1, g):\n",
    "    try:\n",
    "        geocoded = geocoding.reverse_geocode(g)\n",
    "        print(geocoded['address']['Match_addr'])\n",
    "    except:\n",
    "        print(\"Couldn't match address. Try another place...\")"
   ]
  },
  {
   "cell_type": "code",
   "execution_count": 11,
   "metadata": {
    "collapsed": true
   },
   "outputs": [],
   "source": [
    "map1.on_click(find_addr)"
   ]
  },
  {
   "cell_type": "code",
   "execution_count": null,
   "metadata": {
    "collapsed": true
   },
   "outputs": [],
   "source": []
  }
 ],
 "metadata": {
  "anaconda-cloud": {},
  "kernelspec": {
   "display_name": "Python 3",
   "language": "python",
   "name": "python3"
  },
  "language_info": {
   "codemirror_mode": {
    "name": "ipython",
    "version": 3
   },
   "file_extension": ".py",
   "mimetype": "text/x-python",
   "name": "python",
   "nbconvert_exporter": "python",
   "pygments_lexer": "ipython3",
   "version": "3.5.3"
  },
  "widgets": {
   "state": {
    "c2c30d6c4aed4cee9140258231e21ba1": {
     "views": [
      {
       "cell_index": 12
      }
     ]
    }
   },
   "version": "1.2.0"
  }
 },
 "nbformat": 4,
 "nbformat_minor": 0
}
