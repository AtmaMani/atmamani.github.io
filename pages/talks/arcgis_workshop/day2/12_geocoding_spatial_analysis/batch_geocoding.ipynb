{
 "cells": [
  {
   "cell_type": "markdown",
   "metadata": {},
   "source": [
    "# Batch geocoding\n",
    "\n",
    "\n",
    " 1. Premium operation, requires credits\n",
    " 2. `MaxBatchSize` property of the `Geocoder`\n"
   ]
  },
  {
   "cell_type": "code",
   "execution_count": 1,
   "metadata": {
    "collapsed": false
   },
   "outputs": [],
   "source": [
    "from arcgis.gis import GIS\n",
    "from arcgis import geocoding\n",
    "from getpass import getpass"
   ]
  },
  {
   "cell_type": "code",
   "execution_count": 6,
   "metadata": {
    "collapsed": false
   },
   "outputs": [
    {
     "name": "stdout",
     "output_type": "stream",
     "text": [
      "········\n"
     ]
    }
   ],
   "source": [
    "password= getpass()\n",
    "gis = GIS(\"https://pycontraptions.maps.arcgis.com\", \"atma_mani\", password)\n",
    "\n",
    "# use the first of GIS's configured geocoders\n",
    "geocoder = geocoding.get_geocoders(gis)[0]"
   ]
  },
  {
   "cell_type": "code",
   "execution_count": 3,
   "metadata": {
    "collapsed": false
   },
   "outputs": [
    {
     "name": "stdout",
     "output_type": "stream",
     "text": [
      "MaxBatchSize : 1000\n",
      "SuggestedBatchSize : 150\n"
     ]
    }
   ],
   "source": [
    "print(\"MaxBatchSize : \" + str(geocoder.properties.locatorProperties.MaxBatchSize))\n",
    "print(\"SuggestedBatchSize : \" + str(geocoder.properties.locatorProperties.SuggestedBatchSize))"
   ]
  },
  {
   "cell_type": "markdown",
   "metadata": {},
   "source": [
    "<a id=\"batch-geocode-access\"></a>\n",
    "## Batch geocode access\n",
    "\n",
    "<p> \n",
    "\n",
    "<div class=\"alert alert-info\">\n",
    "\n",
    "An ArcGIS Online organizational account is required to use the batch geocoding functionality provided by the World Geocoding Service. Successfully geocoded addresses, which return a status of Matched or Tied, cause ArcGIS Online service credits to be consumed for batch geocoding operations.\n",
    "</div>"
   ]
  },
  {
   "cell_type": "markdown",
   "metadata": {},
   "source": [
    "### Example: batch geocode using single line addresses"
   ]
  },
  {
   "cell_type": "code",
   "execution_count": 4,
   "metadata": {
    "collapsed": true
   },
   "outputs": [],
   "source": [
    "addresses = [\"380 New York St, Redlands, CA\", \n",
    "             \"1 World Way, Los Angeles, CA\",\n",
    "             \"1200 Getty Center Drive, Los Angeles, CA\", \n",
    "             \"5905 Wilshire Boulevard, Los Angeles, CA\",\n",
    "             \"100 Universal City Plaza, Universal City, CA 91608\",\n",
    "             \"4800 Oak Grove Dr, Pasadena, CA 91109\"]"
   ]
  },
  {
   "cell_type": "code",
   "execution_count": 7,
   "metadata": {
    "collapsed": false
   },
   "outputs": [],
   "source": [
    "results = geocoding.batch_geocode(addresses)"
   ]
  },
  {
   "cell_type": "code",
   "execution_count": 8,
   "metadata": {
    "collapsed": false
   },
   "outputs": [
    {
     "data": {
      "text/plain": [
       "6"
      ]
     },
     "execution_count": 8,
     "metadata": {},
     "output_type": "execute_result"
    }
   ],
   "source": [
    "len(results)"
   ]
  },
  {
   "cell_type": "code",
   "execution_count": 9,
   "metadata": {
    "collapsed": false
   },
   "outputs": [
    {
     "data": {
      "text/plain": [
       "{'address': '380 New York St, Redlands, California, 92373',\n",
       " 'attributes': {'AddBldg': '',\n",
       "  'AddNum': '380',\n",
       "  'AddNumFrom': '',\n",
       "  'AddNumTo': '',\n",
       "  'Addr_type': 'PointAddress',\n",
       "  'City': 'Redlands',\n",
       "  'Country': 'USA',\n",
       "  'DisplayX': -117.195311,\n",
       "  'DisplayY': 34.05611,\n",
       "  'Distance': 0,\n",
       "  'LangCode': 'ENG',\n",
       "  'Loc_name': 'USA.PointAddress',\n",
       "  'Match_addr': '380 New York St, Redlands, California, 92373',\n",
       "  'Nbrhd': '',\n",
       "  'Phone': '',\n",
       "  'PlaceName': '',\n",
       "  'Place_addr': '',\n",
       "  'Postal': '92373',\n",
       "  'PostalExt': '',\n",
       "  'Rank': '',\n",
       "  'Region': 'California',\n",
       "  'ResultID': 0,\n",
       "  'Score': 100,\n",
       "  'Side': 'R',\n",
       "  'StAddr': '380 New York St',\n",
       "  'StDir': '',\n",
       "  'StName': 'New York',\n",
       "  'StPreDir': '',\n",
       "  'StPreType': '',\n",
       "  'StType': 'St',\n",
       "  'Status': 'M',\n",
       "  'Subregion': 'San Bernardino',\n",
       "  'Type': '',\n",
       "  'URL': '',\n",
       "  'X': -117.195667,\n",
       "  'Xmax': -117.194667,\n",
       "  'Xmin': -117.196667,\n",
       "  'Y': 34.05649,\n",
       "  'Ymax': 34.05749,\n",
       "  'Ymin': 34.05549},\n",
       " 'location': {'x': -117.1956663679997, 'y': 34.056490358000474},\n",
       " 'score': 100}"
      ]
     },
     "execution_count": 9,
     "metadata": {},
     "output_type": "execute_result"
    }
   ],
   "source": [
    "results[0]"
   ]
  },
  {
   "cell_type": "code",
   "execution_count": 10,
   "metadata": {
    "collapsed": false
   },
   "outputs": [],
   "source": [
    "map1 = gis.map(\"Los Angeles\", 9)\n",
    "map1"
   ]
  },
  {
   "cell_type": "code",
   "execution_count": 11,
   "metadata": {
    "collapsed": false
   },
   "outputs": [],
   "source": [
    "for address in results:\n",
    "    map1.draw(address['location'])"
   ]
  },
  {
   "cell_type": "markdown",
   "metadata": {},
   "source": [
    "### Batch geocoding multifield addresses"
   ]
  },
  {
   "cell_type": "code",
   "execution_count": 12,
   "metadata": {
    "collapsed": true
   },
   "outputs": [],
   "source": [
    "addresses= [{\n",
    "                \"Address\": \"380 New York St.\",\n",
    "                \"City\": \"Redlands\",\n",
    "                \"Region\": \"CA\",\n",
    "                \"Postal\": \"92373\"\n",
    "            },{\n",
    "                \"Address\": \"1 World Way\",\n",
    "                \"City\": \"Los Angeles\",\n",
    "                \"Region\": \"CA\",\n",
    "                \"Postal\": \"90045\"\n",
    "            }]"
   ]
  },
  {
   "cell_type": "code",
   "execution_count": 13,
   "metadata": {
    "collapsed": false
   },
   "outputs": [],
   "source": [
    "results_multif = geocoding.batch_geocode(addresses)"
   ]
  },
  {
   "cell_type": "code",
   "execution_count": null,
   "metadata": {
    "collapsed": true
   },
   "outputs": [],
   "source": [
    "map2 = gis.map(\"Los Angeles\", 9)\n",
    "map2"
   ]
  },
  {
   "cell_type": "code",
   "execution_count": null,
   "metadata": {
    "collapsed": true
   },
   "outputs": [],
   "source": [
    "for address in results_multif:\n",
    "    map2.draw(address['location'])"
   ]
  },
  {
   "cell_type": "markdown",
   "metadata": {},
   "source": [
    "\n",
    "### Example: Batch geocode airport codes with category"
   ]
  },
  {
   "cell_type": "code",
   "execution_count": 14,
   "metadata": {
    "collapsed": false
   },
   "outputs": [],
   "source": [
    "airports = geocoding.batch_geocode([\"LAX\", \"SFO\", \"ONT\", \"FAT\", \"LGB\"])\n",
    "#airports = geocoding.batch_geocode([\"LAX\", \"SFO\", \"ONT\", \"FAT\", \"LGB\"], category=\"airport\")"
   ]
  },
  {
   "cell_type": "code",
   "execution_count": 15,
   "metadata": {
    "collapsed": false
   },
   "outputs": [
    {
     "data": {
      "text/plain": [
       "5"
      ]
     },
     "execution_count": 15,
     "metadata": {},
     "output_type": "execute_result"
    }
   ],
   "source": [
    "len(airports)"
   ]
  },
  {
   "cell_type": "code",
   "execution_count": 18,
   "metadata": {
    "collapsed": false
   },
   "outputs": [
    {
     "data": {
      "text/plain": [
       "{'address': '',\n",
       " 'attributes': {'AddBldg': '',\n",
       "  'AddNum': '',\n",
       "  'AddNumFrom': '',\n",
       "  'AddNumTo': '',\n",
       "  'Addr_type': '',\n",
       "  'City': '',\n",
       "  'Country': '',\n",
       "  'DisplayX': 0,\n",
       "  'DisplayY': 0,\n",
       "  'Distance': 0,\n",
       "  'LangCode': '',\n",
       "  'Loc_name': '',\n",
       "  'Match_addr': '',\n",
       "  'Nbrhd': '',\n",
       "  'Phone': '',\n",
       "  'PlaceName': '',\n",
       "  'Place_addr': '',\n",
       "  'Postal': '',\n",
       "  'PostalExt': '',\n",
       "  'Rank': '',\n",
       "  'Region': '',\n",
       "  'ResultID': 4,\n",
       "  'Score': 0,\n",
       "  'Side': '',\n",
       "  'StAddr': '',\n",
       "  'StDir': '',\n",
       "  'StName': '',\n",
       "  'StPreDir': '',\n",
       "  'StPreType': '',\n",
       "  'StType': '',\n",
       "  'Status': 'U',\n",
       "  'Subregion': '',\n",
       "  'Type': '',\n",
       "  'URL': '',\n",
       "  'X': 0,\n",
       "  'Xmax': 0,\n",
       "  'Xmin': 0,\n",
       "  'Y': 0,\n",
       "  'Ymax': 0,\n",
       "  'Ymin': 0},\n",
       " 'score': 0}"
      ]
     },
     "execution_count": 18,
     "metadata": {},
     "output_type": "execute_result"
    }
   ],
   "source": [
    "airports[-1]"
   ]
  },
  {
   "cell_type": "code",
   "execution_count": null,
   "metadata": {
    "collapsed": true
   },
   "outputs": [],
   "source": [
    "map3 = gis.map(\"CA\", 6)\n",
    "map3"
   ]
  },
  {
   "cell_type": "code",
   "execution_count": null,
   "metadata": {
    "collapsed": false
   },
   "outputs": [],
   "source": [
    "for airport in airports:\n",
    "    popup = { \n",
    "    \"title\" : airport['attributes']['PlaceName'], \n",
    "    \"content\" : airport['address']\n",
    "    }\n",
    "    map3.draw(airport['location'], popup)"
   ]
  },
  {
   "cell_type": "markdown",
   "metadata": {},
   "source": [
    "### Exercise: batch geocode the `NYC_addreses_batch_geocode_exercise.csv` file"
   ]
  },
  {
   "cell_type": "markdown",
   "metadata": {},
   "source": [
    "Steps:\n",
    "   1. read the csv using pandas\n",
    "   2. Read the address column from the pandas dataframe\n",
    "   3. Make it a list and send it to the batch geocode function\n",
    "   4. get the results and plot that on the map"
   ]
  },
  {
   "cell_type": "code",
   "execution_count": null,
   "metadata": {
    "collapsed": true
   },
   "outputs": [],
   "source": []
  }
 ],
 "metadata": {
  "kernelspec": {
   "display_name": "Python 3",
   "language": "python",
   "name": "python3"
  },
  "language_info": {
   "codemirror_mode": {
    "name": "ipython",
    "version": 3
   },
   "file_extension": ".py",
   "mimetype": "text/x-python",
   "name": "python",
   "nbconvert_exporter": "python",
   "pygments_lexer": "ipython3",
   "version": "3.5.3"
  },
  "widgets": {
   "state": {
    "76bc1d8b75014486ab5b0b7af07401fd": {
     "views": [
      {
       "cell_index": 10
      }
     ]
    }
   },
   "version": "1.2.0"
  }
 },
 "nbformat": 4,
 "nbformat_minor": 0
}
