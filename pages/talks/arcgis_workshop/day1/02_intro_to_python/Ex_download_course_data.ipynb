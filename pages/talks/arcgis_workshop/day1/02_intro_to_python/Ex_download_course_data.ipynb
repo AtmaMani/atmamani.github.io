{
 "cells": [
  {
   "cell_type": "markdown",
   "metadata": {
    "slideshow": {
     "slide_type": "slide"
    }
   },
   "source": [
    "# Download course data from ArcGIS open data portal\n",
    "\n",
    "We are going to use city of Boston's datasets from its open data portal. Lookup the datasets here: http://bostonopendata-boston.opendata.arcgis.com/datasets/. \n",
    "\n",
    "You can either download them from the website or run the cells below to download them into your data directory"
   ]
  },
  {
   "cell_type": "code",
   "execution_count": null,
   "metadata": {
    "collapsed": false,
    "slideshow": {
     "slide_type": "subslide"
    }
   },
   "outputs": [],
   "source": [
    "import os\n",
    "from urllib.request import urlretrieve\n",
    "download_path = '../../datasets' #datasets folder which is two levels up from this current notebook"
   ]
  },
  {
   "cell_type": "markdown",
   "metadata": {},
   "source": [
    "## City of Boston projects\n",
    "Page url: http://bostonopendata-boston.opendata.arcgis.com/datasets/6aa4e089f88e46a88caa93b3eee69c10_1"
   ]
  },
  {
   "cell_type": "code",
   "execution_count": null,
   "metadata": {
    "collapsed": false
   },
   "outputs": [],
   "source": [
    "download_url = 'http://bostonopendata-boston.opendata.arcgis.com/datasets/6aa4e089f88e46a88caa93b3eee69c10_1.zip'\n",
    "\n",
    "urlretrieve(download_url, os.path.join(download_path, 'boston_projects.zip'))"
   ]
  },
  {
   "cell_type": "markdown",
   "metadata": {},
   "source": [
    "## Colleges and universities\n",
    "Page url: http://bostonopendata-boston.opendata.arcgis.com/datasets/cbf14bb032ef4bd38e20429f71acb61a_2"
   ]
  },
  {
   "cell_type": "code",
   "execution_count": null,
   "metadata": {
    "collapsed": false
   },
   "outputs": [],
   "source": [
    "download_url ='http://bostonopendata-boston.opendata.arcgis.com/datasets/cbf14bb032ef4bd38e20429f71acb61a_2.zip'\n",
    "urlretrieve(download_url, os.path.join(download_path, 'colleges.zip'))"
   ]
  },
  {
   "cell_type": "code",
   "execution_count": null,
   "metadata": {
    "collapsed": true
   },
   "outputs": [],
   "source": []
  }
 ],
 "metadata": {
  "kernelspec": {
   "display_name": "Python 3",
   "language": "python",
   "name": "python3"
  },
  "language_info": {
   "codemirror_mode": {
    "name": "ipython",
    "version": 3
   },
   "file_extension": ".py",
   "mimetype": "text/x-python",
   "name": "python",
   "nbconvert_exporter": "python",
   "pygments_lexer": "ipython3",
   "version": "3.5.3"
  }
 },
 "nbformat": 4,
 "nbformat_minor": 2
}
