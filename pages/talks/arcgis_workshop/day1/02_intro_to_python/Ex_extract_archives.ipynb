{
 "cells": [
  {
   "cell_type": "markdown",
   "metadata": {},
   "source": [
    "# Extract zip files\n",
    "An exercise to read only .zip files from folder and extract them into folders. These .zip files contain shape files. We will use the same name as the zip file for the folders.\n",
    "\n",
    "This exercise showcases how to use standard libraries of Python and loops."
   ]
  },
  {
   "cell_type": "markdown",
   "metadata": {},
   "source": [
    "## Import necessary libraries\n",
    "\n",
    "We will import `os` and `zipfile` libraries. Whenever possible import only the necessary components (modules, classes etc) from libraries."
   ]
  },
  {
   "cell_type": "code",
   "execution_count": 1,
   "metadata": {
    "collapsed": true
   },
   "outputs": [],
   "source": [
    "# import necessary modules\n",
    "import os\n",
    "from zipfile import ZipFile"
   ]
  },
  {
   "cell_type": "markdown",
   "metadata": {},
   "source": [
    "Let us explore how the `zipfile` library can be put to use"
   ]
  },
  {
   "cell_type": "code",
   "execution_count": 33,
   "metadata": {
    "collapsed": false
   },
   "outputs": [
    {
     "name": "stdout",
     "output_type": "stream",
     "text": [
      "Help on function extractall in module zipfile:\n",
      "\n",
      "extractall(self, path=None, members=None, pwd=None)\n",
      "    Extract all members from the archive to the current working\n",
      "    directory. `path' specifies a different directory to extract to.\n",
      "    `members' is optional and must be a subset of the list returned\n",
      "    by namelist().\n",
      "\n"
     ]
    }
   ],
   "source": [
    "help(ZipFile.extractall)"
   ]
  },
  {
   "cell_type": "code",
   "execution_count": 18,
   "metadata": {
    "collapsed": true
   },
   "outputs": [],
   "source": [
    "# path to folder containing zip files.\n",
    "root = r'D:\\DS_demo\\Boston_data\\archive2'"
   ]
  },
  {
   "cell_type": "markdown",
   "metadata": {},
   "source": [
    "## Make a list of zip files"
   ]
  },
  {
   "cell_type": "code",
   "execution_count": 21,
   "metadata": {
    "collapsed": false
   },
   "outputs": [
    {
     "name": "stdout",
     "output_type": "stream",
     "text": [
      "D:\\DS_demo\\Boston_data\\archive2\\Boston_Neighborhoods.zip\n",
      "D:\\DS_demo\\Boston_data\\archive2\\Boston_Police_Stations.zip\n",
      "D:\\DS_demo\\Boston_data\\archive2\\Boston_Segments.zip\n",
      "D:\\DS_demo\\Boston_data\\archive2\\Budget_Facilities.zip\n",
      "D:\\DS_demo\\Boston_data\\archive2\\Charging_Stations.zip\n",
      "D:\\DS_demo\\Boston_data\\archive2\\City_of_Boston_Projects_FY2017.zip\n",
      "D:\\DS_demo\\Boston_data\\archive2\\Colleges_and_Universities.zip\n",
      "D:\\DS_demo\\Boston_data\\archive2\\Existing_Bike_Network.zip\n",
      "D:\\DS_demo\\Boston_data\\archive2\\Fire_Departments.zip\n",
      "D:\\DS_demo\\Boston_data\\archive2\\Fire_Districts.zip\n",
      "D:\\DS_demo\\Boston_data\\archive2\\Fire_Hydrant.zip\n",
      "D:\\DS_demo\\Boston_data\\archive2\\Hubway_Stations.zip\n",
      "D:\\DS_demo\\Boston_data\\archive2\\Hydrography_Line.zip\n",
      "D:\\DS_demo\\Boston_data\\archive2\\Live_Street_Address_Management_SAM_Addresses.zip\n",
      "D:\\DS_demo\\Boston_data\\archive2\\Municipal_Building_Energy_Reporting_BERDO.csv\n",
      "D:\\DS_demo\\Boston_data\\archive2\\Municipal_Building_Energy_Reporting_BERDO.zip\n",
      "D:\\DS_demo\\Boston_data\\archive2\\Non_Public_Schools.zip\n",
      "D:\\DS_demo\\Boston_data\\archive2\\Open_Space.zip\n",
      "D:\\DS_demo\\Boston_data\\archive2\\Parcels_2016_Data_Full.zip\n",
      "D:\\DS_demo\\Boston_data\\archive2\\Parcels_2017.zip\n",
      "D:\\DS_demo\\Boston_data\\archive2\\Parking_Meters.zip\n",
      "D:\\DS_demo\\Boston_data\\archive2\\Pedestrian_Ramp_Inventory.zip\n",
      "D:\\DS_demo\\Boston_data\\archive2\\Police_Districts.zip\n",
      "D:\\DS_demo\\Boston_data\\archive2\\Polling_Locations.zip\n",
      "D:\\DS_demo\\Boston_data\\archive2\\Public_Schools.zip\n",
      "D:\\DS_demo\\Boston_data\\archive2\\Traffic_Signals.zip\n",
      "D:\\DS_demo\\Boston_data\\archive2\\Trees.zip\n",
      "D:\\DS_demo\\Boston_data\\archive2\\Wards.zip\n",
      "D:\\DS_demo\\Boston_data\\archive2\\ZIP_Codes.zip\n"
     ]
    }
   ],
   "source": [
    "file_list = list()\n",
    "for fld_path, fld, files in os.walk(root):\n",
    "    for file in files:\n",
    "        print(os.path.join(fld_path, file))\n",
    "        file_list.append(os.path.join(fld_path, file))"
   ]
  },
  {
   "cell_type": "code",
   "execution_count": 22,
   "metadata": {
    "collapsed": false
   },
   "outputs": [
    {
     "data": {
      "text/plain": [
       "29"
      ]
     },
     "execution_count": 22,
     "metadata": {},
     "output_type": "execute_result"
    }
   ],
   "source": [
    "len(file_list)"
   ]
  },
  {
   "cell_type": "markdown",
   "metadata": {},
   "source": [
    "## Extract each zip file\n",
    "To start with, we need a name for each folder. Let us derive that from the zip file name. To analyze the file paths let us use the `pathlib` library."
   ]
  },
  {
   "cell_type": "code",
   "execution_count": 30,
   "metadata": {
    "collapsed": false
   },
   "outputs": [],
   "source": [
    "import pathlib\n",
    "p1 = pathlib.Path(file_list[0])"
   ]
  },
  {
   "cell_type": "code",
   "execution_count": 31,
   "metadata": {
    "collapsed": false
   },
   "outputs": [
    {
     "data": {
      "text/plain": [
       "'Boston_Neighborhoods.zip'"
      ]
     },
     "execution_count": 31,
     "metadata": {},
     "output_type": "execute_result"
    }
   ],
   "source": [
    "p1.name"
   ]
  },
  {
   "cell_type": "code",
   "execution_count": 32,
   "metadata": {
    "collapsed": false
   },
   "outputs": [
    {
     "data": {
      "text/plain": [
       "['Boston_Neighborhoods', 'zip']"
      ]
     },
     "execution_count": 32,
     "metadata": {},
     "output_type": "execute_result"
    }
   ],
   "source": [
    "p1.name.split('.')"
   ]
  },
  {
   "cell_type": "code",
   "execution_count": 39,
   "metadata": {
    "collapsed": false
   },
   "outputs": [
    {
     "data": {
      "text/plain": [
       "WindowsPath('D:/DS_demo/Boston_data/archive2')"
      ]
     },
     "execution_count": 39,
     "metadata": {},
     "output_type": "execute_result"
    }
   ],
   "source": [
    "p1.parent"
   ]
  },
  {
   "cell_type": "code",
   "execution_count": 40,
   "metadata": {
    "collapsed": false
   },
   "outputs": [
    {
     "data": {
      "text/plain": [
       "'D:\\\\DS_demo\\\\Boston_data\\\\archive2'"
      ]
     },
     "execution_count": 40,
     "metadata": {},
     "output_type": "execute_result"
    }
   ],
   "source": [
    "str(p1.parent)"
   ]
  },
  {
   "cell_type": "markdown",
   "metadata": {},
   "source": [
    "### Loop through each zip file and extract it"
   ]
  },
  {
   "cell_type": "code",
   "execution_count": 52,
   "metadata": {
    "collapsed": false
   },
   "outputs": [
    {
     "name": "stdout",
     "output_type": "stream",
     "text": [
      "Extracting Boston_Neighborhoods # success\n",
      "Extracting Boston_Police_Stations # success\n",
      "Extracting Boston_Segments # success\n",
      "Extracting Budget_Facilities # success\n",
      "Extracting Charging_Stations # success\n",
      "Extracting City_of_Boston_Projects_FY2017 # success\n",
      "Extracting Colleges_and_Universities # success\n",
      "Extracting Existing_Bike_Network # success\n",
      "Extracting Fire_Departments # success\n",
      "Extracting Fire_Districts # success\n",
      "Extracting Fire_Hydrant # success\n",
      "Extracting Hubway_Stations # success\n",
      "Extracting Hydrography_Line # success\n",
      "Extracting Live_Street_Address_Management_SAM_Addresses # success\n",
      "D:\\DS_demo\\Boston_data\\archive2\\Municipal_Building_Energy_Reporting_BERDO.csv is not a zip, skipping\n",
      "Extracting Municipal_Building_Energy_Reporting_BERDO # success\n",
      "Extracting Non_Public_Schools # success\n",
      "Extracting Open_Space # success\n",
      "Extracting Parcels_2016_Data_Full # success\n",
      "Extracting Parcels_2017 # success\n",
      "Extracting Parking_Meters # success\n",
      "Extracting Pedestrian_Ramp_Inventory # success\n",
      "Extracting Police_Districts # success\n",
      "Extracting Polling_Locations # success\n",
      "Extracting Public_Schools # success\n",
      "Extracting Traffic_Signals # success\n",
      "Extracting Trees # success\n",
      "Extracting Wards # success\n",
      "Extracting ZIP_Codes # success\n"
     ]
    }
   ],
   "source": [
    "for f in file_list:\n",
    "    #construct file name\n",
    "    p = pathlib.Path(f)\n",
    "    fld_name, extn = p.name.split('.')\n",
    "    if extn != \"zip\":\n",
    "        print(f + \" is not a zip, skipping\")\n",
    "        continue\n",
    "    \n",
    "    #construct full folder path\n",
    "    output_path = os.path.join(str(p.parent),fld_name)\n",
    "    \n",
    "    #extract\n",
    "    print(\"Extracting \" + fld_name, end=\" # \")\n",
    "    z = ZipFile(f)\n",
    "    z.extractall(output_path)\n",
    "    print(\"success\")"
   ]
  },
  {
   "cell_type": "code",
   "execution_count": null,
   "metadata": {
    "collapsed": true
   },
   "outputs": [],
   "source": []
  }
 ],
 "metadata": {
  "kernelspec": {
   "display_name": "Python 3",
   "language": "python",
   "name": "python3"
  },
  "language_info": {
   "codemirror_mode": {
    "name": "ipython",
    "version": 3
   },
   "file_extension": ".py",
   "mimetype": "text/x-python",
   "name": "python",
   "nbconvert_exporter": "python",
   "pygments_lexer": "ipython3",
   "version": "3.6.0"
  }
 },
 "nbformat": 4,
 "nbformat_minor": 0
}
