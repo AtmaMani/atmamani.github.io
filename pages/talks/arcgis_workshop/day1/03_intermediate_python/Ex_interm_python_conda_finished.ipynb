{
 "cells": [
  {
   "cell_type": "markdown",
   "metadata": {},
   "source": [
    "# Exercise: intermediate Python\n",
    "\n",
    "You will exercise the following concepts\n",
    " - sequences (lists)\n",
    " - loops\n",
    " - functions\n",
    " - exception handling\n",
    "\n",
    "**Problem**: You are presented with aggregated census data containing the male and female population across different states. You need to calculate the sex ratio and print that out in the format:\n",
    "    \n",
    "    Male:female ratio in AL is 1.22:0.82\n",
    "    Male:female ratio in AZ is 1.04:0.96\n",
    "\n",
    "Complete the following code"
   ]
  },
  {
   "cell_type": "code",
   "execution_count": 1,
   "metadata": {
    "collapsed": true
   },
   "outputs": [],
   "source": [
    "states_list = ['AL', 'AZ', 'AK', 'AR', 'CA', 'CO', 'CT']\n",
    "males = [55, 51, 52.9, 'tuesday', [53], 49, 50]\n",
    "females = [45, 49, 48.1, 48.5, 47, (51), 50]"
   ]
  },
  {
   "cell_type": "code",
   "execution_count": 2,
   "metadata": {
    "collapsed": true
   },
   "outputs": [],
   "source": [
    "def sex_ratio_by_states(states_list, males, females):\n",
    "    \n",
    "    for i in range(len(states_list)):\n",
    "        s = states_list[i]\n",
    "        m = males[i]\n",
    "        f = females[i]\n",
    "        try:\n",
    "            male_ratio = round(m/f, 2)\n",
    "            female_ratio = round(f/m, 2)\n",
    "\n",
    "            print(\"Male:female ratio in {} is {}:{}\".format(s, str(male_ratio),\n",
    "                                                           str(female_ratio)))\n",
    "        except:\n",
    "            print(\"Error processing state: \" + s)\n",
    "            continue"
   ]
  },
  {
   "cell_type": "code",
   "execution_count": 3,
   "metadata": {
    "collapsed": false
   },
   "outputs": [
    {
     "name": "stdout",
     "output_type": "stream",
     "text": [
      "Male:female ratio in AL is 1.22:0.82\n",
      "Male:female ratio in AZ is 1.04:0.96\n",
      "Male:female ratio in AK is 1.1:0.91\n",
      "Error processing state: AR\n",
      "Error processing state: CA\n",
      "Male:female ratio in CO is 0.96:1.04\n",
      "Male:female ratio in CT is 1.0:1.0\n"
     ]
    }
   ],
   "source": [
    "sex_ratio_by_states(states_list, males, females)"
   ]
  },
  {
   "cell_type": "markdown",
   "metadata": {},
   "source": [
    "# Install arcgis package in a new env using conda\n",
    "\n",
    " 1. Create a new environment called `arcgis_handson` with Python 3.6\n",
    " 2. activate that environment\n",
    " 3. Install `arcgis` package from `esri` channel\n",
    " 4. Install `pandas` package from default channel\n",
    " 5. Install `matplotlib` package\n",
    " 6. Install `numpy` package, was it already installed?"
   ]
  },
  {
   "cell_type": "markdown",
   "metadata": {},
   "source": [
    "    conda create --name arcgis_handson python=3.6\n",
    "    activate arcgis_handson\n",
    "    \n",
    "if running on mac or linux then:\n",
    "    source activate arcgis_handson\n",
    "    \n",
    "    conda install -c esri arcgis\n",
    "    conda install pandas\n",
    "    conda install matplotlib\n",
    "    conda install numpy"
   ]
  }
 ],
 "metadata": {
  "anaconda-cloud": {},
  "kernelspec": {
   "display_name": "Python 3",
   "language": "python",
   "name": "python3"
  },
  "language_info": {
   "codemirror_mode": {
    "name": "ipython",
    "version": 3
   },
   "file_extension": ".py",
   "mimetype": "text/x-python",
   "name": "python",
   "nbconvert_exporter": "python",
   "pygments_lexer": "ipython3",
   "version": "3.5.2"
  }
 },
 "nbformat": 4,
 "nbformat_minor": 1
}
