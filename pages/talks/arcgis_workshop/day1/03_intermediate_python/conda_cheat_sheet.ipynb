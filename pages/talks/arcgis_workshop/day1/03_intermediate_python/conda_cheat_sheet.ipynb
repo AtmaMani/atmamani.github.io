{
 "cells": [
  {
   "cell_type": "markdown",
   "metadata": {},
   "source": [
    "#### some useful productivity tools\n",
    "\n",
    " - code editor: sublime text: https://www.sublimetext.com/3\n",
    " - nicer command line tool for Windows: http://cmder.net/"
   ]
  },
  {
   "cell_type": "markdown",
   "metadata": {},
   "source": [
    "# Conda commands\n",
    "\n",
    "**What is conda?**\n",
    " - Conda is a powerful environment and package manager.\n",
    "     - [What are packages?](https://docs.python.org/3/tutorial/modules.html#packages)\n",
    "     - [PyPi](https://pypi.python.org/pypi/)\n",
    " - Create multiple environments with different versions of Python with different sets of libraries\n",
    " - easily switch between environments\n",
    " - http://anaconda.org/ provides free hosting for Python libraries\n",
    " - conda helps to easily search for, install libraries and also to keep them up to date\n",
    " \n",
    "**Learn resources**:\n",
    " - getting started: http://conda.pydata.org/docs/test-drive.html#managing-environments\n",
    " - reference doc: http://conda.pydata.org/docs/"
   ]
  },
  {
   "cell_type": "markdown",
   "metadata": {},
   "source": [
    "## List all environments\n",
    "\n",
    "    conda env list\n",
    "    \n",
    "Run the above command in terminal"
   ]
  },
  {
   "cell_type": "markdown",
   "metadata": {},
   "source": [
    "## Create a new environment\n",
    "\n",
    "    conda create --name <name_of_env> package=version\n",
    "    \n",
    "    conda create --name devsummit_precon python=3.6\n",
    "    \n",
    "    conda create --name data_sci_proj scipy pandas\n",
    "    \n",
    "Check if new folder was created in `C:\\anaconda3\\envs`"
   ]
  },
  {
   "cell_type": "markdown",
   "metadata": {},
   "source": [
    "## Activating environemnts\n",
    "\n",
    "    activate pro_devsummit_handson"
   ]
  },
  {
   "cell_type": "markdown",
   "metadata": {},
   "source": [
    "### search packages\n",
    "    \n",
    "    conda search <package name>\n",
    "    conda search --channel <channel name> <package name>\n",
    "    \n",
    "    conda search beautifulsoup"
   ]
  },
  {
   "cell_type": "markdown",
   "metadata": {},
   "source": [
    "### get info about a package\n",
    "    conda info <package name> ## gives you all dependencies\n",
    "    conda info --channel esri arcgis"
   ]
  },
  {
   "cell_type": "markdown",
   "metadata": {},
   "source": [
    "## Install packages\n",
    "\n",
    "    conda install <package name>\n",
    "    \n",
    "    conda install pandas\n",
    "    conda install requests\n",
    "    \n",
    "    conda instal --channel <channel_name> <package name>\n",
    "    conda install --channel esri arcgis\n",
    "    conda install -c esri arcgis"
   ]
  },
  {
   "cell_type": "markdown",
   "metadata": {},
   "source": [
    "## List all packages in current active environment\n",
    "    \n",
    "    conda list\n",
    "    conda list nb*   # wild card search"
   ]
  },
  {
   "cell_type": "markdown",
   "metadata": {},
   "source": [
    "## Remove a package\n",
    "    \n",
    "    conda remove <package name>"
   ]
  },
  {
   "cell_type": "markdown",
   "metadata": {},
   "source": [
    "## Remove an environment\n",
    "\n",
    "    conda env remove --name <name of env>\n",
    "    conda env remove --name devsummit_precon"
   ]
  },
  {
   "cell_type": "markdown",
   "metadata": {},
   "source": [
    "## Advanced steps\n",
    "\n",
    "### Clone an existing environment\n",
    "For instance, to clone the `root` environment:\n",
    "\n",
    "    conda create --name clone_of_root --clone root"
   ]
  },
  {
   "cell_type": "markdown",
   "metadata": {},
   "source": [
    "But you would most likely want to clone the ArcGIS Pro's Python environment so you can experiment without messing up the default one"
   ]
  },
  {
   "cell_type": "markdown",
   "metadata": {},
   "source": [
    "    conda create --name propy_clone --clone arcgispro-py3"
   ]
  },
  {
   "cell_type": "markdown",
   "metadata": {},
   "source": [
    "### Starting Jupyter notebook in a different directory\n",
    "For the most part you can `cd` to desired directory after activating your environment and start the notebook. But if you cannot do it:\n",
    "\n",
    "    jupyter-notebook --notebook-dir=D:\\code\\my_notebooks"
   ]
  }
 ],
 "metadata": {
  "anaconda-cloud": {},
  "kernelspec": {
   "display_name": "Python 3",
   "language": "python",
   "name": "python3"
  },
  "language_info": {
   "codemirror_mode": {
    "name": "ipython",
    "version": 3
   },
   "file_extension": ".py",
   "mimetype": "text/x-python",
   "name": "python",
   "nbconvert_exporter": "python",
   "pygments_lexer": "ipython3",
   "version": "3.5.3"
  }
 },
 "nbformat": 4,
 "nbformat_minor": 2
}
