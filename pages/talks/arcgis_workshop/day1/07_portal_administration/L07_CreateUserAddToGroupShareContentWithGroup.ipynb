{
 "cells": [
  {
   "cell_type": "code",
   "execution_count": 1,
   "metadata": {
    "collapsed": true
   },
   "outputs": [],
   "source": [
    "from arcgis.gis import GIS\n",
    "gis = GIS(\"https://www.arcgis.com\", \"<enter username here>\", \"<password>\")"
   ]
  },
  {
   "cell_type": "code",
   "execution_count": 3,
   "metadata": {
    "collapsed": false
   },
   "outputs": [],
   "source": [
    "map = gis.map()"
   ]
  },
  {
   "cell_type": "code",
   "execution_count": 10,
   "metadata": {
    "collapsed": false
   },
   "outputs": [
    {
     "name": "stdout",
     "output_type": "stream",
     "text": [
      "User demo_user2 exists\n"
     ]
    }
   ],
   "source": [
    "if gis.users.search(\"demo_user2\") == 0:\n",
    "    demo_user1 = gis.users.create(username = 'demo_user2',\n",
    "                                password = '0286eb9ac01f',\n",
    "                                firstname = 'demon',\n",
    "                                lastname = 'user',\n",
    "                                email = 'demoUser@esri.com',\n",
    "                                description = 'Demonstrating how to create users using ArcGIS Python API',\n",
    "                                role = 'org_user',\n",
    "                                provider = 'portal')\n",
    "else:\n",
    "    print(\"User demo_user2 exists\")"
   ]
  },
  {
   "cell_type": "code",
   "execution_count": 9,
   "metadata": {
    "collapsed": false
   },
   "outputs": [
    {
     "data": {
      "text/html": [
       "<div class=\"9item_container\" style=\"height: auto; overflow: hidden; border: 1px solid #cfcfcf; border-radius: 2px; background: #f6fafa; line-height: 1.21429em; padding: 10px;\">\n",
       "                    <div class=\"item_left\" style=\"width: 210px; float: left;\">\n",
       "                       <a href='https://clt-ramseth8l.esri.com/portal/home/group.html?id=e47fe2a75f554110a96c270d6c61a9aa' target='_blank'>\n",
       "                        <img src='https://clt-ramseth8l.esri.com/portal/home/images/group-no-image.png' class=\"itemThumbnail\">\n",
       "                       </a>\n",
       "                    </div>\n",
       "\n",
       "                    <div class=\"item_right\" style=\"float: none; width: auto; overflow: hidden;\">\n",
       "                        <a href='https://clt-ramseth8l.esri.com/portal/home/group.html?id=e47fe2a75f554110a96c270d6c61a9aa' target='_blank'><b>Recreational geocaching</b>\n",
       "                        </a>\n",
       "                        <br/>\n",
       "                        <br/><b>Summary</b>: Share your GPX tracks as feature layers here\n",
       "                        <br/><b>Description</b>: Group to share your landmarks and games\n",
       "                        <br/><b>Owner</b>: PortalAdmin\n",
       "                        <br/><b>Created</b>: March 01, 2017\n",
       "\n",
       "                    </div>\n",
       "                </div>\n",
       "                "
      ],
      "text/plain": [
       "<Group title:\"Recreational geocaching\" owner:PortalAdmin>"
      ]
     },
     "execution_count": 9,
     "metadata": {},
     "output_type": "execute_result"
    }
   ],
   "source": [
    "\n",
    "geocaching_group = gis.groups.create(title='Recreational geocaching',\n",
    "                                    tags = 'hobby, geocaching, gps, hide n seek',\n",
    "                                    description = 'Group to share your landmarks and games',\n",
    "                                    snippet = 'Share your GPX tracks as feature layers here',\n",
    "                                    access = 'org',\n",
    "                                    is_invitation_only = 'False',\n",
    "                                    thumbnail = r'')\n",
    "geocaching_group"
   ]
  },
  {
   "cell_type": "code",
   "execution_count": 11,
   "metadata": {
    "collapsed": false
   },
   "outputs": [
    {
     "data": {
      "text/plain": [
       "{'admins': ['PortalAdmin'],\n",
       " 'owner': 'PortalAdmin',\n",
       " 'users': ['demo_user1', 'demo_user2']}"
      ]
     },
     "execution_count": 11,
     "metadata": {},
     "output_type": "execute_result"
    }
   ],
   "source": [
    "\n",
    "geocaching_group.add_users([ 'demo_user1','demo_user2'])\n",
    "members = geocaching_group.get_members()\n",
    "\n",
    "members\n",
    "\n",
    "\n",
    "\n"
   ]
  },
  {
   "cell_type": "code",
   "execution_count": 12,
   "metadata": {
    "collapsed": false
   },
   "outputs": [
    {
     "data": {
      "text/plain": [
       "[<Item title:\"USA Soils Runoff\" type:Image Service owner:esri_livingatlas>,\n",
       " <Item title:\"USA USFS Lands\" type:Map Service owner:esri_livingatlas>,\n",
       " <Item title:\"2016 USA Clothing/Accessory Store Market Opportunity\" type:Map Service owner:esri_livingatlas>,\n",
       " <Item title:\"USA Forest Type\" type:Image Service owner:esri_livingatlas>,\n",
       " <Item title:\"USA Bighorn Sheep GAP Range\" type:Image Service owner:esri_livingatlas>,\n",
       " <Item title:\"2016 USA Home Improvement Spending\" type:Map Service owner:esri_livingatlas>,\n",
       " <Item title:\"USA California Condor GAP Species Range\" type:Image Service owner:esri_livingatlas>,\n",
       " <Item title:\"USA Parks\" type:Feature Service owner:esri_livingatlas>,\n",
       " <Item title:\"2016 USA Average Household Size\" type:Map Service owner:esri_livingatlas>,\n",
       " <Item title:\"USA Freeway System\" type:Feature Service owner:esri_livingatlas>]"
      ]
     },
     "execution_count": 12,
     "metadata": {},
     "output_type": "execute_result"
    }
   ],
   "source": [
    "search_result_USA = gis.content.search(query=\"title:USA*\")\n",
    "search_result_USA"
   ]
  },
  {
   "cell_type": "code",
   "execution_count": 13,
   "metadata": {
    "collapsed": false
   },
   "outputs": [
    {
     "data": {
      "text/plain": [
       "'e9ac472da84441d8a91ea80044a9ade9'"
      ]
     },
     "execution_count": 13,
     "metadata": {},
     "output_type": "execute_result"
    }
   ],
   "source": [
    "first_item = search_result_USA[0]\n",
    "known_item_id = first_item.id\n",
    "known_item_id"
   ]
  },
  {
   "cell_type": "code",
   "execution_count": 15,
   "metadata": {
    "collapsed": false
   },
   "outputs": [
    {
     "data": {
      "text/plain": [
       "'shared'"
      ]
     },
     "execution_count": 15,
     "metadata": {},
     "output_type": "execute_result"
    }
   ],
   "source": [
    "USA_Soils = gis.content.get(known_item_id)\n",
    "USA_Soils.access"
   ]
  },
  {
   "cell_type": "code",
   "execution_count": 20,
   "metadata": {
    "collapsed": false
   },
   "outputs": [
    {
     "data": {
      "text/plain": [
       "{'itemId': 'e9ac472da84441d8a91ea80044a9ade9',\n",
       " 'notSharedWith': ['e47fe2a75f554110a96c270d6c61a9aa']}"
      ]
     },
     "execution_count": 20,
     "metadata": {},
     "output_type": "execute_result"
    }
   ],
   "source": [
    "USA_Soils.share(groups=geocaching_group.id)"
   ]
  },
  {
   "cell_type": "code",
   "execution_count": 18,
   "metadata": {
    "collapsed": false
   },
   "outputs": [
    {
     "data": {
      "text/plain": [
       "<bound method Item.unshare of <Item title:\"USA Soils Runoff\" type:Image Service owner:esri_livingatlas>>"
      ]
     },
     "execution_count": 18,
     "metadata": {},
     "output_type": "execute_result"
    }
   ],
   "source": [
    "USA_Soils.unshare"
   ]
  },
  {
   "cell_type": "code",
   "execution_count": null,
   "metadata": {
    "collapsed": true
   },
   "outputs": [],
   "source": []
  }
 ],
 "metadata": {
  "kernelspec": {
   "display_name": "Python 3",
   "language": "python",
   "name": "python3"
  },
  "language_info": {
   "codemirror_mode": {
    "name": "ipython",
    "version": 3
   },
   "file_extension": ".py",
   "mimetype": "text/x-python",
   "name": "python",
   "nbconvert_exporter": "python",
   "pygments_lexer": "ipython3",
   "version": "3.5.3"
  }
 },
 "nbformat": 4,
 "nbformat_minor": 2
}
