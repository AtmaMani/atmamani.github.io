{
 "cells": [
  {
   "cell_type": "markdown",
   "metadata": {},
   "source": [
    "# Portal administration demo\n",
    "Add participants of this course as administrators to an ArcGIS Enterprise running on Amazon AWS infrastructure."
   ]
  },
  {
   "cell_type": "code",
   "execution_count": 8,
   "metadata": {
    "collapsed": true
   },
   "outputs": [],
   "source": [
    "import pandas as pd\n",
    "from arcgis.gis import *\n",
    "from getpass import getpass"
   ]
  },
  {
   "cell_type": "code",
   "execution_count": 9,
   "metadata": {
    "collapsed": false
   },
   "outputs": [
    {
     "name": "stdout",
     "output_type": "stream",
     "text": [
      "········\n"
     ]
    }
   ],
   "source": [
    "url='https://esriwebgis.webgistesting.net/portal'\n",
    "username='admin'\n",
    "password = getpass()"
   ]
  },
  {
   "cell_type": "code",
   "execution_count": 11,
   "metadata": {
    "collapsed": false
   },
   "outputs": [
    {
     "data": {
      "text/plain": [
       "[<User username:admin>,\n",
       " <User username:Alexander.Mogollon>,\n",
       " <User username:atma.mani>,\n",
       " <User username:Burt.McAlpine>,\n",
       " <User username:Christina.Kellum>,\n",
       " <User username:Cynthia.Davis>,\n",
       " <User username:David.Mutibul>,\n",
       " <User username:David.Pastizzo>,\n",
       " <User username:Derek.Hoshijo>,\n",
       " <User username:Ellie.Maclin>,\n",
       " <User username:esri_boundaries>,\n",
       " <User username:esri_demographics>,\n",
       " <User username:esri_livingatlas>,\n",
       " <User username:esri_nav>,\n",
       " <User username:Heinrich.Langenhoven>,\n",
       " <User username:Hunter.Allen>,\n",
       " <User username:Jeremy.Fontenault>,\n",
       " <User username:Kalyana.Nissankarao>,\n",
       " <User username:Kanne.Ikwuezunma>,\n",
       " <User username:Mathias.Gieser>,\n",
       " <User username:Nathan.Heick>,\n",
       " <User username:Paul.Haakma>,\n",
       " <User username:Rajaram.Gudipudi>,\n",
       " <User username:Samuel.Valdez>,\n",
       " <User username:Shaunak.Vairagare>,\n",
       " <User username:Stan.Shelton>,\n",
       " <User username:Timothy.Zimmer>,\n",
       " <User username:Vassilo.Walluschnig>,\n",
       " <User username:Will.Allender>]"
      ]
     },
     "execution_count": 11,
     "metadata": {},
     "output_type": "execute_result"
    }
   ],
   "source": [
    "#sign in to ArcGIS Enterprise\n",
    "gis = GIS('https://esriwebgis.webgistesting.net/portal', username, password)\n",
    "gis.users.search()"
   ]
  },
  {
   "cell_type": "markdown",
   "metadata": {},
   "source": [
    "### Read the csv with participant names"
   ]
  },
  {
   "cell_type": "code",
   "execution_count": 12,
   "metadata": {
    "collapsed": false
   },
   "outputs": [
    {
     "data": {
      "text/html": [
       "<div>\n",
       "<table border=\"1\" class=\"dataframe\">\n",
       "  <thead>\n",
       "    <tr style=\"text-align: right;\">\n",
       "      <th></th>\n",
       "      <th>First Name</th>\n",
       "      <th>Last Name</th>\n",
       "      <th>Registrant Company Name</th>\n",
       "      <th>Registrant E-Mail Address</th>\n",
       "      <th>Unnamed: 4</th>\n",
       "    </tr>\n",
       "  </thead>\n",
       "  <tbody>\n",
       "    <tr>\n",
       "      <th>0</th>\n",
       "      <td>Christina</td>\n",
       "      <td>Kellum</td>\n",
       "      <td>WA Dept. of Ecology</td>\n",
       "      <td>user@test.com</td>\n",
       "      <td>NaN</td>\n",
       "    </tr>\n",
       "    <tr>\n",
       "      <th>1</th>\n",
       "      <td>Derek</td>\n",
       "      <td>Hoshijo</td>\n",
       "      <td>E &amp; J Gallo Winery</td>\n",
       "      <td>user@test.com</td>\n",
       "      <td>NaN</td>\n",
       "    </tr>\n",
       "    <tr>\n",
       "      <th>2</th>\n",
       "      <td>Rajaram</td>\n",
       "      <td>Gudipudi</td>\n",
       "      <td>County of Fresno</td>\n",
       "      <td>user@test.com</td>\n",
       "      <td>NaN</td>\n",
       "    </tr>\n",
       "    <tr>\n",
       "      <th>3</th>\n",
       "      <td>Kalyana</td>\n",
       "      <td>Nissankarao</td>\n",
       "      <td>Fresno County Sheriff's Office</td>\n",
       "      <td>user@test.com</td>\n",
       "      <td>NaN</td>\n",
       "    </tr>\n",
       "    <tr>\n",
       "      <th>4</th>\n",
       "      <td>Stan</td>\n",
       "      <td>Shelton</td>\n",
       "      <td>LOJIC</td>\n",
       "      <td>user@test.com</td>\n",
       "      <td>NaN</td>\n",
       "    </tr>\n",
       "  </tbody>\n",
       "</table>\n",
       "</div>"
      ],
      "text/plain": [
       "  First Name    Last Name         Registrant Company Name  \\\n",
       "0  Christina       Kellum             WA Dept. of Ecology   \n",
       "1      Derek      Hoshijo              E & J Gallo Winery   \n",
       "2    Rajaram     Gudipudi                County of Fresno   \n",
       "3    Kalyana  Nissankarao  Fresno County Sheriff's Office   \n",
       "4       Stan      Shelton                           LOJIC   \n",
       "\n",
       "  Registrant E-Mail Address  Unnamed: 4  \n",
       "0             user@test.com         NaN  \n",
       "1             user@test.com         NaN  \n",
       "2             user@test.com         NaN  \n",
       "3             user@test.com         NaN  \n",
       "4             user@test.com         NaN  "
      ]
     },
     "execution_count": 12,
     "metadata": {},
     "output_type": "execute_result"
    }
   ],
   "source": [
    "csv = pd.read_csv('participants.csv')\n",
    "csv.head()"
   ]
  },
  {
   "cell_type": "code",
   "execution_count": 5,
   "metadata": {
    "collapsed": false
   },
   "outputs": [
    {
     "data": {
      "text/html": [
       "<div>\n",
       "<table border=\"1\" class=\"dataframe\">\n",
       "  <thead>\n",
       "    <tr style=\"text-align: right;\">\n",
       "      <th></th>\n",
       "      <th>First Name</th>\n",
       "      <th>Last Name</th>\n",
       "      <th>Registrant Company Name</th>\n",
       "      <th>Registrant E-Mail Address</th>\n",
       "      <th>Unnamed: 4</th>\n",
       "    </tr>\n",
       "  </thead>\n",
       "  <tbody>\n",
       "    <tr>\n",
       "      <th>0</th>\n",
       "      <td>Christina</td>\n",
       "      <td>Kellum</td>\n",
       "      <td>WA Dept. of Ecology</td>\n",
       "      <td>user@test.com</td>\n",
       "      <td>NaN</td>\n",
       "    </tr>\n",
       "    <tr>\n",
       "      <th>1</th>\n",
       "      <td>Derek</td>\n",
       "      <td>Hoshijo</td>\n",
       "      <td>E &amp; J Gallo Winery</td>\n",
       "      <td>user@test.com</td>\n",
       "      <td>NaN</td>\n",
       "    </tr>\n",
       "    <tr>\n",
       "      <th>2</th>\n",
       "      <td>Rajaram</td>\n",
       "      <td>Gudipudi</td>\n",
       "      <td>County of Fresno</td>\n",
       "      <td>user@test.com</td>\n",
       "      <td>NaN</td>\n",
       "    </tr>\n",
       "    <tr>\n",
       "      <th>3</th>\n",
       "      <td>Kalyana</td>\n",
       "      <td>Nissankarao</td>\n",
       "      <td>Fresno County Sheriff's Office</td>\n",
       "      <td>user@test.com</td>\n",
       "      <td>NaN</td>\n",
       "    </tr>\n",
       "    <tr>\n",
       "      <th>4</th>\n",
       "      <td>Stan</td>\n",
       "      <td>Shelton</td>\n",
       "      <td>LOJIC</td>\n",
       "      <td>user@test.com</td>\n",
       "      <td>NaN</td>\n",
       "    </tr>\n",
       "    <tr>\n",
       "      <th>5</th>\n",
       "      <td>Mathias</td>\n",
       "      <td>Gieser</td>\n",
       "      <td>Basin Electric Power Cooperative</td>\n",
       "      <td>user@test.com</td>\n",
       "      <td>NaN</td>\n",
       "    </tr>\n",
       "    <tr>\n",
       "      <th>6</th>\n",
       "      <td>Timothy</td>\n",
       "      <td>Zimmer</td>\n",
       "      <td>Shelby County 911 District</td>\n",
       "      <td>user@test.com</td>\n",
       "      <td>NaN</td>\n",
       "    </tr>\n",
       "    <tr>\n",
       "      <th>7</th>\n",
       "      <td>Alexander</td>\n",
       "      <td>Mogollon</td>\n",
       "      <td>Esri Colombia</td>\n",
       "      <td>user@test.com</td>\n",
       "      <td>NaN</td>\n",
       "    </tr>\n",
       "    <tr>\n",
       "      <th>8</th>\n",
       "      <td>Christina</td>\n",
       "      <td>Kellum</td>\n",
       "      <td>Washington State Dept. of Ecology</td>\n",
       "      <td>user@test.com</td>\n",
       "      <td>NaN</td>\n",
       "    </tr>\n",
       "    <tr>\n",
       "      <th>9</th>\n",
       "      <td>David</td>\n",
       "      <td>Pastizzo</td>\n",
       "      <td>City of Medford</td>\n",
       "      <td>user@test.com</td>\n",
       "      <td>NaN</td>\n",
       "    </tr>\n",
       "    <tr>\n",
       "      <th>10</th>\n",
       "      <td>Cynthia</td>\n",
       "      <td>Davis</td>\n",
       "      <td>City of Corona</td>\n",
       "      <td>user@test.com</td>\n",
       "      <td>NaN</td>\n",
       "    </tr>\n",
       "    <tr>\n",
       "      <th>11</th>\n",
       "      <td>David</td>\n",
       "      <td>Mutibul</td>\n",
       "      <td>esri BeLux</td>\n",
       "      <td>user@test.com</td>\n",
       "      <td>NaN</td>\n",
       "    </tr>\n",
       "    <tr>\n",
       "      <th>12</th>\n",
       "      <td>Kanne</td>\n",
       "      <td>Ikwuezunma</td>\n",
       "      <td>Allworld Project Management, LLC</td>\n",
       "      <td>user@test.com</td>\n",
       "      <td>NaN</td>\n",
       "    </tr>\n",
       "    <tr>\n",
       "      <th>13</th>\n",
       "      <td>Jeremy</td>\n",
       "      <td>Fontenault</td>\n",
       "      <td>RPS ASA</td>\n",
       "      <td>user@test.com</td>\n",
       "      <td>NaN</td>\n",
       "    </tr>\n",
       "    <tr>\n",
       "      <th>14</th>\n",
       "      <td>Paul</td>\n",
       "      <td>Haakma</td>\n",
       "      <td>GPS-it</td>\n",
       "      <td>user@test.com</td>\n",
       "      <td>NaN</td>\n",
       "    </tr>\n",
       "    <tr>\n",
       "      <th>15</th>\n",
       "      <td>Nathan</td>\n",
       "      <td>Heick</td>\n",
       "      <td>Los Angeles County Sanitation Districts</td>\n",
       "      <td>user@test.com</td>\n",
       "      <td>NaN</td>\n",
       "    </tr>\n",
       "    <tr>\n",
       "      <th>16</th>\n",
       "      <td>Burt</td>\n",
       "      <td>McAlpine</td>\n",
       "      <td>JULIE Inc.</td>\n",
       "      <td>user@test.com</td>\n",
       "      <td>NaN</td>\n",
       "    </tr>\n",
       "    <tr>\n",
       "      <th>17</th>\n",
       "      <td>Samuel</td>\n",
       "      <td>Valdez</td>\n",
       "      <td>City and County of San Francisco</td>\n",
       "      <td>user@test.com</td>\n",
       "      <td>NaN</td>\n",
       "    </tr>\n",
       "    <tr>\n",
       "      <th>18</th>\n",
       "      <td>Vassilo</td>\n",
       "      <td>Walluschnig</td>\n",
       "      <td>Esri South Africa</td>\n",
       "      <td>user@test.com</td>\n",
       "      <td>NaN</td>\n",
       "    </tr>\n",
       "    <tr>\n",
       "      <th>19</th>\n",
       "      <td>Shaunak</td>\n",
       "      <td>Vairagare</td>\n",
       "      <td>TBG @ NOAA</td>\n",
       "      <td>user@test.com</td>\n",
       "      <td>NaN</td>\n",
       "    </tr>\n",
       "    <tr>\n",
       "      <th>20</th>\n",
       "      <td>Will</td>\n",
       "      <td>Allender</td>\n",
       "      <td>E. &amp; J. Gallo Winery</td>\n",
       "      <td>user@test.com</td>\n",
       "      <td>NaN</td>\n",
       "    </tr>\n",
       "    <tr>\n",
       "      <th>21</th>\n",
       "      <td>Heinrich</td>\n",
       "      <td>Langenhoven</td>\n",
       "      <td>GISCOE</td>\n",
       "      <td>user@test.com</td>\n",
       "      <td>NaN</td>\n",
       "    </tr>\n",
       "    <tr>\n",
       "      <th>22</th>\n",
       "      <td>Ellie</td>\n",
       "      <td>Maclin</td>\n",
       "      <td>Allworld Project Management, LLC</td>\n",
       "      <td>user@test.com</td>\n",
       "      <td>NaN</td>\n",
       "    </tr>\n",
       "    <tr>\n",
       "      <th>23</th>\n",
       "      <td>Hunter</td>\n",
       "      <td>Allen</td>\n",
       "      <td>NOAA Climate Program Office</td>\n",
       "      <td>user@test.com</td>\n",
       "      <td>NaN</td>\n",
       "    </tr>\n",
       "    <tr>\n",
       "      <th>24</th>\n",
       "      <td>NaN</td>\n",
       "      <td>NaN</td>\n",
       "      <td>NaN</td>\n",
       "      <td>NaN</td>\n",
       "      <td>NaN</td>\n",
       "    </tr>\n",
       "  </tbody>\n",
       "</table>\n",
       "</div>"
      ],
      "text/plain": [
       "   First Name    Last Name                  Registrant Company Name  \\\n",
       "0   Christina       Kellum                      WA Dept. of Ecology   \n",
       "1       Derek      Hoshijo                       E & J Gallo Winery   \n",
       "2     Rajaram     Gudipudi                         County of Fresno   \n",
       "3     Kalyana  Nissankarao           Fresno County Sheriff's Office   \n",
       "4        Stan      Shelton                                    LOJIC   \n",
       "5     Mathias       Gieser         Basin Electric Power Cooperative   \n",
       "6     Timothy       Zimmer               Shelby County 911 District   \n",
       "7   Alexander     Mogollon                            Esri Colombia   \n",
       "8   Christina       Kellum        Washington State Dept. of Ecology   \n",
       "9       David     Pastizzo                          City of Medford   \n",
       "10    Cynthia        Davis                           City of Corona   \n",
       "11      David      Mutibul                               esri BeLux   \n",
       "12      Kanne   Ikwuezunma         Allworld Project Management, LLC   \n",
       "13     Jeremy   Fontenault                                  RPS ASA   \n",
       "14       Paul       Haakma                                   GPS-it   \n",
       "15     Nathan        Heick  Los Angeles County Sanitation Districts   \n",
       "16       Burt     McAlpine                               JULIE Inc.   \n",
       "17     Samuel       Valdez         City and County of San Francisco   \n",
       "18    Vassilo  Walluschnig                        Esri South Africa   \n",
       "19    Shaunak    Vairagare                               TBG @ NOAA   \n",
       "20       Will     Allender                     E. & J. Gallo Winery   \n",
       "21   Heinrich  Langenhoven                                   GISCOE   \n",
       "22      Ellie       Maclin         Allworld Project Management, LLC   \n",
       "23     Hunter        Allen              NOAA Climate Program Office   \n",
       "24        NaN          NaN                                      NaN   \n",
       "\n",
       "   Registrant E-Mail Address  Unnamed: 4  \n",
       "0              user@test.com         NaN  \n",
       "1              user@test.com         NaN  \n",
       "2              user@test.com         NaN  \n",
       "3              user@test.com         NaN  \n",
       "4              user@test.com         NaN  \n",
       "5              user@test.com         NaN  \n",
       "6              user@test.com         NaN  \n",
       "7              user@test.com         NaN  \n",
       "8              user@test.com         NaN  \n",
       "9              user@test.com         NaN  \n",
       "10             user@test.com         NaN  \n",
       "11             user@test.com         NaN  \n",
       "12             user@test.com         NaN  \n",
       "13             user@test.com         NaN  \n",
       "14             user@test.com         NaN  \n",
       "15             user@test.com         NaN  \n",
       "16             user@test.com         NaN  \n",
       "17             user@test.com         NaN  \n",
       "18             user@test.com         NaN  \n",
       "19             user@test.com         NaN  \n",
       "20             user@test.com         NaN  \n",
       "21             user@test.com         NaN  \n",
       "22             user@test.com         NaN  \n",
       "23             user@test.com         NaN  \n",
       "24                       NaN         NaN  "
      ]
     },
     "execution_count": 5,
     "metadata": {},
     "output_type": "execute_result"
    }
   ],
   "source": [
    "csv"
   ]
  },
  {
   "cell_type": "code",
   "execution_count": 13,
   "metadata": {
    "collapsed": false
   },
   "outputs": [
    {
     "data": {
      "text/plain": [
       "(25, 5)"
      ]
     },
     "execution_count": 13,
     "metadata": {},
     "output_type": "execute_result"
    }
   ],
   "source": [
    "csv.shape"
   ]
  },
  {
   "cell_type": "markdown",
   "metadata": {},
   "source": [
    "### Create users\n",
    "We are using '1'+email address for password"
   ]
  },
  {
   "cell_type": "code",
   "execution_count": 7,
   "metadata": {
    "collapsed": false
   },
   "outputs": [
    {
     "name": "stdout",
     "output_type": "stream",
     "text": [
      "Creating user : Christina.Kellum\n",
      "Creating user : Derek.Hoshijo\n",
      "Creating user : Rajaram.Gudipudi\n",
      "Creating user : Kalyana.Nissankarao\n",
      "Creating user : Stan.Shelton\n",
      "Creating user : Mathias.Gieser\n",
      "Creating user : Timothy.Zimmer\n",
      "Creating user : Alexander.Mogollon\n",
      "Creating user : Christina.Kellum\n"
     ]
    },
    {
     "name": "stderr",
     "output_type": "stream",
     "text": [
      "java.lang.Exception: The server at 'https://10.0.0.157:7443/arcgis/sharing/rest/community/createUser' returned an error. The user already exists.  Please check the username and try again. []\n"
     ]
    },
    {
     "name": "stdout",
     "output_type": "stream",
     "text": [
      "error: java.lang.Exception: The server at 'https://10.0.0.157:7443/arcgis/sharing/rest/community/createUser' returned an error. The user already exists.  Please check the username and try again. []\n",
      "(Error Code: 500)\n",
      "Creating user : David.Pastizzo\n",
      "Creating user : Cynthia.Davis\n",
      "Creating user : David.Mutibul\n",
      "Creating user : Kanne.Ikwuezunma\n",
      "Creating user : Jeremy.Fontenault\n",
      "Creating user : Paul.Haakma\n",
      "Creating user : Nathan.Heick\n",
      "Creating user : Burt.McAlpine\n",
      "Creating user : Samuel.Valdez\n",
      "Creating user : Vassilo.Walluschnig\n",
      "Creating user : Shaunak.Vairagare\n",
      "Creating user : Will.Allender\n",
      "Creating user : Heinrich.Langenhoven\n",
      "Creating user : Ellie.Maclin\n",
      "Creating user : Hunter.Allen\n",
      "Creating user : nan.nan\n",
      "error: unsupported operand type(s) for +: 'float' and 'str'\n"
     ]
    }
   ],
   "source": [
    "for index, row in csv.iterrows():\n",
    "    try:\n",
    "        print('Creating user : {}.{}'.format(row['First Name'], row['Last Name']))\n",
    "        result = gis.users.create(username = row['First Name'] + \".\" + row['Last Name'],\n",
    "                                 password= \"1\"+ row['First Name']+\".\"+row['Last Name'],\n",
    "                                 firstname= row['First Name'],\n",
    "                                 lastname= row['Last Name'],\n",
    "                                 email= row['Registrant E-Mail Address'],\n",
    "                                 role = 'org_admin')\n",
    "    except Exception as ex:\n",
    "        print(\"error: \" + str(ex))"
   ]
  },
  {
   "cell_type": "markdown",
   "metadata": {},
   "source": [
    "#### Clean up"
   ]
  },
  {
   "cell_type": "code",
   "execution_count": null,
   "metadata": {
    "collapsed": false
   },
   "outputs": [
    {
     "name": "stderr",
     "output_type": "stream",
     "text": [
      "Unable to delete user. Admins cannot delete themselves.\n"
     ]
    },
    {
     "name": "stdout",
     "output_type": "stream",
     "text": [
      "error deleting admin\n"
     ]
    }
   ],
   "source": [
    "for user in gis.users.search():\n",
    "    # delete user's contents\n",
    "    for item in user.items():\n",
    "        try:\n",
    "            item.delete()\n",
    "        except:\n",
    "            print(\"error deleting \" + item.title)\n",
    "            continue\n",
    "    #now delete the user\n",
    "    try:\n",
    "        user.delete()\n",
    "    except:\n",
    "        print(\"error deleting \" + user.username)\n",
    "        continue"
   ]
  },
  {
   "cell_type": "code",
   "execution_count": 33,
   "metadata": {
    "collapsed": false
   },
   "outputs": [
    {
     "data": {
      "text/plain": [
       "[<User username:admin>,\n",
       " <User username:esri_boundaries>,\n",
       " <User username:esri_demographics>,\n",
       " <User username:esri_livingatlas>,\n",
       " <User username:esri_nav>]"
      ]
     },
     "execution_count": 33,
     "metadata": {},
     "output_type": "execute_result"
    }
   ],
   "source": [
    "gis.users.search()"
   ]
  },
  {
   "cell_type": "code",
   "execution_count": null,
   "metadata": {
    "collapsed": true
   },
   "outputs": [],
   "source": []
  }
 ],
 "metadata": {
  "kernelspec": {
   "display_name": "Python 3",
   "language": "python",
   "name": "python3"
  },
  "language_info": {
   "codemirror_mode": {
    "name": "ipython",
    "version": 3
   },
   "file_extension": ".py",
   "mimetype": "text/x-python",
   "name": "python",
   "nbconvert_exporter": "python",
   "pygments_lexer": "ipython3",
   "version": "3.5.3"
  }
 },
 "nbformat": 4,
 "nbformat_minor": 2
}
