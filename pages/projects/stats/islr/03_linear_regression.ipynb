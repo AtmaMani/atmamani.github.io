{
 "cells": [
  {
   "cell_type": "markdown",
   "metadata": {
    "toc": true
   },
   "source": [
    "<h1>**Table of Contents**<span class=\"tocSkip\"></span></h1>\n",
    "<div class=\"toc\"><ul class=\"toc-item\"><li><span><a href=\"#Chapter-3---Linear-regression\" data-toc-modified-id=\"Chapter-3---Linear-regression-1\">Chapter 3 - Linear regression</a></span><ul class=\"toc-item\"><li><span><a href=\"#Standard-error\" data-toc-modified-id=\"Standard-error-1.1\">Standard error</a></span></li><li><span><a href=\"#Applications-of-Standard-Error\" data-toc-modified-id=\"Applications-of-Standard-Error-1.2\">Applications of Standard Error</a></span></li><li><span><a href=\"#Multiple-Linear-Regression\" data-toc-modified-id=\"Multiple-Linear-Regression-1.3\">Multiple Linear Regression</a></span><ul class=\"toc-item\"><li><span><a href=\"#What-to-look-for-in-multiple-linear-regression\" data-toc-modified-id=\"What-to-look-for-in-multiple-linear-regression-1.3.1\">What to look for in multiple linear regression</a></span><ul class=\"toc-item\"><li><span><a href=\"#1.-Is-there-a-relationship-between-response-and-predictor-variables\" data-toc-modified-id=\"1.-Is-there-a-relationship-between-response-and-predictor-variables-1.3.1.1\">1. Is there a relationship between response and predictor variables</a></span></li></ul></li></ul></li></ul></li><li><span><a href=\"#Hallmarks-of-a-valid-regression-analysis\" data-toc-modified-id=\"Hallmarks-of-a-valid-regression-analysis-2\">Hallmarks of a valid regression analysis</a></span><ul class=\"toc-item\"><li><ul class=\"toc-item\"><li><span><a href=\"#What-to-put-in-a-regression-output\" data-toc-modified-id=\"What-to-put-in-a-regression-output-2.0.1\">What to put in a regression output</a></span><ul class=\"toc-item\"><li><span><a href=\"#R-squared\" data-toc-modified-id=\"R-squared-2.0.1.1\">R-squared</a></span></li><li><span><a href=\"#S---Standard-error-in-Regression\" data-toc-modified-id=\"S---Standard-error-in-Regression-2.0.1.2\"><code>S</code> - Standard error in Regression</a></span></li><li><span><a href=\"#Confidence-intervals\" data-toc-modified-id=\"Confidence-intervals-2.0.1.3\">Confidence intervals</a></span></li></ul></li><li><span><a href=\"#Problems\" data-toc-modified-id=\"Problems-2.0.2\">Problems</a></span></li></ul></li><li><span><a href=\"#How-to-interpret-a-regression-analysis\" data-toc-modified-id=\"How-to-interpret-a-regression-analysis-2.1\">How to interpret a regression analysis</a></span><ul class=\"toc-item\"><li><span><a href=\"#P-values\" data-toc-modified-id=\"P-values-2.1.1\">P-values</a></span></li><li><span><a href=\"#Coefficients\" data-toc-modified-id=\"Coefficients-2.1.2\">Coefficients</a></span></li><li><span><a href=\"#R-squared\" data-toc-modified-id=\"R-squared-2.1.3\">R-squared</a></span></li><li><span><a href=\"#S\" data-toc-modified-id=\"S-2.1.4\">S</a></span></li><li><span><a href=\"#Explaining-a-regression-analysis\" data-toc-modified-id=\"Explaining-a-regression-analysis-2.1.5\">Explaining a regression analysis</a></span></li></ul></li></ul></li><li><span><a href=\"#Types-of-regression-analysis\" data-toc-modified-id=\"Types-of-regression-analysis-3\">Types of regression analysis</a></span><ul class=\"toc-item\"><li><ul class=\"toc-item\"><li><ul class=\"toc-item\"><li><span><a href=\"#Predicting-categorical-response-variable:\" data-toc-modified-id=\"Predicting-categorical-response-variable:-3.0.0.1\">Predicting categorical response variable:</a></span></li><li><span><a href=\"#Regressing-a-continuous-response:\" data-toc-modified-id=\"Regressing-a-continuous-response:-3.0.0.2\">Regressing a continuous response:</a></span></li></ul></li></ul></li><li><span><a href=\"#Linear-vs-Non-linear-regression-vs-Transformation\" data-toc-modified-id=\"Linear-vs-Non-linear-regression-vs-Transformation-3.1\">Linear vs Non linear regression vs Transformation</a></span><ul class=\"toc-item\"><li><span><a href=\"#Reciprocal-transformation\" data-toc-modified-id=\"Reciprocal-transformation-3.1.1\">Reciprocal transformation</a></span></li><li><span><a href=\"#Log-transformation\" data-toc-modified-id=\"Log-transformation-3.1.2\">Log transformation</a></span></li><li><span><a href=\"#Non-linear-models\" data-toc-modified-id=\"Non-linear-models-3.1.3\">Non-linear models</a></span></li></ul></li></ul></li></ul></div>"
   ]
  },
  {
   "cell_type": "markdown",
   "metadata": {},
   "source": [
    "# Chapter 3 - Linear regression\n",
    "\n",
    "**ToC**\n",
    " - [Standard error](#Standard-error)\n",
    "  - [Applications of standard error](#Applications-of-Standard-Error)\n",
    " - [Hallmarks of a valid regression analysis](#Hallmarks-of-a-valid-regression-analysis)\n",
    "   - [What to put in a regression output](#What-to-put-in-a-regression-output)\n",
    "   - [R-squared](#R-squared)\n",
    "   - [S - Std. Error in regression](#S---Standard-error-in-Regression)\n",
    " - [Problems in regression](#Problems)\n",
    " - [Types of regression analysis](#Types-of-regression-analysis)\n",
    "   - [Linear vs Non-linear vs Transformations](#Linear-vs-Non-linear-regression-vs-Transformation)"
   ]
  },
  {
   "cell_type": "markdown",
   "metadata": {},
   "source": [
    "Mathematically, a linear relationship between `X` and `Y` can be written as \n",
    "$$Y \\approx \\beta_{0} + \\beta_{1}X$$\n",
    "\n",
    "$\\beta_{0}$ and $\\beta_{1}$ represent the intercept and slope. They are the model coefficients or parameters. Through regression we estimate these parameters. The estimates are represented as $\\hat\\beta_{0}$ and $\\hat\\beta_{1}$. Thus,\n",
    "\n",
    "$$\\hat y = \\hat\\beta_{0} + \\hat\\beta_{1}x$$\n",
    "\n",
    "We estimate $\\hat\\beta_{0}$ and $\\hat\\beta_{1}$ using `least squared regression`. This technique forms a line that minimizes average squared error for all data points. Each point is weighed equally. If \n",
    "\n",
    "$$\\hat y_{i} = \\hat\\beta_{0} + \\hat\\beta_{1}x_{i}$$\n",
    "is the prediction for `i`th value pair of x, y, then the error is calculated as \n",
    "$$e_{i} = y_{i} - \\hat y_{i}$$. This error is also called a `residual`. This the **residual sum of squares (RSS)** is calculated as\n",
    "$$RSS = e_{1}^{2} + e_{2}^{2}... + e_{i}^{2}$$\n",
    "\n",
    "Thus if the relationship between $X$ and $Y$ is approximately linear, then we can write:\n",
    "$$Y = \\beta_{0} + \\beta_{1}X + \\epsilon$$\n",
    "\n",
    "where $\\epsilon$ is the catch-all error that is introduced in forcing a linear fit for the model. The above equation is the population regression line. In reality, this is not known (unless you synthesize data using this model). In practice, you estimate the population regression with a smaller subset of datasets.\n",
    "\n",
    "Using **Central Limit Theorem**, we know the average of a number of sample regression coefficients, predict the population coefficients pretty closely. Proof is availble [here](verifying_clt_in_regression.html)."
   ]
  },
  {
   "cell_type": "markdown",
   "metadata": {},
   "source": [
    "## Standard error\n",
    "By averaging a number of estimations of $\\hat\\beta_{0}$ and $\\hat\\beta_{1}$, we are able to estimate the population coefficients in an **unbiased** manner. Averaging will greatly reduce any systematic over or under estimations when choosing a small sample.\n",
    "\n",
    "Now, how far will a single estimate of $\\hat\\beta_{0}$ be from the actual $\\beta_{0}$? We can calculate it using **standard error**. \n",
    "\n",
    "To understand **standard error** let us consider the simple case of estimating population mean using a number of smaller samples. The standard error in a statistic (mean in this case) can be written as:\n",
    "\n",
    "$$ SE(\\hat\\mu) = \\frac{\\sigma}{\\sqrt{n}}$$\n",
    "where $\\hat\\mu$ is the estimate for which we calculate the standard error for (sample mean in this case), $\\sigma$ is the standard deviation of the **population** and $n$ is the size of the sample you draw each time.\n",
    "\n",
    "The SE of $\\hat\\mu$ is the same as the **Standard Deviation** of the sampling distribution of a number of sample means. Thus, the above equation gives the relationship between **sample mean** and **population mean** and **sample size** and how far will the sample mean be off. Thus:\n",
    "\n",
    "$$ SD(\\hat\\mu) = SE(\\hat\\mu) = \\frac{\\sigma}{\\sqrt n}$$\n",
    "\n",
    "Note, SE is likely to be smaller if you have a large sample. The value of SE is the **average amount your $\\hat\\mu$ deviates from $\\mu$**.\n",
    "\n",
    "In reality, you don't have $\\sigma$ or $\\mu$. Thus, using the SE formula, we can calculate the SD of population as:\n",
    "\n",
    "$$\\sigma = \\sigma_{\\hat\\mu}*\\sqrt n $$"
   ]
  },
  {
   "cell_type": "markdown",
   "metadata": {},
   "source": [
    "## Applications of Standard Error\n",
    "**Confidence Intervals**: SE is used to compute `CI`. A `95`% CI is defined as the range of values such that with `95`% probability, the range will contain the true unknown value of the parameter. Similar is `99`% CI. Thus, `95`% CI for $\\beta_{1}$ is written as\n",
    "\n",
    "$$\n",
    "\\hat \\beta_{1} \\pm 2 * SE(\\hat \\beta_{1})\n",
    "$$\n",
    "Same for $\\beta_{0}$.\n",
    "\n",
    "**Hypothesis tests**: SE is also used to perform hypothesis tests on coefficients. Commonly,\n",
    " - null hypothesis: $H_{0}$: there is no relationship between X and Y - meaning $\\beta_{1} \\ = \\ 0$\n",
    " - alternate hypothesis: $H_{a}$: there is some significant relationship\n",
    " \n",
    "To disprove $H_{0}$, we need\n",
    " - $\\hat \\beta_{1}$ to be sufficiently large: (either positive or negative), or,\n",
    " - $SE(\\hat \\beta_{1})$ to be small, then even relatively small values of $\\hat \\beta_{1}$ would be statistically significant. Else, slope has to be really large.\n",
    " \n",
    "We compute `t-statistic` to evaluate the significance of $\\beta$, which is similar to computing `z scores`.\n",
    "$$\n",
    "t \\ = \\ \\frac{\\hat \\beta_{1} - 0}{SE(\\hat \\beta_{1})}\n",
    "$$\n",
    "We get scores for `t` distribution. **t** follows **standard normal** for `n>30`. The `p-value` we get is used to evaluate the significance of the estimate. A small `p-value` indicates the relationship between predictor and response is unlikely to be by chance.\n",
    "\n",
    "To reject the **null hypothesis**, we need a `p-value < 0.005` and `t-statistic < 2`"
   ]
  },
  {
   "cell_type": "markdown",
   "metadata": {},
   "source": [
    "## Multiple Linear Regression\n",
    "To fit the effects of multiple predictors, we extend the simple linear model by providing a coefficient for each predictor. Thus:\n",
    "\n",
    "$$\n",
    "Y = \\beta_{0} + \\beta_{1}X_{1} + \\beta_{2}X_{2} + ... + \\beta_{p}X_{p} + \\epsilon\n",
    "$$\n",
    "\n",
    "we interpret $\\beta_{p}$ as the average effect on $Y$ that predictor variable has **when holding all other variables constant**."
   ]
  },
  {
   "cell_type": "markdown",
   "metadata": {},
   "source": [
    "### What to look for in multiple linear regression\n",
    "#### 1. Is there a relationship between response and predictor variables\n",
    "We run hypothesis tests, just that, $H_{0}$ checks for all coefficients to be `0` and $H_{a}$ checks for at least one of $\\beta_{p}$ is non zero. \n",
    "\n",
    "$$\n",
    "H_{0} = \\beta_{1} = \\beta_{2} = \\beta_{p} = 0\n",
    "$$\n",
    "\n",
    "In simple linear regression, the hypothesis tests were conducted against a **t distribution**, where as in multiple linear regression, we compute a **F distribution**. The `p-value`s are against this `F` distribution.\n",
    "\n"
   ]
  },
  {
   "cell_type": "markdown",
   "metadata": {},
   "source": [
    "-----------------------------\n",
    "# Hallmarks of a valid regression analysis\n",
    "**Source**: [Regression tutorial from Minitab](http://blog.minitab.com/blog/adventures-in-statistics-2/regression-analysis-tutorial-and-examples)\n",
    "\n",
    "Applications of regression analysis:\n",
    " - multiple predictor variables\n",
    " - continuous and categorical variables\n",
    " - higher-order terms to model curvature\n",
    " - interaction terms to see if the effect of one predictor depends upon the value of another\n",
    "\n",
    "### What to put in a regression output\n",
    " - Coefficients of each predictors. The coefficients indicate how influential a predictor is.\n",
    " - Std. Error $S$ of coefficients\n",
    " - `p-value` of each coefficient. A low `p-value`, (lower than `0.05`) indicates the confidence in predicting the coefficient.\n",
    " - `95%` CI of each coefficient prediction\n",
    " - **residual plots** \n",
    "   - **Fitted vs Residual** plot to ensure the residuals don't follow any pattern. Residuals should be random around the prediction line, with `mean=0`). If residuals follow a pattern, then the model is missing or leaking some phenomena into the error term. You may be missing an important predictor variable.\n",
    "   - **QQ plot of residuals** against standard normal to assess normalcy of residuals\n",
    "   - **histograms of residuals** can also be used to assess normalcy.\n",
    "\n",
    "Example from Minitab\n",
    "![](https://blog.minitab.com/hubfs/Imported_Blog_Media/binary_output_2.gif?t=1534779282249)\n",
    "\n",
    "#### R-squared\n",
    "$R^2$ is calculated as the ratio of variance in predicted `Y` to actual `Y`. In other words, it compares the distance between actual values to mean vs predicted values to mean.\n",
    "$$\n",
    "R^2 = \\frac{(\\hat y - \\bar y)^2}{(y-\\bar y)^2}\n",
    "$$\n",
    "\n",
    "$R^2$ measures the strength of the relationship between predictors and response. It ranges from `0-100%` or `0-1`. \n",
    "\n",
    "$R^2$ is limited, it cannot quite tell you if the model is systematically under or over predicting values. Since it compares deviation from mean, if values fall farther from regression line, yet keep the same variation from mean as actual, then $R^2$ is high. However, this does not mean the model is a good fit.\n",
    "\n",
    "Since it is inherently biased, some researchers don't use this at all.\n",
    "\n",
    "#### `S` - Standard error in Regression\n",
    "A better estimate of regression is **Standard Error** (also called RSE - residual standard error) which measures **average distance each actual value falls from regression line**. It is calculated as below:\n",
    "\n",
    "$$\n",
    "S = \\sqrt{\\frac{\\sum (\\hat y -y)^2}{n-2}}\n",
    "$$\n",
    "\n",
    "`S` represents, in the units of predicted variable, **on average** how far the actual values fall from prediction.\n",
    "![](https://blog.minitab.com/hubfs/Imported_Blog_Media/bmi_flp.gif?t=1534800995936)\n",
    "\n",
    "#### Confidence intervals\n",
    "Approximately `95%` of predictions fall within $\\pm 2 standard error$ of regression from regression line.\n",
    "\n",
    "### Problems\n",
    "**Multicollinearity** is when predictors are correlated. In ideal case, each predictor should be independent which helps us properly assess their individual influence on the phenomena."
   ]
  },
  {
   "cell_type": "markdown",
   "metadata": {},
   "source": [
    "## How to interpret a regression analysis"
   ]
  },
  {
   "cell_type": "markdown",
   "metadata": {},
   "source": [
    "### P-values\n",
    "The `p-value` of a coefficient is the probability of \n",
    " - $H_{0} \\ = \\ 0$ : Null hypothesis that coefficient is 0. That is, it has no effect on the model / phenomena\n",
    " - $\\alpha$ is the threshold you set to determine what is statistically significant. By convention it is `0.95` for `p-values`.\n",
    "Thus, those coefficents whose `p-value`s are less than $\\alpha$ have a significant coefficient. The size of the coefficient determines their influence on the model itself, not the `p-value`.\n",
    "\n",
    "When you simplify your model (step-wise forward or hierarchical), you start by removing those predictors whose `p-value` is greater than $\\alpha$.\n",
    "\n",
    "### Coefficients\n",
    "Regression coefficients represent the mean value by which the predicted variable will change for `1` unit change in that particular predictor variable while holding all other variables constant. Thus, regression provides a high level of explainability associated with each variable and its influence on the phenomena.\n",
    "\n",
    "### R-squared\n",
    "As said before, $R^{2}$ measures the variability of predicted data vs actual data with mean. It can be interpreted as proportion of variability in Y that can be explained using X. A regression with **high `p-value` and low $R^{2}$** is problematic. What this means is the trend (slope) is significant where as the data has a lot of inherent variability that the model does not explain well.\n",
    "\n",
    "In the case of simple linear regression, $R^{2}$ equals the **correlation coefficient** $r$. However, in multiple linear regression, this relationship does not extend.\n",
    "\n",
    "### S\n",
    "The Std. Error in regression (also called as `RSE` (residual standard error)) quantifies how far the points are spread from the regression line. This also helps build the prediction interval and understand what the error would be on average when you predict unknown dataset.\n",
    "\n",
    "`RSE` takes the unit of predicted variable. Determining whether or not an `RSE` is good depends on the problem context.\n",
    "\n",
    "### Explaining a regression analysis\n",
    "[Resource](http://blog.minitab.com/blog/adventures-in-statistics-2/how-to-identify-the-most-important-predictor-variables-in-regression-models) Follow the axioms below when you try to explain a regression analysis\n",
    " - do not use `p-value` to explain influence of a predictor. `p-value` only suggests the significance of the coefficient not being `0`\n",
    " - do not compare the importance of two predictors based on their coefficients (slopes). The variables might be in different units and hence may not be a fair comparison\n",
    " - To compare predictors, **standardize** them (subtract mean and divide by SD -> **transform to std. normal Z scores**)\n",
    " - Now compare the coefficients for influence.\n",
    " - When you add more variables to the model, the $R^{2}$ increases, but this does not mean the model improves. In this case, calculate the **adj.$R^{2}$** which accounts for this.\n",
    " - Another approach is, when you build the model step-wise, find the variable that accounts for greatest increase in $R^{2}$ value. That is the most influential predictor.\n",
    " - Another adavantage of standardization is it reduces **multicollinearity**"
   ]
  },
  {
   "cell_type": "markdown",
   "metadata": {},
   "source": [
    "--------------------"
   ]
  },
  {
   "cell_type": "markdown",
   "metadata": {},
   "source": [
    "# Types of regression analysis\n",
    "[Resource - minitab blog](http://blog.minitab.com/blog/statistics-and-quality-data-analysis/giving-thanks-for-the-regression-menu-v2)\n",
    "#### Predicting categorical response variable:\n",
    "\n",
    " - **binary logistic regression**: response falls into one of two categories (Yes or No)\n",
    " - **ordinal logistic regression**: response is in categories (discrete) and can be ordered from least to greatest\n",
    " - **nominal logistic regression**: response is in categories (discrete) and not follow any order.\n",
    "\n",
    "#### Regressing a continuous response:\n",
    "The response is on a continuous scale.\n",
    "\n",
    " - **OLS - ordinary least squares regression**: Linear and multiple regressions. One or more continuous predictors and a continuous response. Note: here, the predictors are also continuous, not categorical.\n",
    " - **Stepwise regession**: This is a technique to find influential predictors, not a type of regression. Methods include forward selection, backward elimination.\n",
    " - **Nonlinear regression**: use a non-linear function to model a set of continuous predictors and predict continuous response variable."
   ]
  },
  {
   "cell_type": "markdown",
   "metadata": {},
   "source": [
    "## Linear vs Non linear regression vs Transformation\n",
    "Contrary to popular belief, linear regression can produce curved fits! An equation is considered non linear when the predictor variables are multiplicative rather than additive. Using log, quadratic, cubic functions, you can produce a curved linear fit.\n",
    "\n",
    "In general, you choose the order of the equation **based on number of curves you need** in the fit.\n",
    "\n",
    "![](https://atmamani.github.io/img/model-order-vs-curves.png)"
   ]
  },
  {
   "cell_type": "markdown",
   "metadata": {},
   "source": [
    "As you see, quadratic produces 1 curve while cubic produces 2 curves.\n",
    "\n",
    "### Reciprocal transformation\n",
    "As X increases, if your data (Y) descends to floor or ascends to a ceiling and flat lines, then the effect of X **flattens out** as it increases. In these cases, you can do a **reciprocal** of X and fit against it. Sometimes a quadratic fit of reciprocal of X would be a good fit.\n",
    "\n",
    "### Log transformation\n",
    "Log transform can rescue a model from non-linear to linear territory. When you take log on both sides of equation, multiplication signs become additions and exponential signs become multiplications.\n",
    "\n",
    "For instance:\n",
    "$$\n",
    "Y = e^{B_{0}}X_{1}^{B_{1}}X_{2}^{B_{2}}\n",
    "$$\n",
    "transforms to below when you take log on both sides (double-log form):\n",
    "$$\n",
    "Ln Y = B_{0} + B_{1}lnX_{1} + B_{2}lnX_{2}\n",
    "$$"
   ]
  },
  {
   "cell_type": "markdown",
   "metadata": {},
   "source": [
    "### Non-linear models\n",
    "Non linear models have predictors that in product with each other. In general, nonlinear models can take any number of formats. The trick is to finding one that will fit the data. Some limits of non-linear models\n",
    " - lack of interpretability. You cannot clearly state the influence each predictors have on the phenomena\n",
    " - You cannot find `p-values` and `CI` for the coefficients.\n",
    " - You don't have $R^2$ statistic to evaluate the goodness of fit."
   ]
  },
  {
   "cell_type": "code",
   "execution_count": null,
   "metadata": {},
   "outputs": [],
   "source": []
  }
 ],
 "metadata": {
  "kernelspec": {
   "display_name": "Python 3",
   "language": "python",
   "name": "python3"
  },
  "language_info": {
   "codemirror_mode": {
    "name": "ipython",
    "version": 3
   },
   "file_extension": ".py",
   "mimetype": "text/x-python",
   "name": "python",
   "nbconvert_exporter": "python",
   "pygments_lexer": "ipython3",
   "version": "3.6.5"
  },
  "toc": {
   "base_numbering": 1,
   "nav_menu": {},
   "number_sections": false,
   "sideBar": true,
   "skip_h1_title": false,
   "title_cell": "**Table of Contents**",
   "title_sidebar": "Contents",
   "toc_cell": true,
   "toc_position": {
    "height": "calc(100% - 180px)",
    "left": "10px",
    "top": "150px",
    "width": "224px"
   },
   "toc_section_display": true,
   "toc_window_display": true
  }
 },
 "nbformat": 4,
 "nbformat_minor": 2
}
