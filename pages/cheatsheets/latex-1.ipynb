{
 "cells": [
  {
   "cell_type": "markdown",
   "metadata": {},
   "source": [
    "# Latex notations in Jupyter notebooks\n",
    "This cheetsheet covers how to write equations and math symbols in Notebooks.\n",
    "\n",
    "## Help docs\n",
    " - [Udacity blog](http://data-blog.udacity.com/posts/2016/10/latex-primer/)"
   ]
  },
  {
   "cell_type": "markdown",
   "metadata": {},
   "source": [
    "## How to write tex notations\n",
    "\n",
    "### In-line notations\n",
    "Wrap your equation with `$ ... $`\n",
    "\n",
    "### Whole line notations\n",
    "Wrap your segments with `$$ ... $$`"
   ]
  },
  {
   "cell_type": "markdown",
   "metadata": {},
   "source": [
    "## Math symbols\n",
    " - Write brackets {} as `\\{ and \\}`\n",
    " - write **spaces** as ~ for a single space\n",
    " - write most math symbols using intuitive names. For instance, write phi as `$ \\phi $`  : $\\phi$\n",
    " - to negate a symbol, prefix it with `\\not`. For instance, for not subset, write as `$A \\not\\subset B$` which results in $A \\not\\subset B$\n",
    " - write **fractions** as `\\frac{x}{y}` to represent x over y: $\\frac{x}{y}$\n",
    " - write **subscript** as `_{}` and superscript as `^{}`. For instance `$P_{23}$` for $P_{23}$ and `$P^{34}$` for $P^{34}$\n",
    " - write **new line** with two \\\\\n",
    " - write **decorations** prefixing teh symbol. For instance for ** x bar** write as `\\bar x`: $\\bar x$"
   ]
  },
  {
   "cell_type": "code",
   "execution_count": null,
   "metadata": {
    "collapsed": true
   },
   "outputs": [],
   "source": []
  }
 ],
 "metadata": {
  "kernelspec": {
   "display_name": "Python 3",
   "language": "python",
   "name": "python3"
  },
  "language_info": {
   "codemirror_mode": {
    "name": "ipython",
    "version": 3
   },
   "file_extension": ".py",
   "mimetype": "text/x-python",
   "name": "python",
   "nbconvert_exporter": "python",
   "pygments_lexer": "ipython3",
   "version": "3.6.1"
  }
 },
 "nbformat": 4,
 "nbformat_minor": 2
}
