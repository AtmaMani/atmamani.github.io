{
 "cells": [
  {
   "cell_type": "markdown",
   "id": "6fad20db-c68e-44d6-bc7b-29a3d9de666d",
   "metadata": {},
   "source": [
    "# GDAL day 2"
   ]
  },
  {
   "cell_type": "markdown",
   "id": "13a4acf3-1efd-4ef6-bb1f-bc0dede00697",
   "metadata": {
    "tags": []
   },
   "source": [
    "GDAL - Geospatial Data Abstration Library\n",
    "\n",
    "#### Set up\n",
    "Use - `opengeo` micromamba env. \n",
    "Move to `gdal-tools` folder."
   ]
  },
  {
   "cell_type": "code",
   "execution_count": 2,
   "id": "b26c9dcc-4bae-4019-b84f-ab6df61fec6b",
   "metadata": {},
   "outputs": [
    {
     "name": "stdout",
     "output_type": "stream",
     "text": [
      "/Users/abharathi/Documents/gis_data/gdal-tools\n"
     ]
    }
   ],
   "source": [
    "cd /Users/abharathi/Documents/gis_data/gdal-tools/"
   ]
  },
  {
   "cell_type": "code",
   "execution_count": 3,
   "id": "e7a4a3e2-806e-4b69-a1e2-ee202016a4af",
   "metadata": {},
   "outputs": [
    {
     "name": "stdout",
     "output_type": "stream",
     "text": [
      "\u001b[31m1870_southern-india.jpg\u001b[m\u001b[m*      \u001b[1m\u001b[36mlandsat8\u001b[m\u001b[m/\n",
      "5d16a93f1cf0f6000579ad2c.tif  \u001b[1m\u001b[36mlondon_1m_dsm\u001b[m\u001b[m/\n",
      "\u001b[31mbatch.py\u001b[m\u001b[m*                     \u001b[1m\u001b[36mnaip\u001b[m\u001b[m/\n",
      "\u001b[31mbatch_parallel.py\u001b[m\u001b[m*            precipitation.gpkg\n",
      "\u001b[31mearth_at_night.jpg\u001b[m\u001b[m*           \u001b[1m\u001b[36mprism\u001b[m\u001b[m/\n",
      "\u001b[1m\u001b[36mearthquakes\u001b[m\u001b[m/                  spatial_query.gpkg\n",
      "gdal_stuff.qgz                \u001b[1m\u001b[36msrtm\u001b[m\u001b[m/\n",
      "\u001b[1m\u001b[36mgeonames\u001b[m\u001b[m/                     \u001b[31mworldcities.csv\u001b[m\u001b[m*\n"
     ]
    }
   ],
   "source": [
    "ls"
   ]
  },
  {
   "cell_type": "markdown",
   "id": "9c970978-dd67-4233-accc-7b9228e0d1a6",
   "metadata": {},
   "source": [
    "## Talk to Cloud systems via streaming"
   ]
  },
  {
   "cell_type": "code",
   "execution_count": 1,
   "id": "c4541780-a99e-4f12-8f89-388dadc720a3",
   "metadata": {},
   "outputs": [
    {
     "name": "stdout",
     "output_type": "stream",
     "text": [
      "Driver: GTiff/GeoTIFF\n",
      "Files: /vsigs/spatialthoughts-public-data/viirs_ntl_2021_global.tif\n",
      "Size is 80152, 80196\n",
      "Coordinate System is:\n",
      "PROJCRS[\"WGS 84 / Pseudo-Mercator\",\n",
      "    BASEGEOGCRS[\"WGS 84\",\n",
      "        ENSEMBLE[\"World Geodetic System 1984 ensemble\",\n",
      "            MEMBER[\"World Geodetic System 1984 (Transit)\"],\n",
      "            MEMBER[\"World Geodetic System 1984 (G730)\"],\n",
      "            MEMBER[\"World Geodetic System 1984 (G873)\"],\n",
      "            MEMBER[\"World Geodetic System 1984 (G1150)\"],\n",
      "            MEMBER[\"World Geodetic System 1984 (G1674)\"],\n",
      "            MEMBER[\"World Geodetic System 1984 (G1762)\"],\n",
      "            MEMBER[\"World Geodetic System 1984 (G2139)\"],\n",
      "            ELLIPSOID[\"WGS 84\",6378137,298.257223563,\n",
      "                LENGTHUNIT[\"metre\",1]],\n",
      "            ENSEMBLEACCURACY[2.0]],\n",
      "        PRIMEM[\"Greenwich\",0,\n",
      "            ANGLEUNIT[\"degree\",0.0174532925199433]],\n",
      "        ID[\"EPSG\",4326]],\n",
      "    CONVERSION[\"Popular Visualisation Pseudo-Mercator\",\n",
      "        METHOD[\"Popular Visualisation Pseudo Mercator\",\n",
      "            ID[\"EPSG\",1024]],\n",
      "        PARAMETER[\"Latitude of natural origin\",0,\n",
      "            ANGLEUNIT[\"degree\",0.0174532925199433],\n",
      "            ID[\"EPSG\",8801]],\n",
      "        PARAMETER[\"Longitude of natural origin\",0,\n",
      "            ANGLEUNIT[\"degree\",0.0174532925199433],\n",
      "            ID[\"EPSG\",8802]],\n",
      "        PARAMETER[\"False easting\",0,\n",
      "            LENGTHUNIT[\"metre\",1],\n",
      "            ID[\"EPSG\",8806]],\n",
      "        PARAMETER[\"False northing\",0,\n",
      "            LENGTHUNIT[\"metre\",1],\n",
      "            ID[\"EPSG\",8807]]],\n",
      "    CS[Cartesian,2],\n",
      "        AXIS[\"easting (X)\",east,\n",
      "            ORDER[1],\n",
      "            LENGTHUNIT[\"metre\",1]],\n",
      "        AXIS[\"northing (Y)\",north,\n",
      "            ORDER[2],\n",
      "            LENGTHUNIT[\"metre\",1]],\n",
      "    USAGE[\n",
      "        SCOPE[\"Web mapping and visualisation.\"],\n",
      "        AREA[\"World between 85.06°S and 85.06°N.\"],\n",
      "        BBOX[-85.06,-180,85.06,180]],\n",
      "    ID[\"EPSG\",3857]]\n",
      "Data axis to CRS axis mapping: 1,2\n",
      "Origin = (-20038000.000000000000000,20049000.000000000000000)\n",
      "Pixel Size = (500.000000000000000,-500.000000000000000)\n",
      "Metadata:\n",
      "  AREA_OR_POINT=Area\n",
      "Image Structure Metadata:\n",
      "  COMPRESSION=DEFLATE\n",
      "  INTERLEAVE=BAND\n",
      "  LAYOUT=COG\n",
      "  PREDICTOR=2\n",
      "Corner Coordinates:\n",
      "Upper Left  (-20038000.000,20049000.000) (179d59'44.10\"E, 85d 3'36.09\"N)\n",
      "Lower Left  (-20038000.000,-20049000.000) (179d59'44.10\"E, 85d 3'36.09\"S)\n",
      "Upper Right (20038000.000,20049000.000) (179d59'44.10\"W, 85d 3'36.09\"N)\n",
      "Lower Right (20038000.000,-20049000.000) (179d59'44.10\"W, 85d 3'36.09\"S)\n",
      "Center      (   0.0000000,   0.0000000) (  0d 0' 0.01\"E,  0d 0' 0.01\"N)\n",
      "Band 1 Block=512x512 Type=Float32, ColorInterp=Gray\n",
      "  NoData Value=-9999\n",
      "  Overviews: 40076x40098, 20038x20049, 10019x10024, 5009x5012, 2504x2506, 1252x1253, 626x626, 313x313\n"
     ]
    }
   ],
   "source": [
    "!gdalinfo /vsigs/spatialthoughts-public-data/viirs_ntl_2021_global.tif --config GS_NO_SIGN_REQUEST YES"
   ]
  },
  {
   "cell_type": "markdown",
   "id": "c14be27e-30a5-4b2a-9790-1872bc2017f0",
   "metadata": {},
   "source": [
    "## Working with aerial imagery"
   ]
  },
  {
   "cell_type": "code",
   "execution_count": 34,
   "id": "3a6e400e-b652-4b6c-93d5-bce15a9f4f68",
   "metadata": {},
   "outputs": [
    {
     "name": "stdout",
     "output_type": "stream",
     "text": [
      "/Users/abharathi/Documents/gis_data/gdal-tools/naip\n"
     ]
    }
   ],
   "source": [
    "cd ../naip"
   ]
  },
  {
   "cell_type": "code",
   "execution_count": 35,
   "id": "c30a42a4-5a35-4b5f-89e3-7872e5c64baa",
   "metadata": {},
   "outputs": [
    {
     "name": "stdout",
     "output_type": "stream",
     "text": [
      "\u001b[31maoi.cpg\u001b[m\u001b[m*        \u001b[31moutput_2_1.jp2\u001b[m\u001b[m* \u001b[31moutput_3_8.jp2\u001b[m\u001b[m* \u001b[31moutput_5_7.jp2\u001b[m\u001b[m* \u001b[31moutput_7_6.jp2\u001b[m\u001b[m*\n",
      "\u001b[31maoi.dbf\u001b[m\u001b[m*        \u001b[31moutput_2_2.jp2\u001b[m\u001b[m* \u001b[31moutput_4_1.jp2\u001b[m\u001b[m* \u001b[31moutput_5_8.jp2\u001b[m\u001b[m* \u001b[31moutput_7_7.jp2\u001b[m\u001b[m*\n",
      "\u001b[31maoi.prj\u001b[m\u001b[m*        \u001b[31moutput_2_3.jp2\u001b[m\u001b[m* \u001b[31moutput_4_2.jp2\u001b[m\u001b[m* \u001b[31moutput_6_1.jp2\u001b[m\u001b[m* \u001b[31moutput_7_8.jp2\u001b[m\u001b[m*\n",
      "\u001b[31maoi.qpj\u001b[m\u001b[m*        \u001b[31moutput_2_4.jp2\u001b[m\u001b[m* \u001b[31moutput_4_3.jp2\u001b[m\u001b[m* \u001b[31moutput_6_2.jp2\u001b[m\u001b[m* \u001b[31moutput_8_1.jp2\u001b[m\u001b[m*\n",
      "\u001b[31maoi.shp\u001b[m\u001b[m*        \u001b[31moutput_2_5.jp2\u001b[m\u001b[m* \u001b[31moutput_4_4.jp2\u001b[m\u001b[m* \u001b[31moutput_6_3.jp2\u001b[m\u001b[m* \u001b[31moutput_8_2.jp2\u001b[m\u001b[m*\n",
      "\u001b[31maoi.shx\u001b[m\u001b[m*        \u001b[31moutput_2_6.jp2\u001b[m\u001b[m* \u001b[31moutput_4_5.jp2\u001b[m\u001b[m* \u001b[31moutput_6_4.jp2\u001b[m\u001b[m* \u001b[31moutput_8_3.jp2\u001b[m\u001b[m*\n",
      "filelist.txt    \u001b[31moutput_2_7.jp2\u001b[m\u001b[m* \u001b[31moutput_4_6.jp2\u001b[m\u001b[m* \u001b[31moutput_6_5.jp2\u001b[m\u001b[m* \u001b[31moutput_8_4.jp2\u001b[m\u001b[m*\n",
      "\u001b[31moutput_1_1.jp2\u001b[m\u001b[m* \u001b[31moutput_2_8.jp2\u001b[m\u001b[m* \u001b[31moutput_4_7.jp2\u001b[m\u001b[m* \u001b[31moutput_6_6.jp2\u001b[m\u001b[m* \u001b[31moutput_8_5.jp2\u001b[m\u001b[m*\n",
      "\u001b[31moutput_1_2.jp2\u001b[m\u001b[m* \u001b[31moutput_3_1.jp2\u001b[m\u001b[m* \u001b[31moutput_4_8.jp2\u001b[m\u001b[m* \u001b[31moutput_6_7.jp2\u001b[m\u001b[m* \u001b[31moutput_8_6.jp2\u001b[m\u001b[m*\n",
      "\u001b[31moutput_1_3.jp2\u001b[m\u001b[m* \u001b[31moutput_3_2.jp2\u001b[m\u001b[m* \u001b[31moutput_5_1.jp2\u001b[m\u001b[m* \u001b[31moutput_6_8.jp2\u001b[m\u001b[m* \u001b[31moutput_8_7.jp2\u001b[m\u001b[m*\n",
      "\u001b[31moutput_1_4.jp2\u001b[m\u001b[m* \u001b[31moutput_3_3.jp2\u001b[m\u001b[m* \u001b[31moutput_5_2.jp2\u001b[m\u001b[m* \u001b[31moutput_7_1.jp2\u001b[m\u001b[m* \u001b[31moutput_8_8.jp2\u001b[m\u001b[m*\n",
      "\u001b[31moutput_1_5.jp2\u001b[m\u001b[m* \u001b[31moutput_3_4.jp2\u001b[m\u001b[m* \u001b[31moutput_5_3.jp2\u001b[m\u001b[m* \u001b[31moutput_7_2.jp2\u001b[m\u001b[m*\n",
      "\u001b[31moutput_1_6.jp2\u001b[m\u001b[m* \u001b[31moutput_3_5.jp2\u001b[m\u001b[m* \u001b[31moutput_5_4.jp2\u001b[m\u001b[m* \u001b[31moutput_7_3.jp2\u001b[m\u001b[m*\n",
      "\u001b[31moutput_1_7.jp2\u001b[m\u001b[m* \u001b[31moutput_3_6.jp2\u001b[m\u001b[m* \u001b[31moutput_5_5.jp2\u001b[m\u001b[m* \u001b[31moutput_7_4.jp2\u001b[m\u001b[m*\n",
      "\u001b[31moutput_1_8.jp2\u001b[m\u001b[m* \u001b[31moutput_3_7.jp2\u001b[m\u001b[m* \u001b[31moutput_5_6.jp2\u001b[m\u001b[m* \u001b[31moutput_7_5.jp2\u001b[m\u001b[m*\n"
     ]
    }
   ],
   "source": [
    "ls"
   ]
  },
  {
   "cell_type": "markdown",
   "id": "4713022b-3b80-4dca-8177-2cd255688c0e",
   "metadata": {},
   "source": [
    "### Mosaicing aerial images"
   ]
  },
  {
   "cell_type": "code",
   "execution_count": 6,
   "id": "5dafb225-14d7-482a-98b0-7d0e5cbcceb1",
   "metadata": {},
   "outputs": [],
   "source": [
    "ls *.jp2 > filelist.txt"
   ]
  },
  {
   "cell_type": "markdown",
   "id": "658359f3-5e40-4486-80c0-b63af2f79046",
   "metadata": {},
   "source": [
    "**Alpha** band is an additional band that simply states which cells have value and which have no-Data. It is an image mask. Alpha is useful when you compress raster using PNG or JP2 formats and reduce quantization to 8bit Uint8. With such low dynamic range, it becomes tricky to use `0` or `255` as no-data."
   ]
  },
  {
   "cell_type": "code",
   "execution_count": 10,
   "id": "cd440b2c-e296-4563-8490-193e57cca9ee",
   "metadata": {},
   "outputs": [
    {
     "name": "stdout",
     "output_type": "stream",
     "text": [
      "Driver: JP2OpenJPEG/JPEG-2000 driver based on OpenJPEG library\n",
      "Files: output_1_1.jp2\n",
      "Size is 5000, 5000\n",
      "Coordinate System is:\n",
      "PROJCRS[\"NAD83 / UTM zone 10N\",\n",
      "    BASEGEOGCRS[\"NAD83\",\n",
      "        DATUM[\"North American Datum 1983\",\n",
      "            ELLIPSOID[\"GRS 1980\",6378137,298.257222101,\n",
      "                LENGTHUNIT[\"metre\",1]]],\n",
      "        PRIMEM[\"Greenwich\",0,\n",
      "            ANGLEUNIT[\"degree\",0.0174532925199433]],\n",
      "        ID[\"EPSG\",4269]],\n",
      "    CONVERSION[\"UTM zone 10N\",\n",
      "        METHOD[\"Transverse Mercator\",\n",
      "            ID[\"EPSG\",9807]],\n",
      "        PARAMETER[\"Latitude of natural origin\",0,\n",
      "            ANGLEUNIT[\"degree\",0.0174532925199433],\n",
      "            ID[\"EPSG\",8801]],\n",
      "        PARAMETER[\"Longitude of natural origin\",-123,\n",
      "            ANGLEUNIT[\"degree\",0.0174532925199433],\n",
      "            ID[\"EPSG\",8802]],\n",
      "        PARAMETER[\"Scale factor at natural origin\",0.9996,\n",
      "            SCALEUNIT[\"unity\",1],\n",
      "            ID[\"EPSG\",8805]],\n",
      "        PARAMETER[\"False easting\",500000,\n",
      "            LENGTHUNIT[\"metre\",1],\n",
      "            ID[\"EPSG\",8806]],\n",
      "        PARAMETER[\"False northing\",0,\n",
      "            LENGTHUNIT[\"metre\",1],\n",
      "            ID[\"EPSG\",8807]]],\n",
      "    CS[Cartesian,2],\n",
      "        AXIS[\"(E)\",east,\n",
      "            ORDER[1],\n",
      "            LENGTHUNIT[\"metre\",1]],\n",
      "        AXIS[\"(N)\",north,\n",
      "            ORDER[2],\n",
      "            LENGTHUNIT[\"metre\",1]],\n",
      "    USAGE[\n",
      "        SCOPE[\"Engineering survey, topographic mapping.\"],\n",
      "        AREA[\"North America - between 126°W and 120°W - onshore and offshore. Canada - British Columbia; Northwest Territories; Yukon. United States (USA) - California; Oregon; Washington.\"],\n",
      "        BBOX[30.54,-126,81.8,-119.99]],\n",
      "    ID[\"EPSG\",26910]]\n",
      "Data axis to CRS axis mapping: 1,2\n",
      "Origin = (545028.000000000000000,4249325.999946000054479)\n",
      "Pixel Size = (0.600000000000000,-0.600000000600000)\n",
      "Image Structure Metadata:\n",
      "  INTERLEAVE=PIXEL\n",
      "  COMPRESSION_REVERSIBILITY=LOSSY\n",
      "Corner Coordinates:\n",
      "Upper Left  (  545028.000, 4249326.000) (122d29' 3.80\"W, 38d23'27.65\"N)\n",
      "Lower Left  (  545028.000, 4246326.000) (122d29' 4.49\"W, 38d21'50.32\"N)\n",
      "Upper Right (  548028.000, 4249326.000) (122d27' 0.14\"W, 38d23'27.08\"N)\n",
      "Lower Right (  548028.000, 4246326.000) (122d27' 0.87\"W, 38d21'49.76\"N)\n",
      "Center      (  546528.000, 4247826.000) (122d28' 2.32\"W, 38d22'38.71\"N)\n",
      "Band 1 Block=1024x1024 Type=Byte, ColorInterp=Undefined\n",
      "  Overviews: 2500x2500, 1250x1250, 625x625\n",
      "  Overviews: arbitrary\n",
      "  Image Structure Metadata:\n",
      "    COMPRESSION=JPEG2000\n",
      "Band 2 Block=1024x1024 Type=Byte, ColorInterp=Undefined\n",
      "  Overviews: 2500x2500, 1250x1250, 625x625\n",
      "  Overviews: arbitrary\n",
      "  Image Structure Metadata:\n",
      "    COMPRESSION=JPEG2000\n",
      "Band 3 Block=1024x1024 Type=Byte, ColorInterp=Undefined\n",
      "  Overviews: 2500x2500, 1250x1250, 625x625\n",
      "  Overviews: arbitrary\n",
      "  Image Structure Metadata:\n",
      "    COMPRESSION=JPEG2000\n"
     ]
    }
   ],
   "source": [
    "!gdalinfo output_1_1.jp2"
   ]
  },
  {
   "cell_type": "markdown",
   "id": "435e522e-9072-4828-8304-078ef1e287c5",
   "metadata": {},
   "source": [
    "#### Build virtual tile that mosaics the drone images using `gdalbuildvrt`"
   ]
  },
  {
   "cell_type": "code",
   "execution_count": 36,
   "id": "6a856e57-1959-40de-aac0-e4850734cb94",
   "metadata": {},
   "outputs": [
    {
     "name": "stdout",
     "output_type": "stream",
     "text": [
      "CPU times: user 4 µs, sys: 1e+03 ns, total: 5 µs\n",
      "Wall time: 12.9 µs\n",
      "0...10...20...30...40...50...60...70...80...90...100 - done.\n"
     ]
    }
   ],
   "source": [
    "%time\n",
    "!gdalbuildvrt -input_file_list filelist.txt naip.vrt"
   ]
  },
  {
   "cell_type": "markdown",
   "id": "e5fe9153-297f-423f-95ec-785b669d8ab9",
   "metadata": {},
   "source": [
    "#### Create overview file for visualizing `gdal_translate`"
   ]
  },
  {
   "cell_type": "code",
   "execution_count": 38,
   "id": "c5b07cc6-1d4e-4d16-b5dd-f2d96f17968e",
   "metadata": {},
   "outputs": [
    {
     "name": "stdout",
     "output_type": "stream",
     "text": [
      "Input file size is 40000, 40000\n",
      "0...10...20...30...40...50...60...70...80...90...100 - done.\n",
      "CPU times: user 38.4 ms, sys: 24.2 ms, total: 62.6 ms\n",
      "Wall time: 3.22 s\n"
     ]
    }
   ],
   "source": [
    "%%time\n",
    "!gdal_translate -of JPEG -outsize 2% 2% naip.vrt naip_preview.jpg"
   ]
  },
  {
   "cell_type": "markdown",
   "id": "10914c2a-080b-4d51-9c7c-0ac40570a80f",
   "metadata": {},
   "source": [
    "<img src=\"Users/abharathi/Documents/gis_data/gdal-tools/naip/naip_preview.jpg\">"
   ]
  },
  {
   "cell_type": "code",
   "execution_count": 39,
   "id": "ad2e980b-5d05-445b-89d6-1398d152e058",
   "metadata": {},
   "outputs": [
    {
     "name": "stdout",
     "output_type": "stream",
     "text": [
      "Creating new index file...\n",
      "CPU times: user 20 ms, sys: 15.3 ms, total: 35.4 ms\n",
      "Wall time: 1.17 s\n"
     ]
    }
   ],
   "source": [
    "%%time\n",
    "!gdaltindex -write_absolute_path index.json --optfile filelist.txt"
   ]
  },
  {
   "cell_type": "markdown",
   "id": "7efb9f90-8b72-48d9-8f7a-a3e6137b6fe5",
   "metadata": {},
   "source": [
    "## Processing satellite image"
   ]
  },
  {
   "cell_type": "code",
   "execution_count": 45,
   "id": "6d056780-1248-4ba3-a2c5-dfc4ccef2efd",
   "metadata": {},
   "outputs": [
    {
     "name": "stdout",
     "output_type": "stream",
     "text": [
      "/Users/abharathi/Documents/gis_data/gdal-tools/landsat8\n"
     ]
    }
   ],
   "source": [
    "cd ../landsat8/"
   ]
  },
  {
   "cell_type": "code",
   "execution_count": 46,
   "id": "39b6ecee-84c9-4ac8-8e45-6032c46b4872",
   "metadata": {},
   "outputs": [
    {
     "name": "stdout",
     "output_type": "stream",
     "text": [
      "total 1845384\n",
      "-rwxr-xr-x@ 1 abharathi  staff   110M Oct 12  2019 \u001b[31mRT_LC08_L1TP_137042_20190920_20190926_01_T1_2019-09-20_B2.tif\u001b[m\u001b[m*\n",
      "-rwxr-xr-x@ 1 abharathi  staff   115M Oct 12  2019 \u001b[31mRT_LC08_L1TP_137042_20190920_20190926_01_T1_2019-09-20_B3.tif\u001b[m\u001b[m*\n",
      "-rwxr-xr-x@ 1 abharathi  staff   115M Oct 12  2019 \u001b[31mRT_LC08_L1TP_137042_20190920_20190926_01_T1_2019-09-20_B4.tif\u001b[m\u001b[m*\n",
      "-rwxr-xr-x@ 1 abharathi  staff   131M Oct 12  2019 \u001b[31mRT_LC08_L1TP_137042_20190920_20190926_01_T1_2019-09-20_B5.tif\u001b[m\u001b[m*\n",
      "-rwxr-xr-x@ 1 abharathi  staff   430M Oct 12  2019 \u001b[31mRT_LC08_L1TP_137042_20190920_20190926_01_T1_2019-09-20_B8.tif\u001b[m\u001b[m*\n",
      "-rw-r--r--  1 abharathi  staff   2.5K Apr 26 06:47 rgb.vrt\n"
     ]
    }
   ],
   "source": [
    "ls -lh"
   ]
  },
  {
   "cell_type": "markdown",
   "id": "93d47023-da98-4160-a582-023f2c05777e",
   "metadata": {},
   "source": [
    "#### Use `gdalbuildvrt` to composite bands into a virtual raster"
   ]
  },
  {
   "cell_type": "code",
   "execution_count": 30,
   "id": "b68832b8-8002-4967-bd5a-a3d94664a279",
   "metadata": {},
   "outputs": [
    {
     "name": "stdout",
     "output_type": "stream",
     "text": [
      "0...10...20...30...40...50...60...70...80...90...100 - done.\n"
     ]
    }
   ],
   "source": [
    "!gdalbuildvrt -o rgb.vrt -separate \\\n",
    "  RT_LC08_L1TP_137042_20190920_20190926_01_T1_2019-09-20_B4.tif \\\n",
    "  RT_LC08_L1TP_137042_20190920_20190926_01_T1_2019-09-20_B3.tif \\\n",
    "  RT_LC08_L1TP_137042_20190920_20190926_01_T1_2019-09-20_B2.tif"
   ]
  },
  {
   "cell_type": "code",
   "execution_count": 47,
   "id": "45bc8446-42a7-4a5b-a710-c0bf43a6f771",
   "metadata": {},
   "outputs": [
    {
     "name": "stdout",
     "output_type": "stream",
     "text": [
      "0...10...20...30...40...50...60...70...80...90...100 - done.\n"
     ]
    }
   ],
   "source": [
    "!gdalbuildvrt -o allbands.vrt -separate \\\n",
    "  RT_LC08_L1TP_137042_20190920_20190926_01_T1_2019-09-20_B4.tif \\\n",
    "  RT_LC08_L1TP_137042_20190920_20190926_01_T1_2019-09-20_B3.tif \\\n",
    "  RT_LC08_L1TP_137042_20190920_20190926_01_T1_2019-09-20_B2.tif \\\n",
    "  RT_LC08_L1TP_137042_20190920_20190926_01_T1_2019-09-20_B5.tif \\\n",
    "  RT_LC08_L1TP_137042_20190920_20190926_01_T1_2019-09-20_B8.tif"
   ]
  },
  {
   "cell_type": "markdown",
   "id": "accada02-12b8-4ee5-a4a7-9edf8a827f21",
   "metadata": {},
   "source": [
    "#### Use `gdaltranslate` to convert virtual to persisted file"
   ]
  },
  {
   "cell_type": "code",
   "execution_count": 41,
   "id": "aacb70ed-b154-459f-9f0c-c9a209c9f89c",
   "metadata": {},
   "outputs": [
    {
     "name": "stdout",
     "output_type": "stream",
     "text": [
      "ERROR 4: rgp.vrt: No such file or directory\n",
      "CPU times: user 7.96 ms, sys: 9.33 ms, total: 17.3 ms\n",
      "Wall time: 631 ms\n"
     ]
    }
   ],
   "source": [
    "%%time\n",
    "!gdal_translate rgp.vrt rgb.tif -co PHOTOMETRIC=RGB -co COMPRESS=DEFLATE"
   ]
  },
  {
   "cell_type": "markdown",
   "id": "0cae5b3c-7892-4015-9f31-aae7384f3769",
   "metadata": {},
   "source": [
    "#### Build a visualization product that applies histogram stretch"
   ]
  },
  {
   "cell_type": "code",
   "execution_count": 50,
   "id": "e6d0bf38-98e5-4b11-9b62-9938332166f5",
   "metadata": {},
   "outputs": [
    {
     "name": "stdout",
     "output_type": "stream",
     "text": [
      "Input file size is 7701, 7861\n",
      "Warning 1: for band 1, nodata value has been clamped to 0, the original value being out of range.\n",
      "Warning 1: for band 2, nodata value has been clamped to 0, the original value being out of range.\n",
      "Warning 1: for band 3, nodata value has been clamped to 0, the original value being out of range.\n",
      "0...10...20...30...40...50...60...70...80...90...100 - done.\n",
      "CPU times: user 41.6 ms, sys: 21.8 ms, total: 63.4 ms\n",
      "Wall time: 4.17 s\n"
     ]
    }
   ],
   "source": [
    "%%time\n",
    "!gdal_translate -scale 0 0.3 0 255 -ot Byte rgb.vrt rgb_stretch.tif"
   ]
  },
  {
   "cell_type": "markdown",
   "id": "763ee61a-63b7-4032-9c6e-0f79ef00922a",
   "metadata": {},
   "source": [
    "## Raster algebra using `gdal_calc.py`"
   ]
  },
  {
   "cell_type": "code",
   "execution_count": 52,
   "id": "997bd11b-f024-49b4-969e-a2608fc9396f",
   "metadata": {},
   "outputs": [
    {
     "name": "stdout",
     "output_type": "stream",
     "text": [
      "/Users/abharathi/micromamba/envs/opengeo/bin/gdal_calc.py\n"
     ]
    }
   ],
   "source": [
    "!which gdal_calc.py"
   ]
  },
  {
   "cell_type": "code",
   "execution_count": 66,
   "id": "bd91e009-e6fb-421d-a8cb-692aa0f8e73d",
   "metadata": {},
   "outputs": [
    {
     "name": "stderr",
     "output_type": "stream",
     "text": [
      "usage: gdal_calc.py [--help] --calc [expression ...] [-a [filename ...]]\n",
      "                    [--a_band [n ...]] [-b [filename ...]] [--b_band [n ...]]\n",
      "                    [-c [filename ...]] [--c_band [n ...]] [-d [filename ...]]\n",
      "                    [--d_band [n ...]] [-e [filename ...]] [--e_band [n ...]]\n",
      "                    [-f [filename ...]] [--f_band [n ...]] [-g [filename ...]]\n",
      "                    [--g_band [n ...]] [-h [filename ...]] [--h_band [n ...]]\n",
      "                    [-i [filename ...]] [--i_band [n ...]] [-j [filename ...]]\n",
      "                    [--j_band [n ...]] [-k [filename ...]] [--k_band [n ...]]\n",
      "                    [-l [filename ...]] [--l_band [n ...]] [-m [filename ...]]\n",
      "                    [--m_band [n ...]] [-n [filename ...]] [--n_band [n ...]]\n",
      "                    [-o [filename ...]] [--o_band [n ...]] [-p [filename ...]]\n",
      "                    [--p_band [n ...]] [-q [filename ...]] [--q_band [n ...]]\n",
      "                    [-r [filename ...]] [--r_band [n ...]] [-s [filename ...]]\n",
      "                    [--s_band [n ...]] [-t [filename ...]] [--t_band [n ...]]\n",
      "                    [-u [filename ...]] [--u_band [n ...]] [-v [filename ...]]\n",
      "                    [--v_band [n ...]] [-w [filename ...]] [--w_band [n ...]]\n",
      "                    [-x [filename ...]] [--x_band [n ...]] [-y [filename ...]]\n",
      "                    [--y_band [n ...]] [-z [filename ...]] [--z_band [n ...]]\n",
      "                    [-A [filename ...]] [--A_band [n ...]] [-B [filename ...]]\n",
      "                    [--B_band [n ...]] [-C [filename ...]] [--C_band [n ...]]\n",
      "                    [-D [filename ...]] [--D_band [n ...]] [-E [filename ...]]\n",
      "                    [--E_band [n ...]] [-F [filename ...]] [--F_band [n ...]]\n",
      "                    [-G [filename ...]] [--G_band [n ...]] [-H [filename ...]]\n",
      "                    [--H_band [n ...]] [-I [filename ...]] [--I_band [n ...]]\n",
      "                    [-J [filename ...]] [--J_band [n ...]] [-K [filename ...]]\n",
      "                    [--K_band [n ...]] [-L [filename ...]] [--L_band [n ...]]\n",
      "                    [-M [filename ...]] [--M_band [n ...]] [-N [filename ...]]\n",
      "                    [--N_band [n ...]] [-O [filename ...]] [--O_band [n ...]]\n",
      "                    [-P [filename ...]] [--P_band [n ...]] [-Q [filename ...]]\n",
      "                    [--Q_band [n ...]] [-R [filename ...]] [--R_band [n ...]]\n",
      "                    [-S [filename ...]] [--S_band [n ...]] [-T [filename ...]]\n",
      "                    [--T_band [n ...]] [-U [filename ...]] [--U_band [n ...]]\n",
      "                    [-V [filename ...]] [--V_band [n ...]] [-W [filename ...]]\n",
      "                    [--W_band [n ...]] [-X [filename ...]] [--X_band [n ...]]\n",
      "                    [-Y [filename ...]] [--Y_band [n ...]] [-Z [filename ...]]\n",
      "                    [--Z_band [n ...]] --outfile filename\n",
      "                    [--NoDataValue value] [--hideNoData] [--type datatype]\n",
      "                    [--format gdal_format] [--creation-option option]\n",
      "                    [--allBands [a-z, A-Z]] [--overwrite] [--debug] [--quiet]\n",
      "                    [--color-table COLOR_TABLE]\n",
      "                    [--extent {ignore,fail,union,intersect} | --projwin ulx uly lrx lry]\n",
      "                    [--projectionCheck]\n",
      "gdal_calc.py: error: the following arguments are required: --calc, --outfile\n"
     ]
    },
    {
     "ename": "SystemExit",
     "evalue": "2",
     "output_type": "error",
     "traceback": [
      "An exception has occurred, use %tb to see the full traceback.\n",
      "\u001b[0;31mSystemExit\u001b[0m\u001b[0;31m:\u001b[0m 2\n"
     ]
    }
   ],
   "source": [
    "%run -i /Users/abharathi/micromamba/envs/opengeo/bin/gdal_calc.py"
   ]
  },
  {
   "cell_type": "markdown",
   "id": "1e3998af-8394-44db-944e-38dae885a3c6",
   "metadata": {},
   "source": [
    "#### Performing NDVI"
   ]
  },
  {
   "cell_type": "code",
   "execution_count": null,
   "id": "4217ef99-022d-4590-83e0-f04a82743dc0",
   "metadata": {},
   "outputs": [],
   "source": [
    "%%time\n",
    "%run -i /Users/abharathi/micromamba/envs/opengeo/bin/gdal_calc.py \\\n",
    "  -A RT_LC08_L1TP_137042_20190920_20190926_01_T1_2019-09-20_B5.TIF \\\n",
    "  -B RT_LC08_L1TP_137042_20190920_20190926_01_T1_2019-09-20_B4.TIF \\\n",
    "  --outfile ndvi.tif --calc=\"(A-B)/(A+B)\" --NoDataValue=-999"
   ]
  },
  {
   "cell_type": "markdown",
   "id": "ed5529bc-cb2c-4679-8498-e7dc6aeba518",
   "metadata": {},
   "source": [
    "### Exercise - creating FCC viz product"
   ]
  },
  {
   "cell_type": "code",
   "execution_count": 69,
   "id": "faf8f0ca-55bd-4eac-bc87-d8335e010280",
   "metadata": {},
   "outputs": [
    {
     "name": "stdout",
     "output_type": "stream",
     "text": [
      "0...10...20...30...40...50...60...70...80...90...100 - done.\n",
      "CPU times: user 5.41 ms, sys: 9.25 ms, total: 14.7 ms\n",
      "Wall time: 424 ms\n"
     ]
    }
   ],
   "source": [
    "%%time\n",
    "!gdalbuildvrt -o nrg.vrt -separate \\\n",
    "RT_LC08_L1TP_137042_20190920_20190926_01_T1_2019-09-20_B5.tif \\\n",
    "RT_LC08_L1TP_137042_20190920_20190926_01_T1_2019-09-20_B4.tif \\\n",
    "RT_LC08_L1TP_137042_20190920_20190926_01_T1_2019-09-20_B3.tif"
   ]
  },
  {
   "cell_type": "code",
   "execution_count": 73,
   "id": "fe914628-67f6-4071-a589-0cb4dd93bf61",
   "metadata": {},
   "outputs": [
    {
     "name": "stdout",
     "output_type": "stream",
     "text": [
      "Input file size is 7701, 7861\n",
      "Warning 1: for band 1, nodata value has been clamped to 0, the original value being out of range.\n",
      "Warning 1: for band 2, nodata value has been clamped to 0, the original value being out of range.\n",
      "Warning 1: for band 3, nodata value has been clamped to 0, the original value being out of range.\n",
      "Warning 6: driver JPEG does not support creation option COMPRESS\n",
      "0...10...20...30...40...50...60...70...80...90...100 - done.\n",
      "CPU times: user 9.38 ms, sys: 11.1 ms, total: 20.4 ms\n",
      "Wall time: 589 ms\n"
     ]
    }
   ],
   "source": [
    "%%time\n",
    "!gdal_translate -of JPEG nrg.vrt nrg.jpg -co COMPRESS=JPG -scale 0 0.3 0 255 -ot Byte -outsize 10% 10%"
   ]
  },
  {
   "cell_type": "markdown",
   "id": "c0b0f480-9d2f-4881-b58a-4dd659e97954",
   "metadata": {},
   "source": [
    "![](nrg.jpg)"
   ]
  },
  {
   "cell_type": "markdown",
   "id": "68f2c051-a853-4f38-8511-88387d5fcf78",
   "metadata": {},
   "source": [
    "### Pansharpen"
   ]
  },
  {
   "cell_type": "code",
   "execution_count": 76,
   "id": "ffacbfb0-a187-4886-99e8-802ccedcde77",
   "metadata": {},
   "outputs": [
    {
     "name": "stdout",
     "output_type": "stream",
     "text": [
      "/Users/abharathi/micromamba/envs/opengeo/bin/gdal_pansharpen.py\n"
     ]
    }
   ],
   "source": [
    "!which gdal_pansharpen.py"
   ]
  },
  {
   "cell_type": "code",
   "execution_count": 78,
   "id": "de398e69-e406-4f03-b414-8e584cf26d9e",
   "metadata": {},
   "outputs": [
    {
     "name": "stdout",
     "output_type": "stream",
     "text": [
      "CPU times: user 6.39 ms, sys: 9.63 ms, total: 16 ms\n",
      "Wall time: 68.6 ms\n"
     ]
    }
   ],
   "source": [
    "%%time\n",
    "%run -i /Users/abharathi/micromamba/envs/opengeo/bin/gdal_pansharpen.py \\\n",
    "RT_LC08_L1TP_137042_20190920_20190926_01_T1_2019-09-20_B8.tif \\\n",
    "rgb.vrt pansharpened.vrt -r bilinear -co COMPRESS=DEFLATE -co PHOTOMETRIC=RGB"
   ]
  },
  {
   "cell_type": "code",
   "execution_count": 80,
   "id": "12ebb151-d416-4a79-8532-67c7ffd56476",
   "metadata": {},
   "outputs": [
    {
     "name": "stdout",
     "output_type": "stream",
     "text": [
      "Input file size is 15401, 15721\n",
      "Warning 1: for band 1, nodata value has been clamped to 0, the original value being out of range.\n",
      "Warning 1: for band 2, nodata value has been clamped to 0, the original value being out of range.\n",
      "Warning 1: for band 3, nodata value has been clamped to 0, the original value being out of range.\n",
      "0...10...20...30...40...50...60...70...80...90...100 - done.\n",
      "CPU times: user 97.1 ms, sys: 40.8 ms, total: 138 ms\n",
      "Wall time: 12.8 s\n"
     ]
    }
   ],
   "source": [
    "%%time\n",
    "!gdal_translate -of JPEG pansharpened.vrt pansharpened.jpg -scale 0 0.3 0 255 -ot Byte -outsize 40% 40%"
   ]
  },
  {
   "cell_type": "markdown",
   "id": "c901835b-eb69-43dc-b146-f65eba63a8e7",
   "metadata": {},
   "source": [
    "## Exercise - Lidar of UK viewshed analysis\n",
    "\n",
    "STEPS\n",
    "1. mosaic using buildvrt\n",
    "2. assign SRS of 4326 and persist raster\n",
    "3. reproject using gdaltransform\n",
    "4. gdal_viewshed to produce the viewshed raster"
   ]
  },
  {
   "cell_type": "code",
   "execution_count": 83,
   "id": "c773a51a-7aaf-40df-b6e2-8d714469483e",
   "metadata": {},
   "outputs": [
    {
     "name": "stdout",
     "output_type": "stream",
     "text": [
      "/Users/abharathi/Documents/gis_data/gdal-tools/london_1m_dsm\n"
     ]
    }
   ],
   "source": [
    "cd ../london_1m_dsm/"
   ]
  },
  {
   "cell_type": "code",
   "execution_count": 84,
   "id": "ed079907-078b-449f-9bbc-4b8524c46b9a",
   "metadata": {},
   "outputs": [],
   "source": [
    "ls *.asc > filelist.txt"
   ]
  },
  {
   "cell_type": "code",
   "execution_count": 85,
   "id": "59f93824-5e82-42ab-8e3c-1cb5cb3c0d2d",
   "metadata": {},
   "outputs": [
    {
     "name": "stdout",
     "output_type": "stream",
     "text": [
      "0...10...20...30...40...50...60...70...80...90...100 - done.\n",
      "CPU times: user 25.1 ms, sys: 17.7 ms, total: 42.8 ms\n",
      "Wall time: 1.55 s\n"
     ]
    }
   ],
   "source": [
    "%%time\n",
    "!gdalbuildvrt  -input_file_list filelist.txt londondsm.vrt"
   ]
  },
  {
   "cell_type": "code",
   "execution_count": 86,
   "id": "b11055ab-f504-4804-abb5-8000462d9f27",
   "metadata": {},
   "outputs": [
    {
     "name": "stdout",
     "output_type": "stream",
     "text": [
      "Driver: VRT/Virtual Raster\n",
      "Files: londondsm.vrt\n",
      "       tq3080_DSM_1M.asc\n",
      "       tq3081_DSM_1M.asc\n",
      "       tq3082_DSM_1M.asc\n",
      "       tq3083_DSM_1M.asc\n",
      "       tq3084_DSM_1M.asc\n",
      "       tq3180_DSM_1M.asc\n",
      "       tq3181_DSM_1M.asc\n",
      "       tq3182_DSM_1M.asc\n",
      "       tq3183_DSM_1M.asc\n",
      "       tq3184_DSM_1M.asc\n",
      "       tq3280_DSM_1M.asc\n",
      "       tq3281_DSM_1M.asc\n",
      "       tq3282_DSM_1M.asc\n",
      "       tq3283_DSM_1M.asc\n",
      "       tq3284_DSM_1M.asc\n",
      "       tq3380_DSM_1M.asc\n",
      "       tq3381_DSM_1M.asc\n",
      "       tq3382_DSM_1M.asc\n",
      "       tq3383_DSM_1M.asc\n",
      "       tq3384_DSM_1M.asc\n",
      "       tq3480_DSM_1M.asc\n",
      "       tq3481_DSM_1M.asc\n",
      "       tq3482_DSM_1M.asc\n",
      "       tq3483_DSM_1M.asc\n",
      "       tq3484_DSM_1M.asc\n",
      "Size is 5000, 5000\n",
      "Origin = (530000.000000000000000,185000.000000000000000)\n",
      "Pixel Size = (1.000000000000000,-1.000000000000000)\n",
      "Corner Coordinates:\n",
      "Upper Left  (  530000.000,  185000.000) \n",
      "Lower Left  (  530000.000,  180000.000) \n",
      "Upper Right (  535000.000,  185000.000) \n",
      "Lower Right (  535000.000,  180000.000) \n",
      "Center      (  532500.000,  182500.000) \n",
      "Band 1 Block=128x128 Type=Float32, ColorInterp=Undefined\n",
      "  NoData Value=-9999\n"
     ]
    }
   ],
   "source": [
    "# No CRS in the vrt\n",
    "!gdalinfo londondsm.vrt"
   ]
  },
  {
   "cell_type": "code",
   "execution_count": 89,
   "id": "0e9a06cc-53b0-4d4a-80a6-21cbe3f3caed",
   "metadata": {},
   "outputs": [
    {
     "name": "stdout",
     "output_type": "stream",
     "text": [
      "Input file size is 5000, 5000\n",
      "0...10...20...30...40...50...60...70...80...90...100 - done.\n",
      "CPU times: user 30.6 ms, sys: 18.2 ms, total: 48.8 ms\n",
      "Wall time: 3.3 s\n"
     ]
    }
   ],
   "source": [
    "%%time\n",
    "#Assign SRS\n",
    "!gdal_translate londondsm.vrt londondsm.tif \\\n",
    "  -co COMPRESS=DEFLATE -co PREDICTOR=2 \\\n",
    "  -a_srs EPSG:27700"
   ]
  },
  {
   "cell_type": "markdown",
   "id": "66adafb6-eb95-403a-94f3-1e18da34b06f",
   "metadata": {},
   "source": [
    "### Reproject"
   ]
  },
  {
   "cell_type": "code",
   "execution_count": null,
   "id": "ee6faf9f-2ec8-4b8d-bab3-7f7112391292",
   "metadata": {},
   "outputs": [],
   "source": [
    "!gdaltransform -s_srs EPSG:4326"
   ]
  }
 ],
 "metadata": {
  "kernelspec": {
   "display_name": "Python 3 (ipykernel)",
   "language": "python",
   "name": "python3"
  },
  "language_info": {
   "codemirror_mode": {
    "name": "ipython",
    "version": 3
   },
   "file_extension": ".py",
   "mimetype": "text/x-python",
   "name": "python",
   "nbconvert_exporter": "python",
   "pygments_lexer": "ipython3",
   "version": "3.10.8"
  }
 },
 "nbformat": 4,
 "nbformat_minor": 5
}
