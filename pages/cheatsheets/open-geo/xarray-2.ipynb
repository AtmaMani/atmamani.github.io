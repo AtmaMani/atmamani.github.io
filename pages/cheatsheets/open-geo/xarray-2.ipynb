{
 "cells": [
  {
   "cell_type": "markdown",
   "id": "836c68b4-70e7-43bc-ab59-13b67a669366",
   "metadata": {},
   "source": [
    "# Xarray - 2 : Data IO with Xarray\n",
    "\n",
    "The native way to persist an Xarray dataset is to write it to a NetCDF file."
   ]
  },
  {
   "cell_type": "code",
   "execution_count": 1,
   "id": "ccd6d7d8-2801-4f82-a74d-de9595bcbe80",
   "metadata": {},
   "outputs": [],
   "source": [
    "import numpy as np\n",
    "import pandas as pd\n",
    "import xarray as xr"
   ]
  },
  {
   "cell_type": "code",
   "execution_count": null,
   "id": "76edb24b-e368-4455-b68f-21c3a4a2ea12",
   "metadata": {},
   "outputs": [],
   "source": []
  }
 ],
 "metadata": {
  "kernelspec": {
   "display_name": "Python 3",
   "language": "python",
   "name": "python3"
  },
  "language_info": {
   "codemirror_mode": {
    "name": "ipython",
    "version": 3
   },
   "file_extension": ".py",
   "mimetype": "text/x-python",
   "name": "python",
   "nbconvert_exporter": "python",
   "pygments_lexer": "ipython3",
   "version": "3.9.12"
  },
  "widgets": {
   "application/vnd.jupyter.widget-state+json": {
    "state": {},
    "version_major": 2,
    "version_minor": 0
   }
  }
 },
 "nbformat": 4,
 "nbformat_minor": 5
}
