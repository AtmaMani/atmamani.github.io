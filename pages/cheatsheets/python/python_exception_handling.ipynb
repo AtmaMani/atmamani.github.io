{
 "cells": [
  {
   "cell_type": "markdown",
   "id": "07074eb1-06cf-49bc-9031-986ff0098142",
   "metadata": {
    "nbpresent": {
     "id": "e4830d3a-9992-40a0-8f5b-ff17d9fb5265"
    },
    "slideshow": {
     "slide_type": "slide"
    }
   },
   "source": [
    "## Exception handling\n",
    "Exceptions are classes. You can define your own by inheriting from `Exception` class.\n",
    "\n",
    "```python\n",
    "try:\n",
    "    statements\n",
    "\n",
    "except Exception_type1 as e1:\n",
    "    handling statements\n",
    "\n",
    "except Exception_type2 as e2:\n",
    "    specific handling statements\n",
    "\n",
    "except Exception as generic_ex:\n",
    "    generic handling statements\n",
    "\n",
    "else:\n",
    "    some more statements  # executes if no exceptions were fired\n",
    "\n",
    "finally:\n",
    "    default statements which will always be executed  # put logic such as conn close / mem release statements here\n",
    "```"
   ]
  },
  {
   "cell_type": "code",
   "execution_count": 13,
   "id": "29eff1df-efc3-43f1-9a32-10a1342e9741",
   "metadata": {
    "nbpresent": {
     "id": "1b6b0d20-99dd-4464-9aa7-63e4e3884ced"
    },
    "slideshow": {
     "slide_type": "slide"
    }
   },
   "outputs": [
    {
     "name": "stdout",
     "output_type": "stream",
     "text": [
      "image is displayed\n"
     ]
    }
   ],
   "source": [
    "try:\n",
    "    img2 = ImageryObject(\"user\\img\\file2.img\")\n",
    "    img2.display()\n",
    "except:\n",
    "    print(\"something bad happened\")"
   ]
  },
  {
   "cell_type": "code",
   "execution_count": 14,
   "id": "12aca993-ef40-4f5d-8966-e2998b64263d",
   "metadata": {
    "slideshow": {
     "slide_type": "subslide"
    }
   },
   "outputs": [
    {
     "name": "stdout",
     "output_type": "stream",
     "text": [
      "image is displayed\n",
      "else block\n",
      "finally block\n"
     ]
    }
   ],
   "source": [
    "try:\n",
    "    img2 = ImageryObject(\"user\\img\\file2.img\")\n",
    "    img2.display()\n",
    "except:\n",
    "    print(\"something bad happened\")\n",
    "else:\n",
    "    print(\"else block\")\n",
    "finally:\n",
    "    print(\"finally block\")"
   ]
  },
  {
   "cell_type": "code",
   "execution_count": 15,
   "id": "2bae7094-1b78-4507-af86-54a857180288",
   "metadata": {
    "nbpresent": {
     "id": "7d94a383-045b-4dc6-ba2e-552137b64348"
    },
    "slideshow": {
     "slide_type": "subslide"
    }
   },
   "outputs": [
    {
     "name": "stdout",
     "output_type": "stream",
     "text": [
      "something bad happened\n",
      "finally block\n"
     ]
    }
   ],
   "source": [
    "try:\n",
    "    img2 = ImageryObject()\n",
    "    img2.display()\n",
    "except:\n",
    "    print(\"something bad happened\")\n",
    "else:\n",
    "    print(\"else block\")\n",
    "finally:\n",
    "    print(\"finally block\")"
   ]
  },
  {
   "cell_type": "code",
   "execution_count": 21,
   "id": "83bd1ec3-6765-4bf0-9d9f-1d553db1ecce",
   "metadata": {
    "nbpresent": {
     "id": "08b7f669-3eca-4930-8c50-44aa905cf79c"
    },
    "slideshow": {
     "slide_type": "subslide"
    }
   },
   "outputs": [
    {
     "name": "stdout",
     "output_type": "stream",
     "text": [
      "something bad happened\n",
      "exactly what whent bad? : __init__() missing 1 required positional argument: 'file_path'\n"
     ]
    }
   ],
   "source": [
    "try:\n",
    "    img2 = ImageryObject()\n",
    "    img2.display()\n",
    "\n",
    "except Exception as ex:\n",
    "    print(\"something bad happened\")\n",
    "    print(\"exactly what whent bad? : \" + str(ex))"
   ]
  },
  {
   "cell_type": "code",
   "execution_count": 22,
   "id": "e4e16243-8e00-41ea-8eb6-e75471d809aa",
   "metadata": {
    "nbpresent": {
     "id": "c5a5c54a-8559-4cb7-b76f-840ff3b402fc"
    },
    "slideshow": {
     "slide_type": "subslide"
    }
   },
   "outputs": [
    {
     "name": "stdout",
     "output_type": "stream",
     "text": [
      "nope, it went worng here: 'ImageryObject' object has no attribute 'dddisplay'\n"
     ]
    }
   ],
   "source": [
    "try:\n",
    "    img2 = ImageryObject('path')\n",
    "    img2.dddisplay()\n",
    "\n",
    "except TypeError as terr:\n",
    "    print(\"looks like you forgot a parameter\")\n",
    "except Exception as ex:\n",
    "    print(\"nope, it went worng here: \" + str(ex))"
   ]
  },
  {
   "cell_type": "code",
   "execution_count": null,
   "id": "14a63066-8983-4954-b571-0c98111e33f8",
   "metadata": {
    "collapsed": true,
    "jupyter": {
     "outputs_hidden": true
    }
   },
   "outputs": [],
   "source": []
  }
 ],
 "metadata": {
  "kernelspec": {
   "display_name": "Python 3 (ipykernel)",
   "language": "python",
   "name": "python3"
  },
  "language_info": {
   "codemirror_mode": {
    "name": "ipython",
    "version": 3
   },
   "file_extension": ".py",
   "mimetype": "text/x-python",
   "name": "python",
   "nbconvert_exporter": "python",
   "pygments_lexer": "ipython3",
   "version": "3.9.7"
  },
  "nikola": {
   "title": "Python - exception handling"
  }
 },
 "nbformat": 4,
 "nbformat_minor": 5
}
