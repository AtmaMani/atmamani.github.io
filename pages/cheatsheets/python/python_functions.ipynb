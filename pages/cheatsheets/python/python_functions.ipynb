{
 "cells": [
  {
   "cell_type": "markdown",
   "metadata": {
    "nbpresent": {
     "id": "6eb6ae54-534b-4581-9172-4e35fd5b7e94"
    },
    "slideshow": {
     "slide_type": "slide"
    }
   },
   "source": [
    "# Python - Functions"
   ]
  },
  {
   "cell_type": "markdown",
   "metadata": {
    "nbpresent": {
     "id": "85e9447a-7fa5-44a7-b804-bc73024c1a62"
    },
    "slideshow": {
     "slide_type": "subslide"
    }
   },
   "source": [
    "## Functions\n",
    "Specify optional parameters in the end. Specify the default values for optional parameters with = value notation\n",
    "\n",
    "```python\n",
    "def func_name(arg1, arg2=None):\n",
    "    operations\n",
    "    return value\n",
    "```"
   ]
  },
  {
   "cell_type": "code",
   "execution_count": 1,
   "metadata": {
    "nbpresent": {
     "id": "c2aebfaf-f880-4e8d-9853-c9ddbcfce385"
    },
    "slideshow": {
     "slide_type": "slide"
    }
   },
   "outputs": [],
   "source": [
    "def func_add_numbers(num1, num2=10):\n",
    "    return (num1 + num2)  # return can be called as a statement or as a function"
   ]
  },
  {
   "cell_type": "code",
   "execution_count": 2,
   "metadata": {
    "nbpresent": {
     "id": "0e4b1912-beb1-405c-9d18-50f02bc8c680"
    },
    "slideshow": {
     "slide_type": "subslide"
    }
   },
   "outputs": [
    {
     "data": {
      "text/plain": [
       "12"
      ]
     },
     "execution_count": 2,
     "metadata": {},
     "output_type": "execute_result"
    }
   ],
   "source": [
    "func_add_numbers(2)"
   ]
  },
  {
   "cell_type": "code",
   "execution_count": 3,
   "metadata": {
    "nbpresent": {
     "id": "8877b2bb-cdcb-48fc-b9e9-ddc2a226490c"
    },
    "slideshow": {
     "slide_type": "subslide"
    }
   },
   "outputs": [
    {
     "data": {
      "text/plain": [
       "36"
      ]
     },
     "execution_count": 3,
     "metadata": {},
     "output_type": "execute_result"
    }
   ],
   "source": [
    "func_add_numbers(2,34)"
   ]
  },
  {
   "cell_type": "code",
   "execution_count": 4,
   "metadata": {
    "nbpresent": {
     "id": "3b04b7e7-2a2a-4e73-b321-3933b4a216ed"
    },
    "slideshow": {
     "slide_type": "subslide"
    }
   },
   "outputs": [
    {
     "ename": "TypeError",
     "evalue": "func_add_numbers() missing 1 required positional argument: 'num1'",
     "output_type": "error",
     "traceback": [
      "\u001b[0;31m---------------------------------------------------------------------------\u001b[0m",
      "\u001b[0;31mTypeError\u001b[0m                                 Traceback (most recent call last)",
      "\u001b[0;32m/var/folders/d8/93856prx6tj3x7vdn97z2ps40000gn/T/ipykernel_43270/1819578982.py\u001b[0m in \u001b[0;36m<module>\u001b[0;34m\u001b[0m\n\u001b[0;32m----> 1\u001b[0;31m \u001b[0mfunc_add_numbers\u001b[0m\u001b[0;34m(\u001b[0m\u001b[0;34m)\u001b[0m\u001b[0;34m\u001b[0m\u001b[0;34m\u001b[0m\u001b[0m\n\u001b[0m",
      "\u001b[0;31mTypeError\u001b[0m: func_add_numbers() missing 1 required positional argument: 'num1'"
     ]
    }
   ],
   "source": [
    "func_add_numbers()"
   ]
  },
  {
   "cell_type": "markdown",
   "metadata": {},
   "source": [
    "### Type hinting\n",
    "Starting at Python 3.7 you can provide hits to specify argument data type"
   ]
  },
  {
   "cell_type": "code",
   "execution_count": 10,
   "metadata": {},
   "outputs": [],
   "source": [
    "def func_add_numbers(a: int, b: int = 10) -> int:\n",
    "    sum = a + b\n",
    "    return sum"
   ]
  },
  {
   "cell_type": "code",
   "execution_count": 12,
   "metadata": {},
   "outputs": [
    {
     "name": "stdout",
     "output_type": "stream",
     "text": [
      "9\n",
      "15\n",
      "9.8\n"
     ]
    }
   ],
   "source": [
    "print(func_add_numbers(5, 4))\n",
    "print(func_add_numbers(5))\n",
    "print(func_add_numbers(5.5, 4.3))  # will still work as types are only hinted not enforced"
   ]
  },
  {
   "cell_type": "markdown",
   "metadata": {
    "tags": []
   },
   "source": [
    "## Productivity hacks for Python\n",
    "These are good to know shortcuts and methods that will reduce the need for writing explicit loops and condition checks. The comprehensions explained in cheat sheet 1 is a start, and falls under this category.\n",
    "\n",
    "**Productivity functions**\n",
    " - [lambda functions](#lambda-functions)\n",
    " - [map function](#map-function)\n",
    " - [filter function](#filter-function)\n",
    " - [reduce function](#reduce-function)"
   ]
  },
  {
   "cell_type": "markdown",
   "metadata": {},
   "source": [
    "### lambda functions\n",
    "lambdas are anonymous functions, typicaly one liner functions\n",
    "\n",
    "    lambda arg : ret_val"
   ]
  },
  {
   "cell_type": "code",
   "execution_count": 1,
   "metadata": {
    "collapsed": true,
    "jupyter": {
     "outputs_hidden": true
    }
   },
   "outputs": [],
   "source": [
    "def doubler(input_number):\n",
    "    return input_number*2"
   ]
  },
  {
   "cell_type": "code",
   "execution_count": 2,
   "metadata": {},
   "outputs": [
    {
     "data": {
      "text/plain": [
       "90"
      ]
     },
     "execution_count": 2,
     "metadata": {},
     "output_type": "execute_result"
    }
   ],
   "source": [
    "doubler(45)"
   ]
  },
  {
   "cell_type": "code",
   "execution_count": 3,
   "metadata": {
    "collapsed": true,
    "jupyter": {
     "outputs_hidden": true
    }
   },
   "outputs": [],
   "source": [
    "temp_fn = lambda arg : arg*2"
   ]
  },
  {
   "cell_type": "code",
   "execution_count": 4,
   "metadata": {},
   "outputs": [
    {
     "data": {
      "text/plain": [
       "110"
      ]
     },
     "execution_count": 4,
     "metadata": {},
     "output_type": "execute_result"
    }
   ],
   "source": [
    "temp_fn(55)"
   ]
  },
  {
   "cell_type": "code",
   "execution_count": 5,
   "metadata": {},
   "outputs": [
    {
     "data": {
      "text/plain": [
       "function"
      ]
     },
     "execution_count": 5,
     "metadata": {},
     "output_type": "execute_result"
    }
   ],
   "source": [
    "type(temp_fn)"
   ]
  },
  {
   "cell_type": "markdown",
   "metadata": {},
   "source": [
    "It looks silly now, but lambdas work great with `map` and other productivity functions. You can have other methods and functions that do the heavy lifting and call them in a particular order from a lambda"
   ]
  },
  {
   "cell_type": "markdown",
   "metadata": {},
   "source": [
    "### map function\n",
    "The `map` function will perform an operation on all elements of an input list. You can execute a function on all elements of a list without a loop, like a comprehension.\n",
    "\n",
    "    map(function, sequence)  --> applies the function for each element in the sequence. The return sequence if of same length as input sequence"
   ]
  },
  {
   "cell_type": "code",
   "execution_count": 6,
   "metadata": {},
   "outputs": [
    {
     "data": {
      "text/plain": [
       "[2, 4, 6, 8, 10, 12, 14]"
      ]
     },
     "execution_count": 6,
     "metadata": {},
     "output_type": "execute_result"
    }
   ],
   "source": [
    "l1 = [1,2,3,4,5,6,7]\n",
    "\n",
    "#to double elements in this list using list comp\n",
    "l1_double = [i*2 for i in l1]\n",
    "l1_double"
   ]
  },
  {
   "cell_type": "code",
   "execution_count": 7,
   "metadata": {},
   "outputs": [
    {
     "data": {
      "text/plain": [
       "[2, 4, 6, 8, 10, 12, 14]"
      ]
     },
     "execution_count": 7,
     "metadata": {},
     "output_type": "execute_result"
    }
   ],
   "source": [
    "#double using map and a function\n",
    "l1_double_2 = list(map(doubler, l1))\n",
    "l1_double_2"
   ]
  },
  {
   "cell_type": "code",
   "execution_count": 15,
   "metadata": {},
   "outputs": [
    {
     "data": {
      "text/plain": [
       "[2, 4, 6, 8, 10, 12, 14]"
      ]
     },
     "execution_count": 15,
     "metadata": {},
     "output_type": "execute_result"
    }
   ],
   "source": [
    "#double using map and a lambda function\n",
    "l1_double_3 = list(map(lambda arg:arg*2, l1))\n",
    "l1_double_3"
   ]
  },
  {
   "cell_type": "markdown",
   "metadata": {},
   "source": [
    "### filter function\n",
    "`filter` function is used to filter out elements in a sequence based on a condition\n",
    "\n",
    "    filter(function, sequence)  --> applies the function for each element in sequence, but the return sequence is same or smaller than input based on the condition in the `function`.\n",
    "    The function should return a bool"
   ]
  },
  {
   "cell_type": "code",
   "execution_count": 9,
   "metadata": {},
   "outputs": [
    {
     "data": {
      "text/plain": [
       "[1, 3, 5, 7]"
      ]
     },
     "execution_count": 9,
     "metadata": {},
     "output_type": "execute_result"
    }
   ],
   "source": [
    "#find only the odd numbers --> list comp way\n",
    "l1_odd = [i for i in l1 if i%2 > 0]\n",
    "l1_odd"
   ]
  },
  {
   "cell_type": "code",
   "execution_count": 13,
   "metadata": {},
   "outputs": [
    {
     "data": {
      "text/plain": [
       "[1, 3, 5, 7]"
      ]
     },
     "execution_count": 13,
     "metadata": {},
     "output_type": "execute_result"
    }
   ],
   "source": [
    "# find only odd numbers --> filter with lambda way\n",
    "l1_odd_2 = list(filter(lambda arg:arg%2>0, l1))\n",
    "l1_odd_2"
   ]
  },
  {
   "cell_type": "code",
   "execution_count": null,
   "metadata": {
    "tags": []
   },
   "outputs": [],
   "source": []
  }
 ],
 "metadata": {
  "anaconda-cloud": {},
  "kernelspec": {
   "display_name": "Python 3 (ipykernel)",
   "language": "python",
   "name": "python3"
  },
  "language_info": {
   "codemirror_mode": {
    "name": "ipython",
    "version": 3
   },
   "file_extension": ".py",
   "mimetype": "text/x-python",
   "name": "python",
   "nbconvert_exporter": "python",
   "pygments_lexer": "ipython3",
   "version": "3.9.7"
  },
  "nbpresent": {
   "slides": {
    "5004b7d3-2f6e-4b0b-ae28-dc334d829c7e": {
     "id": "5004b7d3-2f6e-4b0b-ae28-dc334d829c7e",
     "prev": "df1608ed-5dce-41a0-b82b-a5e6fed11664",
     "regions": {
      "9b95bea7-f729-4641-9c88-b56d2c0767a2": {
       "attrs": {
        "height": 1,
        "width": 1,
        "x": 0,
        "y": 0
       },
       "content": {
        "cell": "f9ee4b69-c3e6-4b15-90dc-06ffaadbd451",
        "part": "source"
       },
       "id": "9b95bea7-f729-4641-9c88-b56d2c0767a2"
      }
     }
    },
    "d855b7eb-dc83-44c0-9e6c-a9faf5d0e8ed": {
     "id": "d855b7eb-dc83-44c0-9e6c-a9faf5d0e8ed",
     "prev": null,
     "regions": {
      "2c6580a6-a0e8-4e28-9933-0b159705bc8e": {
       "attrs": {
        "height": 1,
        "width": 1,
        "x": 0,
        "y": 0
       },
       "content": {
        "cell": "6eb6ae54-534b-4581-9172-4e35fd5b7e94",
        "part": "whole"
       },
       "id": "2c6580a6-a0e8-4e28-9933-0b159705bc8e"
      }
     }
    },
    "df1608ed-5dce-41a0-b82b-a5e6fed11664": {
     "id": "df1608ed-5dce-41a0-b82b-a5e6fed11664",
     "prev": "d855b7eb-dc83-44c0-9e6c-a9faf5d0e8ed",
     "regions": {
      "deb372bf-1bb6-402a-86e0-edac0e7a401e": {
       "attrs": {
        "height": 1,
        "width": 1,
        "x": 0,
        "y": 0
       },
       "content": {
        "cell": "85e9447a-7fa5-44a7-b804-bc73024c1a62",
        "part": "source"
       },
       "id": "deb372bf-1bb6-402a-86e0-edac0e7a401e"
      }
     }
    }
   },
   "themes": {}
  },
  "nikola": {
   "title": "Python - functions"
  }
 },
 "nbformat": 4,
 "nbformat_minor": 4
}
