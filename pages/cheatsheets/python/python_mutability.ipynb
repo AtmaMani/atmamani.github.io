{
 "cells": [
  {
   "cell_type": "markdown",
   "id": "a48bec9d",
   "metadata": {},
   "source": [
    "## What is mutation?\n",
    "\n",
    "**What is mutation**? Is it just changing value? **No**. It is changing value, while retaining the same address in memory."
   ]
  },
  {
   "cell_type": "code",
   "execution_count": 1,
   "id": "8de71e18",
   "metadata": {},
   "outputs": [
    {
     "name": "stdout",
     "output_type": "stream",
     "text": [
      "0x7fd7d8521a50 0x7fd7d8521a50\n",
      "0x7fd7d8521b90 0x7fd7d8521b90\n"
     ]
    }
   ],
   "source": [
    "a = 10\n",
    "print(hex(id(a)), hex(id(10)))\n",
    "a = 20\n",
    "print(hex(id(a)), hex(id(20)))"
   ]
  },
  {
   "cell_type": "markdown",
   "id": "392a5d45",
   "metadata": {},
   "source": [
    "You see from above, when you reassign a value, Python first creates that object in memory, then assigns a reference to that object in memory to the variable. **The original address was not updated, instead a new address was assigned.** This is because **integers are immutable**."
   ]
  },
  {
   "cell_type": "code",
   "execution_count": 3,
   "id": "52a12d9f",
   "metadata": {},
   "outputs": [
    {
     "name": "stdout",
     "output_type": "stream",
     "text": [
      "0x7fd7dcd88cc0\n",
      "0x7fd7dcd88cc0\n",
      "[1, 2, 3, 4]\n"
     ]
    }
   ],
   "source": [
    "a = [1,2,3]\n",
    "print(hex(id(a)))\n",
    "a.append(4)\n",
    "print(hex(id(a)))\n",
    "print(a)"
   ]
  },
  {
   "cell_type": "markdown",
   "id": "bfb99601",
   "metadata": {},
   "source": [
    "Here, the address **remains the same**, while the content was updated. This **is mutation** as **lists are mutables**. A new address space was not assigned. Instead, the contents in the original was updated."
   ]
  },
  {
   "cell_type": "code",
   "execution_count": 5,
   "id": "f80a0c8d",
   "metadata": {},
   "outputs": [
    {
     "name": "stdout",
     "output_type": "stream",
     "text": [
      "1 @ 0x7fd7d8521930\n",
      "2 @ 0x7fd7d8521950\n",
      "3 @ 0x7fd7d8521970\n",
      "4 @ 0x7fd7d8521990\n",
      "10 @ 0x7fd7d8521a50\n"
     ]
    }
   ],
   "source": [
    "a.append(10)\n",
    "for e in a:\n",
    "    print(f'{e} @ {hex(id(e))}')"
   ]
  },
  {
   "cell_type": "markdown",
   "id": "4cc87c96",
   "metadata": {},
   "source": [
    "Each element in the list is a different object at a different address. When we added `10`, the same address as before was assigned (note from earlier cell)."
   ]
  },
  {
   "cell_type": "markdown",
   "id": "4612ae27",
   "metadata": {},
   "source": [
    "## Mutable and immutable data types\n",
    "![](/images/python-mutable-immutable-types.jpg)\n",
    "\n",
    "You can define your classes to be either mutable or immutable.\n",
    "\n",
    "Extending the concept from above, what happens when you assign the same value to two variables?"
   ]
  },
  {
   "cell_type": "code",
   "execution_count": 30,
   "id": "b53d7a67",
   "metadata": {},
   "outputs": [
    {
     "name": "stdout",
     "output_type": "stream",
     "text": [
      "True\n",
      "0x7fd7d8521b90 0x7fd7d8521b90\n"
     ]
    }
   ],
   "source": [
    "c = 20\n",
    "d = 20\n",
    "print(id(c) == id(d))\n",
    "print(hex(id(c)), hex(id(d)))"
   ]
  },
  {
   "cell_type": "code",
   "execution_count": 31,
   "id": "4ea793b7",
   "metadata": {},
   "outputs": [
    {
     "name": "stdout",
     "output_type": "stream",
     "text": [
      "True\n",
      "True\n"
     ]
    }
   ],
   "source": [
    "print(c == d)\n",
    "print(c is d)"
   ]
  },
  {
   "cell_type": "markdown",
   "id": "69fd453f",
   "metadata": {},
   "source": [
    "Above, Python used the same address for both the objects, which is equivalent to writing `c = d = 20`. This is safe since **integers are immutable**."
   ]
  },
  {
   "cell_type": "code",
   "execution_count": 12,
   "id": "04515cd2",
   "metadata": {},
   "outputs": [
    {
     "name": "stdout",
     "output_type": "stream",
     "text": [
      "True\n",
      "0x7fd7dcd8e4c0 0x7fd7dcd8e4c0\n",
      "False\n",
      "0x7fd7dcd8a680 0x7fd7dcd8e980\n"
     ]
    }
   ],
   "source": [
    "e1 = f1 = [20,30,40]  # same address\n",
    "e2 = ['a', 'b']  # different address\n",
    "f2 = ['a', 'b']\n",
    "print(id(e1) == id(f1))\n",
    "print(hex(id(e1)), hex(id(f1)))\n",
    "print(id(e2) == id(f2))\n",
    "print(hex(id(e2)), hex(id(f2)))"
   ]
  },
  {
   "cell_type": "markdown",
   "id": "3155fa1b",
   "metadata": {},
   "source": [
    "In the code above, when you use `var = var2 = value`, then the same address is assigned to both variables. However, in the next pattern, even though the values are identical, Python assigned different addresses since **lists are mutable** and it makes sense to instantiate them separately in memory."
   ]
  },
  {
   "cell_type": "code",
   "execution_count": 13,
   "id": "970e7f91",
   "metadata": {},
   "outputs": [
    {
     "name": "stdout",
     "output_type": "stream",
     "text": [
      "0x7fd7da0b0330 0x7fd7da0b0330\n"
     ]
    }
   ],
   "source": [
    "print(hex(id(e2[0])), hex(id(f2[0])))  # should be the same:"
   ]
  },
  {
   "cell_type": "markdown",
   "id": "9b7b7661",
   "metadata": {},
   "source": [
    "Even thought Python assigned two different lists in memory, the contents of the lists still point to the same string objects in memory as **strings are immutable**."
   ]
  },
  {
   "cell_type": "markdown",
   "id": "17fa2994",
   "metadata": {},
   "source": [
    "### Immutable collections containing mutable elements\n",
    "What happens when a tuple's elements are lists, can you edit the elements? How is mutability considered then?"
   ]
  },
  {
   "cell_type": "code",
   "execution_count": 14,
   "id": "e8e04c2d",
   "metadata": {},
   "outputs": [
    {
     "name": "stdout",
     "output_type": "stream",
     "text": [
      "0x7fd7dcba8cc0\n",
      "0x7fd7dcba8cc0\n"
     ]
    }
   ],
   "source": [
    "l1 = [1,2,3]\n",
    "l2 = ['a','b','c']\n",
    "t1 = (l1, l2)\n",
    "\n",
    "print(hex(id(t1)))  # print address\n",
    "\n",
    "t1[0].append(4)     # is this a mutation? Not actually\n",
    "print(hex(id(t1)))  # print address again and compare"
   ]
  },
  {
   "cell_type": "markdown",
   "id": "1fc9b63b",
   "metadata": {},
   "source": [
    "The tuple is immutable, however, its elements can change because, the tuple's reference to the list remains the same. The list's references got changed, but that does not break the holding tuple's immutability!"
   ]
  },
  {
   "cell_type": "markdown",
   "id": "5f83bf68",
   "metadata": {},
   "source": [
    "## Operations on mutable objects\n",
    "Not all operations on mutable objects are mutable. See below:"
   ]
  },
  {
   "cell_type": "code",
   "execution_count": 20,
   "id": "e2155e96",
   "metadata": {},
   "outputs": [
    {
     "name": "stdout",
     "output_type": "stream",
     "text": [
      "0x7fd7dcd8b540\n",
      "0x7fd7dcd8b540\n",
      "[1, 2, 3, 4, 5]\n",
      "0x7fd7dcd8b940\n"
     ]
    }
   ],
   "source": [
    "l1 = [1,2,3]\n",
    "print(hex(id(l1)))\n",
    "\n",
    "l1.append(4)\n",
    "print(hex(id(l1)))  # should be same as above\n",
    "\n",
    "l1 = l1 + [5]\n",
    "print(l1)\n",
    "print(hex(id(l1)))  # will be different than from an append operation"
   ]
  },
  {
   "cell_type": "markdown",
   "id": "db244ef5",
   "metadata": {},
   "source": [
    "What happened here? When you run `l1 = l1 + [val]`, it evaluates the expression and assigns a new memory for the result, eventhough you ask it to update the same object."
   ]
  },
  {
   "cell_type": "markdown",
   "id": "a812160a",
   "metadata": {},
   "source": [
    "## Function arguments and mutability\n",
    "What happens when a function changes or modifies one of its parameters' value? Will it change it outside the function as well since **python is pass by reference**?"
   ]
  },
  {
   "cell_type": "code",
   "execution_count": 21,
   "id": "eae5845a",
   "metadata": {},
   "outputs": [],
   "source": [
    "def modify_str(s):\n",
    "    print(f'Incoming s @ : {hex(id(s))}')\n",
    "    s = s + \" world\"\n",
    "    print(f'Post OP  s @ : {hex(id(s))}')"
   ]
  },
  {
   "cell_type": "code",
   "execution_count": 22,
   "id": "1604cabc",
   "metadata": {},
   "outputs": [
    {
     "name": "stdout",
     "output_type": "stream",
     "text": [
      "0x7fd7dc7000b0\n",
      "Incoming s @ : 0x7fd7dc7000b0\n",
      "Post OP  s @ : 0x7fd7dcd826f0\n",
      "hello\n",
      "0x7fd7dc7000b0\n"
     ]
    }
   ],
   "source": [
    "s = 'hello'\n",
    "print(hex(id(s)))\n",
    "modify_str(s)\n",
    "print(s)\n",
    "print(hex(id(s)))"
   ]
  },
  {
   "cell_type": "markdown",
   "id": "6f8932af",
   "metadata": {},
   "source": [
    "The address of `s` inside the func is initially the same. But when an operation was ran, since **strings are immutable**, a new object was created. However, outside the scope of the function, the value of `s` remains the same and at the same address. "
   ]
  },
  {
   "cell_type": "code",
   "execution_count": 29,
   "id": "2cbb95ec",
   "metadata": {},
   "outputs": [
    {
     "name": "stdout",
     "output_type": "stream",
     "text": [
      "Outside list @ : 0x7fd7de1a7f00\n",
      "Incoming list @ : 0x7fd7de1a7f00\n",
      "PostOp   list @ : 0x7fd7de1a7f00\n",
      "[1, 2, 3, 200]\n",
      "Outside list @ : 0x7fd7de1a7f00\n"
     ]
    }
   ],
   "source": [
    "def modify_lst(l):\n",
    "    print(f'Incoming list @ : {hex(id(l))}')\n",
    "    l.append(200)\n",
    "    print(f'PostOp   list @ : {hex(id(l))}')\n",
    "\n",
    "l1 = [1,2,3]\n",
    "print(f'Outside list @ : {hex(id(l1))}')\n",
    "modify_lst(l1)\n",
    "print(l1)\n",
    "print(f'Outside list @ : {hex(id(l1))}')"
   ]
  },
  {
   "cell_type": "markdown",
   "id": "be8e85c1",
   "metadata": {},
   "source": [
    "Thus, functions can modify the value of variables outside their scope as well, since Python is **pass by reference**."
   ]
  }
 ],
 "metadata": {
  "kernelspec": {
   "display_name": "Python 3 (ipykernel)",
   "language": "python",
   "name": "python3"
  },
  "language_info": {
   "codemirror_mode": {
    "name": "ipython",
    "version": 3
   },
   "file_extension": ".py",
   "mimetype": "text/x-python",
   "name": "python",
   "nbconvert_exporter": "python",
   "pygments_lexer": "ipython3",
   "version": "3.9.7"
  },
  "nikola": {
   "title": "Python - mutability, immutability"
  }
 },
 "nbformat": 4,
 "nbformat_minor": 5
}
