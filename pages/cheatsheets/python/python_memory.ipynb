{
 "cells": [
  {
   "cell_type": "markdown",
   "id": "3462d6df",
   "metadata": {},
   "source": [
    "## Memory in Python\n",
    "\n",
    "In Python, everything is an object and is stored in memory. This memory is the **`heap`**. The `id()` func will give you the address of any obj and when you pass that to `hex()`,  you can turn that base-10 address to hex notation for reading.\n",
    "\n",
    "When you create a variable and assign value, the value gets stored in memory first, then the address to the value is attached to the variable. Thus if you create another variable and point to the first, the address is additionally attached to the new variable, making it a **pass by reference** in Python."
   ]
  },
  {
   "cell_type": "code",
   "execution_count": 105,
   "id": "f063663a",
   "metadata": {},
   "outputs": [
    {
     "name": "stdout",
     "output_type": "stream",
     "text": [
      "140485609004080\n",
      "0x7fc55ad21c30\n"
     ]
    }
   ],
   "source": [
    "a = 25\n",
    "print(id(a)) # decimal or base 10\n",
    "print(hex(id(a))) # hex or base 8 version"
   ]
  },
  {
   "cell_type": "markdown",
   "id": "e668fcf0",
   "metadata": {},
   "source": [
    "### Reference counter in Python\n",
    "Python memory manager maintains a reference count for all objects in memory. You can access it via `sys.getrefcount()` function. But this has **an artifact which bumps the count by 1**. This is because when you run the function, it ends up accessing the object and that act shows up as another instance.\n",
    "\n",
    "You can subtract `1` from `sys.getrefcount()` or use a lower level function `ctypes.c_long.from_address(var_address).value` which will not have this artifact. But, this function needs the address of the object directly."
   ]
  },
  {
   "cell_type": "code",
   "execution_count": 106,
   "id": "8ea156da",
   "metadata": {},
   "outputs": [
    {
     "name": "stdout",
     "output_type": "stream",
     "text": [
      "True\n",
      "True\n",
      "True\n",
      "0x7fc560949ec0\n"
     ]
    }
   ],
   "source": [
    "l1 = [3, 'baby', 5, -10]\n",
    "l2 = l1\n",
    "print(id(l1) == id(l2))  # pass by reference\n",
    "print(l2 == l1) # True\n",
    "print(l2 is l1) # ? also True\n",
    "print(hex(id(l1)))"
   ]
  },
  {
   "cell_type": "code",
   "execution_count": 55,
   "id": "a0c77920",
   "metadata": {},
   "outputs": [
    {
     "data": {
      "text/plain": [
       "(3, 3)"
      ]
     },
     "execution_count": 55,
     "metadata": {},
     "output_type": "execute_result"
    }
   ],
   "source": [
    "# use sys module to count reference\n",
    "import sys\n",
    "sys.getrefcount(l1), sys.getrefcount(l2)  # will bump both by 1, resulting in 3"
   ]
  },
  {
   "cell_type": "code",
   "execution_count": 56,
   "id": "a7debb5c",
   "metadata": {},
   "outputs": [],
   "source": [
    "# use lower level ctypes\n",
    "def lower_ref_count(var_address: int) -> int:\n",
    "    import ctypes\n",
    "    return ctypes.c_long.from_address(var_address).value"
   ]
  },
  {
   "cell_type": "code",
   "execution_count": 57,
   "id": "db978ae0",
   "metadata": {},
   "outputs": [
    {
     "data": {
      "text/plain": [
       "(2, 2)"
      ]
     },
     "execution_count": 57,
     "metadata": {},
     "output_type": "execute_result"
    }
   ],
   "source": [
    "lower_ref_count(id(l1)), lower_ref_count(id(l2))  # should return 2"
   ]
  },
  {
   "cell_type": "code",
   "execution_count": 58,
   "id": "f3f6dfab",
   "metadata": {},
   "outputs": [
    {
     "data": {
      "text/plain": [
       "4"
      ]
     },
     "execution_count": 58,
     "metadata": {},
     "output_type": "execute_result"
    }
   ],
   "source": [
    "l3 = l2\n",
    "sys.getrefcount(l1)  # should return 4"
   ]
  },
  {
   "cell_type": "markdown",
   "id": "0f23912f",
   "metadata": {},
   "source": [
    "Now, let us free up the variables and see what happens to the reference counts"
   ]
  },
  {
   "cell_type": "code",
   "execution_count": 59,
   "id": "64147fad",
   "metadata": {},
   "outputs": [
    {
     "name": "stdout",
     "output_type": "stream",
     "text": [
      "3\n",
      "2\n"
     ]
    }
   ],
   "source": [
    "l3 = 'apple'\n",
    "print(sys.getrefcount(l1)) # returns one less now\n",
    "print(lower_ref_count(id(l1)))"
   ]
  },
  {
   "cell_type": "markdown",
   "id": "b3fc2a80",
   "metadata": {},
   "source": [
    "Now, if you unset `l1` then `l2` still points to the same object in memory. So the ref count should be down to `1` not `0`."
   ]
  },
  {
   "cell_type": "code",
   "execution_count": 60,
   "id": "7cba0d5b",
   "metadata": {},
   "outputs": [
    {
     "name": "stdout",
     "output_type": "stream",
     "text": [
      "[3, 'baby', 5, -10]\n",
      "2\n",
      "1\n"
     ]
    }
   ],
   "source": [
    "# unset the original var\n",
    "l1 = None\n",
    "print(l2)\n",
    "print(sys.getrefcount(l2)) # returns 2\n",
    "print(lower_ref_count(id(l2))) # returns to 1"
   ]
  },
  {
   "cell_type": "markdown",
   "id": "d855d557",
   "metadata": {},
   "source": [
    "Now, if you remove all references to the obj, what happens to the ref count to that address??"
   ]
  },
  {
   "cell_type": "code",
   "execution_count": 63,
   "id": "a6399bb3",
   "metadata": {},
   "outputs": [],
   "source": [
    "l2_id = id(l2)\n",
    "l2 = 'apple'"
   ]
  },
  {
   "cell_type": "code",
   "execution_count": 62,
   "id": "e1d2863a",
   "metadata": {},
   "outputs": [
    {
     "name": "stdout",
     "output_type": "stream",
     "text": [
      "0\n"
     ]
    }
   ],
   "source": [
    "print(lower_ref_count(l2_id))  # returns to 0"
   ]
  },
  {
   "cell_type": "code",
   "execution_count": 65,
   "id": "dd310d78",
   "metadata": {},
   "outputs": [
    {
     "name": "stdout",
     "output_type": "stream",
     "text": [
      "2\n"
     ]
    }
   ],
   "source": [
    "print(lower_ref_count(l2_id))  # now, Python has assigned or reused that address to store something else"
   ]
  },
  {
   "cell_type": "markdown",
   "id": "d5d09074",
   "metadata": {},
   "source": [
    "> In Python, we typically don't work with memory addresses or ref counts in Python. But it can be helpful to debug memory leaks and circular reference issues."
   ]
  },
  {
   "cell_type": "markdown",
   "id": "a638f4b0",
   "metadata": {},
   "source": [
    "## Garbabe collection\n",
    "\n",
    "In Python, the **`gc`** module represents the garbage collector. The GC uses reference counters and a few other logic to do its work. The duty of the GC is to free up address spaces once a variable / object is no longer needed. The GC runs in the background and in general, it is not predictable when a variable will be removed once its reference count drops to 0."
   ]
  },
  {
   "cell_type": "code",
   "execution_count": 68,
   "id": "54b17bc0",
   "metadata": {},
   "outputs": [
    {
     "data": {
      "text/plain": [
       "143623"
      ]
     },
     "execution_count": 68,
     "metadata": {},
     "output_type": "execute_result"
    }
   ],
   "source": [
    "import gc\n",
    "len(gc.get_objects())  ## returns the list of all objects gc tracks"
   ]
  },
  {
   "cell_type": "markdown",
   "id": "d7a8fe79",
   "metadata": {},
   "source": [
    "It is suprising how many objects the gc keeps track of."
   ]
  },
  {
   "cell_type": "code",
   "execution_count": 69,
   "id": "42c1d78a",
   "metadata": {},
   "outputs": [
    {
     "name": "stdout",
     "output_type": "stream",
     "text": [
      "<cell at 0x7fc5605d8fd0: module object at 0x7fc55c55c310>\n"
     ]
    }
   ],
   "source": [
    "print(gc.get_objects()[0])"
   ]
  },
  {
   "cell_type": "code",
   "execution_count": 70,
   "id": "b090807e",
   "metadata": {},
   "outputs": [
    {
     "name": "stdout",
     "output_type": "stream",
     "text": [
      "(<class 'inspect._signature_fromstr.<locals>.RewriteSymbolics'>, <class 'ast.NodeTransformer'>, <class 'ast.NodeVisitor'>, <class 'object'>)\n"
     ]
    }
   ],
   "source": [
    "print(gc.get_objects()[100])"
   ]
  },
  {
   "cell_type": "markdown",
   "id": "51531be9",
   "metadata": {},
   "source": [
    "### Circular references\n",
    "\n",
    "To illustrate the effect of garbage collection, let us set up a complicated (and potentially bad) code that involves a circular reference.\n",
    "\n",
    "![](/images/circular_reference.jpg)\n",
    "\n",
    "The variable `my_var` points to `A`, but `A` has a property `var_1` that points to `B` and `B` has a property `var_2` which points back to `A`. If `my_var` is removed or reassigned, then the ref counts of `A` and `B` would still be `1` each because of the circular reference.\n",
    "\n",
    "Will these objects get ever cleaned up, since their ref counts will not drop to `0`? Yes, the garbage collector can, in general, resolve circular references and will clean them up. If you need to represent something in **circ-ref**, then you can customize the `__del__()` the **destructor** method of the objects to represent any specific things to be done upon clean up.\n",
    "\n",
    "However, prior to **Python 3.5**, the GC would fail to resolve circular references if it had a custom destructor and these would not be cleaned up, leading to **memory leaks**. However, in modern versions, the gc can remove objects entangled in circular references as well. Because of this, we need to manually pause the gc to illustrate the scenario below:"
   ]
  },
  {
   "cell_type": "code",
   "execution_count": 71,
   "id": "1de5fbf4",
   "metadata": {},
   "outputs": [],
   "source": [
    "import ctypes, gc\n",
    "\n",
    "def lower_ref_count(var_address:int) -> int:\n",
    "    return ctypes.c_long.from_address(var_address).value\n",
    "\n",
    "def object_in_gc(var_address: int) -> bool:\n",
    "    \"\"\"Checks if the given mem address is in Garbage collector table\"\"\"\n",
    "    for obj in gc.get_objects():\n",
    "        if id(obj) == var_address:\n",
    "            return True\n",
    "    return False"
   ]
  },
  {
   "cell_type": "markdown",
   "id": "e968d28c",
   "metadata": {},
   "source": [
    "Now let us define 2 classes that will implement the circ-ref shown above."
   ]
  },
  {
   "cell_type": "code",
   "execution_count": 88,
   "id": "4787781c",
   "metadata": {},
   "outputs": [],
   "source": [
    "class A:\n",
    "    def __init__(self):\n",
    "        self.b = B(self)  # construct instance of B using an instance of A\n",
    "        print(f'A: self: {hex(id(self))}, b: {hex(id(self.b))}')\n",
    "\n",
    "class B:\n",
    "    def __init__(self, A):\n",
    "        self.a = A  # other half of circ-ref\n",
    "        print(f\"B: self: {hex(id(self))}, a: {hex(id(self.a))}\")"
   ]
  },
  {
   "cell_type": "code",
   "execution_count": 89,
   "id": "6feee71f",
   "metadata": {},
   "outputs": [],
   "source": [
    "# disable garbage collector\n",
    "gc.disable()"
   ]
  },
  {
   "cell_type": "code",
   "execution_count": 90,
   "id": "f2159cbe",
   "metadata": {},
   "outputs": [
    {
     "name": "stdout",
     "output_type": "stream",
     "text": [
      "B: self: 0x7fc560bb8670, a: 0x7fc560bb8490\n",
      "A: self: 0x7fc560bb8490, b: 0x7fc560bb8670\n"
     ]
    }
   ],
   "source": [
    "my_var = A()"
   ]
  },
  {
   "cell_type": "code",
   "execution_count": 91,
   "id": "86b0655b",
   "metadata": {},
   "outputs": [
    {
     "data": {
      "text/plain": [
       "'0x7fc560bb8490'"
      ]
     },
     "execution_count": 91,
     "metadata": {},
     "output_type": "execute_result"
    }
   ],
   "source": [
    "hex(id(my_var))  # should return the same address as that of A"
   ]
  },
  {
   "cell_type": "code",
   "execution_count": 92,
   "id": "29f44d42",
   "metadata": {},
   "outputs": [
    {
     "name": "stdout",
     "output_type": "stream",
     "text": [
      "0x7fc560bb8670\n",
      "True\n"
     ]
    }
   ],
   "source": [
    "print(hex(id(my_var.b)))  # should returnt he same address as that of B\n",
    "print(hex(id(my_var)) == hex(id(my_var.b.a)))  # should eval to True"
   ]
  },
  {
   "cell_type": "markdown",
   "id": "5a9529e9",
   "metadata": {},
   "source": [
    "Now, let us store the addresses into vars"
   ]
  },
  {
   "cell_type": "code",
   "execution_count": 93,
   "id": "721be938",
   "metadata": {},
   "outputs": [],
   "source": [
    "a_add = id(my_var)\n",
    "b_add = id(my_var.b)"
   ]
  },
  {
   "cell_type": "code",
   "execution_count": 94,
   "id": "4162ba80",
   "metadata": {},
   "outputs": [
    {
     "name": "stdout",
     "output_type": "stream",
     "text": [
      "2\n",
      "1\n"
     ]
    }
   ],
   "source": [
    "print(lower_ref_count(a_add)) ## should be 2  as my_var and B point to A\n",
    "print(lower_ref_count(b_add)) ## should be 1 as only A points to B"
   ]
  },
  {
   "cell_type": "markdown",
   "id": "b76b6cfc",
   "metadata": {},
   "source": [
    "Next, let us check if these objs are on the GC table"
   ]
  },
  {
   "cell_type": "code",
   "execution_count": 95,
   "id": "b09da090",
   "metadata": {},
   "outputs": [
    {
     "name": "stdout",
     "output_type": "stream",
     "text": [
      "True\n",
      "True\n"
     ]
    }
   ],
   "source": [
    "print(object_in_gc(a_add))\n",
    "print(object_in_gc(b_add))"
   ]
  },
  {
   "cell_type": "markdown",
   "id": "55273161",
   "metadata": {},
   "source": [
    "**Delete my_var** and see how the GC behaves"
   ]
  },
  {
   "cell_type": "code",
   "execution_count": 96,
   "id": "c1256a76",
   "metadata": {},
   "outputs": [
    {
     "name": "stdout",
     "output_type": "stream",
     "text": [
      "1\n",
      "1\n"
     ]
    }
   ],
   "source": [
    "my_var = None\n",
    "print(lower_ref_count(a_add)) ## should be 1\n",
    "print(lower_ref_count(b_add)) ## should be 1 all because of circ-ref"
   ]
  },
  {
   "cell_type": "markdown",
   "id": "1b5a6661",
   "metadata": {},
   "source": [
    "### Enable garbage collection"
   ]
  },
  {
   "cell_type": "code",
   "execution_count": 97,
   "id": "05f495c2",
   "metadata": {},
   "outputs": [
    {
     "data": {
      "text/plain": [
       "6946"
      ]
     },
     "execution_count": 97,
     "metadata": {},
     "output_type": "execute_result"
    }
   ],
   "source": [
    "gc.collect()"
   ]
  },
  {
   "cell_type": "code",
   "execution_count": 98,
   "id": "f40b8555",
   "metadata": {},
   "outputs": [
    {
     "name": "stdout",
     "output_type": "stream",
     "text": [
      "False\n",
      "True\n"
     ]
    }
   ],
   "source": [
    "print(object_in_gc(a_add))\n",
    "print(object_in_gc(b_add))  # we caught it while it was cleaning up!!!"
   ]
  },
  {
   "cell_type": "code",
   "execution_count": 99,
   "id": "f5d3838b",
   "metadata": {},
   "outputs": [
    {
     "name": "stdout",
     "output_type": "stream",
     "text": [
      "False\n",
      "False\n"
     ]
    }
   ],
   "source": [
    "print(object_in_gc(a_add))\n",
    "print(object_in_gc(b_add)) # cleaned up"
   ]
  },
  {
   "cell_type": "markdown",
   "id": "5fdb95d5",
   "metadata": {},
   "source": [
    "Let us check the ref count of our addresses, buckle up!"
   ]
  },
  {
   "cell_type": "code",
   "execution_count": 100,
   "id": "1cccab58",
   "metadata": {},
   "outputs": [
    {
     "name": "stdout",
     "output_type": "stream",
     "text": [
      "1\n",
      "1\n"
     ]
    }
   ],
   "source": [
    "print(lower_ref_count(a_add)) \n",
    "print(lower_ref_count(b_add)) "
   ]
  },
  {
   "cell_type": "code",
   "execution_count": 101,
   "id": "ba2137a3",
   "metadata": {},
   "outputs": [
    {
     "name": "stdout",
     "output_type": "stream",
     "text": [
      "1\n",
      "1\n"
     ]
    }
   ],
   "source": [
    "print(lower_ref_count(a_add)) \n",
    "print(lower_ref_count(b_add)) "
   ]
  },
  {
   "cell_type": "code",
   "execution_count": 102,
   "id": "6741b5d2",
   "metadata": {},
   "outputs": [
    {
     "name": "stdout",
     "output_type": "stream",
     "text": [
      "1\n",
      "1\n"
     ]
    }
   ],
   "source": [
    "print(lower_ref_count(a_add)) \n",
    "print(lower_ref_count(b_add)) "
   ]
  },
  {
   "cell_type": "markdown",
   "id": "57fffbd8",
   "metadata": {},
   "source": [
    "Well, this is why the ref count and garbage collection in Python is not generally handled directly by developers. It is not deterministic. Use these only to debug mem leaks!!"
   ]
  },
  {
   "cell_type": "code",
   "execution_count": 104,
   "id": "c3f21140",
   "metadata": {
    "scrolled": true
   },
   "outputs": [
    {
     "name": "stdout",
     "output_type": "stream",
     "text": [
      "1\n",
      "1\n"
     ]
    }
   ],
   "source": [
    "# last time\n",
    "print(lower_ref_count(a_add)) \n",
    "print(lower_ref_count(b_add)) "
   ]
  },
  {
   "cell_type": "markdown",
   "id": "a3bd4cc0",
   "metadata": {},
   "source": [
    "## Side bar - ref counts of singletons\n",
    "We know `None`, `True` etc are singletons, so what is its ref count?"
   ]
  },
  {
   "cell_type": "code",
   "execution_count": 109,
   "id": "da9f34ac",
   "metadata": {},
   "outputs": [
    {
     "name": "stdout",
     "output_type": "stream",
     "text": [
      "4438825936 4438746400\n"
     ]
    }
   ],
   "source": [
    "none_id = id(None)\n",
    "true_id = id(True)\n",
    "print(none_id, true_id)"
   ]
  },
  {
   "cell_type": "code",
   "execution_count": 111,
   "id": "b7332f34",
   "metadata": {},
   "outputs": [
    {
     "name": "stdout",
     "output_type": "stream",
     "text": [
      "2\n",
      "2\n",
      "35946\n",
      "7018\n"
     ]
    }
   ],
   "source": [
    "print(sys.getrefcount(none_id))\n",
    "print(sys.getrefcount(true_id))\n",
    "print(lower_ref_count(none_id))\n",
    "print(lower_ref_count(true_id))"
   ]
  },
  {
   "cell_type": "markdown",
   "id": "aed7313a",
   "metadata": {},
   "source": [
    "Now this is why, you need to be careful with the lower level C types ;-)"
   ]
  },
  {
   "cell_type": "markdown",
   "id": "394c0deb",
   "metadata": {},
   "source": [
    "## Side bar - copy function"
   ]
  },
  {
   "cell_type": "code",
   "execution_count": 113,
   "id": "bca8c084",
   "metadata": {},
   "outputs": [
    {
     "name": "stdout",
     "output_type": "stream",
     "text": [
      "True\n",
      "False\n"
     ]
    }
   ],
   "source": [
    "from copy import copy\n",
    "l4 = [4,5,6,7]\n",
    "l5 = copy(l4)\n",
    "\n",
    "print(l4 == l5)\n",
    "print(l4 is l5)  # false as it is a new copy"
   ]
  },
  {
   "cell_type": "code",
   "execution_count": 114,
   "id": "0787aef8",
   "metadata": {},
   "outputs": [
    {
     "name": "stdout",
     "output_type": "stream",
     "text": [
      "0x7fc5609e89c0\n",
      "0x7fc560bce500\n"
     ]
    }
   ],
   "source": [
    "# lets prove it, the hex should be different\n",
    "print(hex(id(l4)))\n",
    "print(hex(id(l5)))"
   ]
  }
 ],
 "metadata": {
  "kernelspec": {
   "display_name": "Python 3 (ipykernel)",
   "language": "python",
   "name": "python3"
  },
  "language_info": {
   "codemirror_mode": {
    "name": "ipython",
    "version": 3
   },
   "file_extension": ".py",
   "mimetype": "text/x-python",
   "name": "python",
   "nbconvert_exporter": "python",
   "pygments_lexer": "ipython3",
   "version": "3.9.7"
  },
  "nikola": {
   "title": "Python - memory, reference counts, garbage collection"
  }
 },
 "nbformat": 4,
 "nbformat_minor": 5
}
