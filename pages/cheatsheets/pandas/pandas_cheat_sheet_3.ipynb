{
 "cells": [
  {
   "cell_type": "markdown",
   "metadata": {},
   "source": [
    "Productivity with pandas\n",
    "==============================\n",
    "![](http://pandas.pydata.org/_static/pandas_logo.png)"
   ]
  },
  {
   "cell_type": "markdown",
   "metadata": {
    "toc": true
   },
   "source": [
    "<h1>Table of Contents<span class=\"tocSkip\"></span></h1>\n",
    "<div class=\"toc\"><ul class=\"toc-item\"><li><span><a href=\"#unique---find-unique-rows\" data-toc-modified-id=\"unique---find-unique-rows-1\">unique - find unique rows</a></span><ul class=\"toc-item\"><li><span><a href=\"#nunique---find-number-of-unique-rows\" data-toc-modified-id=\"nunique---find-number-of-unique-rows-1.1\">nunique - find number of unique rows</a></span></li><li><span><a href=\"#value_counts---find-unique-values-and-number-of-occurrences\" data-toc-modified-id=\"value_counts---find-unique-values-and-number-of-occurrences-1.2\">value_counts - find unique values and number of occurrences</a></span></li></ul></li><li><span><a href=\"#apply---batch-process-column-values\" data-toc-modified-id=\"apply---batch-process-column-values-2\">apply - batch process column values</a></span></li><li><span><a href=\"#sort_values---sorting-rows\" data-toc-modified-id=\"sort_values---sorting-rows-3\">sort_values - sorting rows</a></span></li><li><span><a href=\"#isnull---finding-null-values-throughout-the-DataFrame\" data-toc-modified-id=\"isnull---finding-null-values-throughout-the-DataFrame-4\">isnull - finding null values throughout the DataFrame</a></span></li><li><span><a href=\"#Working-with-time-series-data\" data-toc-modified-id=\"Working-with-time-series-data-5\">Working with time series data</a></span><ul class=\"toc-item\"><li><span><a href=\"#Plotting-time-series\" data-toc-modified-id=\"Plotting-time-series-5.1\">Plotting time series</a></span></li><li><span><a href=\"#Sort-dataframe-by-time\" data-toc-modified-id=\"Sort-dataframe-by-time-5.2\">Sort dataframe by time</a></span></li><li><span><a href=\"#Add-a-counter-column-to-the-dataframe\" data-toc-modified-id=\"Add-a-counter-column-to-the-dataframe-5.3\">Add a counter column to the dataframe</a></span></li></ul></li></ul></div>"
   ]
  },
  {
   "cell_type": "markdown",
   "metadata": {
    "collapsed": true
   },
   "source": [
    "## unique - find unique rows\n",
    "Find unique rows in dataset"
   ]
  },
  {
   "cell_type": "code",
   "execution_count": 28,
   "metadata": {},
   "outputs": [],
   "source": [
    "import pandas as pd\n",
    "import matplotlib.pyplot as plt\n",
    "\n",
    "%matplotlib inline"
   ]
  },
  {
   "cell_type": "code",
   "execution_count": 2,
   "metadata": {},
   "outputs": [
    {
     "data": {
      "text/html": [
       "<div>\n",
       "<table border=\"1\" class=\"dataframe\">\n",
       "  <thead>\n",
       "    <tr style=\"text-align: right;\">\n",
       "      <th></th>\n",
       "      <th>Company</th>\n",
       "      <th>Person</th>\n",
       "      <th>Sales</th>\n",
       "    </tr>\n",
       "  </thead>\n",
       "  <tbody>\n",
       "    <tr>\n",
       "      <th>0</th>\n",
       "      <td>GOOG</td>\n",
       "      <td>Sam</td>\n",
       "      <td>200</td>\n",
       "    </tr>\n",
       "    <tr>\n",
       "      <th>1</th>\n",
       "      <td>GOOG</td>\n",
       "      <td>Charlie</td>\n",
       "      <td>120</td>\n",
       "    </tr>\n",
       "    <tr>\n",
       "      <th>2</th>\n",
       "      <td>MSFT</td>\n",
       "      <td>Amy</td>\n",
       "      <td>340</td>\n",
       "    </tr>\n",
       "    <tr>\n",
       "      <th>3</th>\n",
       "      <td>MSFT</td>\n",
       "      <td>Vanessa</td>\n",
       "      <td>124</td>\n",
       "    </tr>\n",
       "    <tr>\n",
       "      <th>4</th>\n",
       "      <td>FB</td>\n",
       "      <td>Carl</td>\n",
       "      <td>243</td>\n",
       "    </tr>\n",
       "    <tr>\n",
       "      <th>5</th>\n",
       "      <td>FB</td>\n",
       "      <td>Sarah</td>\n",
       "      <td>350</td>\n",
       "    </tr>\n",
       "  </tbody>\n",
       "</table>\n",
       "</div>"
      ],
      "text/plain": [
       "  Company   Person  Sales\n",
       "0    GOOG      Sam    200\n",
       "1    GOOG  Charlie    120\n",
       "2    MSFT      Amy    340\n",
       "3    MSFT  Vanessa    124\n",
       "4      FB     Carl    243\n",
       "5      FB    Sarah    350"
      ]
     },
     "execution_count": 2,
     "metadata": {},
     "output_type": "execute_result"
    }
   ],
   "source": [
    "comp_data = {'Company':['GOOG','GOOG','MSFT','MSFT','FB','FB'],\n",
    "       'Person':['Sam','Charlie','Amy','Vanessa','Carl','Sarah'],\n",
    "       'Sales':[200,120,340,124,243,350]}\n",
    "\n",
    "comp_df = pd.DataFrame(comp_data)\n",
    "comp_df"
   ]
  },
  {
   "cell_type": "code",
   "execution_count": 3,
   "metadata": {},
   "outputs": [
    {
     "data": {
      "text/plain": [
       "array(['GOOG', 'MSFT', 'FB'], dtype=object)"
      ]
     },
     "execution_count": 3,
     "metadata": {},
     "output_type": "execute_result"
    }
   ],
   "source": [
    "# find unique company names\n",
    "comp_df['Company'].unique()"
   ]
  },
  {
   "cell_type": "markdown",
   "metadata": {},
   "source": [
    "### nunique - find number of unique rows\n",
    "More efficient than finding the unique array and finding the length of it."
   ]
  },
  {
   "cell_type": "code",
   "execution_count": 4,
   "metadata": {},
   "outputs": [
    {
     "data": {
      "text/plain": [
       "3"
      ]
     },
     "execution_count": 4,
     "metadata": {},
     "output_type": "execute_result"
    }
   ],
   "source": [
    "comp_df['Company'].nunique()"
   ]
  },
  {
   "cell_type": "markdown",
   "metadata": {},
   "source": [
    "### value_counts - find unique values and number of occurrences"
   ]
  },
  {
   "cell_type": "code",
   "execution_count": 5,
   "metadata": {},
   "outputs": [
    {
     "data": {
      "text/plain": [
       "GOOG    2\n",
       "FB      2\n",
       "MSFT    2\n",
       "Name: Company, dtype: int64"
      ]
     },
     "execution_count": 5,
     "metadata": {},
     "output_type": "execute_result"
    }
   ],
   "source": [
    "comp_df['Company'].value_counts()"
   ]
  },
  {
   "cell_type": "markdown",
   "metadata": {},
   "source": [
    "## apply - batch process column values\n",
    "Calling the apply() is similar to calling the `map()` in Python. It can apply an operation on all records of a selected column. For instance, to find the squared sales, do the following"
   ]
  },
  {
   "cell_type": "code",
   "execution_count": 6,
   "metadata": {},
   "outputs": [
    {
     "data": {
      "text/html": [
       "<div>\n",
       "<table border=\"1\" class=\"dataframe\">\n",
       "  <thead>\n",
       "    <tr style=\"text-align: right;\">\n",
       "      <th></th>\n",
       "      <th>Company</th>\n",
       "      <th>Person</th>\n",
       "      <th>Sales</th>\n",
       "      <th>sq_sales</th>\n",
       "    </tr>\n",
       "  </thead>\n",
       "  <tbody>\n",
       "    <tr>\n",
       "      <th>0</th>\n",
       "      <td>GOOG</td>\n",
       "      <td>Sam</td>\n",
       "      <td>200</td>\n",
       "      <td>40000</td>\n",
       "    </tr>\n",
       "    <tr>\n",
       "      <th>1</th>\n",
       "      <td>GOOG</td>\n",
       "      <td>Charlie</td>\n",
       "      <td>120</td>\n",
       "      <td>14400</td>\n",
       "    </tr>\n",
       "    <tr>\n",
       "      <th>2</th>\n",
       "      <td>MSFT</td>\n",
       "      <td>Amy</td>\n",
       "      <td>340</td>\n",
       "      <td>115600</td>\n",
       "    </tr>\n",
       "    <tr>\n",
       "      <th>3</th>\n",
       "      <td>MSFT</td>\n",
       "      <td>Vanessa</td>\n",
       "      <td>124</td>\n",
       "      <td>15376</td>\n",
       "    </tr>\n",
       "    <tr>\n",
       "      <th>4</th>\n",
       "      <td>FB</td>\n",
       "      <td>Carl</td>\n",
       "      <td>243</td>\n",
       "      <td>59049</td>\n",
       "    </tr>\n",
       "    <tr>\n",
       "      <th>5</th>\n",
       "      <td>FB</td>\n",
       "      <td>Sarah</td>\n",
       "      <td>350</td>\n",
       "      <td>122500</td>\n",
       "    </tr>\n",
       "  </tbody>\n",
       "</table>\n",
       "</div>"
      ],
      "text/plain": [
       "  Company   Person  Sales  sq_sales\n",
       "0    GOOG      Sam    200     40000\n",
       "1    GOOG  Charlie    120     14400\n",
       "2    MSFT      Amy    340    115600\n",
       "3    MSFT  Vanessa    124     15376\n",
       "4      FB     Carl    243     59049\n",
       "5      FB    Sarah    350    122500"
      ]
     },
     "execution_count": 6,
     "metadata": {},
     "output_type": "execute_result"
    }
   ],
   "source": [
    "comp_df['sq_sales'] = comp_df['Sales'].apply(lambda x:x*x)\n",
    "comp_df"
   ]
  },
  {
   "cell_type": "markdown",
   "metadata": {},
   "source": [
    "We can also define a function and call that within the `apply()` method. This can accept values of one or more columns to calculate a new column."
   ]
  },
  {
   "cell_type": "code",
   "execution_count": 9,
   "metadata": {},
   "outputs": [
    {
     "data": {
      "text/html": [
       "<div>\n",
       "<table border=\"1\" class=\"dataframe\">\n",
       "  <thead>\n",
       "    <tr style=\"text-align: right;\">\n",
       "      <th></th>\n",
       "      <th>Company</th>\n",
       "      <th>Person</th>\n",
       "      <th>Sales</th>\n",
       "      <th>sq_sales</th>\n",
       "      <th>cu_sales</th>\n",
       "    </tr>\n",
       "  </thead>\n",
       "  <tbody>\n",
       "    <tr>\n",
       "      <th>0</th>\n",
       "      <td>GOOG</td>\n",
       "      <td>Sam</td>\n",
       "      <td>200</td>\n",
       "      <td>40000</td>\n",
       "      <td>8000000</td>\n",
       "    </tr>\n",
       "    <tr>\n",
       "      <th>1</th>\n",
       "      <td>GOOG</td>\n",
       "      <td>Charlie</td>\n",
       "      <td>120</td>\n",
       "      <td>14400</td>\n",
       "      <td>1728000</td>\n",
       "    </tr>\n",
       "    <tr>\n",
       "      <th>2</th>\n",
       "      <td>MSFT</td>\n",
       "      <td>Amy</td>\n",
       "      <td>340</td>\n",
       "      <td>115600</td>\n",
       "      <td>39304000</td>\n",
       "    </tr>\n",
       "    <tr>\n",
       "      <th>3</th>\n",
       "      <td>MSFT</td>\n",
       "      <td>Vanessa</td>\n",
       "      <td>124</td>\n",
       "      <td>15376</td>\n",
       "      <td>1906624</td>\n",
       "    </tr>\n",
       "    <tr>\n",
       "      <th>4</th>\n",
       "      <td>FB</td>\n",
       "      <td>Carl</td>\n",
       "      <td>243</td>\n",
       "      <td>59049</td>\n",
       "      <td>14348907</td>\n",
       "    </tr>\n",
       "    <tr>\n",
       "      <th>5</th>\n",
       "      <td>FB</td>\n",
       "      <td>Sarah</td>\n",
       "      <td>350</td>\n",
       "      <td>122500</td>\n",
       "      <td>42875000</td>\n",
       "    </tr>\n",
       "  </tbody>\n",
       "</table>\n",
       "</div>"
      ],
      "text/plain": [
       "  Company   Person  Sales  sq_sales  cu_sales\n",
       "0    GOOG      Sam    200     40000   8000000\n",
       "1    GOOG  Charlie    120     14400   1728000\n",
       "2    MSFT      Amy    340    115600  39304000\n",
       "3    MSFT  Vanessa    124     15376   1906624\n",
       "4      FB     Carl    243     59049  14348907\n",
       "5      FB    Sarah    350    122500  42875000"
      ]
     },
     "execution_count": 9,
     "metadata": {},
     "output_type": "execute_result"
    }
   ],
   "source": [
    "def cuber(row):\n",
    "    return row['Sales'] * row['sq_sales']\n",
    "\n",
    "comp_df['cu_sales'] = comp_df.apply(cuber, axis=1) \n",
    "#note - how the function is called as an obj\n",
    "# note - how I need to set axis to 1, instead of 0 which is defualt.\n",
    "comp_df"
   ]
  },
  {
   "cell_type": "markdown",
   "metadata": {},
   "source": [
    "## sort_values - sorting rows"
   ]
  },
  {
   "cell_type": "code",
   "execution_count": 10,
   "metadata": {},
   "outputs": [
    {
     "data": {
      "text/html": [
       "<div>\n",
       "<style>\n",
       "    .dataframe thead tr:only-child th {\n",
       "        text-align: right;\n",
       "    }\n",
       "\n",
       "    .dataframe thead th {\n",
       "        text-align: left;\n",
       "    }\n",
       "\n",
       "    .dataframe tbody tr th {\n",
       "        vertical-align: top;\n",
       "    }\n",
       "</style>\n",
       "<table border=\"1\" class=\"dataframe\">\n",
       "  <thead>\n",
       "    <tr style=\"text-align: right;\">\n",
       "      <th></th>\n",
       "      <th>Company</th>\n",
       "      <th>Person</th>\n",
       "      <th>Sales</th>\n",
       "      <th>sq_sales</th>\n",
       "      <th>cu_sales</th>\n",
       "    </tr>\n",
       "  </thead>\n",
       "  <tbody>\n",
       "    <tr>\n",
       "      <th>1</th>\n",
       "      <td>GOOG</td>\n",
       "      <td>Charlie</td>\n",
       "      <td>120</td>\n",
       "      <td>14400</td>\n",
       "      <td>1728000</td>\n",
       "    </tr>\n",
       "    <tr>\n",
       "      <th>3</th>\n",
       "      <td>MSFT</td>\n",
       "      <td>Vanessa</td>\n",
       "      <td>124</td>\n",
       "      <td>15376</td>\n",
       "      <td>1906624</td>\n",
       "    </tr>\n",
       "    <tr>\n",
       "      <th>0</th>\n",
       "      <td>GOOG</td>\n",
       "      <td>Sam</td>\n",
       "      <td>200</td>\n",
       "      <td>40000</td>\n",
       "      <td>8000000</td>\n",
       "    </tr>\n",
       "    <tr>\n",
       "      <th>4</th>\n",
       "      <td>FB</td>\n",
       "      <td>Carl</td>\n",
       "      <td>243</td>\n",
       "      <td>59049</td>\n",
       "      <td>14348907</td>\n",
       "    </tr>\n",
       "    <tr>\n",
       "      <th>2</th>\n",
       "      <td>MSFT</td>\n",
       "      <td>Amy</td>\n",
       "      <td>340</td>\n",
       "      <td>115600</td>\n",
       "      <td>39304000</td>\n",
       "    </tr>\n",
       "    <tr>\n",
       "      <th>5</th>\n",
       "      <td>FB</td>\n",
       "      <td>Sarah</td>\n",
       "      <td>350</td>\n",
       "      <td>122500</td>\n",
       "      <td>42875000</td>\n",
       "    </tr>\n",
       "  </tbody>\n",
       "</table>\n",
       "</div>"
      ],
      "text/plain": [
       "  Company   Person  Sales  sq_sales  cu_sales\n",
       "1    GOOG  Charlie    120     14400   1728000\n",
       "3    MSFT  Vanessa    124     15376   1906624\n",
       "0    GOOG      Sam    200     40000   8000000\n",
       "4      FB     Carl    243     59049  14348907\n",
       "2    MSFT      Amy    340    115600  39304000\n",
       "5      FB    Sarah    350    122500  42875000"
      ]
     },
     "execution_count": 10,
     "metadata": {},
     "output_type": "execute_result"
    }
   ],
   "source": [
    "comp_df.sort_values('Sales')"
   ]
  },
  {
   "cell_type": "markdown",
   "metadata": {},
   "source": [
    "Note how the index remains attached to the original rows."
   ]
  },
  {
   "cell_type": "code",
   "execution_count": 12,
   "metadata": {},
   "outputs": [
    {
     "data": {
      "text/html": [
       "<div>\n",
       "<style>\n",
       "    .dataframe thead tr:only-child th {\n",
       "        text-align: right;\n",
       "    }\n",
       "\n",
       "    .dataframe thead th {\n",
       "        text-align: left;\n",
       "    }\n",
       "\n",
       "    .dataframe tbody tr th {\n",
       "        vertical-align: top;\n",
       "    }\n",
       "</style>\n",
       "<table border=\"1\" class=\"dataframe\">\n",
       "  <thead>\n",
       "    <tr style=\"text-align: right;\">\n",
       "      <th></th>\n",
       "      <th>Company</th>\n",
       "      <th>Person</th>\n",
       "      <th>Sales</th>\n",
       "      <th>sq_sales</th>\n",
       "      <th>cu_sales</th>\n",
       "    </tr>\n",
       "  </thead>\n",
       "  <tbody>\n",
       "    <tr>\n",
       "      <th>4</th>\n",
       "      <td>FB</td>\n",
       "      <td>Carl</td>\n",
       "      <td>243</td>\n",
       "      <td>59049</td>\n",
       "      <td>14348907</td>\n",
       "    </tr>\n",
       "    <tr>\n",
       "      <th>5</th>\n",
       "      <td>FB</td>\n",
       "      <td>Sarah</td>\n",
       "      <td>350</td>\n",
       "      <td>122500</td>\n",
       "      <td>42875000</td>\n",
       "    </tr>\n",
       "    <tr>\n",
       "      <th>1</th>\n",
       "      <td>GOOG</td>\n",
       "      <td>Charlie</td>\n",
       "      <td>120</td>\n",
       "      <td>14400</td>\n",
       "      <td>1728000</td>\n",
       "    </tr>\n",
       "    <tr>\n",
       "      <th>0</th>\n",
       "      <td>GOOG</td>\n",
       "      <td>Sam</td>\n",
       "      <td>200</td>\n",
       "      <td>40000</td>\n",
       "      <td>8000000</td>\n",
       "    </tr>\n",
       "    <tr>\n",
       "      <th>3</th>\n",
       "      <td>MSFT</td>\n",
       "      <td>Vanessa</td>\n",
       "      <td>124</td>\n",
       "      <td>15376</td>\n",
       "      <td>1906624</td>\n",
       "    </tr>\n",
       "    <tr>\n",
       "      <th>2</th>\n",
       "      <td>MSFT</td>\n",
       "      <td>Amy</td>\n",
       "      <td>340</td>\n",
       "      <td>115600</td>\n",
       "      <td>39304000</td>\n",
       "    </tr>\n",
       "  </tbody>\n",
       "</table>\n",
       "</div>"
      ],
      "text/plain": [
       "  Company   Person  Sales  sq_sales  cu_sales\n",
       "4      FB     Carl    243     59049  14348907\n",
       "5      FB    Sarah    350    122500  42875000\n",
       "1    GOOG  Charlie    120     14400   1728000\n",
       "0    GOOG      Sam    200     40000   8000000\n",
       "3    MSFT  Vanessa    124     15376   1906624\n",
       "2    MSFT      Amy    340    115600  39304000"
      ]
     },
     "execution_count": 12,
     "metadata": {},
     "output_type": "execute_result"
    }
   ],
   "source": [
    "#sorting along multiple columns\n",
    "comp_df.sort_values(['Company','Sales'])"
   ]
  },
  {
   "cell_type": "markdown",
   "metadata": {},
   "source": [
    "## isnull - finding null values throughout the DataFrame"
   ]
  },
  {
   "cell_type": "code",
   "execution_count": 13,
   "metadata": {},
   "outputs": [
    {
     "data": {
      "text/html": [
       "<div>\n",
       "<style>\n",
       "    .dataframe thead tr:only-child th {\n",
       "        text-align: right;\n",
       "    }\n",
       "\n",
       "    .dataframe thead th {\n",
       "        text-align: left;\n",
       "    }\n",
       "\n",
       "    .dataframe tbody tr th {\n",
       "        vertical-align: top;\n",
       "    }\n",
       "</style>\n",
       "<table border=\"1\" class=\"dataframe\">\n",
       "  <thead>\n",
       "    <tr style=\"text-align: right;\">\n",
       "      <th></th>\n",
       "      <th>Company</th>\n",
       "      <th>Person</th>\n",
       "      <th>Sales</th>\n",
       "      <th>sq_sales</th>\n",
       "      <th>cu_sales</th>\n",
       "    </tr>\n",
       "  </thead>\n",
       "  <tbody>\n",
       "    <tr>\n",
       "      <th>0</th>\n",
       "      <td>False</td>\n",
       "      <td>False</td>\n",
       "      <td>False</td>\n",
       "      <td>False</td>\n",
       "      <td>False</td>\n",
       "    </tr>\n",
       "    <tr>\n",
       "      <th>1</th>\n",
       "      <td>False</td>\n",
       "      <td>False</td>\n",
       "      <td>False</td>\n",
       "      <td>False</td>\n",
       "      <td>False</td>\n",
       "    </tr>\n",
       "    <tr>\n",
       "      <th>2</th>\n",
       "      <td>False</td>\n",
       "      <td>False</td>\n",
       "      <td>False</td>\n",
       "      <td>False</td>\n",
       "      <td>False</td>\n",
       "    </tr>\n",
       "    <tr>\n",
       "      <th>3</th>\n",
       "      <td>False</td>\n",
       "      <td>False</td>\n",
       "      <td>False</td>\n",
       "      <td>False</td>\n",
       "      <td>False</td>\n",
       "    </tr>\n",
       "    <tr>\n",
       "      <th>4</th>\n",
       "      <td>False</td>\n",
       "      <td>False</td>\n",
       "      <td>False</td>\n",
       "      <td>False</td>\n",
       "      <td>False</td>\n",
       "    </tr>\n",
       "    <tr>\n",
       "      <th>5</th>\n",
       "      <td>False</td>\n",
       "      <td>False</td>\n",
       "      <td>False</td>\n",
       "      <td>False</td>\n",
       "      <td>False</td>\n",
       "    </tr>\n",
       "  </tbody>\n",
       "</table>\n",
       "</div>"
      ],
      "text/plain": [
       "   Company  Person  Sales  sq_sales  cu_sales\n",
       "0    False   False  False     False     False\n",
       "1    False   False  False     False     False\n",
       "2    False   False  False     False     False\n",
       "3    False   False  False     False     False\n",
       "4    False   False  False     False     False\n",
       "5    False   False  False     False     False"
      ]
     },
     "execution_count": 13,
     "metadata": {},
     "output_type": "execute_result"
    }
   ],
   "source": [
    "comp_df.isnull()"
   ]
  },
  {
   "cell_type": "markdown",
   "metadata": {},
   "source": [
    "## Working with time series data\n",
    "This section explains how to specify datatypes of columns while reading data and how to define column converters to ease certain data types."
   ]
  },
  {
   "cell_type": "code",
   "execution_count": 23,
   "metadata": {},
   "outputs": [
    {
     "data": {
      "text/html": [
       "<div>\n",
       "<style scoped>\n",
       "    .dataframe tbody tr th:only-of-type {\n",
       "        vertical-align: middle;\n",
       "    }\n",
       "\n",
       "    .dataframe tbody tr th {\n",
       "        vertical-align: top;\n",
       "    }\n",
       "\n",
       "    .dataframe thead th {\n",
       "        text-align: right;\n",
       "    }\n",
       "</style>\n",
       "<table border=\"1\" class=\"dataframe\">\n",
       "  <thead>\n",
       "    <tr style=\"text-align: right;\">\n",
       "      <th></th>\n",
       "      <th>Unnamed: 0</th>\n",
       "      <th>Registration Date</th>\n",
       "      <th>Country</th>\n",
       "      <th>Organization</th>\n",
       "      <th>Current customer?</th>\n",
       "      <th>What would you like to learn?</th>\n",
       "    </tr>\n",
       "  </thead>\n",
       "  <tbody>\n",
       "    <tr>\n",
       "      <th>0</th>\n",
       "      <td>0</td>\n",
       "      <td>11/08/2019 06:09 PM EST</td>\n",
       "      <td>Jamaica</td>\n",
       "      <td>The University of the West Indies</td>\n",
       "      <td>NaN</td>\n",
       "      <td>NaN</td>\n",
       "    </tr>\n",
       "    <tr>\n",
       "      <th>1</th>\n",
       "      <td>1</td>\n",
       "      <td>11/08/2019 06:09 PM EST</td>\n",
       "      <td>Japan</td>\n",
       "      <td>iLand6 Co.,Ltd.</td>\n",
       "      <td>no</td>\n",
       "      <td>I am interested ArcGIS.</td>\n",
       "    </tr>\n",
       "    <tr>\n",
       "      <th>2</th>\n",
       "      <td>2</td>\n",
       "      <td>11/08/2019 05:56 PM EST</td>\n",
       "      <td>Canada</td>\n",
       "      <td>Safe Software Inc</td>\n",
       "      <td>yes</td>\n",
       "      <td>data science workflos</td>\n",
       "    </tr>\n",
       "    <tr>\n",
       "      <th>3</th>\n",
       "      <td>3</td>\n",
       "      <td>11/08/2019 05:51 PM EST</td>\n",
       "      <td>Canada</td>\n",
       "      <td>Le Groupe GeoInfo Inc</td>\n",
       "      <td>yes</td>\n",
       "      <td>general information</td>\n",
       "    </tr>\n",
       "    <tr>\n",
       "      <th>4</th>\n",
       "      <td>4</td>\n",
       "      <td>11/08/2019 05:26 PM EST</td>\n",
       "      <td>Canada</td>\n",
       "      <td>Safe Software Inc.</td>\n",
       "      <td>NaN</td>\n",
       "      <td>NaN</td>\n",
       "    </tr>\n",
       "  </tbody>\n",
       "</table>\n",
       "</div>"
      ],
      "text/plain": [
       "   Unnamed: 0        Registration Date  Country  \\\n",
       "0           0  11/08/2019 06:09 PM EST  Jamaica   \n",
       "1           1  11/08/2019 06:09 PM EST    Japan   \n",
       "2           2  11/08/2019 05:56 PM EST   Canada   \n",
       "3           3  11/08/2019 05:51 PM EST   Canada   \n",
       "4           4  11/08/2019 05:26 PM EST   Canada   \n",
       "\n",
       "                        Organization Current customer?  \\\n",
       "0  The University of the West Indies               NaN   \n",
       "1                    iLand6 Co.,Ltd.                no   \n",
       "2                  Safe Software Inc               yes   \n",
       "3              Le Groupe GeoInfo Inc               yes   \n",
       "4                 Safe Software Inc.               NaN   \n",
       "\n",
       "  What would you like to learn?  \n",
       "0                           NaN  \n",
       "1       I am interested ArcGIS.  \n",
       "2         data science workflos  \n",
       "3           general information  \n",
       "4                           NaN  "
      ]
     },
     "execution_count": 23,
     "metadata": {},
     "output_type": "execute_result"
    }
   ],
   "source": [
    "registrant_df = pd.read_csv('./registrant.csv')\n",
    "registrant_df.head()"
   ]
  },
  {
   "cell_type": "markdown",
   "metadata": {},
   "source": [
    "The `Registration Date` should be of type `datetime` and the `Current customer?` should be of `bool`. However, are they?"
   ]
  },
  {
   "cell_type": "code",
   "execution_count": 24,
   "metadata": {},
   "outputs": [
    {
     "data": {
      "text/plain": [
       "Unnamed: 0                        int64\n",
       "Registration Date                object\n",
       "Country                          object\n",
       "Organization                     object\n",
       "Current customer?                object\n",
       "What would you like to learn?    object\n",
       "dtype: object"
      ]
     },
     "execution_count": 24,
     "metadata": {},
     "output_type": "execute_result"
    }
   ],
   "source": [
    "registrant_df.dtypes"
   ]
  },
  {
   "cell_type": "markdown",
   "metadata": {},
   "source": [
    "Everything is a generic `object`. Let us re-read, this time knowing what their data types should be."
   ]
  },
  {
   "cell_type": "code",
   "execution_count": 25,
   "metadata": {},
   "outputs": [
    {
     "name": "stderr",
     "output_type": "stream",
     "text": [
      "/Users/atma6951/anaconda3/lib/python3.7/site-packages/dateutil/parser/_parser.py:1206: UnknownTimezoneWarning: tzname EST identified but not understood.  Pass `tzinfos` argument in order to correctly return a timezone-aware datetime.  In a future version, this will raise an exception.\n",
      "  category=UnknownTimezoneWarning)\n",
      "/Users/atma6951/anaconda3/lib/python3.7/site-packages/dateutil/parser/_parser.py:1206: UnknownTimezoneWarning: tzname EDT identified but not understood.  Pass `tzinfos` argument in order to correctly return a timezone-aware datetime.  In a future version, this will raise an exception.\n",
      "  category=UnknownTimezoneWarning)\n"
     ]
    },
    {
     "data": {
      "text/plain": [
       "Unnamed: 0                                int64\n",
       "Registration Date                datetime64[ns]\n",
       "Country                                  object\n",
       "Organization                             object\n",
       "Current customer?                          bool\n",
       "What would you like to learn?            object\n",
       "dtype: object"
      ]
     },
     "execution_count": 25,
     "metadata": {},
     "output_type": "execute_result"
    }
   ],
   "source": [
    "# define a function (lambda in this case) which will convert a column to bool depending on the \n",
    "# value of the cell\n",
    "convertor_fn = lambda x: x in ['Yes', 'yes', 'YES']\n",
    "convertor_map = {'Current customer?': convertor_fn}\n",
    "\n",
    "# re-read data\n",
    "registrant_df2 = pd.read_csv('./registrant.csv', \n",
    "                             parse_dates=['Registration Date'], \n",
    "                             converters = convertor_map)\n",
    "\n",
    "registrant_df2.dtypes"
   ]
  },
  {
   "cell_type": "markdown",
   "metadata": {},
   "source": [
    "### Plotting time series\n",
    "Now that the Registration date is datetime, we can plot the number of registrants by time. But before that, we need to **set it as the index**."
   ]
  },
  {
   "cell_type": "code",
   "execution_count": 26,
   "metadata": {},
   "outputs": [
    {
     "data": {
      "text/html": [
       "<div>\n",
       "<style scoped>\n",
       "    .dataframe tbody tr th:only-of-type {\n",
       "        vertical-align: middle;\n",
       "    }\n",
       "\n",
       "    .dataframe tbody tr th {\n",
       "        vertical-align: top;\n",
       "    }\n",
       "\n",
       "    .dataframe thead th {\n",
       "        text-align: right;\n",
       "    }\n",
       "</style>\n",
       "<table border=\"1\" class=\"dataframe\">\n",
       "  <thead>\n",
       "    <tr style=\"text-align: right;\">\n",
       "      <th></th>\n",
       "      <th>Country</th>\n",
       "      <th>Organization</th>\n",
       "      <th>Current customer?</th>\n",
       "      <th>What would you like to learn?</th>\n",
       "    </tr>\n",
       "    <tr>\n",
       "      <th>Registration Date</th>\n",
       "      <th></th>\n",
       "      <th></th>\n",
       "      <th></th>\n",
       "      <th></th>\n",
       "    </tr>\n",
       "  </thead>\n",
       "  <tbody>\n",
       "    <tr>\n",
       "      <th>2019-11-08 18:09:00</th>\n",
       "      <td>Jamaica</td>\n",
       "      <td>The University of the West Indies</td>\n",
       "      <td>False</td>\n",
       "      <td>NaN</td>\n",
       "    </tr>\n",
       "    <tr>\n",
       "      <th>2019-11-08 18:09:00</th>\n",
       "      <td>Japan</td>\n",
       "      <td>iLand6 Co.,Ltd.</td>\n",
       "      <td>False</td>\n",
       "      <td>I am interested ArcGIS.</td>\n",
       "    </tr>\n",
       "    <tr>\n",
       "      <th>2019-11-08 17:56:00</th>\n",
       "      <td>Canada</td>\n",
       "      <td>Safe Software Inc</td>\n",
       "      <td>True</td>\n",
       "      <td>data science workflos</td>\n",
       "    </tr>\n",
       "    <tr>\n",
       "      <th>2019-11-08 17:51:00</th>\n",
       "      <td>Canada</td>\n",
       "      <td>Le Groupe GeoInfo Inc</td>\n",
       "      <td>True</td>\n",
       "      <td>general information</td>\n",
       "    </tr>\n",
       "    <tr>\n",
       "      <th>2019-11-08 17:26:00</th>\n",
       "      <td>Canada</td>\n",
       "      <td>Safe Software Inc.</td>\n",
       "      <td>False</td>\n",
       "      <td>NaN</td>\n",
       "    </tr>\n",
       "  </tbody>\n",
       "</table>\n",
       "</div>"
      ],
      "text/plain": [
       "                     Country                       Organization  \\\n",
       "Registration Date                                                 \n",
       "2019-11-08 18:09:00  Jamaica  The University of the West Indies   \n",
       "2019-11-08 18:09:00    Japan                    iLand6 Co.,Ltd.   \n",
       "2019-11-08 17:56:00   Canada                  Safe Software Inc   \n",
       "2019-11-08 17:51:00   Canada              Le Groupe GeoInfo Inc   \n",
       "2019-11-08 17:26:00   Canada                 Safe Software Inc.   \n",
       "\n",
       "                     Current customer? What would you like to learn?  \n",
       "Registration Date                                                     \n",
       "2019-11-08 18:09:00              False                           NaN  \n",
       "2019-11-08 18:09:00              False       I am interested ArcGIS.  \n",
       "2019-11-08 17:56:00               True         data science workflos  \n",
       "2019-11-08 17:51:00               True           general information  \n",
       "2019-11-08 17:26:00              False                           NaN  "
      ]
     },
     "execution_count": 26,
     "metadata": {},
     "output_type": "execute_result"
    }
   ],
   "source": [
    "registrant_df2.set_index('Registration Date', inplace=True)\n",
    "registrant_df2.drop(axis=1, columns=['Unnamed: 0'], inplace=True) # drop bad column\n",
    "registrant_df2.head()"
   ]
  },
  {
   "cell_type": "markdown",
   "metadata": {},
   "source": [
    "### Sort dataframe by time"
   ]
  },
  {
   "cell_type": "code",
   "execution_count": 30,
   "metadata": {},
   "outputs": [],
   "source": [
    "registrant_df2.sort_index(inplace=True)"
   ]
  },
  {
   "cell_type": "markdown",
   "metadata": {},
   "source": [
    "### Add a counter column to the dataframe\n",
    "Note. It is important to count up only after sorting. Else the numbers are going to be all over the place."
   ]
  },
  {
   "cell_type": "code",
   "execution_count": 31,
   "metadata": {},
   "outputs": [],
   "source": [
    "registrant_df2['registration_count'] = range(1, len(registrant_df2)+1) # goes from 1 to 284"
   ]
  },
  {
   "cell_type": "code",
   "execution_count": 32,
   "metadata": {},
   "outputs": [
    {
     "data": {
      "image/png": "[encoded data removed]",
      "text/plain": [
       "<Figure size 720x504 with 1 Axes>"
      ]
     },
     "metadata": {
      "needs_background": "light"
     },
     "output_type": "display_data"
    }
   ],
   "source": [
    "plt.figure(figsize=(10,7))\n",
    "registrant_df2['registration_count'].plot(kind='line')\n",
    "plt.title('Number of registrants over time');"
   ]
  }
 ],
 "metadata": {
  "kernelspec": {
   "display_name": "Python 3",
   "language": "python",
   "name": "python3"
  },
  "language_info": {
   "codemirror_mode": {
    "name": "ipython",
    "version": 3
   },
   "file_extension": ".py",
   "mimetype": "text/x-python",
   "name": "python",
   "nbconvert_exporter": "python",
   "pygments_lexer": "ipython3",
   "version": "3.7.3"
  },
  "toc": {
   "base_numbering": 1,
   "nav_menu": {},
   "number_sections": false,
   "sideBar": false,
   "skip_h1_title": true,
   "title_cell": "Table of Contents",
   "title_sidebar": "Contents",
   "toc_cell": true,
   "toc_position": {},
   "toc_section_display": true,
   "toc_window_display": false
  }
 },
 "nbformat": 4,
 "nbformat_minor": 2
}
